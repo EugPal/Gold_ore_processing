{
 "cells": [
  {
   "cell_type": "markdown",
   "metadata": {},
   "source": [
    "# Восстановление золота из руды"
   ]
  },
  {
   "cell_type": "markdown",
   "metadata": {},
   "source": [
    "## Описание проекта"
   ]
  },
  {
   "cell_type": "markdown",
   "metadata": {},
   "source": [
    "Подготовьте прототип модели машинного обучения для «Цифры». Компания разрабатывает решения для эффективной работы промышленных предприятий.\n",
    "\n",
    "Модель должна предсказать коэффициент восстановления золота из золотосодержащей руды. Используйте данные с параметрами добычи и очистки. \n",
    "\n",
    "Модель поможет оптимизировать производство, чтобы не запускать предприятие с убыточными характеристиками.\n",
    "\n",
    "Вам нужно:\n",
    "\n",
    "1. Подготовить данные;\n",
    "2. Провести исследовательский анализ данных;\n",
    "3. Построить и обучить модель.\n",
    "\n",
    "Чтобы выполнить проект, обращайтесь к библиотекам *pandas*, *matplotlib* и *sklearn.* Вам поможет их документация."
   ]
  },
  {
   "cell_type": "markdown",
   "metadata": {},
   "source": [
    "Данные находятся в трёх файлах:\n",
    "- gold_industry_train.csv — обучающая выборка;\n",
    "- gold_industry_test.csv — тестовая выборка;\n",
    "- gold_industry_full.csv — исходные данные.`\n",
    "\n",
    "Данные индексируются датой и временем получения информации (признак date). Соседние по времени параметры часто похожи.\n",
    "Некоторые параметры недоступны, потому что замеряются и/или рассчитываются значительно позже. Из-за этого в тестовой выборке отсутствуют некоторые признаки, которые могут быть в обучающей. Также в тестовом наборе нет целевых признаков.\n",
    "Исходный датасет содержит обучающую и тестовую выборки со всеми признаками.\n",
    "В вашем распоряжении сырые данные: их просто выгрузили из хранилища. Прежде чем приступить к построению модели, проверьте по нашей инструкции их на корректность.\n",
    "\n",
    "**Инструкция по выполнению проекта**\n",
    "\n",
    "**1. Подготовьте данные**\n",
    "\n",
    "1.1. Откройте файлы и изучите их.\n",
    "    \n",
    "Путь к файлам:\n",
    "\n",
    "    /datasets/gold_industry_train.csv\n",
    "    \n",
    "    /datasets/gold_industry_test.csv\n",
    "    \n",
    "    /datasets/gold_industry_full.csv\n",
    "    \n",
    "1.2. Проверьте, что эффективность обогащения рассчитана правильно. Вычислите её на обучающей выборке для признака rougher.output.recovery. Найдите MAE между вашими расчётами и значением признака. Опишите выводы.\n",
    "\n",
    "1.3. Проанализируйте признаки, недоступные в тестовой выборке. Что это за параметры? К какому типу относятся?\n",
    "\n",
    "1.4. Проведите предобработку данных.\n",
    "\n",
    "**2. Проанализируйте данные**\n",
    "\n",
    "2.1. Посмотрите, как меняется концентрация металлов (Au, Ag, Pb) на различных этапах: в сырье, в черновом концентрате, в концентрате после первой очистки и в финальном концентрате. Какие особенности имеют распределения? Опишите выводы.\n",
    "\n",
    "2.2.  Сравните распределения размеров гранул исходного сырья на обучающей и тестовой выборках. Если распределения сильно отличаются друг от друга, оценка модели будет неправильной.\n",
    "\n",
    "2.3. Исследуйте суммарную концентрацию металлов на разных стадиях: в сырье, в черновом концентрате, в концентрате после первой очистки и в финальном концентрате.\n",
    "\n",
    "**3. Постройте модель**\n",
    "\n",
    "3.1. Напишите функцию для вычисления итоговой sMAPE.\n",
    "\n",
    "3.2. Обучите разные модели и оцените их качество кросс-валидацией. Выберите лучшую модель и проверьте её на тестовой выборке. Опишите выводы."
   ]
  },
  {
   "cell_type": "markdown",
   "metadata": {},
   "source": [
    "# Подготовка данных"
   ]
  },
  {
   "cell_type": "code",
   "execution_count": 1,
   "metadata": {},
   "outputs": [],
   "source": [
    "import pandas as pd\n",
    "import matplotlib.pyplot as plt\n",
    "import seaborn as sns\n",
    "import numpy as np\n",
    "import matplotlib.pyplot as plt\n",
    "\n",
    "from sklearn.metrics import mean_absolute_error\n",
    "from sklearn.metrics import make_scorer\n",
    "from sklearn.model_selection import cross_val_score\n",
    "from sklearn.linear_model import LinearRegression\n",
    "from sklearn.ensemble import RandomForestRegressor\n",
    "from sklearn.preprocessing import StandardScaler\n",
    "from sklearn.dummy import DummyRegressor"
   ]
  },
  {
   "cell_type": "code",
   "execution_count": null,
   "metadata": {},
   "outputs": [],
   "source": [
    "try:\n",
    "    df = pd.read_csv('/datasets/gold_industry_train.csv')\n",
    "except:\n",
    "    df = pd.read_csv('https://code.s3.yandex.net/datasets/gold_industry_train.csv')"
   ]
  },
  {
   "cell_type": "code",
   "execution_count": null,
   "metadata": {},
   "outputs": [],
   "source": [
    "try:\n",
    "    df = pd.read_csv('/datasets/gold_industry_test.csv')\n",
    "except:\n",
    "    df = pd.read_csv('https://code.s3.yandex.net/datasets/gold_industry_test.csv')"
   ]
  },
  {
   "cell_type": "code",
   "execution_count": null,
   "metadata": {},
   "outputs": [],
   "source": [
    "try:\n",
    "    df = pd.read_csv('/datasets/gold_industry_full.csv')\n",
    "except:\n",
    "    df = pd.read_csv('https://code.s3.yandex.net/datasets/gold_industry_full.csv')"
   ]
  },
  {
   "cell_type": "code",
   "execution_count": 3,
   "metadata": {},
   "outputs": [
    {
     "name": "stdout",
     "output_type": "stream",
     "text": [
      "<class 'pandas.core.frame.DataFrame'>\n",
      "RangeIndex: 14579 entries, 0 to 14578\n",
      "Data columns (total 87 columns):\n",
      " #   Column                                              Non-Null Count  Dtype  \n",
      "---  ------                                              --------------  -----  \n",
      " 0   date                                                14579 non-null  object \n",
      " 1   rougher.input.feed_au                               14579 non-null  float64\n",
      " 2   rougher.input.feed_ag                               14579 non-null  float64\n",
      " 3   rougher.input.feed_pb                               14507 non-null  float64\n",
      " 4   rougher.input.feed_sol                              14502 non-null  float64\n",
      " 5   rougher.input.feed_rate                             14572 non-null  float64\n",
      " 6   rougher.input.feed_size                             14478 non-null  float64\n",
      " 7   rougher.input.floatbank10_sulfate                   14548 non-null  float64\n",
      " 8   rougher.input.floatbank10_xanthate                  14572 non-null  float64\n",
      " 9   rougher.state.floatbank10_a_air                     14579 non-null  float64\n",
      " 10  rougher.state.floatbank10_a_level                   14579 non-null  float64\n",
      " 11  rougher.state.floatbank10_b_air                     14579 non-null  float64\n",
      " 12  rougher.state.floatbank10_b_level                   14579 non-null  float64\n",
      " 13  rougher.state.floatbank10_c_air                     14579 non-null  float64\n",
      " 14  rougher.state.floatbank10_c_level                   14579 non-null  float64\n",
      " 15  rougher.state.floatbank10_d_air                     14579 non-null  float64\n",
      " 16  rougher.state.floatbank10_d_level                   14579 non-null  float64\n",
      " 17  rougher.state.floatbank10_e_air                     14150 non-null  float64\n",
      " 18  rougher.state.floatbank10_e_level                   14579 non-null  float64\n",
      " 19  rougher.state.floatbank10_f_air                     14579 non-null  float64\n",
      " 20  rougher.state.floatbank10_f_level                   14579 non-null  float64\n",
      " 21  rougher.input.floatbank11_sulfate                   14543 non-null  float64\n",
      " 22  rougher.input.floatbank11_xanthate                  14172 non-null  float64\n",
      " 23  rougher.calculation.sulfate_to_au_concentrate       14578 non-null  float64\n",
      " 24  rougher.calculation.floatbank10_sulfate_to_au_feed  14578 non-null  float64\n",
      " 25  rougher.calculation.floatbank11_sulfate_to_au_feed  14578 non-null  float64\n",
      " 26  rougher.calculation.au_pb_ratio                     14579 non-null  float64\n",
      " 27  rougher.output.concentrate_au                       14579 non-null  float64\n",
      " 28  rougher.output.concentrate_ag                       14579 non-null  float64\n",
      " 29  rougher.output.concentrate_pb                       14579 non-null  float64\n",
      " 30  rougher.output.concentrate_sol                      14561 non-null  float64\n",
      " 31  rougher.output.recovery                             14579 non-null  float64\n",
      " 32  rougher.output.tail_au                              14579 non-null  float64\n",
      " 33  rougher.output.tail_ag                              14578 non-null  float64\n",
      " 34  rougher.output.tail_pb                              14579 non-null  float64\n",
      " 35  rougher.output.tail_sol                             14579 non-null  float64\n",
      " 36  primary_cleaner.input.sulfate                       14556 non-null  float64\n",
      " 37  primary_cleaner.input.depressant                    14551 non-null  float64\n",
      " 38  primary_cleaner.input.feed_size                     14579 non-null  float64\n",
      " 39  primary_cleaner.input.xanthate                      14518 non-null  float64\n",
      " 40  primary_cleaner.state.floatbank8_a_air              14576 non-null  float64\n",
      " 41  primary_cleaner.state.floatbank8_a_level            14579 non-null  float64\n",
      " 42  primary_cleaner.state.floatbank8_b_air              14576 non-null  float64\n",
      " 43  primary_cleaner.state.floatbank8_b_level            14579 non-null  float64\n",
      " 44  primary_cleaner.state.floatbank8_c_air              14579 non-null  float64\n",
      " 45  primary_cleaner.state.floatbank8_c_level            14579 non-null  float64\n",
      " 46  primary_cleaner.state.floatbank8_d_air              14578 non-null  float64\n",
      " 47  primary_cleaner.state.floatbank8_d_level            14579 non-null  float64\n",
      " 48  primary_cleaner.output.concentrate_au               14579 non-null  float64\n",
      " 49  primary_cleaner.output.concentrate_ag               14579 non-null  float64\n",
      " 50  primary_cleaner.output.concentrate_pb               14491 non-null  float64\n",
      " 51  primary_cleaner.output.concentrate_sol              14314 non-null  float64\n",
      " 52  primary_cleaner.output.tail_au                      14579 non-null  float64\n",
      " 53  primary_cleaner.output.tail_ag                      14575 non-null  float64\n",
      " 54  primary_cleaner.output.tail_pb                      14573 non-null  float64\n",
      " 55  primary_cleaner.output.tail_sol                     14534 non-null  float64\n",
      " 56  secondary_cleaner.state.floatbank2_a_air            14485 non-null  float64\n",
      " 57  secondary_cleaner.state.floatbank2_a_level          14579 non-null  float64\n",
      " 58  secondary_cleaner.state.floatbank2_b_air            14557 non-null  float64\n",
      " 59  secondary_cleaner.state.floatbank2_b_level          14579 non-null  float64\n",
      " 60  secondary_cleaner.state.floatbank3_a_air            14567 non-null  float64\n",
      " 61  secondary_cleaner.state.floatbank3_a_level          14579 non-null  float64\n",
      " 62  secondary_cleaner.state.floatbank3_b_air            14579 non-null  float64\n",
      " 63  secondary_cleaner.state.floatbank3_b_level          14579 non-null  float64\n",
      " 64  secondary_cleaner.state.floatbank4_a_air            14574 non-null  float64\n",
      " 65  secondary_cleaner.state.floatbank4_a_level          14579 non-null  float64\n",
      " 66  secondary_cleaner.state.floatbank4_b_air            14579 non-null  float64\n",
      " 67  secondary_cleaner.state.floatbank4_b_level          14579 non-null  float64\n",
      " 68  secondary_cleaner.state.floatbank5_a_air            14579 non-null  float64\n",
      " 69  secondary_cleaner.state.floatbank5_a_level          14579 non-null  float64\n",
      " 70  secondary_cleaner.state.floatbank5_b_air            14579 non-null  float64\n",
      " 71  secondary_cleaner.state.floatbank5_b_level          14579 non-null  float64\n",
      " 72  secondary_cleaner.state.floatbank6_a_air            14578 non-null  float64\n",
      " 73  secondary_cleaner.state.floatbank6_a_level          14579 non-null  float64\n",
      " 74  secondary_cleaner.output.tail_au                    14579 non-null  float64\n",
      " 75  secondary_cleaner.output.tail_ag                    14578 non-null  float64\n",
      " 76  secondary_cleaner.output.tail_pb                    14575 non-null  float64\n",
      " 77  secondary_cleaner.output.tail_sol                   13659 non-null  float64\n",
      " 78  final.output.concentrate_au                         14579 non-null  float64\n",
      " 79  final.output.concentrate_ag                         14578 non-null  float64\n",
      " 80  final.output.concentrate_pb                         14578 non-null  float64\n",
      " 81  final.output.concentrate_sol                        14387 non-null  float64\n",
      " 82  final.output.recovery                               14579 non-null  float64\n",
      " 83  final.output.tail_au                                14579 non-null  float64\n",
      " 84  final.output.tail_ag                                14578 non-null  float64\n",
      " 85  final.output.tail_pb                                14504 non-null  float64\n",
      " 86  final.output.tail_sol                               14574 non-null  float64\n",
      "dtypes: float64(86), object(1)\n",
      "memory usage: 9.7+ MB\n"
     ]
    }
   ],
   "source": [
    "df_train.info()"
   ]
  },
  {
   "cell_type": "code",
   "execution_count": 4,
   "metadata": {},
   "outputs": [
    {
     "name": "stdout",
     "output_type": "stream",
     "text": [
      "<class 'pandas.core.frame.DataFrame'>\n",
      "RangeIndex: 4860 entries, 0 to 4859\n",
      "Data columns (total 53 columns):\n",
      " #   Column                                      Non-Null Count  Dtype  \n",
      "---  ------                                      --------------  -----  \n",
      " 0   date                                        4860 non-null   object \n",
      " 1   rougher.input.feed_au                       4860 non-null   float64\n",
      " 2   rougher.input.feed_ag                       4860 non-null   float64\n",
      " 3   rougher.input.feed_pb                       4832 non-null   float64\n",
      " 4   rougher.input.feed_sol                      4838 non-null   float64\n",
      " 5   rougher.input.feed_rate                     4856 non-null   float64\n",
      " 6   rougher.input.feed_size                     4816 non-null   float64\n",
      " 7   rougher.input.floatbank10_sulfate           4857 non-null   float64\n",
      " 8   rougher.input.floatbank10_xanthate          4859 non-null   float64\n",
      " 9   rougher.state.floatbank10_a_air             4859 non-null   float64\n",
      " 10  rougher.state.floatbank10_a_level           4859 non-null   float64\n",
      " 11  rougher.state.floatbank10_b_air             4859 non-null   float64\n",
      " 12  rougher.state.floatbank10_b_level           4859 non-null   float64\n",
      " 13  rougher.state.floatbank10_c_air             4859 non-null   float64\n",
      " 14  rougher.state.floatbank10_c_level           4859 non-null   float64\n",
      " 15  rougher.state.floatbank10_d_air             4860 non-null   float64\n",
      " 16  rougher.state.floatbank10_d_level           4860 non-null   float64\n",
      " 17  rougher.state.floatbank10_e_air             4853 non-null   float64\n",
      " 18  rougher.state.floatbank10_e_level           4860 non-null   float64\n",
      " 19  rougher.state.floatbank10_f_air             4860 non-null   float64\n",
      " 20  rougher.state.floatbank10_f_level           4860 non-null   float64\n",
      " 21  rougher.input.floatbank11_sulfate           4852 non-null   float64\n",
      " 22  rougher.input.floatbank11_xanthate          4814 non-null   float64\n",
      " 23  primary_cleaner.input.sulfate               4859 non-null   float64\n",
      " 24  primary_cleaner.input.depressant            4851 non-null   float64\n",
      " 25  primary_cleaner.input.feed_size             4860 non-null   float64\n",
      " 26  primary_cleaner.input.xanthate              4817 non-null   float64\n",
      " 27  primary_cleaner.state.floatbank8_a_air      4859 non-null   float64\n",
      " 28  primary_cleaner.state.floatbank8_a_level    4859 non-null   float64\n",
      " 29  primary_cleaner.state.floatbank8_b_air      4859 non-null   float64\n",
      " 30  primary_cleaner.state.floatbank8_b_level    4859 non-null   float64\n",
      " 31  primary_cleaner.state.floatbank8_c_air      4858 non-null   float64\n",
      " 32  primary_cleaner.state.floatbank8_c_level    4859 non-null   float64\n",
      " 33  primary_cleaner.state.floatbank8_d_air      4858 non-null   float64\n",
      " 34  primary_cleaner.state.floatbank8_d_level    4859 non-null   float64\n",
      " 35  secondary_cleaner.state.floatbank2_a_air    4734 non-null   float64\n",
      " 36  secondary_cleaner.state.floatbank2_a_level  4859 non-null   float64\n",
      " 37  secondary_cleaner.state.floatbank2_b_air    4859 non-null   float64\n",
      " 38  secondary_cleaner.state.floatbank2_b_level  4859 non-null   float64\n",
      " 39  secondary_cleaner.state.floatbank3_a_air    4859 non-null   float64\n",
      " 40  secondary_cleaner.state.floatbank3_a_level  4859 non-null   float64\n",
      " 41  secondary_cleaner.state.floatbank3_b_air    4859 non-null   float64\n",
      " 42  secondary_cleaner.state.floatbank3_b_level  4859 non-null   float64\n",
      " 43  secondary_cleaner.state.floatbank4_a_air    4859 non-null   float64\n",
      " 44  secondary_cleaner.state.floatbank4_a_level  4859 non-null   float64\n",
      " 45  secondary_cleaner.state.floatbank4_b_air    4859 non-null   float64\n",
      " 46  secondary_cleaner.state.floatbank4_b_level  4859 non-null   float64\n",
      " 47  secondary_cleaner.state.floatbank5_a_air    4859 non-null   float64\n",
      " 48  secondary_cleaner.state.floatbank5_a_level  4859 non-null   float64\n",
      " 49  secondary_cleaner.state.floatbank5_b_air    4859 non-null   float64\n",
      " 50  secondary_cleaner.state.floatbank5_b_level  4859 non-null   float64\n",
      " 51  secondary_cleaner.state.floatbank6_a_air    4859 non-null   float64\n",
      " 52  secondary_cleaner.state.floatbank6_a_level  4859 non-null   float64\n",
      "dtypes: float64(52), object(1)\n",
      "memory usage: 2.0+ MB\n"
     ]
    }
   ],
   "source": [
    "df_test.info()"
   ]
  },
  {
   "cell_type": "code",
   "execution_count": 5,
   "metadata": {},
   "outputs": [
    {
     "name": "stdout",
     "output_type": "stream",
     "text": [
      "<class 'pandas.core.frame.DataFrame'>\n",
      "RangeIndex: 19439 entries, 0 to 19438\n",
      "Data columns (total 87 columns):\n",
      " #   Column                                              Non-Null Count  Dtype  \n",
      "---  ------                                              --------------  -----  \n",
      " 0   date                                                19439 non-null  object \n",
      " 1   rougher.input.feed_au                               19439 non-null  float64\n",
      " 2   rougher.input.feed_ag                               19439 non-null  float64\n",
      " 3   rougher.input.feed_pb                               19339 non-null  float64\n",
      " 4   rougher.input.feed_sol                              19340 non-null  float64\n",
      " 5   rougher.input.feed_rate                             19428 non-null  float64\n",
      " 6   rougher.input.feed_size                             19294 non-null  float64\n",
      " 7   rougher.input.floatbank10_sulfate                   19405 non-null  float64\n",
      " 8   rougher.input.floatbank10_xanthate                  19431 non-null  float64\n",
      " 9   rougher.state.floatbank10_a_air                     19438 non-null  float64\n",
      " 10  rougher.state.floatbank10_a_level                   19438 non-null  float64\n",
      " 11  rougher.state.floatbank10_b_air                     19438 non-null  float64\n",
      " 12  rougher.state.floatbank10_b_level                   19438 non-null  float64\n",
      " 13  rougher.state.floatbank10_c_air                     19438 non-null  float64\n",
      " 14  rougher.state.floatbank10_c_level                   19438 non-null  float64\n",
      " 15  rougher.state.floatbank10_d_air                     19439 non-null  float64\n",
      " 16  rougher.state.floatbank10_d_level                   19439 non-null  float64\n",
      " 17  rougher.state.floatbank10_e_air                     19003 non-null  float64\n",
      " 18  rougher.state.floatbank10_e_level                   19439 non-null  float64\n",
      " 19  rougher.state.floatbank10_f_air                     19439 non-null  float64\n",
      " 20  rougher.state.floatbank10_f_level                   19439 non-null  float64\n",
      " 21  rougher.input.floatbank11_sulfate                   19395 non-null  float64\n",
      " 22  rougher.input.floatbank11_xanthate                  18986 non-null  float64\n",
      " 23  rougher.calculation.sulfate_to_au_concentrate       19437 non-null  float64\n",
      " 24  rougher.calculation.floatbank10_sulfate_to_au_feed  19437 non-null  float64\n",
      " 25  rougher.calculation.floatbank11_sulfate_to_au_feed  19437 non-null  float64\n",
      " 26  rougher.calculation.au_pb_ratio                     19439 non-null  float64\n",
      " 27  rougher.output.concentrate_au                       19439 non-null  float64\n",
      " 28  rougher.output.concentrate_ag                       19439 non-null  float64\n",
      " 29  rougher.output.concentrate_pb                       19439 non-null  float64\n",
      " 30  rougher.output.concentrate_sol                      19416 non-null  float64\n",
      " 31  rougher.output.recovery                             19439 non-null  float64\n",
      " 32  rougher.output.tail_au                              19439 non-null  float64\n",
      " 33  rougher.output.tail_ag                              19438 non-null  float64\n",
      " 34  rougher.output.tail_pb                              19439 non-null  float64\n",
      " 35  rougher.output.tail_sol                             19439 non-null  float64\n",
      " 36  primary_cleaner.input.sulfate                       19415 non-null  float64\n",
      " 37  primary_cleaner.input.depressant                    19402 non-null  float64\n",
      " 38  primary_cleaner.input.feed_size                     19439 non-null  float64\n",
      " 39  primary_cleaner.input.xanthate                      19335 non-null  float64\n",
      " 40  primary_cleaner.state.floatbank8_a_air              19435 non-null  float64\n",
      " 41  primary_cleaner.state.floatbank8_a_level            19438 non-null  float64\n",
      " 42  primary_cleaner.state.floatbank8_b_air              19435 non-null  float64\n",
      " 43  primary_cleaner.state.floatbank8_b_level            19438 non-null  float64\n",
      " 44  primary_cleaner.state.floatbank8_c_air              19437 non-null  float64\n",
      " 45  primary_cleaner.state.floatbank8_c_level            19438 non-null  float64\n",
      " 46  primary_cleaner.state.floatbank8_d_air              19436 non-null  float64\n",
      " 47  primary_cleaner.state.floatbank8_d_level            19438 non-null  float64\n",
      " 48  primary_cleaner.output.concentrate_au               19439 non-null  float64\n",
      " 49  primary_cleaner.output.concentrate_ag               19439 non-null  float64\n",
      " 50  primary_cleaner.output.concentrate_pb               19323 non-null  float64\n",
      " 51  primary_cleaner.output.concentrate_sol              19069 non-null  float64\n",
      " 52  primary_cleaner.output.tail_au                      19439 non-null  float64\n",
      " 53  primary_cleaner.output.tail_ag                      19435 non-null  float64\n",
      " 54  primary_cleaner.output.tail_pb                      19418 non-null  float64\n",
      " 55  primary_cleaner.output.tail_sol                     19377 non-null  float64\n",
      " 56  secondary_cleaner.state.floatbank2_a_air            19219 non-null  float64\n",
      " 57  secondary_cleaner.state.floatbank2_a_level          19438 non-null  float64\n",
      " 58  secondary_cleaner.state.floatbank2_b_air            19416 non-null  float64\n",
      " 59  secondary_cleaner.state.floatbank2_b_level          19438 non-null  float64\n",
      " 60  secondary_cleaner.state.floatbank3_a_air            19426 non-null  float64\n",
      " 61  secondary_cleaner.state.floatbank3_a_level          19438 non-null  float64\n",
      " 62  secondary_cleaner.state.floatbank3_b_air            19438 non-null  float64\n",
      " 63  secondary_cleaner.state.floatbank3_b_level          19438 non-null  float64\n",
      " 64  secondary_cleaner.state.floatbank4_a_air            19433 non-null  float64\n",
      " 65  secondary_cleaner.state.floatbank4_a_level          19438 non-null  float64\n",
      " 66  secondary_cleaner.state.floatbank4_b_air            19438 non-null  float64\n",
      " 67  secondary_cleaner.state.floatbank4_b_level          19438 non-null  float64\n",
      " 68  secondary_cleaner.state.floatbank5_a_air            19438 non-null  float64\n",
      " 69  secondary_cleaner.state.floatbank5_a_level          19438 non-null  float64\n",
      " 70  secondary_cleaner.state.floatbank5_b_air            19438 non-null  float64\n",
      " 71  secondary_cleaner.state.floatbank5_b_level          19438 non-null  float64\n",
      " 72  secondary_cleaner.state.floatbank6_a_air            19437 non-null  float64\n",
      " 73  secondary_cleaner.state.floatbank6_a_level          19438 non-null  float64\n",
      " 74  secondary_cleaner.output.tail_au                    19439 non-null  float64\n",
      " 75  secondary_cleaner.output.tail_ag                    19437 non-null  float64\n",
      " 76  secondary_cleaner.output.tail_pb                    19427 non-null  float64\n",
      " 77  secondary_cleaner.output.tail_sol                   17691 non-null  float64\n",
      " 78  final.output.concentrate_au                         19439 non-null  float64\n",
      " 79  final.output.concentrate_ag                         19438 non-null  float64\n",
      " 80  final.output.concentrate_pb                         19438 non-null  float64\n",
      " 81  final.output.concentrate_sol                        19228 non-null  float64\n",
      " 82  final.output.recovery                               19439 non-null  float64\n",
      " 83  final.output.tail_au                                19439 non-null  float64\n",
      " 84  final.output.tail_ag                                19438 non-null  float64\n",
      " 85  final.output.tail_pb                                19338 non-null  float64\n",
      " 86  final.output.tail_sol                               19433 non-null  float64\n",
      "dtypes: float64(86), object(1)\n",
      "memory usage: 12.9+ MB\n"
     ]
    }
   ],
   "source": [
    "df_full.info()"
   ]
  },
  {
   "cell_type": "markdown",
   "metadata": {},
   "source": [
    "**Посчитаем эффективность обогащения**"
   ]
  },
  {
   "cell_type": "code",
   "execution_count": 6,
   "metadata": {},
   "outputs": [
    {
     "name": "stdout",
     "output_type": "stream",
     "text": [
      "0    87.107763\n",
      "1    86.843261\n",
      "2    86.842308\n",
      "3    87.226430\n",
      "4    86.688794\n",
      "Name: rougher_output_recovery_calc, dtype: float64\n",
      "------------------------------------\n",
      "0    87.107763\n",
      "1    86.843261\n",
      "2    86.842308\n",
      "3    87.226430\n",
      "4    86.688794\n",
      "Name: rougher.output.recovery, dtype: float64\n"
     ]
    }
   ],
   "source": [
    "C = df_full['rougher.output.concentrate_au']\n",
    "F = df_full['rougher.input.feed_au']\n",
    "T = df_full['rougher.output.tail_au']\n",
    "\n",
    "rougher_output_recovery_calc = (C*(F - T))/(F*(C - T))*100\n",
    "\n",
    "#создадим новый столбец в датафрейме\n",
    "df_full['rougher_output_recovery_calc'] = rougher_output_recovery_calc\n",
    "\n",
    "print(df_full['rougher_output_recovery_calc'].head())\n",
    "print('------------------------------------')\n",
    "print(df_full['rougher.output.recovery'].head())"
   ]
  },
  {
   "cell_type": "markdown",
   "metadata": {},
   "source": [
    "**Вычислим MAE**"
   ]
  },
  {
   "cell_type": "code",
   "execution_count": 7,
   "metadata": {},
   "outputs": [
    {
     "name": "stdout",
     "output_type": "stream",
     "text": [
      "MAE 9.871121473701021e-15\n"
     ]
    }
   ],
   "source": [
    "print(\"MAE\", mean_absolute_error(df_full['rougher_output_recovery_calc'], \n",
    "                          df_full['rougher.output.recovery']))"
   ]
  },
  {
   "cell_type": "markdown",
   "metadata": {},
   "source": [
    "**Вывод:**\n",
    "\n",
    "`Величина ошибки между табличным и рассчитаным значением rougher_output_recovery крайне мала. Табличные данные достоверны.`"
   ]
  },
  {
   "cell_type": "markdown",
   "metadata": {},
   "source": [
    "**Индексация**"
   ]
  },
  {
   "cell_type": "markdown",
   "metadata": {},
   "source": [
    "`По условию задания, данные индексируются датой и временем получения информации (признак date). Переведём значение даты в индекс `"
   ]
  },
  {
   "cell_type": "code",
   "execution_count": 8,
   "metadata": {},
   "outputs": [],
   "source": [
    "df_test = df_test.set_index('date')\n",
    "df_train = df_train.set_index('date')\n",
    "df_full = df_full.set_index('date')"
   ]
  },
  {
   "cell_type": "markdown",
   "metadata": {},
   "source": [
    "**Обработаем пропуски:**"
   ]
  },
  {
   "cell_type": "code",
   "execution_count": 9,
   "metadata": {},
   "outputs": [
    {
     "data": {
      "text/plain": [
       "4481"
      ]
     },
     "execution_count": 9,
     "metadata": {},
     "output_type": "execute_result"
    }
   ],
   "source": [
    "df_full.isna().sum().sum()"
   ]
  },
  {
   "cell_type": "code",
   "execution_count": 10,
   "metadata": {},
   "outputs": [
    {
     "data": {
      "text/plain": [
       "3050"
      ]
     },
     "execution_count": 10,
     "metadata": {},
     "output_type": "execute_result"
    }
   ],
   "source": [
    "df_train.isna().sum().sum()"
   ]
  },
  {
   "cell_type": "code",
   "execution_count": 11,
   "metadata": {},
   "outputs": [
    {
     "data": {
      "text/plain": [
       "375"
      ]
     },
     "execution_count": 11,
     "metadata": {},
     "output_type": "execute_result"
    }
   ],
   "source": [
    "df_test.isna().sum().sum()"
   ]
  },
  {
   "cell_type": "code",
   "execution_count": 15,
   "metadata": {},
   "outputs": [],
   "source": [
    "# посмотрим на оставшиеся пропуски"
   ]
  },
  {
   "cell_type": "code",
   "execution_count": 16,
   "metadata": {},
   "outputs": [
    {
     "data": {
      "text/plain": [
       "rougher.input.feed_au                         0\n",
       "rougher.output.tail_pb                        0\n",
       "rougher.output.tail_sol                       0\n",
       "primary_cleaner.input.feed_size               0\n",
       "primary_cleaner.state.floatbank8_a_level      0\n",
       "                                           ... \n",
       "final.output.concentrate_sol                192\n",
       "primary_cleaner.output.concentrate_sol      265\n",
       "rougher.input.floatbank11_xanthate          407\n",
       "rougher.state.floatbank10_e_air             429\n",
       "secondary_cleaner.output.tail_sol           920\n",
       "Length: 86, dtype: int64"
      ]
     },
     "execution_count": 16,
     "metadata": {},
     "output_type": "execute_result"
    }
   ],
   "source": [
    "#check\n",
    "df_train.isna().sum().sort_values(ascending=True)"
   ]
  },
  {
   "cell_type": "markdown",
   "metadata": {},
   "source": [
    "**Изучим, какие значения встречаются в параметрах с пропусками:**"
   ]
  },
  {
   "cell_type": "code",
   "execution_count": 17,
   "metadata": {},
   "outputs": [
    {
     "data": {
      "text/html": [
       "<div>\n",
       "<style scoped>\n",
       "    .dataframe tbody tr th:only-of-type {\n",
       "        vertical-align: middle;\n",
       "    }\n",
       "\n",
       "    .dataframe tbody tr th {\n",
       "        vertical-align: top;\n",
       "    }\n",
       "\n",
       "    .dataframe thead th {\n",
       "        text-align: right;\n",
       "    }\n",
       "</style>\n",
       "<table border=\"1\" class=\"dataframe\">\n",
       "  <thead>\n",
       "    <tr style=\"text-align: right;\">\n",
       "      <th></th>\n",
       "      <th>secondary_cleaner.output.tail_sol</th>\n",
       "      <th>rougher.state.floatbank10_e_air</th>\n",
       "      <th>rougher.input.floatbank11_xanthate</th>\n",
       "    </tr>\n",
       "    <tr>\n",
       "      <th>date</th>\n",
       "      <th></th>\n",
       "      <th></th>\n",
       "      <th></th>\n",
       "    </tr>\n",
       "  </thead>\n",
       "  <tbody>\n",
       "    <tr>\n",
       "      <th>2016-01-15 00:00:00</th>\n",
       "      <td>8.764648</td>\n",
       "      <td>1404.472046</td>\n",
       "      <td>6.005818</td>\n",
       "    </tr>\n",
       "    <tr>\n",
       "      <th>2016-01-15 01:00:00</th>\n",
       "      <td>9.001494</td>\n",
       "      <td>1399.227084</td>\n",
       "      <td>6.012594</td>\n",
       "    </tr>\n",
       "    <tr>\n",
       "      <th>2016-01-15 02:00:00</th>\n",
       "      <td>8.842896</td>\n",
       "      <td>1399.180945</td>\n",
       "      <td>6.204633</td>\n",
       "    </tr>\n",
       "    <tr>\n",
       "      <th>2016-01-15 03:00:00</th>\n",
       "      <td>9.122857</td>\n",
       "      <td>1400.943157</td>\n",
       "      <td>6.196578</td>\n",
       "    </tr>\n",
       "    <tr>\n",
       "      <th>2016-01-15 04:00:00</th>\n",
       "      <td>8.871028</td>\n",
       "      <td>1401.560902</td>\n",
       "      <td>6.194897</td>\n",
       "    </tr>\n",
       "    <tr>\n",
       "      <th>2016-01-15 05:00:00</th>\n",
       "      <td>9.302669</td>\n",
       "      <td>1403.393100</td>\n",
       "      <td>6.202362</td>\n",
       "    </tr>\n",
       "    <tr>\n",
       "      <th>2016-01-15 06:00:00</th>\n",
       "      <td>9.103047</td>\n",
       "      <td>1397.853265</td>\n",
       "      <td>6.200515</td>\n",
       "    </tr>\n",
       "    <tr>\n",
       "      <th>2016-01-15 07:00:00</th>\n",
       "      <td>9.369209</td>\n",
       "      <td>1396.580752</td>\n",
       "      <td>6.798354</td>\n",
       "    </tr>\n",
       "    <tr>\n",
       "      <th>2016-01-15 08:00:00</th>\n",
       "      <td>9.437044</td>\n",
       "      <td>1402.033682</td>\n",
       "      <td>6.800021</td>\n",
       "    </tr>\n",
       "    <tr>\n",
       "      <th>2016-01-15 09:00:00</th>\n",
       "      <td>9.582874</td>\n",
       "      <td>1401.349036</td>\n",
       "      <td>6.799799</td>\n",
       "    </tr>\n",
       "  </tbody>\n",
       "</table>\n",
       "</div>"
      ],
      "text/plain": [
       "                     secondary_cleaner.output.tail_sol  \\\n",
       "date                                                     \n",
       "2016-01-15 00:00:00                           8.764648   \n",
       "2016-01-15 01:00:00                           9.001494   \n",
       "2016-01-15 02:00:00                           8.842896   \n",
       "2016-01-15 03:00:00                           9.122857   \n",
       "2016-01-15 04:00:00                           8.871028   \n",
       "2016-01-15 05:00:00                           9.302669   \n",
       "2016-01-15 06:00:00                           9.103047   \n",
       "2016-01-15 07:00:00                           9.369209   \n",
       "2016-01-15 08:00:00                           9.437044   \n",
       "2016-01-15 09:00:00                           9.582874   \n",
       "\n",
       "                     rougher.state.floatbank10_e_air  \\\n",
       "date                                                   \n",
       "2016-01-15 00:00:00                      1404.472046   \n",
       "2016-01-15 01:00:00                      1399.227084   \n",
       "2016-01-15 02:00:00                      1399.180945   \n",
       "2016-01-15 03:00:00                      1400.943157   \n",
       "2016-01-15 04:00:00                      1401.560902   \n",
       "2016-01-15 05:00:00                      1403.393100   \n",
       "2016-01-15 06:00:00                      1397.853265   \n",
       "2016-01-15 07:00:00                      1396.580752   \n",
       "2016-01-15 08:00:00                      1402.033682   \n",
       "2016-01-15 09:00:00                      1401.349036   \n",
       "\n",
       "                     rougher.input.floatbank11_xanthate  \n",
       "date                                                     \n",
       "2016-01-15 00:00:00                            6.005818  \n",
       "2016-01-15 01:00:00                            6.012594  \n",
       "2016-01-15 02:00:00                            6.204633  \n",
       "2016-01-15 03:00:00                            6.196578  \n",
       "2016-01-15 04:00:00                            6.194897  \n",
       "2016-01-15 05:00:00                            6.202362  \n",
       "2016-01-15 06:00:00                            6.200515  \n",
       "2016-01-15 07:00:00                            6.798354  \n",
       "2016-01-15 08:00:00                            6.800021  \n",
       "2016-01-15 09:00:00                            6.799799  "
      ]
     },
     "execution_count": 17,
     "metadata": {},
     "output_type": "execute_result"
    }
   ],
   "source": [
    "#check\n",
    "df_train[['secondary_cleaner.output.tail_sol', \n",
    "         'rougher.state.floatbank10_e_air', \n",
    "         'rougher.input.floatbank11_xanthate']].head(10)"
   ]
  },
  {
   "cell_type": "markdown",
   "metadata": {},
   "source": [
    "**Отдельные значения данных похожи на соседние.  Пропуски заполним данными соседних ячеек через ffill**"
   ]
  },
  {
   "cell_type": "code",
   "execution_count": 18,
   "metadata": {},
   "outputs": [
    {
     "data": {
      "text/plain": [
       "0"
      ]
     },
     "metadata": {},
     "output_type": "display_data"
    },
    {
     "data": {
      "text/plain": [
       "0"
      ]
     },
     "metadata": {},
     "output_type": "display_data"
    },
    {
     "data": {
      "text/plain": [
       "0"
      ]
     },
     "metadata": {},
     "output_type": "display_data"
    }
   ],
   "source": [
    "df_full = df_full.fillna(method = 'ffill')\n",
    "df_train = df_train.fillna(method = 'ffill')\n",
    "df_test = df_test.fillna(method = 'ffill')\n",
    "\n",
    "display(df_full.isna().sum().sum())\n",
    "display(df_train.isna().sum().sum())\n",
    "display(df_test.isna().sum().sum())"
   ]
  },
  {
   "cell_type": "markdown",
   "metadata": {},
   "source": [
    "**Проанализируем признаки, недоступные в тестовой выборке**"
   ]
  },
  {
   "cell_type": "code",
   "execution_count": 19,
   "metadata": {},
   "outputs": [
    {
     "name": "stdout",
     "output_type": "stream",
     "text": [
      "rougher.calculation.sulfate_to_au_concentrate\n",
      "rougher.calculation.floatbank10_sulfate_to_au_feed\n",
      "rougher.calculation.floatbank11_sulfate_to_au_feed\n",
      "rougher.calculation.au_pb_ratio\n",
      "rougher.output.concentrate_au\n",
      "rougher.output.concentrate_ag\n",
      "rougher.output.concentrate_pb\n",
      "rougher.output.concentrate_sol\n",
      "rougher.output.recovery\n",
      "rougher.output.tail_au\n",
      "rougher.output.tail_ag\n",
      "rougher.output.tail_pb\n",
      "rougher.output.tail_sol\n",
      "primary_cleaner.output.concentrate_au\n",
      "primary_cleaner.output.concentrate_ag\n",
      "primary_cleaner.output.concentrate_pb\n",
      "primary_cleaner.output.concentrate_sol\n",
      "primary_cleaner.output.tail_au\n",
      "primary_cleaner.output.tail_ag\n",
      "primary_cleaner.output.tail_pb\n",
      "primary_cleaner.output.tail_sol\n",
      "secondary_cleaner.output.tail_au\n",
      "secondary_cleaner.output.tail_ag\n",
      "secondary_cleaner.output.tail_pb\n",
      "secondary_cleaner.output.tail_sol\n",
      "final.output.concentrate_au\n",
      "final.output.concentrate_ag\n",
      "final.output.concentrate_pb\n",
      "final.output.concentrate_sol\n",
      "final.output.recovery\n",
      "final.output.tail_au\n",
      "final.output.tail_ag\n",
      "final.output.tail_pb\n",
      "final.output.tail_sol\n",
      "\n",
      "34\n"
     ]
    }
   ],
   "source": [
    "count = 0\n",
    "for column in df_train.columns:\n",
    "    if column not in df_test.columns:\n",
    "        count+=1\n",
    "        print(column)\n",
    "print()\n",
    "print(count)"
   ]
  },
  {
   "cell_type": "markdown",
   "metadata": {},
   "source": [
    "**Вывод**\n",
    "\n",
    "`Как следует из описания проекта, \"некоторые параметры недоступны, потому что замеряются и/или рассчитываются значительно позже. Из-за этого в тестовой выборке отсутствуют некоторые признаки, которые могут быть в обучающей. Также в тестовом наборе нет целевых признаков.\"`"
   ]
  },
  {
   "cell_type": "markdown",
   "metadata": {},
   "source": [
    "## Промежуточный вывод:\n",
    "\n",
    "`Данные изучены.`\n",
    "\n",
    "`Вычислена величина ошибки MAE между табличными и рассчитаными значениями rougher_output_recovery. Выяснено, что табличные  данные достоверны.`\n",
    "\n",
    "`Обработаны пропуски в данных тестовой и обучающей выборок.`\n",
    "\n",
    "`Изучены параметры, отсутствующие в тестовой выборке.`\n",
    "\n"
   ]
  },
  {
   "cell_type": "markdown",
   "metadata": {},
   "source": [
    "# Анализ данных"
   ]
  },
  {
   "cell_type": "markdown",
   "metadata": {},
   "source": [
    "**Исследуем изменение концентрации элементов на каждом этапе**"
   ]
  },
  {
   "cell_type": "code",
   "execution_count": 20,
   "metadata": {},
   "outputs": [
    {
     "data": {
      "image/png": "[encoded data removed]",
      "text/plain": [
       "<Figure size 432x288 with 1 Axes>"
      ]
     },
     "metadata": {
      "needs_background": "light"
     },
     "output_type": "display_data"
    }
   ],
   "source": [
    "df = pd.DataFrame({'Стадия': ['Сырьё', 'Черновой концентрат', 'После первой очистки', 'Финальный концентрат'],\n",
    " 'Au': [df_full['rougher.input.feed_au'].mean(), df_full['rougher.output.concentrate_au'].mean(), df_full['primary_cleaner.output.concentrate_au'].mean(), df_full['final.output.concentrate_au'].mean()],\n",
    " 'Ag': [df_full['rougher.input.feed_ag'].mean(), df_full['rougher.output.concentrate_ag'].mean(), df_full['primary_cleaner.output.concentrate_ag'].mean(), df_full['final.output.concentrate_ag'].mean()],\n",
    " 'Pb': [df_full['rougher.input.feed_pb'].mean(), df_full['rougher.output.concentrate_pb'].mean(), df_full['primary_cleaner.output.concentrate_pb'].mean(), df_full['final.output.concentrate_pb'].mean()]\n",
    "                  })\n",
    "\n",
    "#plot columns on bar chart\n",
    "fig, ax = plt.subplots()\n",
    "ax.set_title('Концентрация элементов на разных стадиях')\n",
    "ax.set_xlabel('Стадия')\n",
    "ax.set_ylabel('Среднее значение концентрации')\n",
    "\n",
    "df[['Стадия', 'Au', 'Ag', 'Pb']].plot(ax=ax, x='Стадия', kind='bar');"
   ]
  },
  {
   "cell_type": "markdown",
   "metadata": {},
   "source": [
    "**Взглянем на распределения концентраций:**"
   ]
  },
  {
   "cell_type": "code",
   "execution_count": 21,
   "metadata": {},
   "outputs": [
    {
     "data": {
      "image/png": "[encoded data removed]",
      "text/plain": [
       "<Figure size 1080x576 with 1 Axes>"
      ]
     },
     "metadata": {
      "needs_background": "light"
     },
     "output_type": "display_data"
    }
   ],
   "source": [
    "Au = ['rougher.input.feed_au', \n",
    "      'rougher.output.concentrate_au', \n",
    "      'primary_cleaner.output.concentrate_au', \n",
    "      'final.output.concentrate_au']\n",
    "  \n",
    "fig, ax = plt.subplots()\n",
    "\n",
    "\n",
    "df_full[Au].plot(ax=ax, kind='hist', bins=150, figsize=(15,8), legend=True, alpha=0.4)\n",
    "ax.set_title('Изменение концентрации Au')\n",
    "ax.set_xlabel('Концентрация')\n",
    "ax.set_ylabel('Частота появления значений');"
   ]
  },
  {
   "cell_type": "code",
   "execution_count": 22,
   "metadata": {},
   "outputs": [
    {
     "data": {
      "image/png": "[encoded data removed]",
      "text/plain": [
       "<Figure size 1080x576 with 1 Axes>"
      ]
     },
     "metadata": {
      "needs_background": "light"
     },
     "output_type": "display_data"
    }
   ],
   "source": [
    "Ag = ['rougher.input.feed_ag', \n",
    "      'rougher.output.concentrate_ag', \n",
    "      'primary_cleaner.output.concentrate_ag', \n",
    "      'final.output.concentrate_ag']\n",
    "\n",
    "legend = 'Изменение концентрации Ag'\n",
    "    \n",
    "fig, ax = plt.subplots()\n",
    "\n",
    "\n",
    "df_full[Ag].plot(kind='hist', bins=150, figsize=(15,8), ax=ax, legend=True, alpha=0.4)\n",
    "ax.set_title(legend)\n",
    "ax.set_xlabel('Концентрация')\n",
    "ax.set_ylabel('Частота появления значений');"
   ]
  },
  {
   "cell_type": "code",
   "execution_count": 23,
   "metadata": {},
   "outputs": [
    {
     "data": {
      "image/png": "[encoded data removed]",
      "text/plain": [
       "<Figure size 1080x576 with 1 Axes>"
      ]
     },
     "metadata": {
      "needs_background": "light"
     },
     "output_type": "display_data"
    }
   ],
   "source": [
    "Pb = ['rougher.input.feed_pb', \n",
    "      'rougher.output.concentrate_pb', \n",
    "      'primary_cleaner.output.concentrate_pb', \n",
    "      'final.output.concentrate_pb']\n",
    "\n",
    "legend = 'Изменение концентрации Pb'\n",
    "    \n",
    "fig, ax = plt.subplots()\n",
    "\n",
    "df_full[Pb].plot(kind='hist', bins=150, figsize=(15,8), ax=ax, alpha=0.4)\n",
    "\n",
    "ax.set_title(legend)\n",
    "ax.set_xlabel('Концентрация')\n",
    "ax.set_ylabel('Частота появления значений');"
   ]
  },
  {
   "cell_type": "markdown",
   "metadata": {},
   "source": [
    "**Вывод:**\n",
    "\n",
    "- Концентрация золота в среднем повышается приблизительно на 10-15% после каждой стадии.\n",
    "\n",
    "- Концентрация серебра в среднем повышается на 2-3% на стадии чернового концентрата, а затем с такой же скоростью снижается на каждом следующем этапе так, что финальная концентрация приблизительно равна 5%.\n",
    "\n",
    "- Концентрация свинца в среднем достигает наивысшего значения в 10% уже после первой очистки.\n",
    "\n",
    "- В полной выборке обранужено значительное количество выбросов данных при нулевом значении. Стоит изучить обучающую выборку."
   ]
  },
  {
   "cell_type": "markdown",
   "metadata": {},
   "source": [
    "**При анализе полной выборки на всех трёх графиках замечены выбросы. Изучим обучающую выборку и обработаем выбросы:**"
   ]
  },
  {
   "cell_type": "markdown",
   "metadata": {},
   "source": [
    "**Au:**"
   ]
  },
  {
   "cell_type": "code",
   "execution_count": 24,
   "metadata": {},
   "outputs": [
    {
     "data": {
      "image/png": "[encoded data removed]",
      "text/plain": [
       "<Figure size 1080x576 with 1 Axes>"
      ]
     },
     "metadata": {
      "needs_background": "light"
     },
     "output_type": "display_data"
    }
   ],
   "source": [
    "Au = ['rougher.input.feed_au', \n",
    "      'rougher.output.concentrate_au', \n",
    "      'primary_cleaner.output.concentrate_au', \n",
    "      'final.output.concentrate_au']\n",
    "  \n",
    "fig, ax = plt.subplots()\n",
    "\n",
    "\n",
    "df_train[Au].plot(ax=ax, kind='hist', bins=150, figsize=(15,8), legend=True, alpha=0.4)\n",
    "\n",
    "ax.set_title('Изменение концентрации Au')\n",
    "ax.set_xlabel('Концентрация')\n",
    "ax.set_ylabel('Частота появления значений');"
   ]
  },
  {
   "cell_type": "code",
   "execution_count": 25,
   "metadata": {},
   "outputs": [
    {
     "data": {
      "image/png": "[encoded data removed]",
      "text/plain": [
       "<Figure size 1152x576 with 1 Axes>"
      ]
     },
     "metadata": {
      "needs_background": "light"
     },
     "output_type": "display_data"
    }
   ],
   "source": [
    "df_train.boxplot(column=['rougher.input.feed_au', \n",
    "                        'rougher.output.concentrate_au', \n",
    "                        'primary_cleaner.output.concentrate_au', \n",
    "                        'final.output.concentrate_au'], figsize=(16,8))\n",
    "\n",
    "plt.title('Ящик с усами для концентрации au')\n",
    "plt.xlabel('Этапы техпроцесса')\n",
    "plt.ylabel('Концентрация')\n",
    "plt.show()"
   ]
  },
  {
   "cell_type": "code",
   "execution_count": 26,
   "metadata": {},
   "outputs": [
    {
     "name": "stdout",
     "output_type": "stream",
     "text": [
      "96.92708690582344\n",
      "96.57040949310652\n",
      "96.71445229439605\n"
     ]
    }
   ],
   "source": [
    "print(df_train[df_train['rougher.output.concentrate_au'] > 9].value_counts().sum()/\n",
    "      df_train['rougher.output.concentrate_au'].value_counts().sum()*100)\n",
    "\n",
    "print(df_train[df_train['primary_cleaner.output.concentrate_au'] > 20].value_counts().sum()/\n",
    "      df_train['primary_cleaner.output.concentrate_au'].value_counts().sum()*100)\n",
    "\n",
    "print(df_train[df_train['final.output.concentrate_au'] > 35].value_counts().sum()/\n",
    "      df_train['final.output.concentrate_au'].value_counts().sum()*100)"
   ]
  },
  {
   "cell_type": "code",
   "execution_count": 27,
   "metadata": {},
   "outputs": [],
   "source": [
    "df_train = df_train[(df_train['rougher.output.concentrate_au'] > 9) & \n",
    "                    (df_train['primary_cleaner.output.concentrate_au'] > 17) &\n",
    "                    (df_train['final.output.concentrate_au'] > 30)]"
   ]
  },
  {
   "cell_type": "code",
   "execution_count": 28,
   "metadata": {},
   "outputs": [
    {
     "data": {
      "image/png": "[encoded data removed]",
      "text/plain": [
       "<Figure size 1080x576 with 1 Axes>"
      ]
     },
     "metadata": {
      "needs_background": "light"
     },
     "output_type": "display_data"
    }
   ],
   "source": [
    "#check\n",
    "Au = ['rougher.input.feed_au', \n",
    "      'rougher.output.concentrate_au', \n",
    "      'primary_cleaner.output.concentrate_au', \n",
    "      'final.output.concentrate_au']\n",
    "  \n",
    "fig, ax = plt.subplots()\n",
    "ax.set_title('Изменение концентрации Au')\n",
    "ax.set_xlabel('Концентрация')\n",
    "ax.set_ylabel('Частота появления значений')\n",
    "\n",
    "df_train[Au].plot(ax=ax, kind='hist', bins=150, figsize=(15,8), legend=True, alpha=0.4);"
   ]
  },
  {
   "cell_type": "markdown",
   "metadata": {},
   "source": [
    "**Ag:**"
   ]
  },
  {
   "cell_type": "code",
   "execution_count": 29,
   "metadata": {},
   "outputs": [
    {
     "data": {
      "image/png": "[encoded data removed]",
      "text/plain": [
       "<Figure size 1080x576 with 1 Axes>"
      ]
     },
     "metadata": {
      "needs_background": "light"
     },
     "output_type": "display_data"
    }
   ],
   "source": [
    "Ag = ['rougher.input.feed_ag', \n",
    "      'rougher.output.concentrate_ag', \n",
    "      'primary_cleaner.output.concentrate_ag', \n",
    "      'final.output.concentrate_ag']\n",
    "  \n",
    "fig, ax = plt.subplots()\n",
    "ax.set_title('Изменение концентрации Ag')\n",
    "ax.set_xlabel('Концентрация')\n",
    "ax.set_ylabel('Частота появления значений')\n",
    "\n",
    "df_train[Ag].plot(ax=ax, kind='hist', bins=150, figsize=(15,8), legend=True, alpha=0.4);"
   ]
  },
  {
   "cell_type": "markdown",
   "metadata": {},
   "source": [
    "**Выбросов не наблюдается, но всё равно проверим:**"
   ]
  },
  {
   "cell_type": "code",
   "execution_count": 42,
   "metadata": {},
   "outputs": [
    {
     "data": {
      "image/png": "[encoded data removed]",
      "text/plain": [
       "<Figure size 1152x576 with 1 Axes>"
      ]
     },
     "metadata": {
      "needs_background": "light"
     },
     "output_type": "display_data"
    }
   ],
   "source": [
    "df_train.boxplot(column=['rougher.input.feed_ag', \n",
    "                        'rougher.output.concentrate_ag', \n",
    "                        'primary_cleaner.output.concentrate_ag', \n",
    "                        'final.output.concentrate_ag'], figsize=(16,8))\n",
    "plt.title('Ящик с усами для концентрации ag')\n",
    "plt.xlabel('Этапы техпроцесса')\n",
    "plt.ylabel('Концентрация')\n",
    "plt.show()"
   ]
  },
  {
   "cell_type": "code",
   "execution_count": 31,
   "metadata": {},
   "outputs": [
    {
     "name": "stdout",
     "output_type": "stream",
     "text": [
      "99.74816680245908\n",
      "99.7926079549663\n",
      "98.72602029479299\n"
     ]
    }
   ],
   "source": [
    "print(df_train[(df_train['rougher.output.concentrate_ag'] > 5.5)&\n",
    "               (df_train['rougher.output.concentrate_ag'] < 19)].value_counts().sum()/\n",
    "      df_train['rougher.output.concentrate_ag'].value_counts().sum()*100)\n",
    "\n",
    "print(df_train[(df_train['primary_cleaner.output.concentrate_ag'] > 3)&\n",
    "              (df_train['primary_cleaner.output.concentrate_ag'] < 14)].value_counts().sum()/\n",
    "      df_train['primary_cleaner.output.concentrate_ag'].value_counts().sum()*100)\n",
    "\n",
    "print(df_train[df_train['final.output.concentrate_ag'] < 9].value_counts().sum()/\n",
    "      df_train['final.output.concentrate_ag'].value_counts().sum()*100)"
   ]
  },
  {
   "cell_type": "code",
   "execution_count": 32,
   "metadata": {},
   "outputs": [],
   "source": [
    "df_train = df_train[(df_train['rougher.output.concentrate_ag'] > 5)&\n",
    "               (df_train['rougher.output.concentrate_ag'] < 20) & \n",
    "                    (df_train['primary_cleaner.output.concentrate_ag'] > 3)&\n",
    "              (df_train['primary_cleaner.output.concentrate_ag'] < 15) &\n",
    "                    (df_train['final.output.concentrate_ag'] < 10)]"
   ]
  },
  {
   "cell_type": "code",
   "execution_count": 41,
   "metadata": {},
   "outputs": [
    {
     "data": {
      "image/png": "[encoded data removed]",
      "text/plain": [
       "<Figure size 1080x576 with 1 Axes>"
      ]
     },
     "metadata": {
      "needs_background": "light"
     },
     "output_type": "display_data"
    }
   ],
   "source": [
    "#check\n",
    "Ag = ['rougher.input.feed_ag', \n",
    "      'rougher.output.concentrate_ag', \n",
    "      'primary_cleaner.output.concentrate_ag', \n",
    "      'final.output.concentrate_ag']\n",
    "  \n",
    "fig, ax = plt.subplots()\n",
    "\n",
    "df_train[Ag].plot(ax=ax, kind='hist', bins=150, figsize=(15,8), legend=True, alpha=0.4)\n",
    "ax.set_title('Изменение концентрации Ag')\n",
    "ax.set_xlabel('Концентрация')\n",
    "ax.set_ylabel('Частота появления значений');"
   ]
  },
  {
   "cell_type": "markdown",
   "metadata": {},
   "source": [
    "**Pb:**"
   ]
  },
  {
   "cell_type": "code",
   "execution_count": 34,
   "metadata": {},
   "outputs": [
    {
     "data": {
      "image/png": "[encoded data removed]",
      "text/plain": [
       "<Figure size 1080x576 with 1 Axes>"
      ]
     },
     "metadata": {
      "needs_background": "light"
     },
     "output_type": "display_data"
    }
   ],
   "source": [
    "Pb = ['rougher.input.feed_pb', \n",
    "      'rougher.output.concentrate_pb', \n",
    "      'primary_cleaner.output.concentrate_pb', \n",
    "      'final.output.concentrate_pb']\n",
    "  \n",
    "fig, ax = plt.subplots()\n",
    "\n",
    "\n",
    "df_train[Pb].plot(ax=ax, kind='hist', bins=150, figsize=(15,8), legend=True, alpha=0.4)\n",
    "ax.set_title('Изменение концентрации Pb')\n",
    "ax.set_xlabel('Концентрация')\n",
    "ax.set_ylabel('Частота появления значений');"
   ]
  },
  {
   "cell_type": "markdown",
   "metadata": {},
   "source": [
    "**Выбросов также не наблюдается, но всё равно проверим:**"
   ]
  },
  {
   "cell_type": "code",
   "execution_count": 35,
   "metadata": {},
   "outputs": [
    {
     "data": {
      "image/png": "[encoded data removed]",
      "text/plain": [
       "<Figure size 1152x576 with 1 Axes>"
      ]
     },
     "metadata": {
      "needs_background": "light"
     },
     "output_type": "display_data"
    }
   ],
   "source": [
    "df_train.boxplot(column=['rougher.input.feed_pb', \n",
    "                        'rougher.output.concentrate_pb', \n",
    "                        'primary_cleaner.output.concentrate_pb', \n",
    "                        'final.output.concentrate_pb'], figsize=(16,8))\n",
    "plt.title('Ящик с усами для концентрации pb')\n",
    "plt.xlabel('Этапы техпроцесса')\n",
    "plt.ylabel('Концентрация')\n",
    "plt.show()"
   ]
  },
  {
   "cell_type": "code",
   "execution_count": 36,
   "metadata": {},
   "outputs": [
    {
     "name": "stdout",
     "output_type": "stream",
     "text": [
      "99.60459564309161\n",
      "99.50014920919129\n",
      "99.9253954043569\n"
     ]
    }
   ],
   "source": [
    "print(df_train[(df_train['rougher.output.concentrate_pb'] > 3)&\n",
    "              (df_train['rougher.output.concentrate_pb'] < 12)].value_counts().sum()/\n",
    "      df_train['rougher.output.concentrate_pb'].value_counts().sum()*100)\n",
    "\n",
    "print(df_train[(df_train['primary_cleaner.output.concentrate_pb'] > 3)&\n",
    "              (df_train['primary_cleaner.output.concentrate_pb'] < 16)].value_counts().sum()/\n",
    "      df_train['primary_cleaner.output.concentrate_pb'].value_counts().sum()*100)\n",
    "\n",
    "print(df_train[(df_train['final.output.concentrate_pb'] > 5)&\n",
    "              (df_train['final.output.concentrate_pb'] < 15)].value_counts().sum()/\n",
    "      df_train['final.output.concentrate_pb'].value_counts().sum()*100)\n"
   ]
  },
  {
   "cell_type": "code",
   "execution_count": 37,
   "metadata": {},
   "outputs": [],
   "source": [
    "df_train = df_train[((df_train['rougher.output.concentrate_pb'] > 3)&\n",
    "              (df_train['rougher.output.concentrate_pb'] < 12)) & \n",
    "                  ((df_train['primary_cleaner.output.concentrate_pb'] > 3)&\n",
    "              (df_train['primary_cleaner.output.concentrate_pb'] < 16)) &\n",
    "                  ((df_train['final.output.concentrate_pb'] > 5)&\n",
    "              (df_train['final.output.concentrate_pb'] < 15))]"
   ]
  },
  {
   "cell_type": "code",
   "execution_count": 38,
   "metadata": {},
   "outputs": [
    {
     "data": {
      "image/png": "[encoded data removed]",
      "text/plain": [
       "<Figure size 1080x576 with 1 Axes>"
      ]
     },
     "metadata": {
      "needs_background": "light"
     },
     "output_type": "display_data"
    }
   ],
   "source": [
    "#check\n",
    "Pb = ['rougher.input.feed_pb', \n",
    "      'rougher.output.concentrate_pb', \n",
    "      'primary_cleaner.output.concentrate_pb', \n",
    "      'final.output.concentrate_pb']\n",
    "\n",
    "legend = 'Изменение концентрации Pb'\n",
    "    \n",
    "fig, ax = plt.subplots()\n",
    "\n",
    "\n",
    "df_train[Pb].plot(kind='hist', bins=150, figsize=(15,8), ax=ax, alpha=0.4)\n",
    "\n",
    "ax.set_title(legend)\n",
    "ax.set_xlabel('Концентрация')\n",
    "ax.set_ylabel('Частота появления значений');"
   ]
  },
  {
   "cell_type": "markdown",
   "metadata": {},
   "source": [
    "**Сравним распределения размеров гранул исходного сырья на обучающей и тестовой выборках. Из-за разного размера выборок по частоте распределения трудно оценить, одинаковые ли размеры у гранул. Для этого исследуем плотность распределения:**"
   ]
  },
  {
   "cell_type": "code",
   "execution_count": 39,
   "metadata": {},
   "outputs": [
    {
     "data": {
      "image/png": "[encoded data removed]",
      "text/plain": [
       "<Figure size 1080x576 with 1 Axes>"
      ]
     },
     "metadata": {
      "needs_background": "light"
     },
     "output_type": "display_data"
    }
   ],
   "source": [
    "data1 = df_train['rougher.input.feed_size']\n",
    "data2 = df_test['rougher.input.feed_size']\n",
    "\n",
    "plt.figure(figsize=(15,8))\n",
    "\n",
    "sns.kdeplot(data1, label='train')\n",
    "sns.kdeplot(data2, label='test')\n",
    "\n",
    "plt.xlabel('Размер гранул')\n",
    "plt.ylabel('Плотность распределения')\n",
    "plt.title('Плотность распределения размера гранул')\n",
    "\n",
    "plt.legend()\n",
    "\n",
    "plt.show()"
   ]
  },
  {
   "cell_type": "markdown",
   "metadata": {},
   "source": [
    "**Вывод:**\n",
    "`Плотности распределения размеров гранул исходного сырья в обучающей и тестовой выборке не имеют значимых различий.`"
   ]
  },
  {
   "cell_type": "markdown",
   "metadata": {},
   "source": [
    "**Исследуем суммарную концентрацию металлов на разных стадиях:**"
   ]
  },
  {
   "cell_type": "code",
   "execution_count": 40,
   "metadata": {},
   "outputs": [
    {
     "data": {
      "image/png": "[encoded data removed]",
      "text/plain": [
       "<Figure size 1080x576 with 1 Axes>"
      ]
     },
     "metadata": {
      "needs_background": "light"
     },
     "output_type": "display_data"
    }
   ],
   "source": [
    "metalls_summ_input = df_full['rougher.input.feed_au'] + df_full['rougher.input.feed_ag'] + df_full['rougher.input.feed_pb']\n",
    "metalls_summ_rougher_output = df_full['rougher.output.concentrate_au'] + df_full['rougher.output.concentrate_ag'] + df_full['rougher.output.concentrate_pb']\n",
    "metalls_summ_primary_output = df_full['primary_cleaner.output.concentrate_au'] + df_full['primary_cleaner.output.concentrate_ag'] + df_full['primary_cleaner.output.concentrate_pb']\n",
    "metalls_summ_final_output = df_full['final.output.concentrate_au'] + df_full['final.output.concentrate_ag'] + df_full['final.output.concentrate_pb']\n",
    "\n",
    "df_full['metalls_summ_input'] = metalls_summ_input\n",
    "df_full['metalls_summ_rougher_output'] = metalls_summ_rougher_output\n",
    "df_full['metalls_summ_primary_output'] = metalls_summ_primary_output\n",
    "df_full['metalls_summ_final_output'] = metalls_summ_final_output\n",
    "\n",
    "summs = ['metalls_summ_input', 'metalls_summ_rougher_output', 'metalls_summ_primary_output', 'metalls_summ_final_output']\n",
    "legend = 'Изменение концентрации металлов'    \n",
    "fig, ax = plt.subplots()\n",
    "\n",
    "df_full[summs].plot(kind='hist', bins=150, figsize=(15,8), ax=ax, legend = True, alpha=0.4)\n",
    "\n",
    "ax.set_title(legend)\n",
    "ax.set_xlabel('Концентрация')\n",
    "ax.set_ylabel('Частота появления значений');"
   ]
  },
  {
   "cell_type": "markdown",
   "metadata": {},
   "source": [
    "**Вывод:**\n",
    "\n",
    "`Суммарная концентрация металлов повышается с каждой стадией`"
   ]
  },
  {
   "cell_type": "markdown",
   "metadata": {},
   "source": [
    "## Промежуточный вывод:\n",
    "\n",
    "`Исследовано распределение концентраций металлов на каждом этапе.`\n",
    "\n",
    "`Обработаны выбросы по параметрам концентрации металлов на каждом этапе для обучающей выборки.`\n",
    "\n",
    "`Исследовано наличие разницы между обучающей и тестовой выборкой для параметра размера гранул сырья.`\n",
    "\n",
    "`Исследована суммарная концентрация металлов на каждом этапе.`"
   ]
  },
  {
   "cell_type": "markdown",
   "metadata": {},
   "source": [
    "# Модель"
   ]
  },
  {
   "cell_type": "markdown",
   "metadata": {},
   "source": [
    "**Напишем функцию для вычисления итоговой sMAPE:**"
   ]
  },
  {
   "cell_type": "code",
   "execution_count": 51,
   "metadata": {},
   "outputs": [],
   "source": [
    "def smape(target, predictions):\n",
    "    return 1/len(target)*np.sum(np.abs(target-predictions)/(np.abs(target)+np.abs(predictions))*2*100)"
   ]
  },
  {
   "cell_type": "code",
   "execution_count": 52,
   "metadata": {},
   "outputs": [],
   "source": [
    "def overall_smape(rougher, final):\n",
    "    return 0.25*rougher+0.75*final"
   ]
  },
  {
   "cell_type": "markdown",
   "metadata": {},
   "source": [
    "**В тестовой выборке нет параметров, которые есть в обучающей. Добавим их:**"
   ]
  },
  {
   "cell_type": "code",
   "execution_count": 53,
   "metadata": {},
   "outputs": [],
   "source": [
    "df_test['rougher.output.recovery'] = df_full[df_full.index.isin(df_test.index)]['rougher.output.recovery']\n",
    "df_test['final.output.recovery'] = df_full[df_full.index.isin(df_test.index)]['final.output.recovery']"
   ]
  },
  {
   "cell_type": "markdown",
   "metadata": {},
   "source": [
    "**Проверим данные на пропуски:**"
   ]
  },
  {
   "cell_type": "code",
   "execution_count": 54,
   "metadata": {},
   "outputs": [
    {
     "data": {
      "text/plain": [
       "0"
      ]
     },
     "execution_count": 54,
     "metadata": {},
     "output_type": "execute_result"
    }
   ],
   "source": [
    "df_test.isna().sum().sum()"
   ]
  },
  {
   "cell_type": "markdown",
   "metadata": {},
   "source": [
    "**Нам потребуется обучить две модели для итогового sMAPE. Для этого распределим признаки по категориям:**"
   ]
  },
  {
   "cell_type": "code",
   "execution_count": 57,
   "metadata": {},
   "outputs": [],
   "source": [
    "columns_rougher = ['rougher.input.feed_ag',                       \n",
    "'rougher.input.feed_pb',                      \n",
    "'rougher.input.feed_rate',                   \n",
    "'rougher.input.feed_size',                   \n",
    "'rougher.input.feed_sol',                     \n",
    "'rougher.input.feed_au',                      \n",
    "'rougher.input.floatbank10_sulfate',           \n",
    "'rougher.input.floatbank10_xanthate',        \n",
    "'rougher.input.floatbank11_sulfate',           \n",
    "'rougher.input.floatbank11_xanthate',         \n",
    "'rougher.state.floatbank10_a_air',            \n",
    "'rougher.state.floatbank10_a_level',           \n",
    "'rougher.state.floatbank10_b_air',             \n",
    "'rougher.state.floatbank10_b_level',           \n",
    "'rougher.state.floatbank10_c_air',             \n",
    "'rougher.state.floatbank10_c_level',          \n",
    "'rougher.state.floatbank10_d_air',            \n",
    "'rougher.state.floatbank10_d_level',          \n",
    "'rougher.state.floatbank10_e_air',            \n",
    "'rougher.state.floatbank10_e_level',           \n",
    "'rougher.state.floatbank10_f_air',             \n",
    "'rougher.state.floatbank10_f_level']"
   ]
  },
  {
   "cell_type": "code",
   "execution_count": 58,
   "metadata": {},
   "outputs": [],
   "source": [
    "columns_final = ['primary_cleaner.input.sulfate',  \n",
    "'primary_cleaner.input.depressant',            \n",
    "'primary_cleaner.input.feed_size',             \n",
    "'primary_cleaner.input.xanthate'  ,            \n",
    "'primary_cleaner.state.floatbank8_a_air',      \n",
    "'primary_cleaner.state.floatbank8_a_level',    \n",
    "'primary_cleaner.state.floatbank8_b_air'   ,   \n",
    "'primary_cleaner.state.floatbank8_b_level'  ,  \n",
    "'primary_cleaner.state.floatbank8_c_air'    ,  \n",
    "'primary_cleaner.state.floatbank8_c_level'  ,  \n",
    "'primary_cleaner.state.floatbank8_d_air'    ,  \n",
    "'primary_cleaner.state.floatbank8_d_level'  ,\n",
    "\n",
    "                  \n",
    "'secondary_cleaner.state.floatbank2_a_air'  ,  \n",
    "'secondary_cleaner.state.floatbank2_a_level' , \n",
    "'secondary_cleaner.state.floatbank2_b_air'   , \n",
    "'secondary_cleaner.state.floatbank2_b_level' , \n",
    "'secondary_cleaner.state.floatbank3_a_air'   , \n",
    "'secondary_cleaner.state.floatbank3_a_level' , \n",
    "'secondary_cleaner.state.floatbank3_b_air'   , \n",
    "'secondary_cleaner.state.floatbank3_b_level' ,\n",
    "'secondary_cleaner.state.floatbank4_a_air'   , \n",
    "'secondary_cleaner.state.floatbank4_a_level' , \n",
    "'secondary_cleaner.state.floatbank4_b_air'   , \n",
    "'secondary_cleaner.state.floatbank4_b_level' , \n",
    "'secondary_cleaner.state.floatbank5_a_air'   , \n",
    "'secondary_cleaner.state.floatbank5_a_level' , \n",
    "'secondary_cleaner.state.floatbank5_b_air'   , \n",
    "'secondary_cleaner.state.floatbank5_b_level' , \n",
    "'secondary_cleaner.state.floatbank6_a_air'   ,\n",
    "'secondary_cleaner.state.floatbank6_a_level']"
   ]
  },
  {
   "cell_type": "markdown",
   "metadata": {},
   "source": [
    "**Признаки для первой модели:**"
   ]
  },
  {
   "cell_type": "code",
   "execution_count": 59,
   "metadata": {},
   "outputs": [],
   "source": [
    "df_rougher_features_train = df_train[columns_rougher]\n",
    "df_rougher_target_train = df_train['rougher.output.recovery']"
   ]
  },
  {
   "cell_type": "markdown",
   "metadata": {},
   "source": [
    "**Признаки для второй модели:**"
   ]
  },
  {
   "cell_type": "code",
   "execution_count": 60,
   "metadata": {},
   "outputs": [],
   "source": [
    "df_final_features_train = df_train[columns_final]\n",
    "df_final_target_train = df_train['final.output.recovery']"
   ]
  },
  {
   "cell_type": "markdown",
   "metadata": {},
   "source": [
    "**Отмасштабируем признаки:**"
   ]
  },
  {
   "cell_type": "code",
   "execution_count": 61,
   "metadata": {},
   "outputs": [
    {
     "name": "stderr",
     "output_type": "stream",
     "text": [
      "/tmp/ipykernel_731/1989961034.py:4: SettingWithCopyWarning: \n",
      "A value is trying to be set on a copy of a slice from a DataFrame.\n",
      "Try using .loc[row_indexer,col_indexer] = value instead\n",
      "\n",
      "See the caveats in the documentation: https://pandas.pydata.org/pandas-docs/stable/user_guide/indexing.html#returning-a-view-versus-a-copy\n",
      "  df_rougher_features_train[columns_rougher] = rougher_scaler.transform(df_rougher_features_train[columns_rougher])\n",
      "/opt/conda/lib/python3.9/site-packages/pandas/core/indexing.py:1637: SettingWithCopyWarning: \n",
      "A value is trying to be set on a copy of a slice from a DataFrame\n",
      "\n",
      "See the caveats in the documentation: https://pandas.pydata.org/pandas-docs/stable/user_guide/indexing.html#returning-a-view-versus-a-copy\n",
      "  self._setitem_single_block(indexer, value, name)\n",
      "/opt/conda/lib/python3.9/site-packages/pandas/core/indexing.py:692: SettingWithCopyWarning: \n",
      "A value is trying to be set on a copy of a slice from a DataFrame\n",
      "\n",
      "See the caveats in the documentation: https://pandas.pydata.org/pandas-docs/stable/user_guide/indexing.html#returning-a-view-versus-a-copy\n",
      "  iloc._setitem_with_indexer(indexer, value, self.name)\n"
     ]
    },
    {
     "data": {
      "text/html": [
       "<div>\n",
       "<style scoped>\n",
       "    .dataframe tbody tr th:only-of-type {\n",
       "        vertical-align: middle;\n",
       "    }\n",
       "\n",
       "    .dataframe tbody tr th {\n",
       "        vertical-align: top;\n",
       "    }\n",
       "\n",
       "    .dataframe thead th {\n",
       "        text-align: right;\n",
       "    }\n",
       "</style>\n",
       "<table border=\"1\" class=\"dataframe\">\n",
       "  <thead>\n",
       "    <tr style=\"text-align: right;\">\n",
       "      <th></th>\n",
       "      <th>rougher.input.feed_ag</th>\n",
       "      <th>rougher.input.feed_pb</th>\n",
       "      <th>rougher.input.feed_rate</th>\n",
       "      <th>rougher.input.feed_size</th>\n",
       "      <th>rougher.input.feed_sol</th>\n",
       "      <th>rougher.input.feed_au</th>\n",
       "      <th>rougher.input.floatbank10_sulfate</th>\n",
       "      <th>rougher.input.floatbank10_xanthate</th>\n",
       "      <th>rougher.input.floatbank11_sulfate</th>\n",
       "      <th>rougher.input.floatbank11_xanthate</th>\n",
       "      <th>...</th>\n",
       "      <th>rougher.state.floatbank10_b_air</th>\n",
       "      <th>rougher.state.floatbank10_b_level</th>\n",
       "      <th>rougher.state.floatbank10_c_air</th>\n",
       "      <th>rougher.state.floatbank10_c_level</th>\n",
       "      <th>rougher.state.floatbank10_d_air</th>\n",
       "      <th>rougher.state.floatbank10_d_level</th>\n",
       "      <th>rougher.state.floatbank10_e_air</th>\n",
       "      <th>rougher.state.floatbank10_e_level</th>\n",
       "      <th>rougher.state.floatbank10_f_air</th>\n",
       "      <th>rougher.state.floatbank10_f_level</th>\n",
       "    </tr>\n",
       "    <tr>\n",
       "      <th>date</th>\n",
       "      <th></th>\n",
       "      <th></th>\n",
       "      <th></th>\n",
       "      <th></th>\n",
       "      <th></th>\n",
       "      <th></th>\n",
       "      <th></th>\n",
       "      <th></th>\n",
       "      <th></th>\n",
       "      <th></th>\n",
       "      <th></th>\n",
       "      <th></th>\n",
       "      <th></th>\n",
       "      <th></th>\n",
       "      <th></th>\n",
       "      <th></th>\n",
       "      <th></th>\n",
       "      <th></th>\n",
       "      <th></th>\n",
       "      <th></th>\n",
       "      <th></th>\n",
       "    </tr>\n",
       "  </thead>\n",
       "  <tbody>\n",
       "    <tr>\n",
       "      <th>2016-01-15 00:00:00</th>\n",
       "      <td>-1.501840</td>\n",
       "      <td>-1.266635</td>\n",
       "      <td>0.444520</td>\n",
       "      <td>-0.154340</td>\n",
       "      <td>0.017647</td>\n",
       "      <td>-1.034047</td>\n",
       "      <td>-0.141631</td>\n",
       "      <td>-0.025822</td>\n",
       "      <td>-0.087156</td>\n",
       "      <td>-0.003018</td>\n",
       "      <td>...</td>\n",
       "      <td>1.529219</td>\n",
       "      <td>0.528483</td>\n",
       "      <td>1.409151</td>\n",
       "      <td>0.412840</td>\n",
       "      <td>1.817746</td>\n",
       "      <td>0.256515</td>\n",
       "      <td>1.813848</td>\n",
       "      <td>0.129328</td>\n",
       "      <td>2.276884</td>\n",
       "      <td>0.193688</td>\n",
       "    </tr>\n",
       "    <tr>\n",
       "      <th>2016-01-15 01:00:00</th>\n",
       "      <td>-1.469460</td>\n",
       "      <td>-1.284775</td>\n",
       "      <td>0.461176</td>\n",
       "      <td>-0.076116</td>\n",
       "      <td>-0.196374</td>\n",
       "      <td>-1.038112</td>\n",
       "      <td>-0.146283</td>\n",
       "      <td>-0.027829</td>\n",
       "      <td>-0.044863</td>\n",
       "      <td>0.002742</td>\n",
       "      <td>...</td>\n",
       "      <td>1.516676</td>\n",
       "      <td>0.257975</td>\n",
       "      <td>1.400059</td>\n",
       "      <td>0.274963</td>\n",
       "      <td>1.825379</td>\n",
       "      <td>0.280565</td>\n",
       "      <td>1.784377</td>\n",
       "      <td>0.206764</td>\n",
       "      <td>2.179034</td>\n",
       "      <td>0.224140</td>\n",
       "    </tr>\n",
       "    <tr>\n",
       "      <th>2016-01-15 02:00:00</th>\n",
       "      <td>-1.493269</td>\n",
       "      <td>-1.387017</td>\n",
       "      <td>0.506402</td>\n",
       "      <td>-0.065990</td>\n",
       "      <td>-0.152109</td>\n",
       "      <td>-1.100623</td>\n",
       "      <td>-0.161544</td>\n",
       "      <td>0.145143</td>\n",
       "      <td>-0.064988</td>\n",
       "      <td>0.165996</td>\n",
       "      <td>...</td>\n",
       "      <td>1.508799</td>\n",
       "      <td>0.256997</td>\n",
       "      <td>1.396190</td>\n",
       "      <td>0.272724</td>\n",
       "      <td>1.822124</td>\n",
       "      <td>0.280556</td>\n",
       "      <td>1.784117</td>\n",
       "      <td>0.222481</td>\n",
       "      <td>2.182547</td>\n",
       "      <td>0.217313</td>\n",
       "    </tr>\n",
       "    <tr>\n",
       "      <th>2016-01-15 03:00:00</th>\n",
       "      <td>-1.532264</td>\n",
       "      <td>-1.504059</td>\n",
       "      <td>0.626377</td>\n",
       "      <td>-0.053677</td>\n",
       "      <td>0.028528</td>\n",
       "      <td>-1.231722</td>\n",
       "      <td>-0.249176</td>\n",
       "      <td>0.150379</td>\n",
       "      <td>-0.125436</td>\n",
       "      <td>0.159148</td>\n",
       "      <td>...</td>\n",
       "      <td>1.512812</td>\n",
       "      <td>0.246143</td>\n",
       "      <td>1.397821</td>\n",
       "      <td>0.273519</td>\n",
       "      <td>1.811928</td>\n",
       "      <td>0.277399</td>\n",
       "      <td>1.794019</td>\n",
       "      <td>0.220921</td>\n",
       "      <td>2.182065</td>\n",
       "      <td>0.229628</td>\n",
       "    </tr>\n",
       "    <tr>\n",
       "      <th>2016-01-15 04:00:00</th>\n",
       "      <td>-1.522878</td>\n",
       "      <td>-1.745160</td>\n",
       "      <td>0.606720</td>\n",
       "      <td>-0.129870</td>\n",
       "      <td>-0.481487</td>\n",
       "      <td>-1.475878</td>\n",
       "      <td>-0.451987</td>\n",
       "      <td>0.146451</td>\n",
       "      <td>-0.319613</td>\n",
       "      <td>0.157719</td>\n",
       "      <td>...</td>\n",
       "      <td>1.513643</td>\n",
       "      <td>0.264256</td>\n",
       "      <td>1.399475</td>\n",
       "      <td>0.271280</td>\n",
       "      <td>1.821690</td>\n",
       "      <td>0.281352</td>\n",
       "      <td>1.797490</td>\n",
       "      <td>0.240359</td>\n",
       "      <td>2.187509</td>\n",
       "      <td>0.219320</td>\n",
       "    </tr>\n",
       "  </tbody>\n",
       "</table>\n",
       "<p>5 rows × 22 columns</p>\n",
       "</div>"
      ],
      "text/plain": [
       "                     rougher.input.feed_ag  rougher.input.feed_pb  \\\n",
       "date                                                                \n",
       "2016-01-15 00:00:00              -1.501840              -1.266635   \n",
       "2016-01-15 01:00:00              -1.469460              -1.284775   \n",
       "2016-01-15 02:00:00              -1.493269              -1.387017   \n",
       "2016-01-15 03:00:00              -1.532264              -1.504059   \n",
       "2016-01-15 04:00:00              -1.522878              -1.745160   \n",
       "\n",
       "                     rougher.input.feed_rate  rougher.input.feed_size  \\\n",
       "date                                                                    \n",
       "2016-01-15 00:00:00                 0.444520                -0.154340   \n",
       "2016-01-15 01:00:00                 0.461176                -0.076116   \n",
       "2016-01-15 02:00:00                 0.506402                -0.065990   \n",
       "2016-01-15 03:00:00                 0.626377                -0.053677   \n",
       "2016-01-15 04:00:00                 0.606720                -0.129870   \n",
       "\n",
       "                     rougher.input.feed_sol  rougher.input.feed_au  \\\n",
       "date                                                                 \n",
       "2016-01-15 00:00:00                0.017647              -1.034047   \n",
       "2016-01-15 01:00:00               -0.196374              -1.038112   \n",
       "2016-01-15 02:00:00               -0.152109              -1.100623   \n",
       "2016-01-15 03:00:00                0.028528              -1.231722   \n",
       "2016-01-15 04:00:00               -0.481487              -1.475878   \n",
       "\n",
       "                     rougher.input.floatbank10_sulfate  \\\n",
       "date                                                     \n",
       "2016-01-15 00:00:00                          -0.141631   \n",
       "2016-01-15 01:00:00                          -0.146283   \n",
       "2016-01-15 02:00:00                          -0.161544   \n",
       "2016-01-15 03:00:00                          -0.249176   \n",
       "2016-01-15 04:00:00                          -0.451987   \n",
       "\n",
       "                     rougher.input.floatbank10_xanthate  \\\n",
       "date                                                      \n",
       "2016-01-15 00:00:00                           -0.025822   \n",
       "2016-01-15 01:00:00                           -0.027829   \n",
       "2016-01-15 02:00:00                            0.145143   \n",
       "2016-01-15 03:00:00                            0.150379   \n",
       "2016-01-15 04:00:00                            0.146451   \n",
       "\n",
       "                     rougher.input.floatbank11_sulfate  \\\n",
       "date                                                     \n",
       "2016-01-15 00:00:00                          -0.087156   \n",
       "2016-01-15 01:00:00                          -0.044863   \n",
       "2016-01-15 02:00:00                          -0.064988   \n",
       "2016-01-15 03:00:00                          -0.125436   \n",
       "2016-01-15 04:00:00                          -0.319613   \n",
       "\n",
       "                     rougher.input.floatbank11_xanthate  ...  \\\n",
       "date                                                     ...   \n",
       "2016-01-15 00:00:00                           -0.003018  ...   \n",
       "2016-01-15 01:00:00                            0.002742  ...   \n",
       "2016-01-15 02:00:00                            0.165996  ...   \n",
       "2016-01-15 03:00:00                            0.159148  ...   \n",
       "2016-01-15 04:00:00                            0.157719  ...   \n",
       "\n",
       "                     rougher.state.floatbank10_b_air  \\\n",
       "date                                                   \n",
       "2016-01-15 00:00:00                         1.529219   \n",
       "2016-01-15 01:00:00                         1.516676   \n",
       "2016-01-15 02:00:00                         1.508799   \n",
       "2016-01-15 03:00:00                         1.512812   \n",
       "2016-01-15 04:00:00                         1.513643   \n",
       "\n",
       "                     rougher.state.floatbank10_b_level  \\\n",
       "date                                                     \n",
       "2016-01-15 00:00:00                           0.528483   \n",
       "2016-01-15 01:00:00                           0.257975   \n",
       "2016-01-15 02:00:00                           0.256997   \n",
       "2016-01-15 03:00:00                           0.246143   \n",
       "2016-01-15 04:00:00                           0.264256   \n",
       "\n",
       "                     rougher.state.floatbank10_c_air  \\\n",
       "date                                                   \n",
       "2016-01-15 00:00:00                         1.409151   \n",
       "2016-01-15 01:00:00                         1.400059   \n",
       "2016-01-15 02:00:00                         1.396190   \n",
       "2016-01-15 03:00:00                         1.397821   \n",
       "2016-01-15 04:00:00                         1.399475   \n",
       "\n",
       "                     rougher.state.floatbank10_c_level  \\\n",
       "date                                                     \n",
       "2016-01-15 00:00:00                           0.412840   \n",
       "2016-01-15 01:00:00                           0.274963   \n",
       "2016-01-15 02:00:00                           0.272724   \n",
       "2016-01-15 03:00:00                           0.273519   \n",
       "2016-01-15 04:00:00                           0.271280   \n",
       "\n",
       "                     rougher.state.floatbank10_d_air  \\\n",
       "date                                                   \n",
       "2016-01-15 00:00:00                         1.817746   \n",
       "2016-01-15 01:00:00                         1.825379   \n",
       "2016-01-15 02:00:00                         1.822124   \n",
       "2016-01-15 03:00:00                         1.811928   \n",
       "2016-01-15 04:00:00                         1.821690   \n",
       "\n",
       "                     rougher.state.floatbank10_d_level  \\\n",
       "date                                                     \n",
       "2016-01-15 00:00:00                           0.256515   \n",
       "2016-01-15 01:00:00                           0.280565   \n",
       "2016-01-15 02:00:00                           0.280556   \n",
       "2016-01-15 03:00:00                           0.277399   \n",
       "2016-01-15 04:00:00                           0.281352   \n",
       "\n",
       "                     rougher.state.floatbank10_e_air  \\\n",
       "date                                                   \n",
       "2016-01-15 00:00:00                         1.813848   \n",
       "2016-01-15 01:00:00                         1.784377   \n",
       "2016-01-15 02:00:00                         1.784117   \n",
       "2016-01-15 03:00:00                         1.794019   \n",
       "2016-01-15 04:00:00                         1.797490   \n",
       "\n",
       "                     rougher.state.floatbank10_e_level  \\\n",
       "date                                                     \n",
       "2016-01-15 00:00:00                           0.129328   \n",
       "2016-01-15 01:00:00                           0.206764   \n",
       "2016-01-15 02:00:00                           0.222481   \n",
       "2016-01-15 03:00:00                           0.220921   \n",
       "2016-01-15 04:00:00                           0.240359   \n",
       "\n",
       "                     rougher.state.floatbank10_f_air  \\\n",
       "date                                                   \n",
       "2016-01-15 00:00:00                         2.276884   \n",
       "2016-01-15 01:00:00                         2.179034   \n",
       "2016-01-15 02:00:00                         2.182547   \n",
       "2016-01-15 03:00:00                         2.182065   \n",
       "2016-01-15 04:00:00                         2.187509   \n",
       "\n",
       "                     rougher.state.floatbank10_f_level  \n",
       "date                                                    \n",
       "2016-01-15 00:00:00                           0.193688  \n",
       "2016-01-15 01:00:00                           0.224140  \n",
       "2016-01-15 02:00:00                           0.217313  \n",
       "2016-01-15 03:00:00                           0.229628  \n",
       "2016-01-15 04:00:00                           0.219320  \n",
       "\n",
       "[5 rows x 22 columns]"
      ]
     },
     "execution_count": 61,
     "metadata": {},
     "output_type": "execute_result"
    }
   ],
   "source": [
    "rougher_scaler = StandardScaler()\n",
    "\n",
    "rougher_scaler.fit(df_rougher_features_train[columns_rougher])\n",
    "df_rougher_features_train[columns_rougher] = rougher_scaler.transform(df_rougher_features_train[columns_rougher])\n",
    "#check\n",
    "df_rougher_features_train[columns_rougher].head()"
   ]
  },
  {
   "cell_type": "code",
   "execution_count": 62,
   "metadata": {},
   "outputs": [
    {
     "name": "stderr",
     "output_type": "stream",
     "text": [
      "/tmp/ipykernel_731/2247237043.py:4: SettingWithCopyWarning: \n",
      "A value is trying to be set on a copy of a slice from a DataFrame.\n",
      "Try using .loc[row_indexer,col_indexer] = value instead\n",
      "\n",
      "See the caveats in the documentation: https://pandas.pydata.org/pandas-docs/stable/user_guide/indexing.html#returning-a-view-versus-a-copy\n",
      "  df_final_features_train[columns_final] = final_scaler.transform(df_final_features_train[columns_final])\n",
      "/opt/conda/lib/python3.9/site-packages/pandas/core/indexing.py:1637: SettingWithCopyWarning: \n",
      "A value is trying to be set on a copy of a slice from a DataFrame\n",
      "\n",
      "See the caveats in the documentation: https://pandas.pydata.org/pandas-docs/stable/user_guide/indexing.html#returning-a-view-versus-a-copy\n",
      "  self._setitem_single_block(indexer, value, name)\n",
      "/opt/conda/lib/python3.9/site-packages/pandas/core/indexing.py:692: SettingWithCopyWarning: \n",
      "A value is trying to be set on a copy of a slice from a DataFrame\n",
      "\n",
      "See the caveats in the documentation: https://pandas.pydata.org/pandas-docs/stable/user_guide/indexing.html#returning-a-view-versus-a-copy\n",
      "  iloc._setitem_with_indexer(indexer, value, self.name)\n"
     ]
    },
    {
     "data": {
      "text/html": [
       "<div>\n",
       "<style scoped>\n",
       "    .dataframe tbody tr th:only-of-type {\n",
       "        vertical-align: middle;\n",
       "    }\n",
       "\n",
       "    .dataframe tbody tr th {\n",
       "        vertical-align: top;\n",
       "    }\n",
       "\n",
       "    .dataframe thead th {\n",
       "        text-align: right;\n",
       "    }\n",
       "</style>\n",
       "<table border=\"1\" class=\"dataframe\">\n",
       "  <thead>\n",
       "    <tr style=\"text-align: right;\">\n",
       "      <th></th>\n",
       "      <th>primary_cleaner.input.sulfate</th>\n",
       "      <th>primary_cleaner.input.depressant</th>\n",
       "      <th>primary_cleaner.input.feed_size</th>\n",
       "      <th>primary_cleaner.input.xanthate</th>\n",
       "      <th>primary_cleaner.state.floatbank8_a_air</th>\n",
       "      <th>primary_cleaner.state.floatbank8_a_level</th>\n",
       "      <th>primary_cleaner.state.floatbank8_b_air</th>\n",
       "      <th>primary_cleaner.state.floatbank8_b_level</th>\n",
       "      <th>primary_cleaner.state.floatbank8_c_air</th>\n",
       "      <th>primary_cleaner.state.floatbank8_c_level</th>\n",
       "      <th>...</th>\n",
       "      <th>secondary_cleaner.state.floatbank4_a_air</th>\n",
       "      <th>secondary_cleaner.state.floatbank4_a_level</th>\n",
       "      <th>secondary_cleaner.state.floatbank4_b_air</th>\n",
       "      <th>secondary_cleaner.state.floatbank4_b_level</th>\n",
       "      <th>secondary_cleaner.state.floatbank5_a_air</th>\n",
       "      <th>secondary_cleaner.state.floatbank5_a_level</th>\n",
       "      <th>secondary_cleaner.state.floatbank5_b_air</th>\n",
       "      <th>secondary_cleaner.state.floatbank5_b_level</th>\n",
       "      <th>secondary_cleaner.state.floatbank6_a_air</th>\n",
       "      <th>secondary_cleaner.state.floatbank6_a_level</th>\n",
       "    </tr>\n",
       "    <tr>\n",
       "      <th>date</th>\n",
       "      <th></th>\n",
       "      <th></th>\n",
       "      <th></th>\n",
       "      <th></th>\n",
       "      <th></th>\n",
       "      <th></th>\n",
       "      <th></th>\n",
       "      <th></th>\n",
       "      <th></th>\n",
       "      <th></th>\n",
       "      <th></th>\n",
       "      <th></th>\n",
       "      <th></th>\n",
       "      <th></th>\n",
       "      <th></th>\n",
       "      <th></th>\n",
       "      <th></th>\n",
       "      <th></th>\n",
       "      <th></th>\n",
       "      <th></th>\n",
       "      <th></th>\n",
       "    </tr>\n",
       "  </thead>\n",
       "  <tbody>\n",
       "    <tr>\n",
       "      <th>2016-01-15 00:00:00</th>\n",
       "      <td>-0.462270</td>\n",
       "      <td>0.369803</td>\n",
       "      <td>-0.113851</td>\n",
       "      <td>-0.082639</td>\n",
       "      <td>-0.322478</td>\n",
       "      <td>-0.237375</td>\n",
       "      <td>-0.326183</td>\n",
       "      <td>-0.757440</td>\n",
       "      <td>-0.286197</td>\n",
       "      <td>-0.211150</td>\n",
       "      <td>...</td>\n",
       "      <td>-0.910685</td>\n",
       "      <td>-0.376781</td>\n",
       "      <td>-0.566396</td>\n",
       "      <td>-0.682320</td>\n",
       "      <td>-1.027349</td>\n",
       "      <td>-0.312087</td>\n",
       "      <td>-0.745963</td>\n",
       "      <td>-0.387801</td>\n",
       "      <td>-0.894421</td>\n",
       "      <td>-2.731901</td>\n",
       "    </tr>\n",
       "    <tr>\n",
       "      <th>2016-01-15 01:00:00</th>\n",
       "      <td>-0.495877</td>\n",
       "      <td>0.420778</td>\n",
       "      <td>-0.113851</td>\n",
       "      <td>-0.055665</td>\n",
       "      <td>-0.115575</td>\n",
       "      <td>-0.303939</td>\n",
       "      <td>-0.136138</td>\n",
       "      <td>-0.237313</td>\n",
       "      <td>-0.089594</td>\n",
       "      <td>-0.232175</td>\n",
       "      <td>...</td>\n",
       "      <td>-0.915466</td>\n",
       "      <td>-0.439067</td>\n",
       "      <td>-0.597299</td>\n",
       "      <td>-0.630953</td>\n",
       "      <td>-1.006186</td>\n",
       "      <td>-0.365045</td>\n",
       "      <td>-0.764171</td>\n",
       "      <td>-0.390750</td>\n",
       "      <td>-0.922256</td>\n",
       "      <td>-2.567354</td>\n",
       "    </tr>\n",
       "    <tr>\n",
       "      <th>2016-01-15 02:00:00</th>\n",
       "      <td>-0.537449</td>\n",
       "      <td>0.730362</td>\n",
       "      <td>-0.113851</td>\n",
       "      <td>-0.077777</td>\n",
       "      <td>0.083476</td>\n",
       "      <td>-0.273638</td>\n",
       "      <td>0.053284</td>\n",
       "      <td>-0.260646</td>\n",
       "      <td>0.106173</td>\n",
       "      <td>-0.282587</td>\n",
       "      <td>...</td>\n",
       "      <td>-0.911039</td>\n",
       "      <td>-0.377461</td>\n",
       "      <td>-0.605108</td>\n",
       "      <td>-0.627946</td>\n",
       "      <td>-1.000288</td>\n",
       "      <td>-0.363882</td>\n",
       "      <td>-0.758584</td>\n",
       "      <td>-0.389037</td>\n",
       "      <td>-0.916742</td>\n",
       "      <td>-2.611928</td>\n",
       "    </tr>\n",
       "    <tr>\n",
       "      <th>2016-01-15 03:00:00</th>\n",
       "      <td>-0.573052</td>\n",
       "      <td>0.732141</td>\n",
       "      <td>-0.113851</td>\n",
       "      <td>-0.067159</td>\n",
       "      <td>0.071031</td>\n",
       "      <td>-0.305503</td>\n",
       "      <td>0.055397</td>\n",
       "      <td>-0.231375</td>\n",
       "      <td>0.093382</td>\n",
       "      <td>-0.277981</td>\n",
       "      <td>...</td>\n",
       "      <td>-0.906853</td>\n",
       "      <td>-0.343096</td>\n",
       "      <td>-0.587160</td>\n",
       "      <td>-0.628861</td>\n",
       "      <td>-1.019017</td>\n",
       "      <td>-0.337471</td>\n",
       "      <td>-0.765597</td>\n",
       "      <td>-0.382098</td>\n",
       "      <td>-0.920947</td>\n",
       "      <td>-2.573033</td>\n",
       "    </tr>\n",
       "    <tr>\n",
       "      <th>2016-01-15 04:00:00</th>\n",
       "      <td>-0.671433</td>\n",
       "      <td>0.911656</td>\n",
       "      <td>-0.113851</td>\n",
       "      <td>-0.041685</td>\n",
       "      <td>0.081779</td>\n",
       "      <td>-0.239490</td>\n",
       "      <td>0.061432</td>\n",
       "      <td>-0.251698</td>\n",
       "      <td>0.087946</td>\n",
       "      <td>-0.283173</td>\n",
       "      <td>...</td>\n",
       "      <td>-0.908647</td>\n",
       "      <td>-0.322054</td>\n",
       "      <td>-0.596774</td>\n",
       "      <td>-0.626739</td>\n",
       "      <td>-1.027335</td>\n",
       "      <td>-0.408234</td>\n",
       "      <td>-0.781536</td>\n",
       "      <td>-0.384753</td>\n",
       "      <td>-0.922567</td>\n",
       "      <td>-2.613812</td>\n",
       "    </tr>\n",
       "  </tbody>\n",
       "</table>\n",
       "<p>5 rows × 30 columns</p>\n",
       "</div>"
      ],
      "text/plain": [
       "                     primary_cleaner.input.sulfate  \\\n",
       "date                                                 \n",
       "2016-01-15 00:00:00                      -0.462270   \n",
       "2016-01-15 01:00:00                      -0.495877   \n",
       "2016-01-15 02:00:00                      -0.537449   \n",
       "2016-01-15 03:00:00                      -0.573052   \n",
       "2016-01-15 04:00:00                      -0.671433   \n",
       "\n",
       "                     primary_cleaner.input.depressant  \\\n",
       "date                                                    \n",
       "2016-01-15 00:00:00                          0.369803   \n",
       "2016-01-15 01:00:00                          0.420778   \n",
       "2016-01-15 02:00:00                          0.730362   \n",
       "2016-01-15 03:00:00                          0.732141   \n",
       "2016-01-15 04:00:00                          0.911656   \n",
       "\n",
       "                     primary_cleaner.input.feed_size  \\\n",
       "date                                                   \n",
       "2016-01-15 00:00:00                        -0.113851   \n",
       "2016-01-15 01:00:00                        -0.113851   \n",
       "2016-01-15 02:00:00                        -0.113851   \n",
       "2016-01-15 03:00:00                        -0.113851   \n",
       "2016-01-15 04:00:00                        -0.113851   \n",
       "\n",
       "                     primary_cleaner.input.xanthate  \\\n",
       "date                                                  \n",
       "2016-01-15 00:00:00                       -0.082639   \n",
       "2016-01-15 01:00:00                       -0.055665   \n",
       "2016-01-15 02:00:00                       -0.077777   \n",
       "2016-01-15 03:00:00                       -0.067159   \n",
       "2016-01-15 04:00:00                       -0.041685   \n",
       "\n",
       "                     primary_cleaner.state.floatbank8_a_air  \\\n",
       "date                                                          \n",
       "2016-01-15 00:00:00                               -0.322478   \n",
       "2016-01-15 01:00:00                               -0.115575   \n",
       "2016-01-15 02:00:00                                0.083476   \n",
       "2016-01-15 03:00:00                                0.071031   \n",
       "2016-01-15 04:00:00                                0.081779   \n",
       "\n",
       "                     primary_cleaner.state.floatbank8_a_level  \\\n",
       "date                                                            \n",
       "2016-01-15 00:00:00                                 -0.237375   \n",
       "2016-01-15 01:00:00                                 -0.303939   \n",
       "2016-01-15 02:00:00                                 -0.273638   \n",
       "2016-01-15 03:00:00                                 -0.305503   \n",
       "2016-01-15 04:00:00                                 -0.239490   \n",
       "\n",
       "                     primary_cleaner.state.floatbank8_b_air  \\\n",
       "date                                                          \n",
       "2016-01-15 00:00:00                               -0.326183   \n",
       "2016-01-15 01:00:00                               -0.136138   \n",
       "2016-01-15 02:00:00                                0.053284   \n",
       "2016-01-15 03:00:00                                0.055397   \n",
       "2016-01-15 04:00:00                                0.061432   \n",
       "\n",
       "                     primary_cleaner.state.floatbank8_b_level  \\\n",
       "date                                                            \n",
       "2016-01-15 00:00:00                                 -0.757440   \n",
       "2016-01-15 01:00:00                                 -0.237313   \n",
       "2016-01-15 02:00:00                                 -0.260646   \n",
       "2016-01-15 03:00:00                                 -0.231375   \n",
       "2016-01-15 04:00:00                                 -0.251698   \n",
       "\n",
       "                     primary_cleaner.state.floatbank8_c_air  \\\n",
       "date                                                          \n",
       "2016-01-15 00:00:00                               -0.286197   \n",
       "2016-01-15 01:00:00                               -0.089594   \n",
       "2016-01-15 02:00:00                                0.106173   \n",
       "2016-01-15 03:00:00                                0.093382   \n",
       "2016-01-15 04:00:00                                0.087946   \n",
       "\n",
       "                     primary_cleaner.state.floatbank8_c_level  ...  \\\n",
       "date                                                           ...   \n",
       "2016-01-15 00:00:00                                 -0.211150  ...   \n",
       "2016-01-15 01:00:00                                 -0.232175  ...   \n",
       "2016-01-15 02:00:00                                 -0.282587  ...   \n",
       "2016-01-15 03:00:00                                 -0.277981  ...   \n",
       "2016-01-15 04:00:00                                 -0.283173  ...   \n",
       "\n",
       "                     secondary_cleaner.state.floatbank4_a_air  \\\n",
       "date                                                            \n",
       "2016-01-15 00:00:00                                 -0.910685   \n",
       "2016-01-15 01:00:00                                 -0.915466   \n",
       "2016-01-15 02:00:00                                 -0.911039   \n",
       "2016-01-15 03:00:00                                 -0.906853   \n",
       "2016-01-15 04:00:00                                 -0.908647   \n",
       "\n",
       "                     secondary_cleaner.state.floatbank4_a_level  \\\n",
       "date                                                              \n",
       "2016-01-15 00:00:00                                   -0.376781   \n",
       "2016-01-15 01:00:00                                   -0.439067   \n",
       "2016-01-15 02:00:00                                   -0.377461   \n",
       "2016-01-15 03:00:00                                   -0.343096   \n",
       "2016-01-15 04:00:00                                   -0.322054   \n",
       "\n",
       "                     secondary_cleaner.state.floatbank4_b_air  \\\n",
       "date                                                            \n",
       "2016-01-15 00:00:00                                 -0.566396   \n",
       "2016-01-15 01:00:00                                 -0.597299   \n",
       "2016-01-15 02:00:00                                 -0.605108   \n",
       "2016-01-15 03:00:00                                 -0.587160   \n",
       "2016-01-15 04:00:00                                 -0.596774   \n",
       "\n",
       "                     secondary_cleaner.state.floatbank4_b_level  \\\n",
       "date                                                              \n",
       "2016-01-15 00:00:00                                   -0.682320   \n",
       "2016-01-15 01:00:00                                   -0.630953   \n",
       "2016-01-15 02:00:00                                   -0.627946   \n",
       "2016-01-15 03:00:00                                   -0.628861   \n",
       "2016-01-15 04:00:00                                   -0.626739   \n",
       "\n",
       "                     secondary_cleaner.state.floatbank5_a_air  \\\n",
       "date                                                            \n",
       "2016-01-15 00:00:00                                 -1.027349   \n",
       "2016-01-15 01:00:00                                 -1.006186   \n",
       "2016-01-15 02:00:00                                 -1.000288   \n",
       "2016-01-15 03:00:00                                 -1.019017   \n",
       "2016-01-15 04:00:00                                 -1.027335   \n",
       "\n",
       "                     secondary_cleaner.state.floatbank5_a_level  \\\n",
       "date                                                              \n",
       "2016-01-15 00:00:00                                   -0.312087   \n",
       "2016-01-15 01:00:00                                   -0.365045   \n",
       "2016-01-15 02:00:00                                   -0.363882   \n",
       "2016-01-15 03:00:00                                   -0.337471   \n",
       "2016-01-15 04:00:00                                   -0.408234   \n",
       "\n",
       "                     secondary_cleaner.state.floatbank5_b_air  \\\n",
       "date                                                            \n",
       "2016-01-15 00:00:00                                 -0.745963   \n",
       "2016-01-15 01:00:00                                 -0.764171   \n",
       "2016-01-15 02:00:00                                 -0.758584   \n",
       "2016-01-15 03:00:00                                 -0.765597   \n",
       "2016-01-15 04:00:00                                 -0.781536   \n",
       "\n",
       "                     secondary_cleaner.state.floatbank5_b_level  \\\n",
       "date                                                              \n",
       "2016-01-15 00:00:00                                   -0.387801   \n",
       "2016-01-15 01:00:00                                   -0.390750   \n",
       "2016-01-15 02:00:00                                   -0.389037   \n",
       "2016-01-15 03:00:00                                   -0.382098   \n",
       "2016-01-15 04:00:00                                   -0.384753   \n",
       "\n",
       "                     secondary_cleaner.state.floatbank6_a_air  \\\n",
       "date                                                            \n",
       "2016-01-15 00:00:00                                 -0.894421   \n",
       "2016-01-15 01:00:00                                 -0.922256   \n",
       "2016-01-15 02:00:00                                 -0.916742   \n",
       "2016-01-15 03:00:00                                 -0.920947   \n",
       "2016-01-15 04:00:00                                 -0.922567   \n",
       "\n",
       "                     secondary_cleaner.state.floatbank6_a_level  \n",
       "date                                                             \n",
       "2016-01-15 00:00:00                                   -2.731901  \n",
       "2016-01-15 01:00:00                                   -2.567354  \n",
       "2016-01-15 02:00:00                                   -2.611928  \n",
       "2016-01-15 03:00:00                                   -2.573033  \n",
       "2016-01-15 04:00:00                                   -2.613812  \n",
       "\n",
       "[5 rows x 30 columns]"
      ]
     },
     "execution_count": 62,
     "metadata": {},
     "output_type": "execute_result"
    }
   ],
   "source": [
    "final_scaler = StandardScaler()\n",
    "\n",
    "final_scaler.fit(df_final_features_train[columns_final])\n",
    "df_final_features_train[columns_final] = final_scaler.transform(df_final_features_train[columns_final])\n",
    "#check\n",
    "df_final_features_train.head()"
   ]
  },
  {
   "cell_type": "markdown",
   "metadata": {},
   "source": [
    "**Отмасштабируем признаки тестовой выборки:**"
   ]
  },
  {
   "cell_type": "code",
   "execution_count": 63,
   "metadata": {},
   "outputs": [],
   "source": [
    "df_test[columns_rougher] = rougher_scaler.transform(df_test[columns_rougher])\n",
    "df_test[columns_final] = final_scaler.transform(df_test[columns_final])\n",
    "\n",
    "df_rougher_target_test = df_test['rougher.output.recovery']\n",
    "df_final_target_test = df_test['final.output.recovery']\n",
    "df_rougher_features_test = df_test[columns_rougher]\n",
    "df_final_features_test = df_test[columns_final]"
   ]
  },
  {
   "cell_type": "markdown",
   "metadata": {},
   "source": [
    "**Обучим модели:**\n",
    "\n",
    "`Будем использовать модели LinearRegression и RandomForestRegression`"
   ]
  },
  {
   "cell_type": "markdown",
   "metadata": {},
   "source": [
    "**Создадим скорер для написанной ранее функции smape**"
   ]
  },
  {
   "cell_type": "code",
   "execution_count": 64,
   "metadata": {},
   "outputs": [],
   "source": [
    "smape_score = make_scorer(smape, greater_is_better=False)"
   ]
  },
  {
   "cell_type": "markdown",
   "metadata": {},
   "source": [
    "## LinearRegression:"
   ]
  },
  {
   "cell_type": "code",
   "execution_count": 65,
   "metadata": {},
   "outputs": [
    {
     "name": "stderr",
     "output_type": "stream",
     "text": [
      "[Parallel(n_jobs=-1)]: Using backend SequentialBackend with 1 concurrent workers.\n"
     ]
    },
    {
     "name": "stdout",
     "output_type": "stream",
     "text": [
      "[CV] START .....................................................................\n",
      "[CV] END ............................... score: (test=-8.007) total time=   0.3s\n",
      "[CV] START .....................................................................\n",
      "[CV] END ............................... score: (test=-5.439) total time=   0.1s\n",
      "[CV] START .....................................................................\n"
     ]
    },
    {
     "name": "stderr",
     "output_type": "stream",
     "text": [
      "[Parallel(n_jobs=-1)]: Done   1 out of   1 | elapsed:    0.3s remaining:    0.0s\n",
      "[Parallel(n_jobs=-1)]: Done   2 out of   2 | elapsed:    0.4s remaining:    0.0s\n"
     ]
    },
    {
     "name": "stdout",
     "output_type": "stream",
     "text": [
      "[CV] END ............................... score: (test=-4.701) total time=   0.1s\n",
      "[CV] START .....................................................................\n",
      "[CV] END ............................... score: (test=-4.375) total time=   0.1s\n"
     ]
    },
    {
     "name": "stderr",
     "output_type": "stream",
     "text": [
      "[Parallel(n_jobs=-1)]: Done   3 out of   3 | elapsed:    0.6s remaining:    0.0s\n",
      "[Parallel(n_jobs=-1)]: Done   4 out of   4 | elapsed:    0.8s remaining:    0.0s\n"
     ]
    },
    {
     "name": "stdout",
     "output_type": "stream",
     "text": [
      "[CV] START .....................................................................\n",
      "[CV] END ............................... score: (test=-8.607) total time=   0.3s\n",
      "rougher SMAPE: 6.225729009000963\n"
     ]
    },
    {
     "name": "stderr",
     "output_type": "stream",
     "text": [
      "[Parallel(n_jobs=-1)]: Done   5 out of   5 | elapsed:    1.1s remaining:    0.0s\n",
      "[Parallel(n_jobs=-1)]: Done   5 out of   5 | elapsed:    1.1s finished\n"
     ]
    }
   ],
   "source": [
    "#Rougher\n",
    "model_linreg_rough = LinearRegression()\n",
    "model_linreg_rough.fit(df_rougher_features_train, df_rougher_target_train)\n",
    "smape_linreg_rough = cross_val_score(model_linreg_rough, df_rougher_features_train, df_rougher_target_train, cv=5, n_jobs=-1, verbose=10, scoring=smape_score)\n",
    "print('rougher SMAPE:',  - smape_linreg_rough.mean())"
   ]
  },
  {
   "cell_type": "code",
   "execution_count": 66,
   "metadata": {},
   "outputs": [
    {
     "name": "stdout",
     "output_type": "stream",
     "text": [
      "[CV] START .....................................................................\n"
     ]
    },
    {
     "name": "stderr",
     "output_type": "stream",
     "text": [
      "[Parallel(n_jobs=-1)]: Using backend SequentialBackend with 1 concurrent workers.\n"
     ]
    },
    {
     "name": "stdout",
     "output_type": "stream",
     "text": [
      "[CV] END ............................... score: (test=-9.682) total time=   0.3s\n",
      "[CV] START .....................................................................\n"
     ]
    },
    {
     "name": "stderr",
     "output_type": "stream",
     "text": [
      "[Parallel(n_jobs=-1)]: Done   1 out of   1 | elapsed:    0.3s remaining:    0.0s\n"
     ]
    },
    {
     "name": "stdout",
     "output_type": "stream",
     "text": [
      "[CV] END ............................... score: (test=-7.570) total time=   1.0s\n",
      "[CV] START .....................................................................\n"
     ]
    },
    {
     "name": "stderr",
     "output_type": "stream",
     "text": [
      "[Parallel(n_jobs=-1)]: Done   2 out of   2 | elapsed:    1.3s remaining:    0.0s\n"
     ]
    },
    {
     "name": "stdout",
     "output_type": "stream",
     "text": [
      "[CV] END ............................... score: (test=-8.920) total time=   0.3s\n",
      "[CV] START .....................................................................\n"
     ]
    },
    {
     "name": "stderr",
     "output_type": "stream",
     "text": [
      "[Parallel(n_jobs=-1)]: Done   3 out of   3 | elapsed:    1.6s remaining:    0.0s\n"
     ]
    },
    {
     "name": "stdout",
     "output_type": "stream",
     "text": [
      "[CV] END ............................... score: (test=-8.499) total time=   0.6s\n",
      "[CV] START .....................................................................\n"
     ]
    },
    {
     "name": "stderr",
     "output_type": "stream",
     "text": [
      "[Parallel(n_jobs=-1)]: Done   4 out of   4 | elapsed:    2.2s remaining:    0.0s\n"
     ]
    },
    {
     "name": "stdout",
     "output_type": "stream",
     "text": [
      "[CV] END .............................. score: (test=-10.398) total time=   0.3s\n",
      "final SMAPE: 9.013876887471714\n"
     ]
    },
    {
     "name": "stderr",
     "output_type": "stream",
     "text": [
      "[Parallel(n_jobs=-1)]: Done   5 out of   5 | elapsed:    2.5s remaining:    0.0s\n",
      "[Parallel(n_jobs=-1)]: Done   5 out of   5 | elapsed:    2.5s finished\n"
     ]
    }
   ],
   "source": [
    "#Final\n",
    "model_linreg_final = LinearRegression()\n",
    "model_linreg_final.fit(df_rougher_features_train, df_rougher_target_train)\n",
    "smape_linreg_final = cross_val_score(model_linreg_final, df_final_features_train, df_final_target_train, cv=5, n_jobs=-1, verbose=10, scoring=smape_score)\n",
    "print('final SMAPE:',  - smape_linreg_final.mean())"
   ]
  },
  {
   "cell_type": "code",
   "execution_count": 67,
   "metadata": {},
   "outputs": [
    {
     "name": "stdout",
     "output_type": "stream",
     "text": [
      "total SMAPE: 8.316839917854026\n"
     ]
    }
   ],
   "source": [
    "overall_smape_linreg = overall_smape(smape_linreg_rough.mean(), smape_linreg_final.mean())\n",
    "print('total SMAPE:',  - overall_smape_linreg)"
   ]
  },
  {
   "cell_type": "markdown",
   "metadata": {},
   "source": [
    "## RandomForestRegressor:"
   ]
  },
  {
   "cell_type": "code",
   "execution_count": 68,
   "metadata": {},
   "outputs": [
    {
     "name": "stdout",
     "output_type": "stream",
     "text": [
      "[CV] START .....................................................................\n"
     ]
    },
    {
     "name": "stderr",
     "output_type": "stream",
     "text": [
      "[Parallel(n_jobs=-1)]: Using backend SequentialBackend with 1 concurrent workers.\n"
     ]
    },
    {
     "name": "stdout",
     "output_type": "stream",
     "text": [
      "[CV] END ............................... score: (test=-7.974) total time=   1.2s\n",
      "[CV] START .....................................................................\n"
     ]
    },
    {
     "name": "stderr",
     "output_type": "stream",
     "text": [
      "[Parallel(n_jobs=-1)]: Done   1 out of   1 | elapsed:    1.2s remaining:    0.0s\n"
     ]
    },
    {
     "name": "stdout",
     "output_type": "stream",
     "text": [
      "[CV] END ............................... score: (test=-4.472) total time=   1.0s\n",
      "[CV] START .....................................................................\n"
     ]
    },
    {
     "name": "stderr",
     "output_type": "stream",
     "text": [
      "[Parallel(n_jobs=-1)]: Done   2 out of   2 | elapsed:    2.3s remaining:    0.0s\n"
     ]
    },
    {
     "name": "stdout",
     "output_type": "stream",
     "text": [
      "[CV] END ............................... score: (test=-4.544) total time=   1.1s\n",
      "[CV] START .....................................................................\n"
     ]
    },
    {
     "name": "stderr",
     "output_type": "stream",
     "text": [
      "[Parallel(n_jobs=-1)]: Done   3 out of   3 | elapsed:    3.4s remaining:    0.0s\n"
     ]
    },
    {
     "name": "stdout",
     "output_type": "stream",
     "text": [
      "[CV] END ............................... score: (test=-4.905) total time=   1.1s\n",
      "[CV] START .....................................................................\n"
     ]
    },
    {
     "name": "stderr",
     "output_type": "stream",
     "text": [
      "[Parallel(n_jobs=-1)]: Done   4 out of   4 | elapsed:    4.5s remaining:    0.0s\n"
     ]
    },
    {
     "name": "stdout",
     "output_type": "stream",
     "text": [
      "[CV] END ............................... score: (test=-6.135) total time=   1.0s\n",
      "SMAPE: 5.606047913233347\n"
     ]
    },
    {
     "name": "stderr",
     "output_type": "stream",
     "text": [
      "[Parallel(n_jobs=-1)]: Done   5 out of   5 | elapsed:    5.6s remaining:    0.0s\n",
      "[Parallel(n_jobs=-1)]: Done   5 out of   5 | elapsed:    5.6s finished\n"
     ]
    }
   ],
   "source": [
    "model_fr_rougher = RandomForestRegressor(n_estimators=20, max_depth=4, random_state=12345)\n",
    "smape_score_rough_fr = cross_val_score(model_fr_rougher, df_rougher_features_train, df_rougher_target_train, cv=5, n_jobs=-1, verbose=10, scoring=smape_score)\n",
    "print('SMAPE:', - smape_score_rough_fr.mean())"
   ]
  },
  {
   "cell_type": "code",
   "execution_count": 69,
   "metadata": {},
   "outputs": [
    {
     "name": "stdout",
     "output_type": "stream",
     "text": [
      "[CV] START .....................................................................\n"
     ]
    },
    {
     "name": "stderr",
     "output_type": "stream",
     "text": [
      "[Parallel(n_jobs=-1)]: Using backend SequentialBackend with 1 concurrent workers.\n"
     ]
    },
    {
     "name": "stdout",
     "output_type": "stream",
     "text": [
      "[CV] END ............................... score: (test=-9.912) total time=   1.5s\n",
      "[CV] START .....................................................................\n"
     ]
    },
    {
     "name": "stderr",
     "output_type": "stream",
     "text": [
      "[Parallel(n_jobs=-1)]: Done   1 out of   1 | elapsed:    1.5s remaining:    0.0s\n"
     ]
    },
    {
     "name": "stdout",
     "output_type": "stream",
     "text": [
      "[CV] END ............................... score: (test=-8.703) total time=   1.4s\n",
      "[CV] START .....................................................................\n"
     ]
    },
    {
     "name": "stderr",
     "output_type": "stream",
     "text": [
      "[Parallel(n_jobs=-1)]: Done   2 out of   2 | elapsed:    3.0s remaining:    0.0s\n"
     ]
    },
    {
     "name": "stdout",
     "output_type": "stream",
     "text": [
      "[CV] END ............................... score: (test=-8.974) total time=   1.4s\n",
      "[CV] START .....................................................................\n"
     ]
    },
    {
     "name": "stderr",
     "output_type": "stream",
     "text": [
      "[Parallel(n_jobs=-1)]: Done   3 out of   3 | elapsed:    4.4s remaining:    0.0s\n"
     ]
    },
    {
     "name": "stdout",
     "output_type": "stream",
     "text": [
      "[CV] END ............................... score: (test=-9.441) total time=   1.5s\n",
      "[CV] START .....................................................................\n"
     ]
    },
    {
     "name": "stderr",
     "output_type": "stream",
     "text": [
      "[Parallel(n_jobs=-1)]: Done   4 out of   4 | elapsed:    5.9s remaining:    0.0s\n"
     ]
    },
    {
     "name": "stdout",
     "output_type": "stream",
     "text": [
      "[CV] END ............................... score: (test=-8.966) total time=   1.5s\n",
      "SMAPE: 9.199163860716194\n"
     ]
    },
    {
     "name": "stderr",
     "output_type": "stream",
     "text": [
      "[Parallel(n_jobs=-1)]: Done   5 out of   5 | elapsed:    7.4s remaining:    0.0s\n",
      "[Parallel(n_jobs=-1)]: Done   5 out of   5 | elapsed:    7.4s finished\n"
     ]
    }
   ],
   "source": [
    "model_fr_final = RandomForestRegressor(n_estimators=20, max_depth=4, random_state=12345)\n",
    "smape_score_final_fr = cross_val_score(model_fr_final, df_final_features_train, df_final_target_train, cv=5, n_jobs=-1, verbose=10, scoring=smape_score)\n",
    "print('SMAPE:', - smape_score_final_fr.mean())"
   ]
  },
  {
   "cell_type": "code",
   "execution_count": 70,
   "metadata": {},
   "outputs": [
    {
     "name": "stdout",
     "output_type": "stream",
     "text": [
      "total SMAPE: 8.300884873845483\n"
     ]
    }
   ],
   "source": [
    "overall_smape_forest = overall_smape(smape_score_rough_fr.mean(), smape_score_final_fr.mean())\n",
    "print('total SMAPE:', - overall_smape_forest)"
   ]
  },
  {
   "cell_type": "markdown",
   "metadata": {},
   "source": [
    "**Вывод:**\n",
    "\n",
    "`Лучшие значения SMAPE на модели случайного леса достигаются при количестве деревьев 20 и глубине 4.`"
   ]
  },
  {
   "cell_type": "markdown",
   "metadata": {},
   "source": [
    "`Лучшие значения SMAPE из двух моделей демонстрирует модель случайного леса.`"
   ]
  },
  {
   "cell_type": "markdown",
   "metadata": {},
   "source": [
    "**Проверим на тестовой выборке:**"
   ]
  },
  {
   "cell_type": "code",
   "execution_count": 71,
   "metadata": {},
   "outputs": [],
   "source": [
    "model_rougher_fr = RandomForestRegressor(n_estimators=20, max_depth=4, random_state=12345)\n",
    "model_rougher_fr.fit(df_rougher_features_train, df_rougher_target_train)\n",
    "\n",
    "predict_rougher_fr = model_rougher_fr.predict(df_rougher_features_test)\n",
    "\n",
    "smape_rough_fr = smape(df_rougher_target_test, predict_rougher_fr)"
   ]
  },
  {
   "cell_type": "code",
   "execution_count": 72,
   "metadata": {},
   "outputs": [],
   "source": [
    "model_final_fr = RandomForestRegressor(n_estimators=20, max_depth=4, random_state=12345)\n",
    "model_final_fr.fit(df_final_features_train, df_final_target_train)\n",
    "\n",
    "predict_final_fr = model_final_fr.predict(df_final_features_test)\n",
    "\n",
    "smape_final_fr = smape(df_final_target_test, predict_final_fr)"
   ]
  },
  {
   "cell_type": "code",
   "execution_count": 73,
   "metadata": {},
   "outputs": [
    {
     "name": "stdout",
     "output_type": "stream",
     "text": [
      "SMAPE модели RandomForestRegressor на тестовой выборке: 6.887830925764225\n"
     ]
    }
   ],
   "source": [
    "smape_total_forest = overall_smape(smape_rough_fr.mean(), smape_final_fr.mean())\n",
    "print('SMAPE модели RandomForestRegressor на тестовой выборке:', smape_total_forest)"
   ]
  },
  {
   "cell_type": "markdown",
   "metadata": {},
   "source": [
    "**Проверим константной модели:**"
   ]
  },
  {
   "cell_type": "code",
   "execution_count": 74,
   "metadata": {},
   "outputs": [
    {
     "name": "stdout",
     "output_type": "stream",
     "text": [
      "SMAPE const :  8.428665750370016\n"
     ]
    }
   ],
   "source": [
    "df_test['target_train_rougher_mean'] = df_rougher_target_train.mean()\n",
    "df_test['target_train_final_mean'] = df_final_target_train.mean()\n",
    "smape_const = smape(df_test['target_train_rougher_mean'], df_rougher_target_test)*0.25 + smape(df_test['target_train_final_mean'], df_final_target_test)* 0.75\n",
    "print( \"SMAPE const : \", smape_const)"
   ]
  },
  {
   "cell_type": "markdown",
   "metadata": {},
   "source": [
    "**Вывод:**\n",
    "\n",
    "`SMAPE тестовой модели лучше константной`"
   ]
  },
  {
   "cell_type": "markdown",
   "metadata": {},
   "source": [
    "## Итоговый вывод:\n",
    "\n",
    "`Данные подготовлены.`\n",
    "\n",
    "`Выяснено, что эффективность обогащения посчитана верно.`\n",
    "\n",
    "`Проведена предобработка данных. Заполнены пропуски. Выполнена индексация данных по дате.`\n",
    "\n",
    "`Исследовано изменение концентраций металлов на разных этапах. Как и следовало ожидать, значительно возрастает только концентрация целевого металла - золота.`\n",
    "\n",
    "`Исследована разница размеров гранул исходного сырья на обучающей и тестовой выборках. ПОстроены графики распределения частоты и плотности. Значимого различия не обнаружено.`\n",
    "\n",
    "`Исследовано изменение суммарной концентрации металлов на разных этапах. Как и следовало ожидать, суммарная концентрация значительно возрастает c каждым этапом.`\n",
    "\n",
    "`Построены модели для вычисления итоговой SMAPE - линейная регрессия и случайный лес. Оценено качество моделей кросс-валидацией. Лучшее значение SMAPE демонстрирует модель случайного леса.`\n",
    "\n",
    "`Модель случайного леса оценена с помощью модели на тестовой выборке. Показатели тестовой выборки немного лучше, чем обучающей. Отклонения в пределах допустимых.`\n",
    "\n",
    "`Модель случайного леса оценена с помощью константной модели. Показатели константной модели хуже, чем тестовой. Выбранная модель корректна.`"
   ]
  },
  {
   "cell_type": "code",
   "execution_count": null,
   "metadata": {},
   "outputs": [],
   "source": []
  }
 ],
 "metadata": {
  "ExecuteTimeLog": [
   {
    "duration": 406,
    "start_time": "2023-05-09T18:29:42.308Z"
   },
   {
    "duration": 3260,
    "start_time": "2023-05-09T18:29:42.754Z"
   },
   {
    "duration": 70,
    "start_time": "2023-05-09T18:31:05.681Z"
   },
   {
    "duration": 3,
    "start_time": "2023-05-09T18:31:12.300Z"
   },
   {
    "duration": 35,
    "start_time": "2023-05-09T18:31:13.862Z"
   },
   {
    "duration": 60,
    "start_time": "2023-05-09T18:32:00.682Z"
   },
   {
    "duration": 20,
    "start_time": "2023-05-09T18:32:13.429Z"
   },
   {
    "duration": 3,
    "start_time": "2023-05-09T18:32:24.900Z"
   },
   {
    "duration": 59,
    "start_time": "2023-05-09T18:32:46.430Z"
   },
   {
    "duration": 8,
    "start_time": "2023-05-09T18:34:11.998Z"
   },
   {
    "duration": 16,
    "start_time": "2023-05-09T18:34:23.192Z"
   },
   {
    "duration": 65,
    "start_time": "2023-05-09T18:34:52.166Z"
   },
   {
    "duration": 31,
    "start_time": "2023-05-09T18:37:04.727Z"
   },
   {
    "duration": 31,
    "start_time": "2023-05-09T18:37:43.121Z"
   },
   {
    "duration": 29,
    "start_time": "2023-05-09T18:38:03.925Z"
   },
   {
    "duration": 30,
    "start_time": "2023-05-09T18:38:28.538Z"
   },
   {
    "duration": 30,
    "start_time": "2023-05-09T18:49:03.899Z"
   },
   {
    "duration": 30,
    "start_time": "2023-05-09T18:49:20.812Z"
   },
   {
    "duration": 75,
    "start_time": "2023-05-10T05:43:07.674Z"
   },
   {
    "duration": 483,
    "start_time": "2023-05-10T05:43:13.157Z"
   },
   {
    "duration": 2717,
    "start_time": "2023-05-10T05:43:13.642Z"
   },
   {
    "duration": 4,
    "start_time": "2023-05-10T05:43:16.363Z"
   },
   {
    "duration": 71,
    "start_time": "2023-05-10T05:43:17.125Z"
   },
   {
    "duration": 42,
    "start_time": "2023-05-10T05:44:23.155Z"
   },
   {
    "duration": 13,
    "start_time": "2023-05-10T05:45:17.607Z"
   },
   {
    "duration": 27,
    "start_time": "2023-05-10T05:45:26.867Z"
   },
   {
    "duration": 14,
    "start_time": "2023-05-10T05:45:36.068Z"
   },
   {
    "duration": 36,
    "start_time": "2023-05-10T05:45:43.340Z"
   },
   {
    "duration": 6,
    "start_time": "2023-05-10T05:45:46.179Z"
   },
   {
    "duration": 24,
    "start_time": "2023-05-10T05:46:00.215Z"
   },
   {
    "duration": 7,
    "start_time": "2023-05-10T05:52:31.171Z"
   },
   {
    "duration": 7,
    "start_time": "2023-05-10T05:52:41.721Z"
   },
   {
    "duration": 6,
    "start_time": "2023-05-10T05:52:49.066Z"
   },
   {
    "duration": 6,
    "start_time": "2023-05-10T05:52:57.222Z"
   },
   {
    "duration": 41,
    "start_time": "2023-05-10T05:53:49.078Z"
   },
   {
    "duration": 33,
    "start_time": "2023-05-10T05:53:56.386Z"
   },
   {
    "duration": 31,
    "start_time": "2023-05-10T05:54:13.756Z"
   },
   {
    "duration": 2,
    "start_time": "2023-05-10T05:54:58.573Z"
   },
   {
    "duration": 710,
    "start_time": "2023-05-10T05:54:58.971Z"
   },
   {
    "duration": 4,
    "start_time": "2023-05-10T05:55:00.414Z"
   },
   {
    "duration": 38,
    "start_time": "2023-05-10T05:55:01.644Z"
   },
   {
    "duration": 41,
    "start_time": "2023-05-10T05:55:30.814Z"
   },
   {
    "duration": 45,
    "start_time": "2023-05-10T05:55:38.609Z"
   },
   {
    "duration": 30,
    "start_time": "2023-05-10T05:56:04.751Z"
   },
   {
    "duration": 8,
    "start_time": "2023-05-10T06:01:42.826Z"
   },
   {
    "duration": 14,
    "start_time": "2023-05-10T06:02:01.486Z"
   },
   {
    "duration": 87,
    "start_time": "2023-05-10T06:02:13.677Z"
   },
   {
    "duration": 10,
    "start_time": "2023-05-10T06:28:34.179Z"
   },
   {
    "duration": 41,
    "start_time": "2023-05-10T06:29:07.709Z"
   },
   {
    "duration": 8,
    "start_time": "2023-05-10T06:30:03.258Z"
   },
   {
    "duration": 17,
    "start_time": "2023-05-10T06:30:04.478Z"
   },
   {
    "duration": 10,
    "start_time": "2023-05-10T06:30:46.053Z"
   },
   {
    "duration": 85,
    "start_time": "2023-05-10T06:30:49.142Z"
   },
   {
    "duration": 11,
    "start_time": "2023-05-10T06:32:11.648Z"
   },
   {
    "duration": 26,
    "start_time": "2023-05-10T06:32:12.884Z"
   },
   {
    "duration": 12,
    "start_time": "2023-05-10T06:32:41.862Z"
   },
   {
    "duration": 24,
    "start_time": "2023-05-10T06:32:42.566Z"
   },
   {
    "duration": 10,
    "start_time": "2023-05-10T06:35:06.742Z"
   },
   {
    "duration": 27,
    "start_time": "2023-05-10T06:35:08.720Z"
   },
   {
    "duration": 9,
    "start_time": "2023-05-10T06:35:54.812Z"
   },
   {
    "duration": 23,
    "start_time": "2023-05-10T06:35:57.710Z"
   },
   {
    "duration": 9,
    "start_time": "2023-05-10T06:36:35.588Z"
   },
   {
    "duration": 23,
    "start_time": "2023-05-10T06:36:36.785Z"
   },
   {
    "duration": 8,
    "start_time": "2023-05-10T06:37:32.109Z"
   },
   {
    "duration": 22,
    "start_time": "2023-05-10T06:37:34.148Z"
   },
   {
    "duration": 11,
    "start_time": "2023-05-10T06:38:23.562Z"
   },
   {
    "duration": 14,
    "start_time": "2023-05-10T06:38:24.266Z"
   },
   {
    "duration": 827,
    "start_time": "2023-05-10T06:40:23.551Z"
   },
   {
    "duration": 20,
    "start_time": "2023-05-10T06:40:39.181Z"
   },
   {
    "duration": 9,
    "start_time": "2023-05-10T06:43:22.725Z"
   },
   {
    "duration": 13,
    "start_time": "2023-05-10T06:43:36.860Z"
   },
   {
    "duration": 13,
    "start_time": "2023-05-10T06:43:47.607Z"
   },
   {
    "duration": 8,
    "start_time": "2023-05-10T06:47:39.951Z"
   },
   {
    "duration": 21,
    "start_time": "2023-05-10T06:47:41.126Z"
   },
   {
    "duration": 9,
    "start_time": "2023-05-10T06:47:55.169Z"
   },
   {
    "duration": 10,
    "start_time": "2023-05-10T06:48:33.125Z"
   },
   {
    "duration": 12,
    "start_time": "2023-05-10T06:48:39.591Z"
   },
   {
    "duration": 10,
    "start_time": "2023-05-10T06:49:21.111Z"
   },
   {
    "duration": 17,
    "start_time": "2023-05-10T06:49:30.267Z"
   },
   {
    "duration": 10,
    "start_time": "2023-05-10T06:50:40.881Z"
   },
   {
    "duration": 22,
    "start_time": "2023-05-10T06:50:54.456Z"
   },
   {
    "duration": 35,
    "start_time": "2023-05-10T06:51:10.854Z"
   },
   {
    "duration": 32,
    "start_time": "2023-05-10T06:51:20.782Z"
   },
   {
    "duration": 38,
    "start_time": "2023-05-10T06:51:28.782Z"
   },
   {
    "duration": 34,
    "start_time": "2023-05-10T06:51:34.452Z"
   },
   {
    "duration": 15,
    "start_time": "2023-05-10T06:52:12.753Z"
   },
   {
    "duration": 14,
    "start_time": "2023-05-10T06:52:27.877Z"
   },
   {
    "duration": 6,
    "start_time": "2023-05-10T06:52:44.509Z"
   },
   {
    "duration": 820,
    "start_time": "2023-05-10T06:52:44.948Z"
   },
   {
    "duration": 16,
    "start_time": "2023-05-10T06:52:45.770Z"
   },
   {
    "duration": 15,
    "start_time": "2023-05-10T06:52:46.854Z"
   },
   {
    "duration": 19,
    "start_time": "2023-05-10T06:53:09.841Z"
   },
   {
    "duration": 9,
    "start_time": "2023-05-10T06:54:03.176Z"
   },
   {
    "duration": 34,
    "start_time": "2023-05-10T06:54:43.061Z"
   },
   {
    "duration": 11,
    "start_time": "2023-05-10T08:06:59.238Z"
   },
   {
    "duration": 141,
    "start_time": "2023-05-10T08:07:56.107Z"
   },
   {
    "duration": 10,
    "start_time": "2023-05-10T08:08:09.424Z"
   },
   {
    "duration": 1267,
    "start_time": "2023-05-10T08:08:35.777Z"
   },
   {
    "duration": 863,
    "start_time": "2023-05-10T08:08:37.047Z"
   },
   {
    "duration": 22,
    "start_time": "2023-05-10T08:08:37.911Z"
   },
   {
    "duration": 24,
    "start_time": "2023-05-10T08:08:37.935Z"
   },
   {
    "duration": 30,
    "start_time": "2023-05-10T08:08:37.961Z"
   },
   {
    "duration": 57,
    "start_time": "2023-05-10T08:08:38.956Z"
   },
   {
    "duration": 10,
    "start_time": "2023-05-10T08:08:41.770Z"
   },
   {
    "duration": 6,
    "start_time": "2023-05-10T08:09:13.704Z"
   },
   {
    "duration": 8,
    "start_time": "2023-05-10T08:09:28.204Z"
   },
   {
    "duration": 9,
    "start_time": "2023-05-10T08:09:56.581Z"
   },
   {
    "duration": 9,
    "start_time": "2023-05-10T08:10:11.333Z"
   },
   {
    "duration": 9,
    "start_time": "2023-05-10T08:10:47.546Z"
   },
   {
    "duration": 8,
    "start_time": "2023-05-10T08:11:15.251Z"
   },
   {
    "duration": 9,
    "start_time": "2023-05-10T08:13:52.847Z"
   },
   {
    "duration": 16,
    "start_time": "2023-05-10T08:14:11.160Z"
   },
   {
    "duration": 14,
    "start_time": "2023-05-10T08:14:39.497Z"
   },
   {
    "duration": 10,
    "start_time": "2023-05-10T08:15:35.578Z"
   },
   {
    "duration": 18,
    "start_time": "2023-05-10T08:15:56.432Z"
   },
   {
    "duration": 91,
    "start_time": "2023-05-10T08:30:40.891Z"
   },
   {
    "duration": 9,
    "start_time": "2023-05-10T08:30:47.411Z"
   },
   {
    "duration": 4,
    "start_time": "2023-05-10T08:32:24.614Z"
   },
   {
    "duration": 9,
    "start_time": "2023-05-10T08:35:45.016Z"
   },
   {
    "duration": 11,
    "start_time": "2023-05-10T08:46:21.923Z"
   },
   {
    "duration": 19,
    "start_time": "2023-05-10T08:47:15.266Z"
   },
   {
    "duration": 17,
    "start_time": "2023-05-10T08:47:39.818Z"
   },
   {
    "duration": 7,
    "start_time": "2023-05-10T08:51:43.697Z"
   },
   {
    "duration": 10,
    "start_time": "2023-05-10T08:52:00.524Z"
   },
   {
    "duration": 7,
    "start_time": "2023-05-10T08:52:34.700Z"
   },
   {
    "duration": 9,
    "start_time": "2023-05-10T08:52:57.971Z"
   },
   {
    "duration": 9,
    "start_time": "2023-05-10T08:53:05.674Z"
   },
   {
    "duration": 8,
    "start_time": "2023-05-10T08:53:16.065Z"
   },
   {
    "duration": 14,
    "start_time": "2023-05-10T08:53:24.746Z"
   },
   {
    "duration": 10,
    "start_time": "2023-05-10T08:53:27.369Z"
   },
   {
    "duration": 6,
    "start_time": "2023-05-10T08:53:34.257Z"
   },
   {
    "duration": 8,
    "start_time": "2023-05-10T08:53:46.244Z"
   },
   {
    "duration": 13,
    "start_time": "2023-05-10T08:57:10.029Z"
   },
   {
    "duration": 21,
    "start_time": "2023-05-10T08:57:13.371Z"
   },
   {
    "duration": 11,
    "start_time": "2023-05-10T09:21:01.218Z"
   },
   {
    "duration": 6,
    "start_time": "2023-05-10T09:21:13.051Z"
   },
   {
    "duration": 17,
    "start_time": "2023-05-10T09:47:37.180Z"
   },
   {
    "duration": 1622,
    "start_time": "2023-05-10T09:47:46.666Z"
   },
   {
    "duration": 888,
    "start_time": "2023-05-10T09:47:48.290Z"
   },
   {
    "duration": 24,
    "start_time": "2023-05-10T09:47:49.180Z"
   },
   {
    "duration": 34,
    "start_time": "2023-05-10T09:47:49.207Z"
   },
   {
    "duration": 19,
    "start_time": "2023-05-10T09:47:49.242Z"
   },
   {
    "duration": 2139,
    "start_time": "2023-05-10T09:47:49.262Z"
   },
   {
    "duration": 0,
    "start_time": "2023-05-10T09:47:51.402Z"
   },
   {
    "duration": 0,
    "start_time": "2023-05-10T09:47:51.403Z"
   },
   {
    "duration": 0,
    "start_time": "2023-05-10T09:47:51.405Z"
   },
   {
    "duration": 2557,
    "start_time": "2023-05-10T09:48:15.475Z"
   },
   {
    "duration": 10,
    "start_time": "2023-05-10T09:48:43.384Z"
   },
   {
    "duration": 1671,
    "start_time": "2023-05-10T09:48:47.861Z"
   },
   {
    "duration": 963,
    "start_time": "2023-05-10T09:48:49.535Z"
   },
   {
    "duration": 34,
    "start_time": "2023-05-10T09:48:50.500Z"
   },
   {
    "duration": 17,
    "start_time": "2023-05-10T09:48:50.536Z"
   },
   {
    "duration": 29,
    "start_time": "2023-05-10T09:48:50.556Z"
   },
   {
    "duration": 14,
    "start_time": "2023-05-10T09:48:50.588Z"
   },
   {
    "duration": 55,
    "start_time": "2023-05-10T09:48:50.604Z"
   },
   {
    "duration": 24,
    "start_time": "2023-05-10T09:48:50.661Z"
   },
   {
    "duration": 135,
    "start_time": "2023-05-10T09:48:50.687Z"
   },
   {
    "duration": 185,
    "start_time": "2023-05-10T10:05:51.511Z"
   },
   {
    "duration": 19,
    "start_time": "2023-05-10T10:06:26.883Z"
   },
   {
    "duration": 13,
    "start_time": "2023-05-10T10:08:09.043Z"
   },
   {
    "duration": 1590,
    "start_time": "2023-05-10T10:08:25.883Z"
   },
   {
    "duration": 19,
    "start_time": "2023-05-10T10:09:49.372Z"
   },
   {
    "duration": 18,
    "start_time": "2023-05-10T10:10:14.241Z"
   },
   {
    "duration": 211,
    "start_time": "2023-05-10T10:11:15.542Z"
   },
   {
    "duration": 29,
    "start_time": "2023-05-10T10:13:21.942Z"
   },
   {
    "duration": 163,
    "start_time": "2023-05-10T10:14:32.883Z"
   },
   {
    "duration": 200,
    "start_time": "2023-05-10T10:15:24.943Z"
   },
   {
    "duration": 11,
    "start_time": "2023-05-10T10:31:03.041Z"
   },
   {
    "duration": 42,
    "start_time": "2023-05-10T10:32:16.041Z"
   },
   {
    "duration": 95,
    "start_time": "2023-05-10T10:32:54.946Z"
   },
   {
    "duration": 10,
    "start_time": "2023-05-10T10:35:03.934Z"
   },
   {
    "duration": 13,
    "start_time": "2023-05-10T10:35:11.097Z"
   },
   {
    "duration": 11,
    "start_time": "2023-05-10T10:35:23.269Z"
   },
   {
    "duration": 15,
    "start_time": "2023-05-10T10:36:52.830Z"
   },
   {
    "duration": 148,
    "start_time": "2023-05-10T10:37:12.290Z"
   },
   {
    "duration": 167,
    "start_time": "2023-05-10T10:37:44.773Z"
   },
   {
    "duration": 145,
    "start_time": "2023-05-10T10:38:59.641Z"
   },
   {
    "duration": 134,
    "start_time": "2023-05-10T10:41:56.726Z"
   },
   {
    "duration": 1362,
    "start_time": "2023-05-10T10:42:20.295Z"
   },
   {
    "duration": 1265,
    "start_time": "2023-05-10T10:42:40.550Z"
   },
   {
    "duration": 1475,
    "start_time": "2023-05-10T10:42:48.634Z"
   },
   {
    "duration": 1452,
    "start_time": "2023-05-10T10:42:58.273Z"
   },
   {
    "duration": 1411,
    "start_time": "2023-05-10T10:45:04.858Z"
   },
   {
    "duration": 1695,
    "start_time": "2023-05-10T10:46:06.587Z"
   },
   {
    "duration": 1400,
    "start_time": "2023-05-10T10:46:29.039Z"
   },
   {
    "duration": 264,
    "start_time": "2023-05-10T10:47:44.785Z"
   },
   {
    "duration": 251,
    "start_time": "2023-05-10T10:47:57.283Z"
   },
   {
    "duration": 1560,
    "start_time": "2023-05-10T10:48:09.056Z"
   },
   {
    "duration": 265,
    "start_time": "2023-05-10T10:48:37.954Z"
   },
   {
    "duration": 1575,
    "start_time": "2023-05-10T10:49:13.044Z"
   },
   {
    "duration": 1017,
    "start_time": "2023-05-10T10:49:14.622Z"
   },
   {
    "duration": 28,
    "start_time": "2023-05-10T10:49:15.642Z"
   },
   {
    "duration": 61,
    "start_time": "2023-05-10T10:49:15.673Z"
   },
   {
    "duration": 20,
    "start_time": "2023-05-10T10:49:15.737Z"
   },
   {
    "duration": 9,
    "start_time": "2023-05-10T10:49:15.759Z"
   },
   {
    "duration": 7,
    "start_time": "2023-05-10T10:49:15.770Z"
   },
   {
    "duration": 60,
    "start_time": "2023-05-10T10:49:15.779Z"
   },
   {
    "duration": 522,
    "start_time": "2023-05-10T10:49:15.841Z"
   },
   {
    "duration": 2212,
    "start_time": "2023-05-10T10:49:16.365Z"
   },
   {
    "duration": 1324,
    "start_time": "2023-05-10T10:49:18.578Z"
   },
   {
    "duration": 1498,
    "start_time": "2023-05-10T10:49:19.904Z"
   },
   {
    "duration": 182,
    "start_time": "2023-05-10T10:50:00.913Z"
   },
   {
    "duration": 175,
    "start_time": "2023-05-10T10:50:11.802Z"
   },
   {
    "duration": 421,
    "start_time": "2023-05-10T11:06:07.983Z"
   },
   {
    "duration": 1412,
    "start_time": "2023-05-10T11:06:42.028Z"
   },
   {
    "duration": 1400,
    "start_time": "2023-05-10T11:06:58.174Z"
   },
   {
    "duration": 1685,
    "start_time": "2023-05-10T11:07:06.214Z"
   },
   {
    "duration": 904,
    "start_time": "2023-05-10T11:07:07.901Z"
   },
   {
    "duration": 21,
    "start_time": "2023-05-10T11:07:08.806Z"
   },
   {
    "duration": 14,
    "start_time": "2023-05-10T11:07:08.833Z"
   },
   {
    "duration": 51,
    "start_time": "2023-05-10T11:07:08.851Z"
   },
   {
    "duration": 10,
    "start_time": "2023-05-10T11:07:08.904Z"
   },
   {
    "duration": 26,
    "start_time": "2023-05-10T11:07:08.916Z"
   },
   {
    "duration": 26,
    "start_time": "2023-05-10T11:07:08.944Z"
   },
   {
    "duration": 198,
    "start_time": "2023-05-10T11:07:08.972Z"
   },
   {
    "duration": 1460,
    "start_time": "2023-05-10T11:07:09.172Z"
   },
   {
    "duration": 1405,
    "start_time": "2023-05-10T11:07:10.634Z"
   },
   {
    "duration": 1454,
    "start_time": "2023-05-10T11:07:12.041Z"
   },
   {
    "duration": 457,
    "start_time": "2023-05-10T11:07:13.497Z"
   },
   {
    "duration": 1082,
    "start_time": "2023-05-10T11:07:51.332Z"
   },
   {
    "duration": 954,
    "start_time": "2023-05-10T11:07:57.007Z"
   },
   {
    "duration": 1450,
    "start_time": "2023-05-10T11:08:07.405Z"
   },
   {
    "duration": 1795,
    "start_time": "2023-05-10T11:08:17.724Z"
   },
   {
    "duration": 1011,
    "start_time": "2023-05-10T11:08:19.521Z"
   },
   {
    "duration": 22,
    "start_time": "2023-05-10T11:08:20.534Z"
   },
   {
    "duration": 15,
    "start_time": "2023-05-10T11:08:20.558Z"
   },
   {
    "duration": 32,
    "start_time": "2023-05-10T11:08:20.575Z"
   },
   {
    "duration": 27,
    "start_time": "2023-05-10T11:08:20.609Z"
   },
   {
    "duration": 10,
    "start_time": "2023-05-10T11:08:20.638Z"
   },
   {
    "duration": 19,
    "start_time": "2023-05-10T11:08:20.650Z"
   },
   {
    "duration": 206,
    "start_time": "2023-05-10T11:08:20.670Z"
   },
   {
    "duration": 259,
    "start_time": "2023-05-10T11:08:20.878Z"
   },
   {
    "duration": 0,
    "start_time": "2023-05-10T11:08:21.139Z"
   },
   {
    "duration": 0,
    "start_time": "2023-05-10T11:08:21.141Z"
   },
   {
    "duration": 0,
    "start_time": "2023-05-10T11:08:21.142Z"
   },
   {
    "duration": 1401,
    "start_time": "2023-05-10T11:08:39.091Z"
   },
   {
    "duration": 1449,
    "start_time": "2023-05-10T11:09:59.529Z"
   },
   {
    "duration": 1420,
    "start_time": "2023-05-10T11:10:07.395Z"
   },
   {
    "duration": 1379,
    "start_time": "2023-05-10T11:10:12.220Z"
   },
   {
    "duration": 1478,
    "start_time": "2023-05-10T11:10:15.935Z"
   },
   {
    "duration": 610,
    "start_time": "2023-05-10T11:22:51.227Z"
   },
   {
    "duration": 476,
    "start_time": "2023-05-10T11:23:00.437Z"
   },
   {
    "duration": 443,
    "start_time": "2023-05-10T11:23:19.241Z"
   },
   {
    "duration": 170,
    "start_time": "2023-05-10T11:30:57.659Z"
   },
   {
    "duration": 601,
    "start_time": "2023-05-10T11:31:07.782Z"
   },
   {
    "duration": 428,
    "start_time": "2023-05-10T11:31:57.970Z"
   },
   {
    "duration": 136,
    "start_time": "2023-05-10T11:34:32.025Z"
   },
   {
    "duration": 129,
    "start_time": "2023-05-10T11:35:08.270Z"
   },
   {
    "duration": 144,
    "start_time": "2023-05-10T11:35:29.571Z"
   },
   {
    "duration": 136,
    "start_time": "2023-05-10T11:35:40.628Z"
   },
   {
    "duration": 437,
    "start_time": "2023-05-10T11:40:28.545Z"
   },
   {
    "duration": 560,
    "start_time": "2023-05-10T11:40:52.098Z"
   },
   {
    "duration": 442,
    "start_time": "2023-05-10T11:41:12.836Z"
   },
   {
    "duration": 425,
    "start_time": "2023-05-10T11:41:15.981Z"
   },
   {
    "duration": 3,
    "start_time": "2023-05-10T11:54:06.071Z"
   },
   {
    "duration": 22,
    "start_time": "2023-05-10T12:04:14.682Z"
   },
   {
    "duration": 22,
    "start_time": "2023-05-10T12:05:44.028Z"
   },
   {
    "duration": 194,
    "start_time": "2023-05-10T12:21:46.694Z"
   },
   {
    "duration": 4633,
    "start_time": "2023-05-10T12:22:11.479Z"
   },
   {
    "duration": 114,
    "start_time": "2023-05-10T12:22:41.780Z"
   },
   {
    "duration": 3040,
    "start_time": "2023-05-10T12:24:00.596Z"
   },
   {
    "duration": 3559,
    "start_time": "2023-05-10T12:25:20.732Z"
   },
   {
    "duration": 5610,
    "start_time": "2023-05-10T12:26:09.980Z"
   },
   {
    "duration": 2612,
    "start_time": "2023-05-10T12:26:33.343Z"
   },
   {
    "duration": 1460,
    "start_time": "2023-05-10T12:27:06.155Z"
   },
   {
    "duration": 113,
    "start_time": "2023-05-10T12:27:57.389Z"
   },
   {
    "duration": 4332,
    "start_time": "2023-05-10T12:28:22.279Z"
   },
   {
    "duration": 4131,
    "start_time": "2023-05-10T12:29:09.106Z"
   },
   {
    "duration": 1693,
    "start_time": "2023-05-10T12:29:39.630Z"
   },
   {
    "duration": 837,
    "start_time": "2023-05-10T12:29:41.325Z"
   },
   {
    "duration": 22,
    "start_time": "2023-05-10T12:29:42.163Z"
   },
   {
    "duration": 15,
    "start_time": "2023-05-10T12:29:42.186Z"
   },
   {
    "duration": 43,
    "start_time": "2023-05-10T12:29:42.203Z"
   },
   {
    "duration": 10,
    "start_time": "2023-05-10T12:29:42.248Z"
   },
   {
    "duration": 10,
    "start_time": "2023-05-10T12:29:42.259Z"
   },
   {
    "duration": 20,
    "start_time": "2023-05-10T12:29:42.270Z"
   },
   {
    "duration": 208,
    "start_time": "2023-05-10T12:29:42.292Z"
   },
   {
    "duration": 1410,
    "start_time": "2023-05-10T12:29:42.502Z"
   },
   {
    "duration": 1461,
    "start_time": "2023-05-10T12:29:43.913Z"
   },
   {
    "duration": 1416,
    "start_time": "2023-05-10T12:29:45.376Z"
   },
   {
    "duration": 534,
    "start_time": "2023-05-10T12:29:46.793Z"
   },
   {
    "duration": 450,
    "start_time": "2023-05-10T12:29:47.330Z"
   },
   {
    "duration": 3291,
    "start_time": "2023-05-10T12:29:47.783Z"
   },
   {
    "duration": 2982,
    "start_time": "2023-05-10T12:30:34.215Z"
   },
   {
    "duration": 3006,
    "start_time": "2023-05-10T12:30:45.963Z"
   },
   {
    "duration": 2660,
    "start_time": "2023-05-10T12:31:37.834Z"
   },
   {
    "duration": 417,
    "start_time": "2023-05-10T12:32:33.896Z"
   },
   {
    "duration": 541,
    "start_time": "2023-05-10T12:32:52.199Z"
   },
   {
    "duration": 1303,
    "start_time": "2023-05-10T12:47:49.027Z"
   },
   {
    "duration": 1406,
    "start_time": "2023-05-10T12:49:32.127Z"
   },
   {
    "duration": 2188,
    "start_time": "2023-05-11T05:36:26.241Z"
   },
   {
    "duration": 6482,
    "start_time": "2023-05-11T05:36:28.432Z"
   },
   {
    "duration": 35,
    "start_time": "2023-05-11T05:36:34.917Z"
   },
   {
    "duration": 19,
    "start_time": "2023-05-11T05:36:34.954Z"
   },
   {
    "duration": 28,
    "start_time": "2023-05-11T05:36:34.986Z"
   },
   {
    "duration": 15,
    "start_time": "2023-05-11T05:36:35.016Z"
   },
   {
    "duration": 5,
    "start_time": "2023-05-11T05:36:35.033Z"
   },
   {
    "duration": 9,
    "start_time": "2023-05-11T05:36:35.040Z"
   },
   {
    "duration": 302,
    "start_time": "2023-05-11T05:36:35.051Z"
   },
   {
    "duration": 1971,
    "start_time": "2023-05-11T05:36:35.356Z"
   },
   {
    "duration": 1844,
    "start_time": "2023-05-11T05:36:37.337Z"
   },
   {
    "duration": 154,
    "start_time": "2023-05-11T05:36:39.195Z"
   },
   {
    "duration": 0,
    "start_time": "2023-05-11T05:36:39.351Z"
   },
   {
    "duration": 0,
    "start_time": "2023-05-11T05:36:39.352Z"
   },
   {
    "duration": 0,
    "start_time": "2023-05-11T05:36:39.354Z"
   },
   {
    "duration": 0,
    "start_time": "2023-05-11T05:36:39.355Z"
   },
   {
    "duration": 1534,
    "start_time": "2023-05-11T05:37:40.269Z"
   },
   {
    "duration": 488,
    "start_time": "2023-05-11T05:37:46.959Z"
   },
   {
    "duration": 547,
    "start_time": "2023-05-11T05:37:50.364Z"
   },
   {
    "duration": 1610,
    "start_time": "2023-05-11T05:37:55.519Z"
   },
   {
    "duration": 349,
    "start_time": "2023-05-11T05:38:50.269Z"
   },
   {
    "duration": 154,
    "start_time": "2023-05-11T05:39:14.513Z"
   },
   {
    "duration": 215,
    "start_time": "2023-05-11T05:39:44.159Z"
   },
   {
    "duration": 1434,
    "start_time": "2023-05-11T05:55:52.537Z"
   },
   {
    "duration": 1890,
    "start_time": "2023-05-11T05:56:36.656Z"
   },
   {
    "duration": 1572,
    "start_time": "2023-05-11T05:57:20.609Z"
   },
   {
    "duration": 167,
    "start_time": "2023-05-11T05:59:02.682Z"
   },
   {
    "duration": 1607,
    "start_time": "2023-05-11T05:59:36.542Z"
   },
   {
    "duration": 161,
    "start_time": "2023-05-11T05:59:39.705Z"
   },
   {
    "duration": 18,
    "start_time": "2023-05-11T05:59:52.151Z"
   },
   {
    "duration": 34,
    "start_time": "2023-05-11T06:00:12.211Z"
   },
   {
    "duration": 16,
    "start_time": "2023-05-11T06:00:16.348Z"
   },
   {
    "duration": 297,
    "start_time": "2023-05-11T06:00:25.646Z"
   },
   {
    "duration": 1726,
    "start_time": "2023-05-11T06:00:38.012Z"
   },
   {
    "duration": 279,
    "start_time": "2023-05-11T06:01:25.475Z"
   },
   {
    "duration": 283,
    "start_time": "2023-05-11T06:01:34.814Z"
   },
   {
    "duration": 1392,
    "start_time": "2023-05-11T06:03:58.341Z"
   },
   {
    "duration": 2137,
    "start_time": "2023-05-11T06:04:52.647Z"
   },
   {
    "duration": 2695,
    "start_time": "2023-05-11T06:05:49.375Z"
   },
   {
    "duration": 1342,
    "start_time": "2023-05-11T06:06:22.435Z"
   },
   {
    "duration": 1421,
    "start_time": "2023-05-11T06:06:36.265Z"
   },
   {
    "duration": 1185,
    "start_time": "2023-05-11T06:07:02.414Z"
   },
   {
    "duration": 1320,
    "start_time": "2023-05-11T06:07:12.023Z"
   },
   {
    "duration": 855,
    "start_time": "2023-05-11T06:07:22.626Z"
   },
   {
    "duration": 1237,
    "start_time": "2023-05-11T06:07:41.921Z"
   },
   {
    "duration": 1263,
    "start_time": "2023-05-11T06:07:50.312Z"
   },
   {
    "duration": 1282,
    "start_time": "2023-05-11T06:07:55.113Z"
   },
   {
    "duration": 1357,
    "start_time": "2023-05-11T06:08:00.313Z"
   },
   {
    "duration": 1348,
    "start_time": "2023-05-11T06:08:04.676Z"
   },
   {
    "duration": 1320,
    "start_time": "2023-05-11T06:09:57.213Z"
   },
   {
    "duration": 13,
    "start_time": "2023-05-11T06:11:36.412Z"
   },
   {
    "duration": 2258,
    "start_time": "2023-05-11T06:14:17.433Z"
   },
   {
    "duration": 517,
    "start_time": "2023-05-11T06:14:37.085Z"
   },
   {
    "duration": 1347,
    "start_time": "2023-05-11T06:15:02.029Z"
   },
   {
    "duration": 1253,
    "start_time": "2023-05-11T06:15:29.727Z"
   },
   {
    "duration": 50,
    "start_time": "2023-05-11T06:15:48.303Z"
   },
   {
    "duration": 1212,
    "start_time": "2023-05-11T06:16:38.228Z"
   },
   {
    "duration": 1332,
    "start_time": "2023-05-11T06:17:58.314Z"
   },
   {
    "duration": 385,
    "start_time": "2023-05-11T06:19:01.837Z"
   },
   {
    "duration": 1243,
    "start_time": "2023-05-11T06:19:12.489Z"
   },
   {
    "duration": 1450,
    "start_time": "2023-05-11T06:20:01.833Z"
   },
   {
    "duration": 17,
    "start_time": "2023-05-11T06:20:41.112Z"
   },
   {
    "duration": 10,
    "start_time": "2023-05-11T06:20:51.340Z"
   },
   {
    "duration": 10,
    "start_time": "2023-05-11T06:20:59.632Z"
   },
   {
    "duration": 16,
    "start_time": "2023-05-11T06:21:04.978Z"
   },
   {
    "duration": 9,
    "start_time": "2023-05-11T06:21:37.816Z"
   },
   {
    "duration": 1139,
    "start_time": "2023-05-11T06:23:11.025Z"
   },
   {
    "duration": 1091,
    "start_time": "2023-05-11T06:23:17.678Z"
   },
   {
    "duration": 1204,
    "start_time": "2023-05-11T06:23:23.938Z"
   },
   {
    "duration": 81,
    "start_time": "2023-05-11T06:23:38.734Z"
   },
   {
    "duration": 815,
    "start_time": "2023-05-11T06:23:44.522Z"
   },
   {
    "duration": 747,
    "start_time": "2023-05-11T06:23:53.053Z"
   },
   {
    "duration": 1145,
    "start_time": "2023-05-11T06:23:58.754Z"
   },
   {
    "duration": 24,
    "start_time": "2023-05-11T06:24:24.225Z"
   },
   {
    "duration": 1232,
    "start_time": "2023-05-11T06:24:33.617Z"
   },
   {
    "duration": 14,
    "start_time": "2023-05-11T06:31:29.023Z"
   },
   {
    "duration": 10,
    "start_time": "2023-05-11T06:31:38.467Z"
   },
   {
    "duration": 19,
    "start_time": "2023-05-11T06:31:43.512Z"
   },
   {
    "duration": 23,
    "start_time": "2023-05-11T06:31:50.417Z"
   },
   {
    "duration": 25,
    "start_time": "2023-05-11T06:31:56.983Z"
   },
   {
    "duration": 15,
    "start_time": "2023-05-11T06:32:07.348Z"
   },
   {
    "duration": 13,
    "start_time": "2023-05-11T06:32:13.771Z"
   },
   {
    "duration": 16,
    "start_time": "2023-05-11T06:32:27.216Z"
   },
   {
    "duration": 16,
    "start_time": "2023-05-11T06:32:40.313Z"
   },
   {
    "duration": 26,
    "start_time": "2023-05-11T06:33:12.696Z"
   },
   {
    "duration": 20,
    "start_time": "2023-05-11T06:33:20.180Z"
   },
   {
    "duration": 17,
    "start_time": "2023-05-11T06:33:33.277Z"
   },
   {
    "duration": 77,
    "start_time": "2023-05-11T06:35:22.028Z"
   },
   {
    "duration": 89,
    "start_time": "2023-05-11T06:35:32.684Z"
   },
   {
    "duration": 52,
    "start_time": "2023-05-11T06:35:59.050Z"
   },
   {
    "duration": 35,
    "start_time": "2023-05-11T06:36:01.033Z"
   },
   {
    "duration": 23,
    "start_time": "2023-05-11T06:40:01.119Z"
   },
   {
    "duration": 11,
    "start_time": "2023-05-11T06:40:45.503Z"
   },
   {
    "duration": 8,
    "start_time": "2023-05-11T06:40:53.115Z"
   },
   {
    "duration": 24,
    "start_time": "2023-05-11T06:41:15.021Z"
   },
   {
    "duration": 102,
    "start_time": "2023-05-11T06:41:20.231Z"
   },
   {
    "duration": 72,
    "start_time": "2023-05-11T06:41:31.602Z"
   },
   {
    "duration": 8,
    "start_time": "2023-05-11T06:41:43.258Z"
   },
   {
    "duration": 9,
    "start_time": "2023-05-11T06:41:55.666Z"
   },
   {
    "duration": 2282,
    "start_time": "2023-05-11T06:42:21.752Z"
   },
   {
    "duration": 11,
    "start_time": "2023-05-11T06:42:46.759Z"
   },
   {
    "duration": 15,
    "start_time": "2023-05-11T06:43:11.262Z"
   },
   {
    "duration": 13,
    "start_time": "2023-05-11T06:43:22.061Z"
   },
   {
    "duration": 25,
    "start_time": "2023-05-11T06:43:27.523Z"
   },
   {
    "duration": 10,
    "start_time": "2023-05-11T06:44:07.966Z"
   },
   {
    "duration": 54,
    "start_time": "2023-05-11T06:46:20.868Z"
   },
   {
    "duration": 59,
    "start_time": "2023-05-11T06:46:56.958Z"
   },
   {
    "duration": 2345,
    "start_time": "2023-05-11T06:51:54.968Z"
   },
   {
    "duration": 1467,
    "start_time": "2023-05-11T06:51:57.325Z"
   },
   {
    "duration": 32,
    "start_time": "2023-05-11T06:51:58.800Z"
   },
   {
    "duration": 29,
    "start_time": "2023-05-11T06:51:58.839Z"
   },
   {
    "duration": 40,
    "start_time": "2023-05-11T06:51:58.871Z"
   },
   {
    "duration": 24,
    "start_time": "2023-05-11T06:51:58.924Z"
   },
   {
    "duration": 15,
    "start_time": "2023-05-11T06:51:58.954Z"
   },
   {
    "duration": 9,
    "start_time": "2023-05-11T06:51:58.970Z"
   },
   {
    "duration": 17,
    "start_time": "2023-05-11T06:51:58.980Z"
   },
   {
    "duration": 100,
    "start_time": "2023-05-11T06:51:59.003Z"
   },
   {
    "duration": 37,
    "start_time": "2023-05-11T06:51:59.106Z"
   },
   {
    "duration": 18,
    "start_time": "2023-05-11T06:51:59.151Z"
   },
   {
    "duration": 13,
    "start_time": "2023-05-11T06:51:59.171Z"
   },
   {
    "duration": 79,
    "start_time": "2023-05-11T06:51:59.188Z"
   },
   {
    "duration": 2580,
    "start_time": "2023-05-11T06:51:59.268Z"
   },
   {
    "duration": 0,
    "start_time": "2023-05-11T06:52:01.851Z"
   },
   {
    "duration": 0,
    "start_time": "2023-05-11T06:52:01.853Z"
   },
   {
    "duration": 0,
    "start_time": "2023-05-11T06:52:01.854Z"
   },
   {
    "duration": 0,
    "start_time": "2023-05-11T06:52:01.856Z"
   },
   {
    "duration": 0,
    "start_time": "2023-05-11T06:52:01.857Z"
   },
   {
    "duration": 0,
    "start_time": "2023-05-11T06:52:01.857Z"
   },
   {
    "duration": 0,
    "start_time": "2023-05-11T06:52:01.859Z"
   },
   {
    "duration": 0,
    "start_time": "2023-05-11T06:52:01.860Z"
   },
   {
    "duration": 0,
    "start_time": "2023-05-11T06:52:01.862Z"
   },
   {
    "duration": 0,
    "start_time": "2023-05-11T06:52:01.864Z"
   },
   {
    "duration": 0,
    "start_time": "2023-05-11T06:52:01.865Z"
   },
   {
    "duration": 0,
    "start_time": "2023-05-11T06:52:01.867Z"
   },
   {
    "duration": 0,
    "start_time": "2023-05-11T06:52:01.869Z"
   },
   {
    "duration": 2064,
    "start_time": "2023-05-11T06:52:35.758Z"
   },
   {
    "duration": 1244,
    "start_time": "2023-05-11T06:52:37.832Z"
   },
   {
    "duration": 54,
    "start_time": "2023-05-11T06:52:39.078Z"
   },
   {
    "duration": 32,
    "start_time": "2023-05-11T06:52:39.143Z"
   },
   {
    "duration": 39,
    "start_time": "2023-05-11T06:52:39.178Z"
   },
   {
    "duration": 24,
    "start_time": "2023-05-11T06:52:39.223Z"
   },
   {
    "duration": 23,
    "start_time": "2023-05-11T06:52:39.249Z"
   },
   {
    "duration": 37,
    "start_time": "2023-05-11T06:52:39.274Z"
   },
   {
    "duration": 14,
    "start_time": "2023-05-11T06:52:39.313Z"
   },
   {
    "duration": 136,
    "start_time": "2023-05-11T06:52:39.330Z"
   },
   {
    "duration": 13,
    "start_time": "2023-05-11T06:52:39.468Z"
   },
   {
    "duration": 16,
    "start_time": "2023-05-11T06:52:39.484Z"
   },
   {
    "duration": 19,
    "start_time": "2023-05-11T06:52:39.502Z"
   },
   {
    "duration": 70,
    "start_time": "2023-05-11T06:52:39.526Z"
   },
   {
    "duration": 2097,
    "start_time": "2023-05-11T06:52:39.600Z"
   },
   {
    "duration": 0,
    "start_time": "2023-05-11T06:52:41.699Z"
   },
   {
    "duration": 0,
    "start_time": "2023-05-11T06:52:41.704Z"
   },
   {
    "duration": 0,
    "start_time": "2023-05-11T06:52:41.705Z"
   },
   {
    "duration": 0,
    "start_time": "2023-05-11T06:52:41.706Z"
   },
   {
    "duration": 0,
    "start_time": "2023-05-11T06:52:41.707Z"
   },
   {
    "duration": 0,
    "start_time": "2023-05-11T06:52:41.708Z"
   },
   {
    "duration": 0,
    "start_time": "2023-05-11T06:52:41.709Z"
   },
   {
    "duration": 0,
    "start_time": "2023-05-11T06:52:41.710Z"
   },
   {
    "duration": 0,
    "start_time": "2023-05-11T06:52:41.710Z"
   },
   {
    "duration": 0,
    "start_time": "2023-05-11T06:52:41.712Z"
   },
   {
    "duration": 0,
    "start_time": "2023-05-11T06:52:41.713Z"
   },
   {
    "duration": 0,
    "start_time": "2023-05-11T06:52:41.714Z"
   },
   {
    "duration": 19,
    "start_time": "2023-05-11T06:55:55.449Z"
   },
   {
    "duration": 2111,
    "start_time": "2023-05-11T06:55:57.206Z"
   },
   {
    "duration": 2055,
    "start_time": "2023-05-11T06:56:35.721Z"
   },
   {
    "duration": 1191,
    "start_time": "2023-05-11T06:56:37.778Z"
   },
   {
    "duration": 26,
    "start_time": "2023-05-11T06:56:38.971Z"
   },
   {
    "duration": 17,
    "start_time": "2023-05-11T06:56:38.999Z"
   },
   {
    "duration": 30,
    "start_time": "2023-05-11T06:56:39.018Z"
   },
   {
    "duration": 17,
    "start_time": "2023-05-11T06:56:39.050Z"
   },
   {
    "duration": 13,
    "start_time": "2023-05-11T06:56:39.086Z"
   },
   {
    "duration": 25,
    "start_time": "2023-05-11T06:56:39.101Z"
   },
   {
    "duration": 10,
    "start_time": "2023-05-11T06:56:39.128Z"
   },
   {
    "duration": 13,
    "start_time": "2023-05-11T06:56:39.140Z"
   },
   {
    "duration": 111,
    "start_time": "2023-05-11T06:56:39.155Z"
   },
   {
    "duration": 13,
    "start_time": "2023-05-11T06:56:39.269Z"
   },
   {
    "duration": 25,
    "start_time": "2023-05-11T06:56:39.284Z"
   },
   {
    "duration": 26,
    "start_time": "2023-05-11T06:56:39.313Z"
   },
   {
    "duration": 86,
    "start_time": "2023-05-11T06:56:39.341Z"
   },
   {
    "duration": 17,
    "start_time": "2023-05-11T06:56:39.430Z"
   },
   {
    "duration": 288,
    "start_time": "2023-05-11T06:56:39.449Z"
   },
   {
    "duration": 1840,
    "start_time": "2023-05-11T06:56:39.751Z"
   },
   {
    "duration": 1981,
    "start_time": "2023-05-11T06:56:41.599Z"
   },
   {
    "duration": 2048,
    "start_time": "2023-05-11T06:56:43.582Z"
   },
   {
    "duration": 648,
    "start_time": "2023-05-11T06:56:45.632Z"
   },
   {
    "duration": 930,
    "start_time": "2023-05-11T06:56:46.284Z"
   },
   {
    "duration": 451,
    "start_time": "2023-05-11T06:56:47.217Z"
   },
   {
    "duration": 0,
    "start_time": "2023-05-11T06:56:47.670Z"
   },
   {
    "duration": 0,
    "start_time": "2023-05-11T06:56:47.671Z"
   },
   {
    "duration": 0,
    "start_time": "2023-05-11T06:56:47.673Z"
   },
   {
    "duration": 0,
    "start_time": "2023-05-11T06:56:47.674Z"
   },
   {
    "duration": 2308,
    "start_time": "2023-05-11T06:59:33.222Z"
   },
   {
    "duration": 1148,
    "start_time": "2023-05-11T06:59:35.534Z"
   },
   {
    "duration": 26,
    "start_time": "2023-05-11T06:59:36.684Z"
   },
   {
    "duration": 21,
    "start_time": "2023-05-11T06:59:36.713Z"
   },
   {
    "duration": 23,
    "start_time": "2023-05-11T06:59:36.743Z"
   },
   {
    "duration": 35,
    "start_time": "2023-05-11T06:59:36.769Z"
   },
   {
    "duration": 5,
    "start_time": "2023-05-11T06:59:36.813Z"
   },
   {
    "duration": 40,
    "start_time": "2023-05-11T06:59:36.820Z"
   },
   {
    "duration": 11,
    "start_time": "2023-05-11T06:59:36.862Z"
   },
   {
    "duration": 51,
    "start_time": "2023-05-11T06:59:36.875Z"
   },
   {
    "duration": 93,
    "start_time": "2023-05-11T06:59:36.932Z"
   },
   {
    "duration": 27,
    "start_time": "2023-05-11T06:59:37.030Z"
   },
   {
    "duration": 11,
    "start_time": "2023-05-11T06:59:37.059Z"
   },
   {
    "duration": 24,
    "start_time": "2023-05-11T06:59:37.073Z"
   },
   {
    "duration": 62,
    "start_time": "2023-05-11T06:59:37.099Z"
   },
   {
    "duration": 10,
    "start_time": "2023-05-11T06:59:37.163Z"
   },
   {
    "duration": 261,
    "start_time": "2023-05-11T06:59:37.175Z"
   },
   {
    "duration": 1769,
    "start_time": "2023-05-11T06:59:37.438Z"
   },
   {
    "duration": 1756,
    "start_time": "2023-05-11T06:59:39.213Z"
   },
   {
    "duration": 1744,
    "start_time": "2023-05-11T06:59:40.974Z"
   },
   {
    "duration": 542,
    "start_time": "2023-05-11T06:59:42.733Z"
   },
   {
    "duration": 566,
    "start_time": "2023-05-11T06:59:43.277Z"
   },
   {
    "duration": 1853,
    "start_time": "2023-05-11T06:59:43.845Z"
   },
   {
    "duration": 56,
    "start_time": "2023-05-11T06:59:45.706Z"
   },
   {
    "duration": 400,
    "start_time": "2023-05-11T06:59:45.764Z"
   },
   {
    "duration": 2327,
    "start_time": "2023-05-11T06:59:46.166Z"
   },
   {
    "duration": 0,
    "start_time": "2023-05-11T06:59:48.497Z"
   },
   {
    "duration": 2415,
    "start_time": "2023-05-11T10:18:49.490Z"
   },
   {
    "duration": 3225,
    "start_time": "2023-05-11T10:18:51.909Z"
   },
   {
    "duration": 24,
    "start_time": "2023-05-11T10:18:55.137Z"
   },
   {
    "duration": 53,
    "start_time": "2023-05-11T10:18:55.163Z"
   },
   {
    "duration": 22,
    "start_time": "2023-05-11T10:18:55.219Z"
   },
   {
    "duration": 16,
    "start_time": "2023-05-11T10:18:55.244Z"
   },
   {
    "duration": 37,
    "start_time": "2023-05-11T10:18:55.262Z"
   },
   {
    "duration": 41,
    "start_time": "2023-05-11T10:18:55.301Z"
   },
   {
    "duration": 16,
    "start_time": "2023-05-11T10:18:55.344Z"
   },
   {
    "duration": 12,
    "start_time": "2023-05-11T10:18:55.363Z"
   },
   {
    "duration": 101,
    "start_time": "2023-05-11T10:18:55.380Z"
   },
   {
    "duration": 23,
    "start_time": "2023-05-11T10:18:55.483Z"
   },
   {
    "duration": 25,
    "start_time": "2023-05-11T10:18:55.508Z"
   },
   {
    "duration": 14,
    "start_time": "2023-05-11T10:18:55.537Z"
   },
   {
    "duration": 64,
    "start_time": "2023-05-11T10:18:55.554Z"
   },
   {
    "duration": 7,
    "start_time": "2023-05-11T10:18:55.621Z"
   },
   {
    "duration": 267,
    "start_time": "2023-05-11T10:18:55.630Z"
   },
   {
    "duration": 1879,
    "start_time": "2023-05-11T10:18:55.902Z"
   },
   {
    "duration": 1661,
    "start_time": "2023-05-11T10:18:57.784Z"
   },
   {
    "duration": 1760,
    "start_time": "2023-05-11T10:18:59.447Z"
   },
   {
    "duration": 574,
    "start_time": "2023-05-11T10:19:01.211Z"
   },
   {
    "duration": 503,
    "start_time": "2023-05-11T10:19:01.796Z"
   },
   {
    "duration": 1839,
    "start_time": "2023-05-11T10:19:02.302Z"
   },
   {
    "duration": 41,
    "start_time": "2023-05-11T10:19:04.143Z"
   },
   {
    "duration": 501,
    "start_time": "2023-05-11T10:19:04.186Z"
   },
   {
    "duration": 4174,
    "start_time": "2023-05-11T10:19:04.692Z"
   },
   {
    "duration": 0,
    "start_time": "2023-05-11T10:19:08.868Z"
   },
   {
    "duration": 1522,
    "start_time": "2023-05-11T10:21:06.588Z"
   },
   {
    "duration": 1473,
    "start_time": "2023-05-11T10:21:24.344Z"
   },
   {
    "duration": 1420,
    "start_time": "2023-05-11T10:21:30.742Z"
   },
   {
    "duration": 1459,
    "start_time": "2023-05-11T10:21:51.676Z"
   },
   {
    "duration": 1510,
    "start_time": "2023-05-11T10:22:00.333Z"
   },
   {
    "duration": 1503,
    "start_time": "2023-05-11T10:22:09.606Z"
   },
   {
    "duration": 13,
    "start_time": "2023-05-11T10:25:31.423Z"
   },
   {
    "duration": 19,
    "start_time": "2023-05-11T10:25:55.740Z"
   },
   {
    "duration": 15,
    "start_time": "2023-05-11T10:30:31.116Z"
   },
   {
    "duration": 1725,
    "start_time": "2023-05-11T10:30:50.407Z"
   },
   {
    "duration": 1596,
    "start_time": "2023-05-11T10:31:39.594Z"
   },
   {
    "duration": 19,
    "start_time": "2023-05-11T11:46:05.488Z"
   },
   {
    "duration": 23,
    "start_time": "2023-05-11T11:46:05.964Z"
   },
   {
    "duration": 22,
    "start_time": "2023-05-11T11:46:07.459Z"
   },
   {
    "duration": 14,
    "start_time": "2023-05-11T12:01:25.652Z"
   },
   {
    "duration": 13,
    "start_time": "2023-05-11T12:11:58.667Z"
   },
   {
    "duration": 8,
    "start_time": "2023-05-11T12:13:26.323Z"
   },
   {
    "duration": 4,
    "start_time": "2023-05-11T12:13:48.804Z"
   },
   {
    "duration": 23,
    "start_time": "2023-05-11T12:14:27.871Z"
   },
   {
    "duration": 4,
    "start_time": "2023-05-11T12:22:23.327Z"
   },
   {
    "duration": 89,
    "start_time": "2023-05-11T18:26:00.076Z"
   },
   {
    "duration": 8,
    "start_time": "2023-05-11T18:26:40.188Z"
   },
   {
    "duration": 1909,
    "start_time": "2023-05-11T18:26:48.980Z"
   },
   {
    "duration": 3688,
    "start_time": "2023-05-11T18:26:50.891Z"
   },
   {
    "duration": 24,
    "start_time": "2023-05-11T18:26:54.587Z"
   },
   {
    "duration": 13,
    "start_time": "2023-05-11T18:26:54.613Z"
   },
   {
    "duration": 29,
    "start_time": "2023-05-11T18:26:54.629Z"
   },
   {
    "duration": 40,
    "start_time": "2023-05-11T18:26:54.662Z"
   },
   {
    "duration": 9,
    "start_time": "2023-05-11T18:26:54.704Z"
   },
   {
    "duration": 23,
    "start_time": "2023-05-11T18:26:54.715Z"
   },
   {
    "duration": 15,
    "start_time": "2023-05-11T18:26:54.740Z"
   },
   {
    "duration": 41,
    "start_time": "2023-05-11T18:26:54.758Z"
   },
   {
    "duration": 91,
    "start_time": "2023-05-11T18:26:54.801Z"
   },
   {
    "duration": 16,
    "start_time": "2023-05-11T18:26:54.898Z"
   },
   {
    "duration": 14,
    "start_time": "2023-05-11T18:26:54.916Z"
   },
   {
    "duration": 11,
    "start_time": "2023-05-11T18:26:54.933Z"
   },
   {
    "duration": 77,
    "start_time": "2023-05-11T18:26:54.951Z"
   },
   {
    "duration": 8,
    "start_time": "2023-05-11T18:26:55.030Z"
   },
   {
    "duration": 254,
    "start_time": "2023-05-11T18:26:55.039Z"
   },
   {
    "duration": 1649,
    "start_time": "2023-05-11T18:26:55.294Z"
   },
   {
    "duration": 1663,
    "start_time": "2023-05-11T18:26:56.961Z"
   },
   {
    "duration": 1558,
    "start_time": "2023-05-11T18:26:58.627Z"
   },
   {
    "duration": 550,
    "start_time": "2023-05-11T18:27:00.188Z"
   },
   {
    "duration": 554,
    "start_time": "2023-05-11T18:27:00.740Z"
   },
   {
    "duration": 1840,
    "start_time": "2023-05-11T18:27:01.296Z"
   },
   {
    "duration": 26,
    "start_time": "2023-05-11T18:27:03.138Z"
   },
   {
    "duration": 361,
    "start_time": "2023-05-11T18:27:03.165Z"
   },
   {
    "duration": 1377,
    "start_time": "2023-05-11T18:27:03.528Z"
   },
   {
    "duration": 8,
    "start_time": "2023-05-11T18:27:04.907Z"
   },
   {
    "duration": 1574,
    "start_time": "2023-05-11T18:27:04.916Z"
   },
   {
    "duration": 101,
    "start_time": "2023-05-11T18:27:06.499Z"
   },
   {
    "duration": 0,
    "start_time": "2023-05-11T18:27:06.602Z"
   },
   {
    "duration": 0,
    "start_time": "2023-05-11T18:27:06.603Z"
   },
   {
    "duration": 0,
    "start_time": "2023-05-11T18:27:06.605Z"
   },
   {
    "duration": 0,
    "start_time": "2023-05-11T18:27:06.606Z"
   },
   {
    "duration": 0,
    "start_time": "2023-05-11T18:27:06.607Z"
   },
   {
    "duration": 0,
    "start_time": "2023-05-11T18:27:06.608Z"
   },
   {
    "duration": 0,
    "start_time": "2023-05-11T18:27:06.609Z"
   },
   {
    "duration": 115,
    "start_time": "2023-05-11T18:34:49.719Z"
   },
   {
    "duration": 166,
    "start_time": "2023-05-11T18:34:55.714Z"
   },
   {
    "duration": 14,
    "start_time": "2023-05-11T18:35:07.969Z"
   },
   {
    "duration": 197,
    "start_time": "2023-05-11T18:35:16.073Z"
   },
   {
    "duration": 4,
    "start_time": "2023-05-11T18:35:25.529Z"
   },
   {
    "duration": 28,
    "start_time": "2023-05-11T18:35:29.191Z"
   },
   {
    "duration": 44,
    "start_time": "2023-05-11T18:35:30.449Z"
   },
   {
    "duration": 35,
    "start_time": "2023-05-11T18:35:31.769Z"
   },
   {
    "duration": 9,
    "start_time": "2023-05-11T18:36:17.575Z"
   },
   {
    "duration": 185,
    "start_time": "2023-05-11T18:36:20.080Z"
   },
   {
    "duration": 17,
    "start_time": "2023-05-11T18:36:40.197Z"
   },
   {
    "duration": 11,
    "start_time": "2023-05-11T18:36:42.893Z"
   },
   {
    "duration": 36,
    "start_time": "2023-05-11T18:36:56.575Z"
   },
   {
    "duration": 14,
    "start_time": "2023-05-11T18:37:23.922Z"
   },
   {
    "duration": 12,
    "start_time": "2023-05-11T18:37:40.199Z"
   },
   {
    "duration": 5,
    "start_time": "2023-05-11T18:37:54.517Z"
   },
   {
    "duration": 25,
    "start_time": "2023-05-11T18:38:10.992Z"
   },
   {
    "duration": 6,
    "start_time": "2023-05-11T18:38:24.004Z"
   },
   {
    "duration": 25,
    "start_time": "2023-05-11T18:38:26.578Z"
   },
   {
    "duration": 15,
    "start_time": "2023-05-11T19:12:31.345Z"
   },
   {
    "duration": 30,
    "start_time": "2023-05-11T19:12:32.770Z"
   },
   {
    "duration": 119,
    "start_time": "2023-05-11T19:13:12.199Z"
   },
   {
    "duration": 26,
    "start_time": "2023-05-11T19:36:53.222Z"
   },
   {
    "duration": 31,
    "start_time": "2023-05-11T19:40:48.369Z"
   },
   {
    "duration": 6,
    "start_time": "2023-05-11T19:40:51.439Z"
   },
   {
    "duration": 4,
    "start_time": "2023-05-11T19:40:52.772Z"
   },
   {
    "duration": 6,
    "start_time": "2023-05-11T19:52:13.935Z"
   },
   {
    "duration": 10,
    "start_time": "2023-05-11T19:52:15.970Z"
   },
   {
    "duration": 7,
    "start_time": "2023-05-11T19:52:45.791Z"
   },
   {
    "duration": 27,
    "start_time": "2023-05-11T20:09:44.945Z"
   },
   {
    "duration": 12,
    "start_time": "2023-05-11T20:09:57.990Z"
   },
   {
    "duration": 19,
    "start_time": "2023-05-11T20:10:57.102Z"
   },
   {
    "duration": 6,
    "start_time": "2023-05-11T20:11:34.988Z"
   },
   {
    "duration": 13,
    "start_time": "2023-05-11T20:11:44.188Z"
   },
   {
    "duration": 10,
    "start_time": "2023-05-11T20:11:50.995Z"
   },
   {
    "duration": 8,
    "start_time": "2023-05-11T20:11:53.587Z"
   },
   {
    "duration": 17,
    "start_time": "2023-05-11T20:11:54.711Z"
   },
   {
    "duration": 5,
    "start_time": "2023-05-11T20:13:03.546Z"
   },
   {
    "duration": 7,
    "start_time": "2023-05-11T20:13:04.866Z"
   },
   {
    "duration": 5,
    "start_time": "2023-05-11T20:13:05.895Z"
   },
   {
    "duration": 43,
    "start_time": "2023-05-11T20:13:07.731Z"
   },
   {
    "duration": 60,
    "start_time": "2023-05-11T20:16:24.227Z"
   },
   {
    "duration": 43,
    "start_time": "2023-05-12T04:36:19.162Z"
   },
   {
    "duration": 1468,
    "start_time": "2023-05-12T04:36:24.111Z"
   },
   {
    "duration": 2826,
    "start_time": "2023-05-12T04:36:25.581Z"
   },
   {
    "duration": 19,
    "start_time": "2023-05-12T04:36:28.409Z"
   },
   {
    "duration": 14,
    "start_time": "2023-05-12T04:36:28.430Z"
   },
   {
    "duration": 23,
    "start_time": "2023-05-12T04:36:28.446Z"
   },
   {
    "duration": 9,
    "start_time": "2023-05-12T04:36:28.471Z"
   },
   {
    "duration": 16,
    "start_time": "2023-05-12T04:36:28.481Z"
   },
   {
    "duration": 24,
    "start_time": "2023-05-12T04:36:28.499Z"
   },
   {
    "duration": 30,
    "start_time": "2023-05-12T04:36:28.525Z"
   },
   {
    "duration": 6,
    "start_time": "2023-05-12T04:36:28.556Z"
   },
   {
    "duration": 53,
    "start_time": "2023-05-12T04:36:28.563Z"
   },
   {
    "duration": 40,
    "start_time": "2023-05-12T04:36:28.618Z"
   },
   {
    "duration": 8,
    "start_time": "2023-05-12T04:36:28.660Z"
   },
   {
    "duration": 11,
    "start_time": "2023-05-12T04:36:28.670Z"
   },
   {
    "duration": 38,
    "start_time": "2023-05-12T04:36:28.682Z"
   },
   {
    "duration": 33,
    "start_time": "2023-05-12T04:36:28.722Z"
   },
   {
    "duration": 178,
    "start_time": "2023-05-12T04:36:28.757Z"
   },
   {
    "duration": 1161,
    "start_time": "2023-05-12T04:36:28.936Z"
   },
   {
    "duration": 1135,
    "start_time": "2023-05-12T04:36:30.099Z"
   },
   {
    "duration": 1167,
    "start_time": "2023-05-12T04:36:31.236Z"
   },
   {
    "duration": 398,
    "start_time": "2023-05-12T04:36:32.405Z"
   },
   {
    "duration": 370,
    "start_time": "2023-05-12T04:36:32.805Z"
   },
   {
    "duration": 1202,
    "start_time": "2023-05-12T04:36:33.177Z"
   },
   {
    "duration": 214,
    "start_time": "2023-05-12T04:36:34.381Z"
   },
   {
    "duration": 1047,
    "start_time": "2023-05-12T04:36:34.596Z"
   },
   {
    "duration": 9,
    "start_time": "2023-05-12T04:36:35.645Z"
   },
   {
    "duration": 1187,
    "start_time": "2023-05-12T04:36:35.655Z"
   },
   {
    "duration": 7,
    "start_time": "2023-05-12T04:36:36.843Z"
   },
   {
    "duration": 3,
    "start_time": "2023-05-12T04:36:36.851Z"
   },
   {
    "duration": 8,
    "start_time": "2023-05-12T04:36:36.855Z"
   },
   {
    "duration": 3,
    "start_time": "2023-05-12T04:36:36.865Z"
   },
   {
    "duration": 8,
    "start_time": "2023-05-12T04:36:36.869Z"
   },
   {
    "duration": 10,
    "start_time": "2023-05-12T04:36:36.879Z"
   },
   {
    "duration": 9,
    "start_time": "2023-05-12T04:36:36.890Z"
   },
   {
    "duration": 56,
    "start_time": "2023-05-12T04:36:36.900Z"
   },
   {
    "duration": 38,
    "start_time": "2023-05-12T04:36:36.958Z"
   },
   {
    "duration": 147,
    "start_time": "2023-05-12T04:36:36.997Z"
   },
   {
    "duration": 5,
    "start_time": "2023-05-12T05:40:05.823Z"
   },
   {
    "duration": 5,
    "start_time": "2023-05-12T05:40:08.192Z"
   },
   {
    "duration": 43,
    "start_time": "2023-05-12T05:40:09.076Z"
   },
   {
    "duration": 70,
    "start_time": "2023-05-12T05:40:09.534Z"
   },
   {
    "duration": 33,
    "start_time": "2023-05-12T05:40:10.086Z"
   },
   {
    "duration": 5,
    "start_time": "2023-05-12T06:00:16.873Z"
   },
   {
    "duration": 5,
    "start_time": "2023-05-12T06:00:18.247Z"
   },
   {
    "duration": 5,
    "start_time": "2023-05-12T06:00:19.128Z"
   },
   {
    "duration": 31,
    "start_time": "2023-05-12T06:00:19.967Z"
   },
   {
    "duration": 41,
    "start_time": "2023-05-12T06:00:20.496Z"
   },
   {
    "duration": 45,
    "start_time": "2023-05-12T06:00:21.470Z"
   },
   {
    "duration": 77,
    "start_time": "2023-05-12T06:02:56.354Z"
   },
   {
    "duration": 3,
    "start_time": "2023-05-12T06:41:30.621Z"
   },
   {
    "duration": 207,
    "start_time": "2023-05-12T06:41:32.091Z"
   },
   {
    "duration": 384,
    "start_time": "2023-05-12T06:41:33.113Z"
   },
   {
    "duration": 1722,
    "start_time": "2023-05-12T06:42:08.755Z"
   },
   {
    "duration": 995,
    "start_time": "2023-05-12T06:42:10.495Z"
   },
   {
    "duration": 28,
    "start_time": "2023-05-12T06:42:11.507Z"
   },
   {
    "duration": 18,
    "start_time": "2023-05-12T06:42:11.537Z"
   },
   {
    "duration": 24,
    "start_time": "2023-05-12T06:42:11.557Z"
   },
   {
    "duration": 13,
    "start_time": "2023-05-12T06:42:11.584Z"
   },
   {
    "duration": 4,
    "start_time": "2023-05-12T06:42:11.599Z"
   },
   {
    "duration": 14,
    "start_time": "2023-05-12T06:42:11.606Z"
   },
   {
    "duration": 40,
    "start_time": "2023-05-12T06:42:11.622Z"
   },
   {
    "duration": 33,
    "start_time": "2023-05-12T06:42:11.665Z"
   },
   {
    "duration": 95,
    "start_time": "2023-05-12T06:42:11.700Z"
   },
   {
    "duration": 19,
    "start_time": "2023-05-12T06:42:11.798Z"
   },
   {
    "duration": 10,
    "start_time": "2023-05-12T06:42:11.819Z"
   },
   {
    "duration": 46,
    "start_time": "2023-05-12T06:42:11.832Z"
   },
   {
    "duration": 54,
    "start_time": "2023-05-12T06:42:11.885Z"
   },
   {
    "duration": 18,
    "start_time": "2023-05-12T06:42:11.942Z"
   },
   {
    "duration": 304,
    "start_time": "2023-05-12T06:42:11.968Z"
   },
   {
    "duration": 1725,
    "start_time": "2023-05-12T06:42:12.275Z"
   },
   {
    "duration": 1635,
    "start_time": "2023-05-12T06:42:14.002Z"
   },
   {
    "duration": 1663,
    "start_time": "2023-05-12T06:42:15.639Z"
   },
   {
    "duration": 529,
    "start_time": "2023-05-12T06:42:17.306Z"
   },
   {
    "duration": 578,
    "start_time": "2023-05-12T06:42:17.837Z"
   },
   {
    "duration": 1651,
    "start_time": "2023-05-12T06:42:18.417Z"
   },
   {
    "duration": 343,
    "start_time": "2023-05-12T06:42:20.083Z"
   },
   {
    "duration": 1364,
    "start_time": "2023-05-12T06:42:20.427Z"
   },
   {
    "duration": 9,
    "start_time": "2023-05-12T06:42:21.801Z"
   },
   {
    "duration": 1614,
    "start_time": "2023-05-12T06:42:21.812Z"
   },
   {
    "duration": 4,
    "start_time": "2023-05-12T06:42:23.432Z"
   },
   {
    "duration": 53,
    "start_time": "2023-05-12T06:42:23.439Z"
   },
   {
    "duration": 22,
    "start_time": "2023-05-12T06:42:23.502Z"
   },
   {
    "duration": 22,
    "start_time": "2023-05-12T06:42:23.526Z"
   },
   {
    "duration": 61,
    "start_time": "2023-05-12T06:42:23.549Z"
   },
   {
    "duration": 31,
    "start_time": "2023-05-12T06:42:23.612Z"
   },
   {
    "duration": 27,
    "start_time": "2023-05-12T06:42:23.645Z"
   },
   {
    "duration": 92,
    "start_time": "2023-05-12T06:42:23.674Z"
   },
   {
    "duration": 53,
    "start_time": "2023-05-12T06:42:23.768Z"
   },
   {
    "duration": 90,
    "start_time": "2023-05-12T06:42:23.823Z"
   },
   {
    "duration": 6,
    "start_time": "2023-05-12T06:42:23.916Z"
   },
   {
    "duration": 586,
    "start_time": "2023-05-12T06:42:23.924Z"
   },
   {
    "duration": 0,
    "start_time": "2023-05-12T06:42:24.512Z"
   },
   {
    "duration": 9,
    "start_time": "2023-05-12T06:48:49.804Z"
   },
   {
    "duration": 3,
    "start_time": "2023-05-12T06:48:50.224Z"
   },
   {
    "duration": 3,
    "start_time": "2023-05-12T06:48:50.711Z"
   },
   {
    "duration": 1797,
    "start_time": "2023-05-12T06:49:05.479Z"
   },
   {
    "duration": 1089,
    "start_time": "2023-05-12T06:49:07.279Z"
   },
   {
    "duration": 47,
    "start_time": "2023-05-12T06:49:08.379Z"
   },
   {
    "duration": 13,
    "start_time": "2023-05-12T06:49:08.430Z"
   },
   {
    "duration": 40,
    "start_time": "2023-05-12T06:49:08.446Z"
   },
   {
    "duration": 11,
    "start_time": "2023-05-12T06:49:08.488Z"
   },
   {
    "duration": 6,
    "start_time": "2023-05-12T06:49:08.514Z"
   },
   {
    "duration": 14,
    "start_time": "2023-05-12T06:49:08.530Z"
   },
   {
    "duration": 44,
    "start_time": "2023-05-12T06:49:08.546Z"
   },
   {
    "duration": 15,
    "start_time": "2023-05-12T06:49:08.603Z"
   },
   {
    "duration": 91,
    "start_time": "2023-05-12T06:49:08.622Z"
   },
   {
    "duration": 18,
    "start_time": "2023-05-12T06:49:08.716Z"
   },
   {
    "duration": 11,
    "start_time": "2023-05-12T06:49:08.736Z"
   },
   {
    "duration": 19,
    "start_time": "2023-05-12T06:49:08.759Z"
   },
   {
    "duration": 61,
    "start_time": "2023-05-12T06:49:08.780Z"
   },
   {
    "duration": 20,
    "start_time": "2023-05-12T06:49:08.843Z"
   },
   {
    "duration": 245,
    "start_time": "2023-05-12T06:49:08.865Z"
   },
   {
    "duration": 1780,
    "start_time": "2023-05-12T06:49:09.117Z"
   },
   {
    "duration": 1698,
    "start_time": "2023-05-12T06:49:10.904Z"
   },
   {
    "duration": 1900,
    "start_time": "2023-05-12T06:49:12.604Z"
   },
   {
    "duration": 611,
    "start_time": "2023-05-12T06:49:14.511Z"
   },
   {
    "duration": 610,
    "start_time": "2023-05-12T06:49:15.125Z"
   },
   {
    "duration": 1772,
    "start_time": "2023-05-12T06:49:15.737Z"
   },
   {
    "duration": 318,
    "start_time": "2023-05-12T06:49:17.511Z"
   },
   {
    "duration": 1491,
    "start_time": "2023-05-12T06:49:17.831Z"
   },
   {
    "duration": 11,
    "start_time": "2023-05-12T06:49:19.324Z"
   },
   {
    "duration": 1907,
    "start_time": "2023-05-12T06:49:19.337Z"
   },
   {
    "duration": 3,
    "start_time": "2023-05-12T06:49:21.248Z"
   },
   {
    "duration": 13,
    "start_time": "2023-05-12T06:49:21.253Z"
   },
   {
    "duration": 20,
    "start_time": "2023-05-12T06:49:21.268Z"
   },
   {
    "duration": 32,
    "start_time": "2023-05-12T06:49:21.290Z"
   },
   {
    "duration": 6,
    "start_time": "2023-05-12T06:49:21.325Z"
   },
   {
    "duration": 41,
    "start_time": "2023-05-12T06:49:21.333Z"
   },
   {
    "duration": 24,
    "start_time": "2023-05-12T06:49:21.378Z"
   },
   {
    "duration": 16,
    "start_time": "2023-05-12T06:49:21.406Z"
   },
   {
    "duration": 88,
    "start_time": "2023-05-12T06:49:21.424Z"
   },
   {
    "duration": 92,
    "start_time": "2023-05-12T06:49:21.515Z"
   },
   {
    "duration": 83,
    "start_time": "2023-05-12T06:49:21.609Z"
   },
   {
    "duration": 595,
    "start_time": "2023-05-12T06:49:21.694Z"
   },
   {
    "duration": 0,
    "start_time": "2023-05-12T06:49:22.303Z"
   },
   {
    "duration": 20,
    "start_time": "2023-05-12T06:53:43.783Z"
   },
   {
    "duration": 8,
    "start_time": "2023-05-12T06:53:44.892Z"
   },
   {
    "duration": 1607,
    "start_time": "2023-05-12T07:40:54.750Z"
   },
   {
    "duration": 840,
    "start_time": "2023-05-12T07:40:56.374Z"
   },
   {
    "duration": 20,
    "start_time": "2023-05-12T07:40:57.216Z"
   },
   {
    "duration": 25,
    "start_time": "2023-05-12T07:40:57.249Z"
   },
   {
    "duration": 30,
    "start_time": "2023-05-12T07:40:57.276Z"
   },
   {
    "duration": 11,
    "start_time": "2023-05-12T07:40:57.308Z"
   },
   {
    "duration": 32,
    "start_time": "2023-05-12T07:40:57.321Z"
   },
   {
    "duration": 19,
    "start_time": "2023-05-12T07:40:57.359Z"
   },
   {
    "duration": 14,
    "start_time": "2023-05-12T07:40:57.379Z"
   },
   {
    "duration": 8,
    "start_time": "2023-05-12T07:40:57.395Z"
   },
   {
    "duration": 91,
    "start_time": "2023-05-12T07:40:57.404Z"
   },
   {
    "duration": 13,
    "start_time": "2023-05-12T07:40:57.497Z"
   },
   {
    "duration": 9,
    "start_time": "2023-05-12T07:40:57.512Z"
   },
   {
    "duration": 18,
    "start_time": "2023-05-12T07:40:57.551Z"
   },
   {
    "duration": 42,
    "start_time": "2023-05-12T07:40:57.573Z"
   },
   {
    "duration": 7,
    "start_time": "2023-05-12T07:40:57.616Z"
   },
   {
    "duration": 241,
    "start_time": "2023-05-12T07:40:57.625Z"
   },
   {
    "duration": 1493,
    "start_time": "2023-05-12T07:40:57.871Z"
   },
   {
    "duration": 1434,
    "start_time": "2023-05-12T07:40:59.366Z"
   },
   {
    "duration": 1464,
    "start_time": "2023-05-12T07:41:00.802Z"
   },
   {
    "duration": 475,
    "start_time": "2023-05-12T07:41:02.267Z"
   },
   {
    "duration": 471,
    "start_time": "2023-05-12T07:41:02.744Z"
   },
   {
    "duration": 1604,
    "start_time": "2023-05-12T07:41:03.216Z"
   },
   {
    "duration": 279,
    "start_time": "2023-05-12T07:41:04.822Z"
   },
   {
    "duration": 1241,
    "start_time": "2023-05-12T07:41:05.103Z"
   },
   {
    "duration": 12,
    "start_time": "2023-05-12T07:41:06.346Z"
   },
   {
    "duration": 1461,
    "start_time": "2023-05-12T07:41:06.363Z"
   },
   {
    "duration": 4,
    "start_time": "2023-05-12T07:41:07.826Z"
   },
   {
    "duration": 25,
    "start_time": "2023-05-12T07:41:07.832Z"
   },
   {
    "duration": 8,
    "start_time": "2023-05-12T07:41:07.864Z"
   },
   {
    "duration": 10,
    "start_time": "2023-05-12T07:41:07.874Z"
   },
   {
    "duration": 3,
    "start_time": "2023-05-12T07:41:07.888Z"
   },
   {
    "duration": 7,
    "start_time": "2023-05-12T07:41:07.893Z"
   },
   {
    "duration": 7,
    "start_time": "2023-05-12T07:41:07.902Z"
   },
   {
    "duration": 12,
    "start_time": "2023-05-12T07:41:07.912Z"
   },
   {
    "duration": 62,
    "start_time": "2023-05-12T07:41:07.926Z"
   },
   {
    "duration": 40,
    "start_time": "2023-05-12T07:41:07.990Z"
   },
   {
    "duration": 80,
    "start_time": "2023-05-12T07:41:08.032Z"
   },
   {
    "duration": 1162,
    "start_time": "2023-05-12T07:41:08.114Z"
   },
   {
    "duration": 1765,
    "start_time": "2023-05-12T07:41:09.285Z"
   },
   {
    "duration": 5,
    "start_time": "2023-05-12T07:56:08.627Z"
   },
   {
    "duration": 321,
    "start_time": "2023-05-12T07:57:03.589Z"
   },
   {
    "duration": 274,
    "start_time": "2023-05-12T07:57:43.186Z"
   },
   {
    "duration": 2423,
    "start_time": "2023-05-12T07:59:44.475Z"
   },
   {
    "duration": 43,
    "start_time": "2023-05-12T07:59:47.755Z"
   },
   {
    "duration": 340,
    "start_time": "2023-05-12T07:59:49.547Z"
   },
   {
    "duration": 163,
    "start_time": "2023-05-12T07:59:50.775Z"
   },
   {
    "duration": 48,
    "start_time": "2023-05-12T07:59:59.169Z"
   },
   {
    "duration": 25,
    "start_time": "2023-05-12T08:00:04.931Z"
   },
   {
    "duration": 98,
    "start_time": "2023-05-12T08:00:36.263Z"
   },
   {
    "duration": 90,
    "start_time": "2023-05-12T08:01:32.296Z"
   },
   {
    "duration": 11,
    "start_time": "2023-05-12T08:04:42.701Z"
   },
   {
    "duration": 5,
    "start_time": "2023-05-12T08:04:57.408Z"
   },
   {
    "duration": 5,
    "start_time": "2023-05-12T08:07:34.623Z"
   },
   {
    "duration": 16,
    "start_time": "2023-05-12T08:07:46.055Z"
   },
   {
    "duration": 11,
    "start_time": "2023-05-12T08:10:55.155Z"
   },
   {
    "duration": 5,
    "start_time": "2023-05-12T08:12:11.183Z"
   },
   {
    "duration": 15,
    "start_time": "2023-05-12T08:12:21.347Z"
   },
   {
    "duration": 6,
    "start_time": "2023-05-12T08:13:05.103Z"
   },
   {
    "duration": 11,
    "start_time": "2023-05-12T08:13:05.808Z"
   },
   {
    "duration": 68,
    "start_time": "2023-05-12T08:13:53.275Z"
   },
   {
    "duration": 57,
    "start_time": "2023-05-12T08:14:00.949Z"
   },
   {
    "duration": 27,
    "start_time": "2023-05-12T08:14:11.578Z"
   },
   {
    "duration": 111,
    "start_time": "2023-05-12T08:14:32.823Z"
   },
   {
    "duration": 22,
    "start_time": "2023-05-12T08:14:45.179Z"
   },
   {
    "duration": 19,
    "start_time": "2023-05-12T08:14:53.703Z"
   },
   {
    "duration": 43,
    "start_time": "2023-05-12T08:15:07.372Z"
   },
   {
    "duration": 27,
    "start_time": "2023-05-12T08:15:13.610Z"
   },
   {
    "duration": 12,
    "start_time": "2023-05-12T08:15:21.435Z"
   },
   {
    "duration": 23,
    "start_time": "2023-05-12T08:15:32.933Z"
   },
   {
    "duration": 21,
    "start_time": "2023-05-12T08:16:58.249Z"
   },
   {
    "duration": 1265,
    "start_time": "2023-05-12T08:32:25.645Z"
   },
   {
    "duration": 2174,
    "start_time": "2023-05-12T08:39:03.640Z"
   },
   {
    "duration": 5,
    "start_time": "2023-05-12T08:39:24.018Z"
   },
   {
    "duration": 10,
    "start_time": "2023-05-12T08:40:40.452Z"
   },
   {
    "duration": 42,
    "start_time": "2023-05-12T08:40:42.595Z"
   },
   {
    "duration": 37,
    "start_time": "2023-05-12T08:40:43.008Z"
   },
   {
    "duration": 5,
    "start_time": "2023-05-12T08:40:49.717Z"
   },
   {
    "duration": 56,
    "start_time": "2023-05-12T08:40:50.604Z"
   },
   {
    "duration": 18,
    "start_time": "2023-05-12T08:40:53.788Z"
   },
   {
    "duration": 7,
    "start_time": "2023-05-12T08:40:55.214Z"
   },
   {
    "duration": 15,
    "start_time": "2023-05-12T08:40:55.916Z"
   },
   {
    "duration": 7,
    "start_time": "2023-05-12T08:40:58.234Z"
   },
   {
    "duration": 6,
    "start_time": "2023-05-12T08:41:02.707Z"
   },
   {
    "duration": 9,
    "start_time": "2023-05-12T08:41:03.140Z"
   },
   {
    "duration": 8,
    "start_time": "2023-05-12T08:41:04.234Z"
   },
   {
    "duration": 21,
    "start_time": "2023-05-12T08:41:04.871Z"
   },
   {
    "duration": 19,
    "start_time": "2023-05-12T08:41:05.775Z"
   },
   {
    "duration": 19,
    "start_time": "2023-05-12T08:41:37.204Z"
   },
   {
    "duration": 11,
    "start_time": "2023-05-12T08:41:46.045Z"
   },
   {
    "duration": 6,
    "start_time": "2023-05-12T08:41:51.642Z"
   },
   {
    "duration": 6,
    "start_time": "2023-05-12T08:44:24.743Z"
   },
   {
    "duration": 6,
    "start_time": "2023-05-12T08:44:30.644Z"
   },
   {
    "duration": 10,
    "start_time": "2023-05-12T08:44:47.103Z"
   },
   {
    "duration": 13,
    "start_time": "2023-05-12T08:44:54.406Z"
   },
   {
    "duration": 16,
    "start_time": "2023-05-12T08:45:08.567Z"
   },
   {
    "duration": 14,
    "start_time": "2023-05-12T08:45:13.088Z"
   },
   {
    "duration": 10,
    "start_time": "2023-05-12T08:46:03.277Z"
   },
   {
    "duration": 12,
    "start_time": "2023-05-12T08:46:09.993Z"
   },
   {
    "duration": 16,
    "start_time": "2023-05-12T08:46:33.407Z"
   },
   {
    "duration": 187,
    "start_time": "2023-05-12T08:46:47.648Z"
   },
   {
    "duration": 37,
    "start_time": "2023-05-12T08:47:44.997Z"
   },
   {
    "duration": 53,
    "start_time": "2023-05-12T08:48:09.907Z"
   },
   {
    "duration": 9,
    "start_time": "2023-05-12T08:48:53.103Z"
   },
   {
    "duration": 1951,
    "start_time": "2023-05-12T08:48:57.543Z"
   },
   {
    "duration": 1036,
    "start_time": "2023-05-12T08:48:59.507Z"
   },
   {
    "duration": 26,
    "start_time": "2023-05-12T08:49:00.545Z"
   },
   {
    "duration": 46,
    "start_time": "2023-05-12T08:49:00.573Z"
   },
   {
    "duration": 148,
    "start_time": "2023-05-12T08:49:00.624Z"
   },
   {
    "duration": 50,
    "start_time": "2023-05-12T08:49:00.779Z"
   },
   {
    "duration": 63,
    "start_time": "2023-05-12T08:49:00.831Z"
   },
   {
    "duration": 44,
    "start_time": "2023-05-12T08:49:00.899Z"
   },
   {
    "duration": 60,
    "start_time": "2023-05-12T08:49:00.945Z"
   },
   {
    "duration": 28,
    "start_time": "2023-05-12T08:49:01.009Z"
   },
   {
    "duration": 87,
    "start_time": "2023-05-12T08:49:01.039Z"
   },
   {
    "duration": 17,
    "start_time": "2023-05-12T08:49:01.128Z"
   },
   {
    "duration": 16,
    "start_time": "2023-05-12T08:49:01.157Z"
   },
   {
    "duration": 47,
    "start_time": "2023-05-12T08:49:01.184Z"
   },
   {
    "duration": 141,
    "start_time": "2023-05-12T08:49:01.233Z"
   },
   {
    "duration": 17,
    "start_time": "2023-05-12T08:49:01.391Z"
   },
   {
    "duration": 282,
    "start_time": "2023-05-12T08:49:01.410Z"
   },
   {
    "duration": 1826,
    "start_time": "2023-05-12T08:49:01.700Z"
   },
   {
    "duration": 1902,
    "start_time": "2023-05-12T08:49:03.528Z"
   },
   {
    "duration": 1795,
    "start_time": "2023-05-12T08:49:05.432Z"
   },
   {
    "duration": 698,
    "start_time": "2023-05-12T08:49:07.230Z"
   },
   {
    "duration": 603,
    "start_time": "2023-05-12T08:49:07.934Z"
   },
   {
    "duration": 2233,
    "start_time": "2023-05-12T08:49:08.541Z"
   },
   {
    "duration": 407,
    "start_time": "2023-05-12T08:49:10.783Z"
   },
   {
    "duration": 1590,
    "start_time": "2023-05-12T08:49:11.194Z"
   },
   {
    "duration": 17,
    "start_time": "2023-05-12T08:49:12.793Z"
   },
   {
    "duration": 2021,
    "start_time": "2023-05-12T08:49:12.818Z"
   },
   {
    "duration": 31,
    "start_time": "2023-05-12T08:49:14.853Z"
   },
   {
    "duration": 23,
    "start_time": "2023-05-12T08:49:14.896Z"
   },
   {
    "duration": 19,
    "start_time": "2023-05-12T08:49:14.928Z"
   },
   {
    "duration": 37,
    "start_time": "2023-05-12T08:49:14.967Z"
   },
   {
    "duration": 27,
    "start_time": "2023-05-12T08:49:15.006Z"
   },
   {
    "duration": 208,
    "start_time": "2023-05-12T08:49:15.035Z"
   },
   {
    "duration": 5,
    "start_time": "2023-05-12T08:49:15.245Z"
   },
   {
    "duration": 13,
    "start_time": "2023-05-12T08:49:15.252Z"
   },
   {
    "duration": 24,
    "start_time": "2023-05-12T08:49:15.267Z"
   },
   {
    "duration": 18,
    "start_time": "2023-05-12T08:49:15.293Z"
   },
   {
    "duration": 76,
    "start_time": "2023-05-12T08:49:15.313Z"
   },
   {
    "duration": 66,
    "start_time": "2023-05-12T08:49:15.394Z"
   },
   {
    "duration": 73,
    "start_time": "2023-05-12T08:49:15.468Z"
   },
   {
    "duration": 1179,
    "start_time": "2023-05-12T08:49:15.549Z"
   },
   {
    "duration": 1792,
    "start_time": "2023-05-12T08:49:16.744Z"
   },
   {
    "duration": 201,
    "start_time": "2023-05-12T08:49:18.539Z"
   },
   {
    "duration": 0,
    "start_time": "2023-05-12T08:49:18.742Z"
   },
   {
    "duration": 0,
    "start_time": "2023-05-12T08:49:18.756Z"
   },
   {
    "duration": 0,
    "start_time": "2023-05-12T08:49:18.756Z"
   },
   {
    "duration": 0,
    "start_time": "2023-05-12T08:49:18.757Z"
   },
   {
    "duration": 0,
    "start_time": "2023-05-12T08:49:18.761Z"
   },
   {
    "duration": 0,
    "start_time": "2023-05-12T08:49:18.762Z"
   },
   {
    "duration": 28,
    "start_time": "2023-05-12T08:52:15.888Z"
   },
   {
    "duration": 989,
    "start_time": "2023-05-12T08:52:35.264Z"
   },
   {
    "duration": 1744,
    "start_time": "2023-05-12T08:52:36.900Z"
   },
   {
    "duration": 4,
    "start_time": "2023-05-12T08:52:39.518Z"
   },
   {
    "duration": 264,
    "start_time": "2023-05-12T08:52:41.203Z"
   },
   {
    "duration": 17,
    "start_time": "2023-05-12T08:52:42.622Z"
   },
   {
    "duration": 12,
    "start_time": "2023-05-12T08:52:47.305Z"
   },
   {
    "duration": 11,
    "start_time": "2023-05-12T08:52:47.800Z"
   },
   {
    "duration": 53,
    "start_time": "2023-05-12T08:52:48.448Z"
   },
   {
    "duration": 69,
    "start_time": "2023-05-12T08:55:31.567Z"
   },
   {
    "duration": 19,
    "start_time": "2023-05-12T08:55:42.483Z"
   },
   {
    "duration": 4,
    "start_time": "2023-05-12T08:55:43.111Z"
   },
   {
    "duration": 11,
    "start_time": "2023-05-12T08:55:43.481Z"
   },
   {
    "duration": 12,
    "start_time": "2023-05-12T08:55:43.891Z"
   },
   {
    "duration": 16,
    "start_time": "2023-05-12T08:55:44.851Z"
   },
   {
    "duration": 14,
    "start_time": "2023-05-12T08:56:13.266Z"
   },
   {
    "duration": 12,
    "start_time": "2023-05-12T08:56:44.856Z"
   },
   {
    "duration": 4,
    "start_time": "2023-05-12T08:56:57.922Z"
   },
   {
    "duration": 16,
    "start_time": "2023-05-12T08:56:58.745Z"
   },
   {
    "duration": 6,
    "start_time": "2023-05-12T08:57:11.202Z"
   },
   {
    "duration": 6,
    "start_time": "2023-05-12T08:57:11.473Z"
   },
   {
    "duration": 6,
    "start_time": "2023-05-12T08:57:11.704Z"
   },
   {
    "duration": 9,
    "start_time": "2023-05-12T08:57:11.980Z"
   },
   {
    "duration": 4,
    "start_time": "2023-05-12T08:57:12.225Z"
   },
   {
    "duration": 37,
    "start_time": "2023-05-12T08:57:12.443Z"
   },
   {
    "duration": 8,
    "start_time": "2023-05-12T08:57:12.703Z"
   },
   {
    "duration": 29,
    "start_time": "2023-05-12T09:23:48.905Z"
   },
   {
    "duration": 6,
    "start_time": "2023-05-12T09:23:59.523Z"
   },
   {
    "duration": 9,
    "start_time": "2023-05-12T09:23:59.983Z"
   },
   {
    "duration": 4,
    "start_time": "2023-05-12T09:42:22.634Z"
   },
   {
    "duration": 11,
    "start_time": "2023-05-12T09:42:38.817Z"
   },
   {
    "duration": 6,
    "start_time": "2023-05-12T09:43:14.734Z"
   },
   {
    "duration": 5,
    "start_time": "2023-05-12T09:43:19.380Z"
   },
   {
    "duration": 5,
    "start_time": "2023-05-12T09:43:36.994Z"
   },
   {
    "duration": 4,
    "start_time": "2023-05-12T09:44:11.996Z"
   },
   {
    "duration": 7,
    "start_time": "2023-05-12T09:44:20.384Z"
   },
   {
    "duration": 51,
    "start_time": "2023-05-12T09:45:07.888Z"
   },
   {
    "duration": 70,
    "start_time": "2023-05-12T09:45:08.243Z"
   },
   {
    "duration": 30,
    "start_time": "2023-05-12T09:45:12.768Z"
   },
   {
    "duration": 4,
    "start_time": "2023-05-12T09:45:14.521Z"
   },
   {
    "duration": 5,
    "start_time": "2023-05-12T09:45:16.009Z"
   },
   {
    "duration": 13,
    "start_time": "2023-05-12T09:45:17.148Z"
   },
   {
    "duration": 9,
    "start_time": "2023-05-12T09:45:17.882Z"
   },
   {
    "duration": 7,
    "start_time": "2023-05-12T09:45:18.404Z"
   },
   {
    "duration": 4,
    "start_time": "2023-05-12T09:45:18.913Z"
   },
   {
    "duration": 5,
    "start_time": "2023-05-12T09:45:19.418Z"
   },
   {
    "duration": 26,
    "start_time": "2023-05-12T09:46:17.413Z"
   },
   {
    "duration": 25,
    "start_time": "2023-05-12T09:46:27.577Z"
   },
   {
    "duration": 3,
    "start_time": "2023-05-12T09:46:43.292Z"
   },
   {
    "duration": 9,
    "start_time": "2023-05-12T09:46:50.880Z"
   },
   {
    "duration": 21,
    "start_time": "2023-05-12T09:47:08.016Z"
   },
   {
    "duration": 13,
    "start_time": "2023-05-12T09:47:29.472Z"
   },
   {
    "duration": 10,
    "start_time": "2023-05-12T09:47:39.328Z"
   },
   {
    "duration": 13,
    "start_time": "2023-05-12T09:47:51.611Z"
   },
   {
    "duration": 6,
    "start_time": "2023-05-12T09:48:36.233Z"
   },
   {
    "duration": 6,
    "start_time": "2023-05-12T09:48:36.713Z"
   },
   {
    "duration": 9,
    "start_time": "2023-05-12T09:48:37.172Z"
   },
   {
    "duration": 6,
    "start_time": "2023-05-12T09:48:37.674Z"
   },
   {
    "duration": 8,
    "start_time": "2023-05-12T09:48:38.196Z"
   },
   {
    "duration": 4,
    "start_time": "2023-05-12T09:48:38.640Z"
   },
   {
    "duration": 9,
    "start_time": "2023-05-12T09:48:39.279Z"
   },
   {
    "duration": 15,
    "start_time": "2023-05-12T09:49:46.669Z"
   },
   {
    "duration": 9,
    "start_time": "2023-05-12T09:50:00.004Z"
   },
   {
    "duration": 10,
    "start_time": "2023-05-12T09:51:52.478Z"
   },
   {
    "duration": 8,
    "start_time": "2023-05-12T09:52:06.904Z"
   },
   {
    "duration": 9,
    "start_time": "2023-05-12T09:52:46.977Z"
   },
   {
    "duration": 7,
    "start_time": "2023-05-12T09:55:58.941Z"
   },
   {
    "duration": 22,
    "start_time": "2023-05-12T09:55:59.688Z"
   },
   {
    "duration": 6,
    "start_time": "2023-05-12T09:56:04.003Z"
   },
   {
    "duration": 15,
    "start_time": "2023-05-12T09:56:04.593Z"
   },
   {
    "duration": 8,
    "start_time": "2023-05-12T10:02:32.841Z"
   },
   {
    "duration": 10,
    "start_time": "2023-05-12T10:02:59.077Z"
   },
   {
    "duration": 936,
    "start_time": "2023-05-12T10:07:14.227Z"
   },
   {
    "duration": 6,
    "start_time": "2023-05-12T10:07:15.165Z"
   },
   {
    "duration": 158,
    "start_time": "2023-05-12T10:07:16.214Z"
   },
   {
    "duration": 18,
    "start_time": "2023-05-12T10:07:18.719Z"
   },
   {
    "duration": 4,
    "start_time": "2023-05-12T10:07:19.636Z"
   },
   {
    "duration": 1446,
    "start_time": "2023-05-12T10:07:38.602Z"
   },
   {
    "duration": 817,
    "start_time": "2023-05-12T10:07:40.053Z"
   },
   {
    "duration": 21,
    "start_time": "2023-05-12T10:07:40.871Z"
   },
   {
    "duration": 14,
    "start_time": "2023-05-12T10:07:40.895Z"
   },
   {
    "duration": 57,
    "start_time": "2023-05-12T10:07:40.911Z"
   },
   {
    "duration": 12,
    "start_time": "2023-05-12T10:07:40.970Z"
   },
   {
    "duration": 4,
    "start_time": "2023-05-12T10:07:40.984Z"
   },
   {
    "duration": 30,
    "start_time": "2023-05-12T10:07:40.990Z"
   },
   {
    "duration": 11,
    "start_time": "2023-05-12T10:07:41.022Z"
   },
   {
    "duration": 30,
    "start_time": "2023-05-12T10:07:41.036Z"
   },
   {
    "duration": 59,
    "start_time": "2023-05-12T10:07:41.068Z"
   },
   {
    "duration": 37,
    "start_time": "2023-05-12T10:07:41.128Z"
   },
   {
    "duration": 10,
    "start_time": "2023-05-12T10:07:41.171Z"
   },
   {
    "duration": 12,
    "start_time": "2023-05-12T10:07:41.182Z"
   },
   {
    "duration": 67,
    "start_time": "2023-05-12T10:07:41.196Z"
   },
   {
    "duration": 8,
    "start_time": "2023-05-12T10:07:41.267Z"
   },
   {
    "duration": 221,
    "start_time": "2023-05-12T10:07:41.277Z"
   },
   {
    "duration": 1495,
    "start_time": "2023-05-12T10:07:41.500Z"
   },
   {
    "duration": 1486,
    "start_time": "2023-05-12T10:07:42.997Z"
   },
   {
    "duration": 1434,
    "start_time": "2023-05-12T10:07:44.487Z"
   },
   {
    "duration": 437,
    "start_time": "2023-05-12T10:07:45.923Z"
   },
   {
    "duration": 476,
    "start_time": "2023-05-12T10:07:46.361Z"
   },
   {
    "duration": 1438,
    "start_time": "2023-05-12T10:07:46.839Z"
   },
   {
    "duration": 285,
    "start_time": "2023-05-12T10:07:48.279Z"
   },
   {
    "duration": 1207,
    "start_time": "2023-05-12T10:07:48.569Z"
   },
   {
    "duration": 10,
    "start_time": "2023-05-12T10:07:49.778Z"
   },
   {
    "duration": 1396,
    "start_time": "2023-05-12T10:07:49.790Z"
   },
   {
    "duration": 3,
    "start_time": "2023-05-12T10:07:51.190Z"
   },
   {
    "duration": 7,
    "start_time": "2023-05-12T10:07:51.195Z"
   },
   {
    "duration": 20,
    "start_time": "2023-05-12T10:07:51.203Z"
   },
   {
    "duration": 8,
    "start_time": "2023-05-12T10:07:51.225Z"
   },
   {
    "duration": 27,
    "start_time": "2023-05-12T10:07:51.235Z"
   },
   {
    "duration": 8,
    "start_time": "2023-05-12T10:07:51.264Z"
   },
   {
    "duration": 19,
    "start_time": "2023-05-12T10:07:51.274Z"
   },
   {
    "duration": 10,
    "start_time": "2023-05-12T10:07:51.295Z"
   },
   {
    "duration": 10,
    "start_time": "2023-05-12T10:07:51.307Z"
   },
   {
    "duration": 52,
    "start_time": "2023-05-12T10:07:51.319Z"
   },
   {
    "duration": 37,
    "start_time": "2023-05-12T10:07:51.373Z"
   },
   {
    "duration": 73,
    "start_time": "2023-05-12T10:07:51.412Z"
   },
   {
    "duration": 3,
    "start_time": "2023-05-12T10:07:51.486Z"
   },
   {
    "duration": 865,
    "start_time": "2023-05-12T10:07:51.491Z"
   },
   {
    "duration": 0,
    "start_time": "2023-05-12T10:07:52.359Z"
   },
   {
    "duration": 0,
    "start_time": "2023-05-12T10:07:52.360Z"
   },
   {
    "duration": 0,
    "start_time": "2023-05-12T10:07:52.360Z"
   },
   {
    "duration": 0,
    "start_time": "2023-05-12T10:07:52.361Z"
   },
   {
    "duration": 0,
    "start_time": "2023-05-12T10:07:52.362Z"
   },
   {
    "duration": 0,
    "start_time": "2023-05-12T10:07:52.363Z"
   },
   {
    "duration": 0,
    "start_time": "2023-05-12T10:07:52.364Z"
   },
   {
    "duration": 0,
    "start_time": "2023-05-12T10:07:52.365Z"
   },
   {
    "duration": 1163,
    "start_time": "2023-05-12T10:09:43.218Z"
   },
   {
    "duration": 1361,
    "start_time": "2023-05-12T10:09:47.597Z"
   },
   {
    "duration": 4,
    "start_time": "2023-05-12T10:09:50.824Z"
   },
   {
    "duration": 193,
    "start_time": "2023-05-12T10:09:53.180Z"
   },
   {
    "duration": 17,
    "start_time": "2023-05-12T10:09:55.179Z"
   },
   {
    "duration": 4,
    "start_time": "2023-05-12T10:09:58.282Z"
   },
   {
    "duration": 5,
    "start_time": "2023-05-12T10:09:58.843Z"
   },
   {
    "duration": 9,
    "start_time": "2023-05-12T10:10:03.668Z"
   },
   {
    "duration": 24,
    "start_time": "2023-05-12T10:10:14.066Z"
   },
   {
    "duration": 11,
    "start_time": "2023-05-12T10:10:28.725Z"
   },
   {
    "duration": 4,
    "start_time": "2023-05-12T10:10:54.812Z"
   },
   {
    "duration": 789,
    "start_time": "2023-05-12T10:11:58.408Z"
   },
   {
    "duration": 155,
    "start_time": "2023-05-12T10:11:59.199Z"
   },
   {
    "duration": 1708,
    "start_time": "2023-05-12T10:12:07.870Z"
   },
   {
    "duration": 4,
    "start_time": "2023-05-12T10:12:12.984Z"
   },
   {
    "duration": 321,
    "start_time": "2023-05-12T10:12:18.646Z"
   },
   {
    "duration": 23,
    "start_time": "2023-05-12T10:12:19.168Z"
   },
   {
    "duration": 7,
    "start_time": "2023-05-12T10:12:19.986Z"
   },
   {
    "duration": 7,
    "start_time": "2023-05-12T10:12:36.385Z"
   },
   {
    "duration": 4,
    "start_time": "2023-05-12T10:12:52.342Z"
   },
   {
    "duration": 1362,
    "start_time": "2023-05-12T10:27:56.030Z"
   },
   {
    "duration": 1833,
    "start_time": "2023-05-12T10:28:22.625Z"
   },
   {
    "duration": 29,
    "start_time": "2023-05-12T10:31:27.082Z"
   },
   {
    "duration": 1775,
    "start_time": "2023-05-12T10:32:39.252Z"
   },
   {
    "duration": 980,
    "start_time": "2023-05-12T10:32:41.029Z"
   },
   {
    "duration": 25,
    "start_time": "2023-05-12T10:32:42.011Z"
   },
   {
    "duration": 29,
    "start_time": "2023-05-12T10:32:42.038Z"
   },
   {
    "duration": 29,
    "start_time": "2023-05-12T10:32:42.069Z"
   },
   {
    "duration": 11,
    "start_time": "2023-05-12T10:32:42.100Z"
   },
   {
    "duration": 19,
    "start_time": "2023-05-12T10:32:42.113Z"
   },
   {
    "duration": 12,
    "start_time": "2023-05-12T10:32:42.134Z"
   },
   {
    "duration": 26,
    "start_time": "2023-05-12T10:32:42.148Z"
   },
   {
    "duration": 10,
    "start_time": "2023-05-12T10:32:42.177Z"
   },
   {
    "duration": 67,
    "start_time": "2023-05-12T10:32:42.191Z"
   },
   {
    "duration": 15,
    "start_time": "2023-05-12T10:32:42.260Z"
   },
   {
    "duration": 11,
    "start_time": "2023-05-12T10:32:42.277Z"
   },
   {
    "duration": 12,
    "start_time": "2023-05-12T10:32:42.290Z"
   },
   {
    "duration": 69,
    "start_time": "2023-05-12T10:32:42.304Z"
   },
   {
    "duration": 11,
    "start_time": "2023-05-12T10:32:42.378Z"
   },
   {
    "duration": 234,
    "start_time": "2023-05-12T10:32:42.391Z"
   },
   {
    "duration": 1711,
    "start_time": "2023-05-12T10:32:42.630Z"
   },
   {
    "duration": 1765,
    "start_time": "2023-05-12T10:32:44.345Z"
   },
   {
    "duration": 1774,
    "start_time": "2023-05-12T10:32:46.112Z"
   },
   {
    "duration": 608,
    "start_time": "2023-05-12T10:32:47.891Z"
   },
   {
    "duration": 652,
    "start_time": "2023-05-12T10:32:48.507Z"
   },
   {
    "duration": 1681,
    "start_time": "2023-05-12T10:32:49.166Z"
   },
   {
    "duration": 290,
    "start_time": "2023-05-12T10:32:50.854Z"
   },
   {
    "duration": 1357,
    "start_time": "2023-05-12T10:32:51.146Z"
   },
   {
    "duration": 20,
    "start_time": "2023-05-12T10:32:52.509Z"
   },
   {
    "duration": 1643,
    "start_time": "2023-05-12T10:32:52.535Z"
   },
   {
    "duration": 4,
    "start_time": "2023-05-12T10:32:54.182Z"
   },
   {
    "duration": 8,
    "start_time": "2023-05-12T10:32:54.188Z"
   },
   {
    "duration": 12,
    "start_time": "2023-05-12T10:32:54.198Z"
   },
   {
    "duration": 7,
    "start_time": "2023-05-12T10:32:54.212Z"
   },
   {
    "duration": 11,
    "start_time": "2023-05-12T10:32:54.221Z"
   },
   {
    "duration": 7,
    "start_time": "2023-05-12T10:32:54.234Z"
   },
   {
    "duration": 31,
    "start_time": "2023-05-12T10:32:54.243Z"
   },
   {
    "duration": 18,
    "start_time": "2023-05-12T10:32:54.276Z"
   },
   {
    "duration": 8,
    "start_time": "2023-05-12T10:32:54.300Z"
   },
   {
    "duration": 61,
    "start_time": "2023-05-12T10:32:54.313Z"
   },
   {
    "duration": 53,
    "start_time": "2023-05-12T10:32:54.381Z"
   },
   {
    "duration": 85,
    "start_time": "2023-05-12T10:32:54.436Z"
   },
   {
    "duration": 9,
    "start_time": "2023-05-12T10:32:54.523Z"
   },
   {
    "duration": 952,
    "start_time": "2023-05-12T10:32:54.534Z"
   },
   {
    "duration": 2108,
    "start_time": "2023-05-12T10:32:55.508Z"
   },
   {
    "duration": 7,
    "start_time": "2023-05-12T10:32:57.659Z"
   },
   {
    "duration": 183,
    "start_time": "2023-05-12T10:32:57.674Z"
   },
   {
    "duration": 0,
    "start_time": "2023-05-12T10:32:57.862Z"
   },
   {
    "duration": 0,
    "start_time": "2023-05-12T10:32:57.871Z"
   },
   {
    "duration": 0,
    "start_time": "2023-05-12T10:32:57.879Z"
   },
   {
    "duration": 0,
    "start_time": "2023-05-12T10:32:57.884Z"
   },
   {
    "duration": 1523,
    "start_time": "2023-05-12T10:34:25.541Z"
   },
   {
    "duration": 16,
    "start_time": "2023-05-12T10:35:36.313Z"
   },
   {
    "duration": 164,
    "start_time": "2023-05-12T10:37:19.187Z"
   },
   {
    "duration": 95,
    "start_time": "2023-05-12T10:37:21.179Z"
   },
   {
    "duration": 6,
    "start_time": "2023-05-12T10:37:26.709Z"
   },
   {
    "duration": 4,
    "start_time": "2023-05-12T10:37:27.746Z"
   },
   {
    "duration": 563,
    "start_time": "2023-05-12T10:57:26.293Z"
   },
   {
    "duration": 149,
    "start_time": "2023-05-12T10:57:26.863Z"
   },
   {
    "duration": 13,
    "start_time": "2023-05-12T10:57:27.156Z"
   },
   {
    "duration": 3,
    "start_time": "2023-05-12T10:57:27.736Z"
   },
   {
    "duration": 14,
    "start_time": "2023-05-12T11:01:07.523Z"
   },
   {
    "duration": 11,
    "start_time": "2023-05-12T11:01:10.017Z"
   },
   {
    "duration": 36,
    "start_time": "2023-05-12T11:08:31.979Z"
   },
   {
    "duration": 7,
    "start_time": "2023-05-12T11:08:40.415Z"
   },
   {
    "duration": 8,
    "start_time": "2023-05-12T11:08:41.555Z"
   },
   {
    "duration": 21,
    "start_time": "2023-05-12T11:08:42.802Z"
   },
   {
    "duration": 33,
    "start_time": "2023-05-12T11:08:53.248Z"
   },
   {
    "duration": 20,
    "start_time": "2023-05-12T11:09:19.912Z"
   },
   {
    "duration": 16,
    "start_time": "2023-05-12T11:09:30.797Z"
   },
   {
    "duration": 11,
    "start_time": "2023-05-12T11:10:55.225Z"
   },
   {
    "duration": 13,
    "start_time": "2023-05-12T11:13:22.803Z"
   },
   {
    "duration": 1609,
    "start_time": "2023-05-12T11:15:03.626Z"
   },
   {
    "duration": 926,
    "start_time": "2023-05-12T11:15:05.237Z"
   },
   {
    "duration": 31,
    "start_time": "2023-05-12T11:15:06.171Z"
   },
   {
    "duration": 15,
    "start_time": "2023-05-12T11:15:06.204Z"
   },
   {
    "duration": 35,
    "start_time": "2023-05-12T11:15:06.221Z"
   },
   {
    "duration": 31,
    "start_time": "2023-05-12T11:15:06.261Z"
   },
   {
    "duration": 14,
    "start_time": "2023-05-12T11:15:06.293Z"
   },
   {
    "duration": 13,
    "start_time": "2023-05-12T11:15:06.309Z"
   },
   {
    "duration": 9,
    "start_time": "2023-05-12T11:15:06.324Z"
   },
   {
    "duration": 6,
    "start_time": "2023-05-12T11:15:06.336Z"
   },
   {
    "duration": 70,
    "start_time": "2023-05-12T11:15:06.344Z"
   },
   {
    "duration": 15,
    "start_time": "2023-05-12T11:15:06.415Z"
   },
   {
    "duration": 10,
    "start_time": "2023-05-12T11:15:06.432Z"
   },
   {
    "duration": 55,
    "start_time": "2023-05-12T11:15:06.443Z"
   },
   {
    "duration": 40,
    "start_time": "2023-05-12T11:15:06.503Z"
   },
   {
    "duration": 7,
    "start_time": "2023-05-12T11:15:06.544Z"
   },
   {
    "duration": 237,
    "start_time": "2023-05-12T11:15:06.555Z"
   },
   {
    "duration": 1613,
    "start_time": "2023-05-12T11:15:06.793Z"
   },
   {
    "duration": 1471,
    "start_time": "2023-05-12T11:15:08.409Z"
   },
   {
    "duration": 1433,
    "start_time": "2023-05-12T11:15:09.882Z"
   },
   {
    "duration": 458,
    "start_time": "2023-05-12T11:15:11.316Z"
   },
   {
    "duration": 479,
    "start_time": "2023-05-12T11:15:11.775Z"
   },
   {
    "duration": 1543,
    "start_time": "2023-05-12T11:15:12.263Z"
   },
   {
    "duration": 266,
    "start_time": "2023-05-12T11:15:13.808Z"
   },
   {
    "duration": 1304,
    "start_time": "2023-05-12T11:15:14.079Z"
   },
   {
    "duration": 11,
    "start_time": "2023-05-12T11:15:15.385Z"
   },
   {
    "duration": 1502,
    "start_time": "2023-05-12T11:15:15.398Z"
   },
   {
    "duration": 6,
    "start_time": "2023-05-12T11:15:16.909Z"
   },
   {
    "duration": 10,
    "start_time": "2023-05-12T11:15:16.917Z"
   },
   {
    "duration": 9,
    "start_time": "2023-05-12T11:15:16.929Z"
   },
   {
    "duration": 6,
    "start_time": "2023-05-12T11:15:16.939Z"
   },
   {
    "duration": 22,
    "start_time": "2023-05-12T11:15:16.947Z"
   },
   {
    "duration": 8,
    "start_time": "2023-05-12T11:15:16.971Z"
   },
   {
    "duration": 8,
    "start_time": "2023-05-12T11:15:16.985Z"
   },
   {
    "duration": 17,
    "start_time": "2023-05-12T11:15:16.995Z"
   },
   {
    "duration": 8,
    "start_time": "2023-05-12T11:15:17.014Z"
   },
   {
    "duration": 33,
    "start_time": "2023-05-12T11:15:17.024Z"
   },
   {
    "duration": 156,
    "start_time": "2023-05-12T11:15:17.066Z"
   },
   {
    "duration": 0,
    "start_time": "2023-05-12T11:15:17.224Z"
   },
   {
    "duration": 0,
    "start_time": "2023-05-12T11:15:17.225Z"
   },
   {
    "duration": 0,
    "start_time": "2023-05-12T11:15:17.226Z"
   },
   {
    "duration": 0,
    "start_time": "2023-05-12T11:15:17.228Z"
   },
   {
    "duration": 0,
    "start_time": "2023-05-12T11:15:17.229Z"
   },
   {
    "duration": 0,
    "start_time": "2023-05-12T11:15:17.230Z"
   },
   {
    "duration": 0,
    "start_time": "2023-05-12T11:15:17.232Z"
   },
   {
    "duration": 0,
    "start_time": "2023-05-12T11:15:17.253Z"
   },
   {
    "duration": 0,
    "start_time": "2023-05-12T11:15:17.254Z"
   },
   {
    "duration": 0,
    "start_time": "2023-05-12T11:15:17.255Z"
   },
   {
    "duration": 0,
    "start_time": "2023-05-12T11:15:17.256Z"
   },
   {
    "duration": 0,
    "start_time": "2023-05-12T11:15:17.257Z"
   },
   {
    "duration": 35,
    "start_time": "2023-05-12T11:18:28.890Z"
   },
   {
    "duration": 39,
    "start_time": "2023-05-12T11:20:29.840Z"
   },
   {
    "duration": 57,
    "start_time": "2023-05-12T11:20:41.267Z"
   },
   {
    "duration": 74,
    "start_time": "2023-05-12T11:23:36.839Z"
   },
   {
    "duration": 74,
    "start_time": "2023-05-12T11:39:22.787Z"
   },
   {
    "duration": 44,
    "start_time": "2023-05-12T11:39:46.879Z"
   },
   {
    "duration": 2,
    "start_time": "2023-05-12T11:40:02.216Z"
   },
   {
    "duration": 1040,
    "start_time": "2023-05-12T11:40:03.432Z"
   },
   {
    "duration": 16,
    "start_time": "2023-05-12T11:40:05.275Z"
   },
   {
    "duration": 1088,
    "start_time": "2023-05-12T11:40:34.499Z"
   },
   {
    "duration": 2050,
    "start_time": "2023-05-12T11:41:12.724Z"
   },
   {
    "duration": 4,
    "start_time": "2023-05-12T11:41:20.209Z"
   },
   {
    "duration": 416,
    "start_time": "2023-05-12T11:43:32.772Z"
   },
   {
    "duration": 20,
    "start_time": "2023-05-12T11:43:33.928Z"
   },
   {
    "duration": 8,
    "start_time": "2023-05-12T11:43:37.293Z"
   },
   {
    "duration": 7,
    "start_time": "2023-05-12T11:43:43.081Z"
   },
   {
    "duration": 2064,
    "start_time": "2023-05-12T11:44:12.478Z"
   },
   {
    "duration": 1071,
    "start_time": "2023-05-12T11:44:14.545Z"
   },
   {
    "duration": 22,
    "start_time": "2023-05-12T11:44:15.619Z"
   },
   {
    "duration": 31,
    "start_time": "2023-05-12T11:44:15.643Z"
   },
   {
    "duration": 29,
    "start_time": "2023-05-12T11:44:15.678Z"
   },
   {
    "duration": 11,
    "start_time": "2023-05-12T11:44:15.713Z"
   },
   {
    "duration": 4,
    "start_time": "2023-05-12T11:44:15.726Z"
   },
   {
    "duration": 53,
    "start_time": "2023-05-12T11:44:15.732Z"
   },
   {
    "duration": 13,
    "start_time": "2023-05-12T11:44:15.793Z"
   },
   {
    "duration": 9,
    "start_time": "2023-05-12T11:44:15.809Z"
   },
   {
    "duration": 78,
    "start_time": "2023-05-12T11:44:15.820Z"
   },
   {
    "duration": 20,
    "start_time": "2023-05-12T11:44:15.900Z"
   },
   {
    "duration": 14,
    "start_time": "2023-05-12T11:44:15.922Z"
   },
   {
    "duration": 26,
    "start_time": "2023-05-12T11:44:15.938Z"
   },
   {
    "duration": 45,
    "start_time": "2023-05-12T11:44:15.968Z"
   },
   {
    "duration": 7,
    "start_time": "2023-05-12T11:44:16.016Z"
   },
   {
    "duration": 252,
    "start_time": "2023-05-12T11:44:16.024Z"
   },
   {
    "duration": 1625,
    "start_time": "2023-05-12T11:44:16.285Z"
   },
   {
    "duration": 1584,
    "start_time": "2023-05-12T11:44:17.912Z"
   },
   {
    "duration": 1550,
    "start_time": "2023-05-12T11:44:19.503Z"
   },
   {
    "duration": 487,
    "start_time": "2023-05-12T11:44:21.055Z"
   },
   {
    "duration": 494,
    "start_time": "2023-05-12T11:44:21.544Z"
   },
   {
    "duration": 1574,
    "start_time": "2023-05-12T11:44:22.040Z"
   },
   {
    "duration": 293,
    "start_time": "2023-05-12T11:44:23.616Z"
   },
   {
    "duration": 1437,
    "start_time": "2023-05-12T11:44:23.911Z"
   },
   {
    "duration": 12,
    "start_time": "2023-05-12T11:44:25.349Z"
   },
   {
    "duration": 1478,
    "start_time": "2023-05-12T11:44:25.365Z"
   },
   {
    "duration": 7,
    "start_time": "2023-05-12T11:44:26.850Z"
   },
   {
    "duration": 10,
    "start_time": "2023-05-12T11:44:26.861Z"
   },
   {
    "duration": 24,
    "start_time": "2023-05-12T11:44:26.873Z"
   },
   {
    "duration": 10,
    "start_time": "2023-05-12T11:44:26.901Z"
   },
   {
    "duration": 9,
    "start_time": "2023-05-12T11:44:26.913Z"
   },
   {
    "duration": 3,
    "start_time": "2023-05-12T11:44:26.924Z"
   },
   {
    "duration": 8,
    "start_time": "2023-05-12T11:44:26.928Z"
   },
   {
    "duration": 21,
    "start_time": "2023-05-12T11:44:26.937Z"
   },
   {
    "duration": 17,
    "start_time": "2023-05-12T11:44:26.960Z"
   },
   {
    "duration": 44,
    "start_time": "2023-05-12T11:44:26.978Z"
   },
   {
    "duration": 63,
    "start_time": "2023-05-12T11:44:27.024Z"
   },
   {
    "duration": 57,
    "start_time": "2023-05-12T11:44:27.089Z"
   },
   {
    "duration": 6,
    "start_time": "2023-05-12T11:44:27.148Z"
   },
   {
    "duration": 1445,
    "start_time": "2023-05-12T11:44:27.156Z"
   },
   {
    "duration": 2236,
    "start_time": "2023-05-12T11:44:28.617Z"
   },
   {
    "duration": 11,
    "start_time": "2023-05-12T11:44:30.855Z"
   },
   {
    "duration": 618,
    "start_time": "2023-05-12T11:44:30.868Z"
   },
   {
    "duration": 196,
    "start_time": "2023-05-12T11:44:31.488Z"
   },
   {
    "duration": 69,
    "start_time": "2023-05-12T11:44:31.689Z"
   },
   {
    "duration": 38,
    "start_time": "2023-05-12T11:44:31.764Z"
   },
   {
    "duration": 175,
    "start_time": "2023-05-12T11:44:31.806Z"
   },
   {
    "duration": 0,
    "start_time": "2023-05-12T11:44:31.984Z"
   },
   {
    "duration": 0,
    "start_time": "2023-05-12T11:44:31.985Z"
   },
   {
    "duration": 35,
    "start_time": "2023-05-12T11:55:21.078Z"
   },
   {
    "duration": 5115,
    "start_time": "2023-05-12T11:57:00.721Z"
   },
   {
    "duration": 43260,
    "start_time": "2023-05-12T11:58:51.164Z"
   },
   {
    "duration": 24,
    "start_time": "2023-05-12T11:59:34.426Z"
   },
   {
    "duration": 69215,
    "start_time": "2023-05-12T12:06:38.306Z"
   },
   {
    "duration": 1453,
    "start_time": "2023-05-12T13:13:58.080Z"
   },
   {
    "duration": 861,
    "start_time": "2023-05-12T13:13:59.535Z"
   },
   {
    "duration": 19,
    "start_time": "2023-05-12T13:14:00.397Z"
   },
   {
    "duration": 21,
    "start_time": "2023-05-12T13:14:00.417Z"
   },
   {
    "duration": 28,
    "start_time": "2023-05-12T13:14:00.451Z"
   },
   {
    "duration": 32,
    "start_time": "2023-05-12T13:14:00.481Z"
   },
   {
    "duration": 38,
    "start_time": "2023-05-12T13:14:00.519Z"
   },
   {
    "duration": 61,
    "start_time": "2023-05-12T13:14:00.559Z"
   },
   {
    "duration": 44,
    "start_time": "2023-05-12T13:14:00.622Z"
   },
   {
    "duration": 28,
    "start_time": "2023-05-12T13:14:00.668Z"
   },
   {
    "duration": 98,
    "start_time": "2023-05-12T13:14:00.698Z"
   },
   {
    "duration": 13,
    "start_time": "2023-05-12T13:14:00.798Z"
   },
   {
    "duration": 33,
    "start_time": "2023-05-12T13:14:00.813Z"
   },
   {
    "duration": 38,
    "start_time": "2023-05-12T13:14:00.850Z"
   },
   {
    "duration": 55,
    "start_time": "2023-05-12T13:14:00.892Z"
   },
   {
    "duration": 15,
    "start_time": "2023-05-12T13:14:00.948Z"
   },
   {
    "duration": 230,
    "start_time": "2023-05-12T13:14:00.964Z"
   },
   {
    "duration": 1518,
    "start_time": "2023-05-12T13:14:01.198Z"
   },
   {
    "duration": 1373,
    "start_time": "2023-05-12T13:14:02.718Z"
   },
   {
    "duration": 1519,
    "start_time": "2023-05-12T13:14:04.093Z"
   },
   {
    "duration": 478,
    "start_time": "2023-05-12T13:14:05.614Z"
   },
   {
    "duration": 482,
    "start_time": "2023-05-12T13:14:06.095Z"
   },
   {
    "duration": 1570,
    "start_time": "2023-05-12T13:14:06.585Z"
   },
   {
    "duration": 306,
    "start_time": "2023-05-12T13:14:08.157Z"
   },
   {
    "duration": 1260,
    "start_time": "2023-05-12T13:14:08.465Z"
   },
   {
    "duration": 9,
    "start_time": "2023-05-12T13:14:09.727Z"
   },
   {
    "duration": 1478,
    "start_time": "2023-05-12T13:14:09.737Z"
   },
   {
    "duration": 3,
    "start_time": "2023-05-12T13:14:11.217Z"
   },
   {
    "duration": 5,
    "start_time": "2023-05-12T13:14:11.222Z"
   },
   {
    "duration": 29,
    "start_time": "2023-05-12T13:14:11.228Z"
   },
   {
    "duration": 13,
    "start_time": "2023-05-12T13:14:11.270Z"
   },
   {
    "duration": 10,
    "start_time": "2023-05-12T13:14:11.284Z"
   },
   {
    "duration": 4,
    "start_time": "2023-05-12T13:14:11.295Z"
   },
   {
    "duration": 11,
    "start_time": "2023-05-12T13:14:11.300Z"
   },
   {
    "duration": 8,
    "start_time": "2023-05-12T13:14:11.312Z"
   },
   {
    "duration": 33,
    "start_time": "2023-05-12T13:14:11.321Z"
   },
   {
    "duration": 43,
    "start_time": "2023-05-12T13:14:11.361Z"
   },
   {
    "duration": 73,
    "start_time": "2023-05-12T13:14:11.406Z"
   },
   {
    "duration": 50,
    "start_time": "2023-05-12T13:14:11.481Z"
   },
   {
    "duration": 3,
    "start_time": "2023-05-12T13:14:11.532Z"
   },
   {
    "duration": 1096,
    "start_time": "2023-05-12T13:14:11.562Z"
   },
   {
    "duration": 1823,
    "start_time": "2023-05-12T13:14:12.664Z"
   },
   {
    "duration": 17,
    "start_time": "2023-05-12T13:14:14.553Z"
   },
   {
    "duration": 123,
    "start_time": "2023-05-12T13:14:14.572Z"
   },
   {
    "duration": 166,
    "start_time": "2023-05-12T13:14:14.696Z"
   },
   {
    "duration": 80,
    "start_time": "2023-05-12T13:14:14.871Z"
   },
   {
    "duration": 8,
    "start_time": "2023-05-12T13:14:14.953Z"
   },
   {
    "duration": 1490,
    "start_time": "2023-05-12T13:20:11.936Z"
   },
   {
    "duration": 889,
    "start_time": "2023-05-12T13:20:13.429Z"
   },
   {
    "duration": 31,
    "start_time": "2023-05-12T13:20:14.321Z"
   },
   {
    "duration": 27,
    "start_time": "2023-05-12T13:20:14.360Z"
   },
   {
    "duration": 23,
    "start_time": "2023-05-12T13:20:14.395Z"
   },
   {
    "duration": 10,
    "start_time": "2023-05-12T13:20:14.421Z"
   },
   {
    "duration": 33,
    "start_time": "2023-05-12T13:20:14.433Z"
   },
   {
    "duration": 14,
    "start_time": "2023-05-12T13:20:14.469Z"
   },
   {
    "duration": 8,
    "start_time": "2023-05-12T13:20:14.488Z"
   },
   {
    "duration": 5,
    "start_time": "2023-05-12T13:20:14.498Z"
   },
   {
    "duration": 101,
    "start_time": "2023-05-12T13:20:14.505Z"
   },
   {
    "duration": 13,
    "start_time": "2023-05-12T13:20:14.614Z"
   },
   {
    "duration": 9,
    "start_time": "2023-05-12T13:20:14.629Z"
   },
   {
    "duration": 25,
    "start_time": "2023-05-12T13:20:14.640Z"
   },
   {
    "duration": 46,
    "start_time": "2023-05-12T13:20:14.671Z"
   },
   {
    "duration": 6,
    "start_time": "2023-05-12T13:20:14.719Z"
   },
   {
    "duration": 215,
    "start_time": "2023-05-12T13:20:14.726Z"
   },
   {
    "duration": 1577,
    "start_time": "2023-05-12T13:20:14.942Z"
   },
   {
    "duration": 1392,
    "start_time": "2023-05-12T13:20:16.520Z"
   },
   {
    "duration": 1462,
    "start_time": "2023-05-12T13:20:17.914Z"
   },
   {
    "duration": 447,
    "start_time": "2023-05-12T13:20:19.382Z"
   },
   {
    "duration": 472,
    "start_time": "2023-05-12T13:20:19.831Z"
   },
   {
    "duration": 1431,
    "start_time": "2023-05-12T13:20:20.305Z"
   },
   {
    "duration": 274,
    "start_time": "2023-05-12T13:20:21.737Z"
   },
   {
    "duration": 1205,
    "start_time": "2023-05-12T13:20:22.013Z"
   },
   {
    "duration": 8,
    "start_time": "2023-05-12T13:20:23.220Z"
   },
   {
    "duration": 1561,
    "start_time": "2023-05-12T13:20:23.229Z"
   },
   {
    "duration": 4,
    "start_time": "2023-05-12T13:20:24.797Z"
   },
   {
    "duration": 5,
    "start_time": "2023-05-12T13:20:24.803Z"
   },
   {
    "duration": 10,
    "start_time": "2023-05-12T13:20:24.809Z"
   },
   {
    "duration": 5,
    "start_time": "2023-05-12T13:20:24.821Z"
   },
   {
    "duration": 28,
    "start_time": "2023-05-12T13:20:24.827Z"
   },
   {
    "duration": 10,
    "start_time": "2023-05-12T13:20:24.858Z"
   },
   {
    "duration": 37,
    "start_time": "2023-05-12T13:20:24.870Z"
   },
   {
    "duration": 8,
    "start_time": "2023-05-12T13:20:24.909Z"
   },
   {
    "duration": 6,
    "start_time": "2023-05-12T13:20:24.918Z"
   },
   {
    "duration": 35,
    "start_time": "2023-05-12T13:20:24.925Z"
   },
   {
    "duration": 39,
    "start_time": "2023-05-12T13:20:24.961Z"
   },
   {
    "duration": 79,
    "start_time": "2023-05-12T13:20:25.002Z"
   },
   {
    "duration": 6,
    "start_time": "2023-05-12T13:20:25.086Z"
   },
   {
    "duration": 1564,
    "start_time": "2023-05-12T13:20:25.096Z"
   },
   {
    "duration": 1996,
    "start_time": "2023-05-12T13:20:26.664Z"
   },
   {
    "duration": 14,
    "start_time": "2023-05-12T13:20:28.662Z"
   },
   {
    "duration": 346,
    "start_time": "2023-05-12T13:20:28.749Z"
   },
   {
    "duration": 103,
    "start_time": "2023-05-12T13:20:29.168Z"
   },
   {
    "duration": 13,
    "start_time": "2023-05-12T13:20:29.275Z"
   },
   {
    "duration": 6,
    "start_time": "2023-05-12T13:20:29.290Z"
   },
   {
    "duration": 21020,
    "start_time": "2023-05-12T13:20:29.298Z"
   },
   {
    "duration": 1781,
    "start_time": "2023-05-12T13:24:49.293Z"
   },
   {
    "duration": 937,
    "start_time": "2023-05-12T13:24:51.084Z"
   },
   {
    "duration": 39,
    "start_time": "2023-05-12T13:24:52.023Z"
   },
   {
    "duration": 24,
    "start_time": "2023-05-12T13:24:52.074Z"
   },
   {
    "duration": 45,
    "start_time": "2023-05-12T13:24:52.107Z"
   },
   {
    "duration": 19,
    "start_time": "2023-05-12T13:24:52.159Z"
   },
   {
    "duration": 24,
    "start_time": "2023-05-12T13:24:52.180Z"
   },
   {
    "duration": 43,
    "start_time": "2023-05-12T13:24:52.206Z"
   },
   {
    "duration": 32,
    "start_time": "2023-05-12T13:24:52.251Z"
   },
   {
    "duration": 28,
    "start_time": "2023-05-12T13:24:52.285Z"
   },
   {
    "duration": 103,
    "start_time": "2023-05-12T13:24:52.315Z"
   },
   {
    "duration": 17,
    "start_time": "2023-05-12T13:24:52.420Z"
   },
   {
    "duration": 76,
    "start_time": "2023-05-12T13:24:52.438Z"
   },
   {
    "duration": 17,
    "start_time": "2023-05-12T13:24:52.517Z"
   },
   {
    "duration": 79,
    "start_time": "2023-05-12T13:24:52.536Z"
   },
   {
    "duration": 9,
    "start_time": "2023-05-12T13:24:52.617Z"
   },
   {
    "duration": 237,
    "start_time": "2023-05-12T13:24:52.628Z"
   },
   {
    "duration": 1637,
    "start_time": "2023-05-12T13:24:52.866Z"
   },
   {
    "duration": 1511,
    "start_time": "2023-05-12T13:24:54.505Z"
   },
   {
    "duration": 1519,
    "start_time": "2023-05-12T13:24:56.018Z"
   },
   {
    "duration": 500,
    "start_time": "2023-05-12T13:24:57.540Z"
   },
   {
    "duration": 622,
    "start_time": "2023-05-12T13:24:58.042Z"
   },
   {
    "duration": 1558,
    "start_time": "2023-05-12T13:24:58.666Z"
   },
   {
    "duration": 297,
    "start_time": "2023-05-12T13:25:00.226Z"
   },
   {
    "duration": 1420,
    "start_time": "2023-05-12T13:25:00.525Z"
   },
   {
    "duration": 19,
    "start_time": "2023-05-12T13:25:01.950Z"
   },
   {
    "duration": 1554,
    "start_time": "2023-05-12T13:25:01.971Z"
   },
   {
    "duration": 3,
    "start_time": "2023-05-12T13:25:03.527Z"
   },
   {
    "duration": 22,
    "start_time": "2023-05-12T13:25:03.532Z"
   },
   {
    "duration": 19,
    "start_time": "2023-05-12T13:25:03.555Z"
   },
   {
    "duration": 14,
    "start_time": "2023-05-12T13:25:03.576Z"
   },
   {
    "duration": 18,
    "start_time": "2023-05-12T13:25:03.592Z"
   },
   {
    "duration": 3,
    "start_time": "2023-05-12T13:25:03.612Z"
   },
   {
    "duration": 7,
    "start_time": "2023-05-12T13:25:03.617Z"
   },
   {
    "duration": 11,
    "start_time": "2023-05-12T13:25:03.625Z"
   },
   {
    "duration": 6,
    "start_time": "2023-05-12T13:25:03.638Z"
   },
   {
    "duration": 51,
    "start_time": "2023-05-12T13:25:03.645Z"
   },
   {
    "duration": 35,
    "start_time": "2023-05-12T13:25:03.698Z"
   },
   {
    "duration": 81,
    "start_time": "2023-05-12T13:25:03.749Z"
   },
   {
    "duration": 3,
    "start_time": "2023-05-12T13:25:03.832Z"
   },
   {
    "duration": 1231,
    "start_time": "2023-05-12T13:25:03.840Z"
   },
   {
    "duration": 1552,
    "start_time": "2023-05-12T13:28:41.149Z"
   },
   {
    "duration": 890,
    "start_time": "2023-05-12T13:28:42.703Z"
   },
   {
    "duration": 20,
    "start_time": "2023-05-12T13:28:43.595Z"
   },
   {
    "duration": 13,
    "start_time": "2023-05-12T13:28:43.617Z"
   },
   {
    "duration": 24,
    "start_time": "2023-05-12T13:28:43.650Z"
   },
   {
    "duration": 21,
    "start_time": "2023-05-12T13:28:43.676Z"
   },
   {
    "duration": 11,
    "start_time": "2023-05-12T13:28:43.700Z"
   },
   {
    "duration": 17,
    "start_time": "2023-05-12T13:28:43.712Z"
   },
   {
    "duration": 33,
    "start_time": "2023-05-12T13:28:43.731Z"
   },
   {
    "duration": 13,
    "start_time": "2023-05-12T13:28:43.767Z"
   },
   {
    "duration": 66,
    "start_time": "2023-05-12T13:28:43.785Z"
   },
   {
    "duration": 28,
    "start_time": "2023-05-12T13:28:43.852Z"
   },
   {
    "duration": 11,
    "start_time": "2023-05-12T13:28:43.884Z"
   },
   {
    "duration": 13,
    "start_time": "2023-05-12T13:28:43.897Z"
   },
   {
    "duration": 63,
    "start_time": "2023-05-12T13:28:43.911Z"
   },
   {
    "duration": 14,
    "start_time": "2023-05-12T13:28:43.975Z"
   },
   {
    "duration": 239,
    "start_time": "2023-05-12T13:28:43.991Z"
   },
   {
    "duration": 1575,
    "start_time": "2023-05-12T13:28:44.232Z"
   },
   {
    "duration": 1420,
    "start_time": "2023-05-12T13:28:45.808Z"
   },
   {
    "duration": 1482,
    "start_time": "2023-05-12T13:28:47.230Z"
   },
   {
    "duration": 468,
    "start_time": "2023-05-12T13:28:48.714Z"
   },
   {
    "duration": 479,
    "start_time": "2023-05-12T13:28:49.190Z"
   },
   {
    "duration": 1498,
    "start_time": "2023-05-12T13:28:49.671Z"
   },
   {
    "duration": 252,
    "start_time": "2023-05-12T13:28:51.179Z"
   },
   {
    "duration": 1262,
    "start_time": "2023-05-12T13:28:51.432Z"
   },
   {
    "duration": 8,
    "start_time": "2023-05-12T13:28:52.698Z"
   },
   {
    "duration": 1445,
    "start_time": "2023-05-12T13:28:52.708Z"
   },
   {
    "duration": 4,
    "start_time": "2023-05-12T13:28:54.157Z"
   },
   {
    "duration": 24,
    "start_time": "2023-05-12T13:28:54.163Z"
   },
   {
    "duration": 11,
    "start_time": "2023-05-12T13:28:54.196Z"
   },
   {
    "duration": 9,
    "start_time": "2023-05-12T13:28:54.209Z"
   },
   {
    "duration": 11,
    "start_time": "2023-05-12T13:28:54.219Z"
   },
   {
    "duration": 20,
    "start_time": "2023-05-12T13:28:54.232Z"
   },
   {
    "duration": 20,
    "start_time": "2023-05-12T13:28:54.256Z"
   },
   {
    "duration": 11,
    "start_time": "2023-05-12T13:28:54.283Z"
   },
   {
    "duration": 16,
    "start_time": "2023-05-12T13:28:54.295Z"
   },
   {
    "duration": 47,
    "start_time": "2023-05-12T13:28:54.313Z"
   },
   {
    "duration": 56,
    "start_time": "2023-05-12T13:28:54.362Z"
   },
   {
    "duration": 75,
    "start_time": "2023-05-12T13:28:54.420Z"
   },
   {
    "duration": 3,
    "start_time": "2023-05-12T13:28:54.496Z"
   },
   {
    "duration": 1065,
    "start_time": "2023-05-12T13:28:54.501Z"
   },
   {
    "duration": 1406,
    "start_time": "2023-05-12T13:28:55.568Z"
   },
   {
    "duration": 13,
    "start_time": "2023-05-12T13:28:57.052Z"
   },
   {
    "duration": 482,
    "start_time": "2023-05-12T13:28:57.074Z"
   },
   {
    "duration": 124,
    "start_time": "2023-05-12T13:28:57.558Z"
   },
   {
    "duration": 81,
    "start_time": "2023-05-12T13:28:57.687Z"
   },
   {
    "duration": 10,
    "start_time": "2023-05-12T13:28:57.774Z"
   },
   {
    "duration": 24137,
    "start_time": "2023-05-12T13:28:57.789Z"
   },
   {
    "duration": 1423,
    "start_time": "2023-05-12T13:30:25.424Z"
   },
   {
    "duration": 846,
    "start_time": "2023-05-12T13:30:26.849Z"
   },
   {
    "duration": 20,
    "start_time": "2023-05-12T13:30:27.696Z"
   },
   {
    "duration": 46,
    "start_time": "2023-05-12T13:30:27.718Z"
   },
   {
    "duration": 25,
    "start_time": "2023-05-12T13:30:27.770Z"
   },
   {
    "duration": 11,
    "start_time": "2023-05-12T13:30:27.797Z"
   },
   {
    "duration": 5,
    "start_time": "2023-05-12T13:30:27.810Z"
   },
   {
    "duration": 10,
    "start_time": "2023-05-12T13:30:27.817Z"
   },
   {
    "duration": 22,
    "start_time": "2023-05-12T13:30:27.829Z"
   },
   {
    "duration": 6,
    "start_time": "2023-05-12T13:30:27.854Z"
   },
   {
    "duration": 69,
    "start_time": "2023-05-12T13:30:27.862Z"
   },
   {
    "duration": 35,
    "start_time": "2023-05-12T13:30:27.932Z"
   },
   {
    "duration": 16,
    "start_time": "2023-05-12T13:30:27.973Z"
   },
   {
    "duration": 11,
    "start_time": "2023-05-12T13:30:27.991Z"
   },
   {
    "duration": 50,
    "start_time": "2023-05-12T13:30:28.003Z"
   },
   {
    "duration": 9,
    "start_time": "2023-05-12T13:30:28.056Z"
   },
   {
    "duration": 190,
    "start_time": "2023-05-12T13:30:28.073Z"
   },
   {
    "duration": 1452,
    "start_time": "2023-05-12T13:30:28.269Z"
   },
   {
    "duration": 1383,
    "start_time": "2023-05-12T13:30:29.722Z"
   },
   {
    "duration": 1450,
    "start_time": "2023-05-12T13:30:31.107Z"
   },
   {
    "duration": 445,
    "start_time": "2023-05-12T13:30:32.560Z"
   },
   {
    "duration": 428,
    "start_time": "2023-05-12T13:30:33.007Z"
   },
   {
    "duration": 1494,
    "start_time": "2023-05-12T13:30:33.436Z"
   },
   {
    "duration": 267,
    "start_time": "2023-05-12T13:30:34.931Z"
   },
   {
    "duration": 1204,
    "start_time": "2023-05-12T13:30:35.200Z"
   },
   {
    "duration": 9,
    "start_time": "2023-05-12T13:30:36.406Z"
   },
   {
    "duration": 1419,
    "start_time": "2023-05-12T13:30:36.417Z"
   },
   {
    "duration": 3,
    "start_time": "2023-05-12T13:30:37.839Z"
   },
   {
    "duration": 11,
    "start_time": "2023-05-12T13:30:37.844Z"
   },
   {
    "duration": 16,
    "start_time": "2023-05-12T13:30:37.857Z"
   },
   {
    "duration": 11,
    "start_time": "2023-05-12T13:30:37.875Z"
   },
   {
    "duration": 12,
    "start_time": "2023-05-12T13:30:37.888Z"
   },
   {
    "duration": 4,
    "start_time": "2023-05-12T13:30:37.901Z"
   },
   {
    "duration": 18,
    "start_time": "2023-05-12T13:30:37.906Z"
   },
   {
    "duration": 35,
    "start_time": "2023-05-12T13:30:37.925Z"
   },
   {
    "duration": 9,
    "start_time": "2023-05-12T13:30:37.967Z"
   },
   {
    "duration": 41,
    "start_time": "2023-05-12T13:30:37.977Z"
   },
   {
    "duration": 46,
    "start_time": "2023-05-12T13:30:38.019Z"
   },
   {
    "duration": 54,
    "start_time": "2023-05-12T13:30:38.066Z"
   },
   {
    "duration": 3,
    "start_time": "2023-05-12T13:30:38.122Z"
   },
   {
    "duration": 1247,
    "start_time": "2023-05-12T13:30:38.127Z"
   },
   {
    "duration": 2007,
    "start_time": "2023-05-12T13:30:39.455Z"
   },
   {
    "duration": 13,
    "start_time": "2023-05-12T13:30:41.469Z"
   },
   {
    "duration": 481,
    "start_time": "2023-05-12T13:30:41.485Z"
   },
   {
    "duration": 104,
    "start_time": "2023-05-12T13:30:41.972Z"
   },
   {
    "duration": 96,
    "start_time": "2023-05-12T13:30:42.078Z"
   },
   {
    "duration": 11,
    "start_time": "2023-05-12T13:30:42.179Z"
   },
   {
    "duration": 24171,
    "start_time": "2023-05-12T13:30:42.249Z"
   },
   {
    "duration": 33810,
    "start_time": "2023-05-12T13:31:06.422Z"
   },
   {
    "duration": 177,
    "start_time": "2023-05-12T13:31:40.234Z"
   },
   {
    "duration": 8,
    "start_time": "2023-05-12T13:32:06.355Z"
   },
   {
    "duration": 20781,
    "start_time": "2023-05-12T13:35:28.299Z"
   },
   {
    "duration": 27610,
    "start_time": "2023-05-12T13:35:49.082Z"
   },
   {
    "duration": 4,
    "start_time": "2023-05-12T13:36:16.695Z"
   },
   {
    "duration": 17121,
    "start_time": "2023-05-12T13:37:35.104Z"
   },
   {
    "duration": 22581,
    "start_time": "2023-05-12T13:37:52.227Z"
   },
   {
    "duration": 3,
    "start_time": "2023-05-12T13:38:14.810Z"
   },
   {
    "duration": 13425,
    "start_time": "2023-05-12T13:38:35.320Z"
   },
   {
    "duration": 17497,
    "start_time": "2023-05-12T13:38:48.747Z"
   },
   {
    "duration": 11,
    "start_time": "2023-05-12T13:39:06.246Z"
   },
   {
    "duration": 16982,
    "start_time": "2023-05-12T13:42:26.610Z"
   },
   {
    "duration": 23713,
    "start_time": "2023-05-12T13:42:43.594Z"
   },
   {
    "duration": 5,
    "start_time": "2023-05-12T13:43:07.308Z"
   },
   {
    "duration": 53851,
    "start_time": "2023-05-12T13:46:03.784Z"
   },
   {
    "duration": 391671,
    "start_time": "2023-05-12T13:46:57.637Z"
   },
   {
    "duration": 4,
    "start_time": "2023-05-12T13:53:29.309Z"
   },
   {
    "duration": 10905,
    "start_time": "2023-05-12T13:56:32.501Z"
   },
   {
    "duration": 11302,
    "start_time": "2023-05-12T13:58:14.005Z"
   },
   {
    "duration": 11048,
    "start_time": "2023-05-12T13:59:03.550Z"
   },
   {
    "duration": 70,
    "start_time": "2023-05-12T14:02:33.405Z"
   },
   {
    "duration": 23962,
    "start_time": "2023-05-12T14:02:46.900Z"
   },
   {
    "duration": 12454,
    "start_time": "2023-05-12T14:09:47.524Z"
   },
   {
    "duration": 53135,
    "start_time": "2023-05-12T14:10:58.145Z"
   },
   {
    "duration": 20,
    "start_time": "2023-05-12T14:19:29.239Z"
   },
   {
    "duration": 9846,
    "start_time": "2023-05-12T14:20:53.122Z"
   },
   {
    "duration": 6311,
    "start_time": "2023-05-12T14:22:20.386Z"
   },
   {
    "duration": 6251,
    "start_time": "2023-05-12T14:22:35.950Z"
   },
   {
    "duration": 8305,
    "start_time": "2023-05-12T14:23:12.131Z"
   },
   {
    "duration": 4,
    "start_time": "2023-05-12T14:23:40.090Z"
   },
   {
    "duration": 9300,
    "start_time": "2023-05-12T14:23:55.079Z"
   },
   {
    "duration": 12478,
    "start_time": "2023-05-12T14:24:04.382Z"
   },
   {
    "duration": 5,
    "start_time": "2023-05-12T14:24:16.862Z"
   },
   {
    "duration": 11,
    "start_time": "2023-05-12T14:26:29.436Z"
   },
   {
    "duration": 10,
    "start_time": "2023-05-12T14:28:13.694Z"
   },
   {
    "duration": 9,
    "start_time": "2023-05-12T14:28:40.810Z"
   },
   {
    "duration": 10,
    "start_time": "2023-05-12T14:29:21.191Z"
   },
   {
    "duration": 6177,
    "start_time": "2023-05-12T14:29:39.437Z"
   },
   {
    "duration": 8133,
    "start_time": "2023-05-12T14:29:45.616Z"
   },
   {
    "duration": 3,
    "start_time": "2023-05-12T14:29:53.751Z"
   },
   {
    "duration": 5,
    "start_time": "2023-05-12T14:29:53.756Z"
   },
   {
    "duration": 6611,
    "start_time": "2023-05-12T14:30:39.848Z"
   },
   {
    "duration": 8917,
    "start_time": "2023-05-12T14:30:46.461Z"
   },
   {
    "duration": 3,
    "start_time": "2023-05-12T14:30:55.380Z"
   },
   {
    "duration": 7,
    "start_time": "2023-05-12T14:30:55.385Z"
   },
   {
    "duration": 4,
    "start_time": "2023-05-12T14:31:10.834Z"
   },
   {
    "duration": 80,
    "start_time": "2023-05-13T12:03:32.496Z"
   },
   {
    "duration": 1853,
    "start_time": "2023-05-13T12:03:38.776Z"
   },
   {
    "duration": 3462,
    "start_time": "2023-05-13T12:03:40.632Z"
   },
   {
    "duration": 22,
    "start_time": "2023-05-13T12:03:44.096Z"
   },
   {
    "duration": 14,
    "start_time": "2023-05-13T12:03:44.120Z"
   },
   {
    "duration": 43,
    "start_time": "2023-05-13T12:03:44.138Z"
   },
   {
    "duration": 12,
    "start_time": "2023-05-13T12:03:44.183Z"
   },
   {
    "duration": 9,
    "start_time": "2023-05-13T12:03:44.197Z"
   },
   {
    "duration": 12,
    "start_time": "2023-05-13T12:03:44.208Z"
   },
   {
    "duration": 44,
    "start_time": "2023-05-13T12:03:44.221Z"
   },
   {
    "duration": 12,
    "start_time": "2023-05-13T12:03:44.267Z"
   },
   {
    "duration": 64,
    "start_time": "2023-05-13T12:03:44.282Z"
   },
   {
    "duration": 31,
    "start_time": "2023-05-13T12:03:44.347Z"
   },
   {
    "duration": 23,
    "start_time": "2023-05-13T12:03:44.381Z"
   },
   {
    "duration": 29,
    "start_time": "2023-05-13T12:03:44.407Z"
   },
   {
    "duration": 53,
    "start_time": "2023-05-13T12:03:44.438Z"
   },
   {
    "duration": 11,
    "start_time": "2023-05-13T12:03:44.493Z"
   },
   {
    "duration": 224,
    "start_time": "2023-05-13T12:03:44.507Z"
   },
   {
    "duration": 1546,
    "start_time": "2023-05-13T12:03:44.733Z"
   },
   {
    "duration": 1420,
    "start_time": "2023-05-13T12:03:46.281Z"
   },
   {
    "duration": 1491,
    "start_time": "2023-05-13T12:03:47.703Z"
   },
   {
    "duration": 539,
    "start_time": "2023-05-13T12:03:49.196Z"
   },
   {
    "duration": 482,
    "start_time": "2023-05-13T12:03:49.737Z"
   },
   {
    "duration": 1462,
    "start_time": "2023-05-13T12:03:50.222Z"
   },
   {
    "duration": 253,
    "start_time": "2023-05-13T12:03:51.686Z"
   },
   {
    "duration": 1258,
    "start_time": "2023-05-13T12:03:51.941Z"
   },
   {
    "duration": 12,
    "start_time": "2023-05-13T12:03:53.201Z"
   },
   {
    "duration": 1402,
    "start_time": "2023-05-13T12:03:53.215Z"
   },
   {
    "duration": 4,
    "start_time": "2023-05-13T12:03:54.619Z"
   },
   {
    "duration": 10,
    "start_time": "2023-05-13T12:03:54.624Z"
   },
   {
    "duration": 30,
    "start_time": "2023-05-13T12:03:54.636Z"
   },
   {
    "duration": 41,
    "start_time": "2023-05-13T12:03:54.668Z"
   },
   {
    "duration": 11,
    "start_time": "2023-05-13T12:03:54.710Z"
   },
   {
    "duration": 3,
    "start_time": "2023-05-13T12:03:54.723Z"
   },
   {
    "duration": 6,
    "start_time": "2023-05-13T12:03:54.728Z"
   },
   {
    "duration": 9,
    "start_time": "2023-05-13T12:03:54.736Z"
   },
   {
    "duration": 5,
    "start_time": "2023-05-13T12:03:54.747Z"
   },
   {
    "duration": 44,
    "start_time": "2023-05-13T12:03:54.754Z"
   },
   {
    "duration": 42,
    "start_time": "2023-05-13T12:03:54.799Z"
   },
   {
    "duration": 65,
    "start_time": "2023-05-13T12:03:54.843Z"
   },
   {
    "duration": 3,
    "start_time": "2023-05-13T12:03:54.910Z"
   },
   {
    "duration": 1347,
    "start_time": "2023-05-13T12:03:54.917Z"
   },
   {
    "duration": 1494,
    "start_time": "2023-05-13T12:03:56.268Z"
   },
   {
    "duration": 5,
    "start_time": "2023-05-13T12:03:57.767Z"
   },
   {
    "duration": 300,
    "start_time": "2023-05-13T12:03:57.775Z"
   },
   {
    "duration": 101,
    "start_time": "2023-05-13T12:03:58.078Z"
   },
   {
    "duration": 84,
    "start_time": "2023-05-13T12:03:58.182Z"
   },
   {
    "duration": 4,
    "start_time": "2023-05-13T12:03:58.268Z"
   },
   {
    "duration": 6616,
    "start_time": "2023-05-13T12:03:58.274Z"
   },
   {
    "duration": 8675,
    "start_time": "2023-05-13T12:04:04.892Z"
   },
   {
    "duration": 5,
    "start_time": "2023-05-13T12:04:13.573Z"
   },
   {
    "duration": 1797,
    "start_time": "2023-05-13T12:04:13.580Z"
   },
   {
    "duration": 0,
    "start_time": "2023-05-13T12:04:15.379Z"
   },
   {
    "duration": 0,
    "start_time": "2023-05-13T12:04:15.381Z"
   },
   {
    "duration": 1749,
    "start_time": "2023-05-13T12:04:36.270Z"
   },
   {
    "duration": 63,
    "start_time": "2023-05-13T12:10:20.096Z"
   },
   {
    "duration": 55,
    "start_time": "2023-05-13T12:10:30.870Z"
   },
   {
    "duration": 98,
    "start_time": "2023-05-13T12:10:35.566Z"
   },
   {
    "duration": 243,
    "start_time": "2023-05-13T12:10:39.013Z"
   },
   {
    "duration": 5,
    "start_time": "2023-05-13T12:10:41.493Z"
   },
   {
    "duration": 11,
    "start_time": "2023-05-13T12:10:45.338Z"
   },
   {
    "duration": 6468,
    "start_time": "2023-05-13T12:11:02.626Z"
   },
   {
    "duration": 8354,
    "start_time": "2023-05-13T12:11:09.097Z"
   },
   {
    "duration": 5,
    "start_time": "2023-05-13T12:11:17.457Z"
   },
   {
    "duration": 1624,
    "start_time": "2023-05-13T12:11:21.124Z"
   },
   {
    "duration": 2099,
    "start_time": "2023-05-13T12:11:30.114Z"
   },
   {
    "duration": 4,
    "start_time": "2023-05-13T12:11:34.942Z"
   },
   {
    "duration": 1596,
    "start_time": "2023-05-13T12:12:27.874Z"
   },
   {
    "duration": 788,
    "start_time": "2023-05-13T12:12:29.473Z"
   },
   {
    "duration": 24,
    "start_time": "2023-05-13T12:12:30.263Z"
   },
   {
    "duration": 34,
    "start_time": "2023-05-13T12:12:30.289Z"
   },
   {
    "duration": 56,
    "start_time": "2023-05-13T12:12:30.325Z"
   },
   {
    "duration": 42,
    "start_time": "2023-05-13T12:12:30.383Z"
   },
   {
    "duration": 57,
    "start_time": "2023-05-13T12:12:30.427Z"
   },
   {
    "duration": 91,
    "start_time": "2023-05-13T12:12:30.486Z"
   },
   {
    "duration": 64,
    "start_time": "2023-05-13T12:12:30.579Z"
   },
   {
    "duration": 103,
    "start_time": "2023-05-13T12:12:30.646Z"
   },
   {
    "duration": 109,
    "start_time": "2023-05-13T12:12:30.751Z"
   },
   {
    "duration": 20,
    "start_time": "2023-05-13T12:12:30.862Z"
   },
   {
    "duration": 52,
    "start_time": "2023-05-13T12:12:30.884Z"
   },
   {
    "duration": 41,
    "start_time": "2023-05-13T12:12:30.938Z"
   },
   {
    "duration": 112,
    "start_time": "2023-05-13T12:12:30.981Z"
   },
   {
    "duration": 9,
    "start_time": "2023-05-13T12:12:31.095Z"
   },
   {
    "duration": 225,
    "start_time": "2023-05-13T12:12:31.106Z"
   },
   {
    "duration": 1411,
    "start_time": "2023-05-13T12:12:31.333Z"
   },
   {
    "duration": 1366,
    "start_time": "2023-05-13T12:12:32.746Z"
   },
   {
    "duration": 1467,
    "start_time": "2023-05-13T12:12:34.114Z"
   },
   {
    "duration": 491,
    "start_time": "2023-05-13T12:12:35.583Z"
   },
   {
    "duration": 460,
    "start_time": "2023-05-13T12:12:36.076Z"
   },
   {
    "duration": 1486,
    "start_time": "2023-05-13T12:12:36.538Z"
   },
   {
    "duration": 274,
    "start_time": "2023-05-13T12:12:38.026Z"
   },
   {
    "duration": 1285,
    "start_time": "2023-05-13T12:12:38.302Z"
   },
   {
    "duration": 9,
    "start_time": "2023-05-13T12:12:39.589Z"
   },
   {
    "duration": 1365,
    "start_time": "2023-05-13T12:12:39.600Z"
   },
   {
    "duration": 5,
    "start_time": "2023-05-13T12:12:40.975Z"
   },
   {
    "duration": 9,
    "start_time": "2023-05-13T12:12:40.982Z"
   },
   {
    "duration": 12,
    "start_time": "2023-05-13T12:12:40.994Z"
   },
   {
    "duration": 9,
    "start_time": "2023-05-13T12:12:41.009Z"
   },
   {
    "duration": 23,
    "start_time": "2023-05-13T12:12:41.020Z"
   },
   {
    "duration": 19,
    "start_time": "2023-05-13T12:12:41.044Z"
   },
   {
    "duration": 20,
    "start_time": "2023-05-13T12:12:41.064Z"
   },
   {
    "duration": 16,
    "start_time": "2023-05-13T12:12:41.086Z"
   },
   {
    "duration": 31,
    "start_time": "2023-05-13T12:12:41.104Z"
   },
   {
    "duration": 56,
    "start_time": "2023-05-13T12:12:41.137Z"
   },
   {
    "duration": 67,
    "start_time": "2023-05-13T12:12:41.195Z"
   },
   {
    "duration": 54,
    "start_time": "2023-05-13T12:12:41.264Z"
   },
   {
    "duration": 3,
    "start_time": "2023-05-13T12:12:41.320Z"
   },
   {
    "duration": 1150,
    "start_time": "2023-05-13T12:12:41.325Z"
   },
   {
    "duration": 1576,
    "start_time": "2023-05-13T12:12:42.484Z"
   },
   {
    "duration": 5,
    "start_time": "2023-05-13T12:12:44.066Z"
   },
   {
    "duration": 411,
    "start_time": "2023-05-13T12:12:44.074Z"
   },
   {
    "duration": 0,
    "start_time": "2023-05-13T12:12:44.487Z"
   },
   {
    "duration": 0,
    "start_time": "2023-05-13T12:12:44.488Z"
   },
   {
    "duration": 0,
    "start_time": "2023-05-13T12:12:44.489Z"
   },
   {
    "duration": 0,
    "start_time": "2023-05-13T12:12:44.490Z"
   },
   {
    "duration": 0,
    "start_time": "2023-05-13T12:12:44.491Z"
   },
   {
    "duration": 0,
    "start_time": "2023-05-13T12:12:44.492Z"
   },
   {
    "duration": 0,
    "start_time": "2023-05-13T12:12:44.494Z"
   },
   {
    "duration": 0,
    "start_time": "2023-05-13T12:12:44.495Z"
   },
   {
    "duration": 96,
    "start_time": "2023-05-13T12:14:27.683Z"
   },
   {
    "duration": 110,
    "start_time": "2023-05-13T12:14:36.670Z"
   },
   {
    "duration": 11,
    "start_time": "2023-05-13T12:14:37.185Z"
   },
   {
    "duration": 4,
    "start_time": "2023-05-13T12:14:57.774Z"
   },
   {
    "duration": 6416,
    "start_time": "2023-05-13T12:15:02.302Z"
   },
   {
    "duration": 8732,
    "start_time": "2023-05-13T12:15:08.720Z"
   },
   {
    "duration": 7,
    "start_time": "2023-05-13T12:15:17.461Z"
   },
   {
    "duration": 16,
    "start_time": "2023-05-13T12:15:17.471Z"
   },
   {
    "duration": 0,
    "start_time": "2023-05-13T12:15:17.489Z"
   },
   {
    "duration": 0,
    "start_time": "2023-05-13T12:15:17.491Z"
   },
   {
    "duration": 1655,
    "start_time": "2023-05-13T12:16:01.593Z"
   },
   {
    "duration": 2253,
    "start_time": "2023-05-13T12:16:20.277Z"
   },
   {
    "duration": 4,
    "start_time": "2023-05-13T12:16:22.739Z"
   },
   {
    "duration": 1450,
    "start_time": "2023-05-13T12:35:21.680Z"
   },
   {
    "duration": 767,
    "start_time": "2023-05-13T12:35:23.132Z"
   },
   {
    "duration": 20,
    "start_time": "2023-05-13T12:35:23.901Z"
   },
   {
    "duration": 12,
    "start_time": "2023-05-13T12:35:23.923Z"
   },
   {
    "duration": 25,
    "start_time": "2023-05-13T12:35:23.959Z"
   },
   {
    "duration": 10,
    "start_time": "2023-05-13T12:35:23.986Z"
   },
   {
    "duration": 4,
    "start_time": "2023-05-13T12:35:23.997Z"
   },
   {
    "duration": 14,
    "start_time": "2023-05-13T12:35:24.003Z"
   },
   {
    "duration": 7,
    "start_time": "2023-05-13T12:35:24.019Z"
   },
   {
    "duration": 35,
    "start_time": "2023-05-13T12:35:24.028Z"
   },
   {
    "duration": 60,
    "start_time": "2023-05-13T12:35:24.068Z"
   },
   {
    "duration": 35,
    "start_time": "2023-05-13T12:35:24.130Z"
   },
   {
    "duration": 13,
    "start_time": "2023-05-13T12:35:24.173Z"
   },
   {
    "duration": 11,
    "start_time": "2023-05-13T12:35:24.190Z"
   },
   {
    "duration": 37,
    "start_time": "2023-05-13T12:35:24.203Z"
   },
   {
    "duration": 33,
    "start_time": "2023-05-13T12:35:24.242Z"
   },
   {
    "duration": 190,
    "start_time": "2023-05-13T12:35:24.276Z"
   },
   {
    "duration": 1433,
    "start_time": "2023-05-13T12:35:24.469Z"
   },
   {
    "duration": 1327,
    "start_time": "2023-05-13T12:35:25.903Z"
   },
   {
    "duration": 1378,
    "start_time": "2023-05-13T12:35:27.232Z"
   },
   {
    "duration": 484,
    "start_time": "2023-05-13T12:35:28.611Z"
   },
   {
    "duration": 478,
    "start_time": "2023-05-13T12:35:29.097Z"
   },
   {
    "duration": 1439,
    "start_time": "2023-05-13T12:35:29.579Z"
   },
   {
    "duration": 265,
    "start_time": "2023-05-13T12:35:31.019Z"
   },
   {
    "duration": 1182,
    "start_time": "2023-05-13T12:35:31.286Z"
   },
   {
    "duration": 11,
    "start_time": "2023-05-13T12:35:32.476Z"
   },
   {
    "duration": 1321,
    "start_time": "2023-05-13T12:35:32.488Z"
   },
   {
    "duration": 3,
    "start_time": "2023-05-13T12:35:33.811Z"
   },
   {
    "duration": 14,
    "start_time": "2023-05-13T12:35:33.816Z"
   },
   {
    "duration": 10,
    "start_time": "2023-05-13T12:35:33.832Z"
   },
   {
    "duration": 19,
    "start_time": "2023-05-13T12:35:33.844Z"
   },
   {
    "duration": 12,
    "start_time": "2023-05-13T12:35:33.864Z"
   },
   {
    "duration": 5,
    "start_time": "2023-05-13T12:35:33.882Z"
   },
   {
    "duration": 7,
    "start_time": "2023-05-13T12:35:33.888Z"
   },
   {
    "duration": 8,
    "start_time": "2023-05-13T12:35:33.896Z"
   },
   {
    "duration": 9,
    "start_time": "2023-05-13T12:35:33.905Z"
   },
   {
    "duration": 44,
    "start_time": "2023-05-13T12:35:33.916Z"
   },
   {
    "duration": 43,
    "start_time": "2023-05-13T12:35:33.962Z"
   },
   {
    "duration": 58,
    "start_time": "2023-05-13T12:35:34.007Z"
   },
   {
    "duration": 4,
    "start_time": "2023-05-13T12:35:34.080Z"
   },
   {
    "duration": 993,
    "start_time": "2023-05-13T12:35:34.088Z"
   },
   {
    "duration": 1492,
    "start_time": "2023-05-13T12:35:35.083Z"
   },
   {
    "duration": 72,
    "start_time": "2023-05-13T12:35:36.593Z"
   },
   {
    "duration": 99,
    "start_time": "2023-05-13T12:35:36.674Z"
   },
   {
    "duration": 409,
    "start_time": "2023-05-13T12:35:36.778Z"
   },
   {
    "duration": 76,
    "start_time": "2023-05-13T12:35:37.189Z"
   },
   {
    "duration": 6609,
    "start_time": "2023-05-13T12:35:37.271Z"
   },
   {
    "duration": 8515,
    "start_time": "2023-05-13T12:35:43.885Z"
   },
   {
    "duration": 4,
    "start_time": "2023-05-13T12:35:52.401Z"
   },
   {
    "duration": 1625,
    "start_time": "2023-05-13T12:35:52.406Z"
   },
   {
    "duration": 2178,
    "start_time": "2023-05-13T12:35:54.033Z"
   },
   {
    "duration": 3,
    "start_time": "2023-05-13T12:35:56.213Z"
   },
   {
    "duration": 1536,
    "start_time": "2023-05-13T12:37:46.563Z"
   },
   {
    "duration": 812,
    "start_time": "2023-05-13T12:37:48.102Z"
   },
   {
    "duration": 23,
    "start_time": "2023-05-13T12:37:48.916Z"
   },
   {
    "duration": 32,
    "start_time": "2023-05-13T12:37:48.942Z"
   },
   {
    "duration": 30,
    "start_time": "2023-05-13T12:37:48.975Z"
   },
   {
    "duration": 11,
    "start_time": "2023-05-13T12:37:49.008Z"
   },
   {
    "duration": 10,
    "start_time": "2023-05-13T12:37:49.021Z"
   },
   {
    "duration": 40,
    "start_time": "2023-05-13T12:37:49.034Z"
   },
   {
    "duration": 12,
    "start_time": "2023-05-13T12:37:49.080Z"
   },
   {
    "duration": 13,
    "start_time": "2023-05-13T12:37:49.095Z"
   },
   {
    "duration": 86,
    "start_time": "2023-05-13T12:37:49.111Z"
   },
   {
    "duration": 16,
    "start_time": "2023-05-13T12:37:49.200Z"
   },
   {
    "duration": 11,
    "start_time": "2023-05-13T12:37:49.218Z"
   },
   {
    "duration": 35,
    "start_time": "2023-05-13T12:37:49.231Z"
   },
   {
    "duration": 56,
    "start_time": "2023-05-13T12:37:49.268Z"
   },
   {
    "duration": 6,
    "start_time": "2023-05-13T12:37:49.326Z"
   },
   {
    "duration": 208,
    "start_time": "2023-05-13T12:37:49.333Z"
   },
   {
    "duration": 1474,
    "start_time": "2023-05-13T12:37:49.543Z"
   },
   {
    "duration": 1425,
    "start_time": "2023-05-13T12:37:51.019Z"
   },
   {
    "duration": 1437,
    "start_time": "2023-05-13T12:37:52.446Z"
   },
   {
    "duration": 444,
    "start_time": "2023-05-13T12:37:53.885Z"
   },
   {
    "duration": 443,
    "start_time": "2023-05-13T12:37:54.331Z"
   },
   {
    "duration": 1507,
    "start_time": "2023-05-13T12:37:54.777Z"
   },
   {
    "duration": 245,
    "start_time": "2023-05-13T12:37:56.286Z"
   },
   {
    "duration": 1203,
    "start_time": "2023-05-13T12:37:56.533Z"
   },
   {
    "duration": 9,
    "start_time": "2023-05-13T12:37:57.738Z"
   },
   {
    "duration": 1455,
    "start_time": "2023-05-13T12:37:57.749Z"
   },
   {
    "duration": 5,
    "start_time": "2023-05-13T12:37:59.210Z"
   },
   {
    "duration": 19,
    "start_time": "2023-05-13T12:37:59.217Z"
   },
   {
    "duration": 22,
    "start_time": "2023-05-13T12:37:59.238Z"
   },
   {
    "duration": 17,
    "start_time": "2023-05-13T12:37:59.264Z"
   },
   {
    "duration": 10,
    "start_time": "2023-05-13T12:37:59.286Z"
   },
   {
    "duration": 4,
    "start_time": "2023-05-13T12:37:59.298Z"
   },
   {
    "duration": 10,
    "start_time": "2023-05-13T12:37:59.304Z"
   },
   {
    "duration": 32,
    "start_time": "2023-05-13T12:37:59.316Z"
   },
   {
    "duration": 16,
    "start_time": "2023-05-13T12:37:59.350Z"
   },
   {
    "duration": 49,
    "start_time": "2023-05-13T12:37:59.368Z"
   },
   {
    "duration": 42,
    "start_time": "2023-05-13T12:37:59.418Z"
   },
   {
    "duration": 61,
    "start_time": "2023-05-13T12:37:59.462Z"
   },
   {
    "duration": 3,
    "start_time": "2023-05-13T12:37:59.525Z"
   },
   {
    "duration": 937,
    "start_time": "2023-05-13T12:37:59.530Z"
   },
   {
    "duration": 2098,
    "start_time": "2023-05-13T12:38:00.481Z"
   },
   {
    "duration": 78,
    "start_time": "2023-05-13T12:38:02.587Z"
   },
   {
    "duration": 215,
    "start_time": "2023-05-13T12:38:02.674Z"
   },
   {
    "duration": 274,
    "start_time": "2023-05-13T12:38:02.891Z"
   },
   {
    "duration": 6,
    "start_time": "2023-05-13T12:38:03.168Z"
   },
   {
    "duration": 6659,
    "start_time": "2023-05-13T12:38:03.176Z"
   },
   {
    "duration": 8538,
    "start_time": "2023-05-13T12:38:09.837Z"
   },
   {
    "duration": 8,
    "start_time": "2023-05-13T12:38:18.384Z"
   },
   {
    "duration": 2000,
    "start_time": "2023-05-13T12:38:18.394Z"
   },
   {
    "duration": 2237,
    "start_time": "2023-05-13T12:38:20.396Z"
   },
   {
    "duration": 5,
    "start_time": "2023-05-13T12:38:22.634Z"
   },
   {
    "duration": 10,
    "start_time": "2023-05-14T14:23:06.102Z"
   },
   {
    "duration": 220,
    "start_time": "2023-05-14T14:23:15.584Z"
   },
   {
    "duration": 63,
    "start_time": "2023-05-14T15:17:13.541Z"
   },
   {
    "duration": 2806,
    "start_time": "2023-05-14T15:17:22.708Z"
   },
   {
    "duration": 3754,
    "start_time": "2023-05-14T15:17:25.518Z"
   },
   {
    "duration": 19,
    "start_time": "2023-05-14T15:17:29.274Z"
   },
   {
    "duration": 12,
    "start_time": "2023-05-14T15:17:29.295Z"
   },
   {
    "duration": 22,
    "start_time": "2023-05-14T15:17:29.309Z"
   },
   {
    "duration": 28,
    "start_time": "2023-05-14T15:17:29.333Z"
   },
   {
    "duration": 5,
    "start_time": "2023-05-14T15:17:29.363Z"
   },
   {
    "duration": 13,
    "start_time": "2023-05-14T15:17:29.370Z"
   },
   {
    "duration": 8,
    "start_time": "2023-05-14T15:17:29.385Z"
   },
   {
    "duration": 5,
    "start_time": "2023-05-14T15:17:29.395Z"
   },
   {
    "duration": 6,
    "start_time": "2023-05-14T15:17:29.402Z"
   },
   {
    "duration": 7,
    "start_time": "2023-05-14T15:17:29.409Z"
   },
   {
    "duration": 4,
    "start_time": "2023-05-14T15:17:29.418Z"
   },
   {
    "duration": 34,
    "start_time": "2023-05-14T15:17:29.423Z"
   },
   {
    "duration": 13,
    "start_time": "2023-05-14T15:17:29.458Z"
   },
   {
    "duration": 11,
    "start_time": "2023-05-14T15:17:29.472Z"
   },
   {
    "duration": 77,
    "start_time": "2023-05-14T15:17:29.484Z"
   },
   {
    "duration": 8,
    "start_time": "2023-05-14T15:17:29.562Z"
   },
   {
    "duration": 1178,
    "start_time": "2023-05-14T15:17:29.571Z"
   },
   {
    "duration": 0,
    "start_time": "2023-05-14T15:17:30.752Z"
   },
   {
    "duration": 0,
    "start_time": "2023-05-14T15:17:30.753Z"
   },
   {
    "duration": 0,
    "start_time": "2023-05-14T15:17:30.755Z"
   },
   {
    "duration": 0,
    "start_time": "2023-05-14T15:17:30.756Z"
   },
   {
    "duration": 0,
    "start_time": "2023-05-14T15:17:30.757Z"
   },
   {
    "duration": 0,
    "start_time": "2023-05-14T15:17:30.758Z"
   },
   {
    "duration": 0,
    "start_time": "2023-05-14T15:17:30.760Z"
   },
   {
    "duration": 0,
    "start_time": "2023-05-14T15:17:30.760Z"
   },
   {
    "duration": 0,
    "start_time": "2023-05-14T15:17:30.761Z"
   },
   {
    "duration": 0,
    "start_time": "2023-05-14T15:17:30.762Z"
   },
   {
    "duration": 0,
    "start_time": "2023-05-14T15:17:30.764Z"
   },
   {
    "duration": 0,
    "start_time": "2023-05-14T15:17:30.765Z"
   },
   {
    "duration": 0,
    "start_time": "2023-05-14T15:17:30.766Z"
   },
   {
    "duration": 0,
    "start_time": "2023-05-14T15:17:30.767Z"
   },
   {
    "duration": 0,
    "start_time": "2023-05-14T15:17:30.768Z"
   },
   {
    "duration": 0,
    "start_time": "2023-05-14T15:17:30.769Z"
   },
   {
    "duration": 0,
    "start_time": "2023-05-14T15:17:30.770Z"
   },
   {
    "duration": 0,
    "start_time": "2023-05-14T15:17:30.771Z"
   },
   {
    "duration": 0,
    "start_time": "2023-05-14T15:17:30.772Z"
   },
   {
    "duration": 0,
    "start_time": "2023-05-14T15:17:30.773Z"
   },
   {
    "duration": 0,
    "start_time": "2023-05-14T15:17:30.774Z"
   },
   {
    "duration": 0,
    "start_time": "2023-05-14T15:17:30.776Z"
   },
   {
    "duration": 0,
    "start_time": "2023-05-14T15:17:30.777Z"
   },
   {
    "duration": 0,
    "start_time": "2023-05-14T15:17:30.778Z"
   },
   {
    "duration": 0,
    "start_time": "2023-05-14T15:17:30.779Z"
   },
   {
    "duration": 0,
    "start_time": "2023-05-14T15:17:30.780Z"
   },
   {
    "duration": 0,
    "start_time": "2023-05-14T15:17:30.781Z"
   },
   {
    "duration": 0,
    "start_time": "2023-05-14T15:17:30.781Z"
   },
   {
    "duration": 0,
    "start_time": "2023-05-14T15:17:30.782Z"
   },
   {
    "duration": 0,
    "start_time": "2023-05-14T15:17:30.783Z"
   },
   {
    "duration": 0,
    "start_time": "2023-05-14T15:17:30.784Z"
   },
   {
    "duration": 0,
    "start_time": "2023-05-14T15:17:30.785Z"
   },
   {
    "duration": 0,
    "start_time": "2023-05-14T15:17:30.786Z"
   },
   {
    "duration": 0,
    "start_time": "2023-05-14T15:17:30.787Z"
   },
   {
    "duration": 0,
    "start_time": "2023-05-14T15:17:30.788Z"
   },
   {
    "duration": 881,
    "start_time": "2023-05-14T15:37:55.327Z"
   },
   {
    "duration": 289,
    "start_time": "2023-05-14T15:38:02.900Z"
   },
   {
    "duration": 264,
    "start_time": "2023-05-14T15:40:23.698Z"
   },
   {
    "duration": 164,
    "start_time": "2023-05-14T15:41:22.079Z"
   },
   {
    "duration": 136,
    "start_time": "2023-05-14T15:41:35.681Z"
   },
   {
    "duration": 201,
    "start_time": "2023-05-14T15:41:47.178Z"
   },
   {
    "duration": 188,
    "start_time": "2023-05-14T15:42:04.517Z"
   },
   {
    "duration": 180,
    "start_time": "2023-05-14T15:42:39.870Z"
   },
   {
    "duration": 61,
    "start_time": "2023-05-14T15:42:51.309Z"
   },
   {
    "duration": 1525,
    "start_time": "2023-05-14T15:42:59.624Z"
   },
   {
    "duration": 1618,
    "start_time": "2023-05-14T15:43:08.376Z"
   },
   {
    "duration": 2218,
    "start_time": "2023-05-14T15:43:16.687Z"
   },
   {
    "duration": 3519,
    "start_time": "2023-05-14T15:43:18.907Z"
   },
   {
    "duration": 19,
    "start_time": "2023-05-14T15:43:22.428Z"
   },
   {
    "duration": 16,
    "start_time": "2023-05-14T15:43:22.449Z"
   },
   {
    "duration": 23,
    "start_time": "2023-05-14T15:43:22.474Z"
   },
   {
    "duration": 9,
    "start_time": "2023-05-14T15:43:22.498Z"
   },
   {
    "duration": 4,
    "start_time": "2023-05-14T15:43:22.509Z"
   },
   {
    "duration": 13,
    "start_time": "2023-05-14T15:43:22.515Z"
   },
   {
    "duration": 30,
    "start_time": "2023-05-14T15:43:22.529Z"
   },
   {
    "duration": 15,
    "start_time": "2023-05-14T15:43:22.561Z"
   },
   {
    "duration": 3,
    "start_time": "2023-05-14T15:43:22.583Z"
   },
   {
    "duration": 8,
    "start_time": "2023-05-14T15:43:22.588Z"
   },
   {
    "duration": 5,
    "start_time": "2023-05-14T15:43:22.597Z"
   },
   {
    "duration": 4,
    "start_time": "2023-05-14T15:43:22.605Z"
   },
   {
    "duration": 13,
    "start_time": "2023-05-14T15:43:22.611Z"
   },
   {
    "duration": 12,
    "start_time": "2023-05-14T15:43:22.625Z"
   },
   {
    "duration": 74,
    "start_time": "2023-05-14T15:43:22.639Z"
   },
   {
    "duration": 7,
    "start_time": "2023-05-14T15:43:22.715Z"
   },
   {
    "duration": 226,
    "start_time": "2023-05-14T15:43:22.723Z"
   },
   {
    "duration": 1478,
    "start_time": "2023-05-14T15:43:22.960Z"
   },
   {
    "duration": 2124,
    "start_time": "2023-05-14T15:43:24.440Z"
   },
   {
    "duration": 1770,
    "start_time": "2023-05-14T15:43:26.566Z"
   },
   {
    "duration": 453,
    "start_time": "2023-05-14T15:43:28.338Z"
   },
   {
    "duration": 517,
    "start_time": "2023-05-14T15:43:28.793Z"
   },
   {
    "duration": 1402,
    "start_time": "2023-05-14T15:43:29.312Z"
   },
   {
    "duration": 261,
    "start_time": "2023-05-14T15:43:30.716Z"
   },
   {
    "duration": 1244,
    "start_time": "2023-05-14T15:43:30.986Z"
   },
   {
    "duration": 10,
    "start_time": "2023-05-14T15:43:32.232Z"
   },
   {
    "duration": 1378,
    "start_time": "2023-05-14T15:43:32.243Z"
   },
   {
    "duration": 3,
    "start_time": "2023-05-14T15:43:33.623Z"
   },
   {
    "duration": 10,
    "start_time": "2023-05-14T15:43:33.628Z"
   },
   {
    "duration": 16,
    "start_time": "2023-05-14T15:43:33.640Z"
   },
   {
    "duration": 16,
    "start_time": "2023-05-14T15:43:33.661Z"
   },
   {
    "duration": 14,
    "start_time": "2023-05-14T15:43:33.687Z"
   },
   {
    "duration": 4,
    "start_time": "2023-05-14T15:43:33.702Z"
   },
   {
    "duration": 9,
    "start_time": "2023-05-14T15:43:33.708Z"
   },
   {
    "duration": 15,
    "start_time": "2023-05-14T15:43:33.719Z"
   },
   {
    "duration": 8,
    "start_time": "2023-05-14T15:43:33.736Z"
   },
   {
    "duration": 59,
    "start_time": "2023-05-14T15:43:33.745Z"
   },
   {
    "duration": 37,
    "start_time": "2023-05-14T15:43:33.807Z"
   },
   {
    "duration": 52,
    "start_time": "2023-05-14T15:43:33.861Z"
   },
   {
    "duration": 3,
    "start_time": "2023-05-14T15:43:33.915Z"
   },
   {
    "duration": 1057,
    "start_time": "2023-05-14T15:43:33.919Z"
   },
   {
    "duration": 1281,
    "start_time": "2023-05-14T15:43:34.985Z"
   },
   {
    "duration": 7,
    "start_time": "2023-05-14T15:43:36.268Z"
   },
   {
    "duration": 284,
    "start_time": "2023-05-14T15:43:36.278Z"
   },
   {
    "duration": 99,
    "start_time": "2023-05-14T15:43:36.568Z"
   },
   {
    "duration": 85,
    "start_time": "2023-05-14T15:43:36.673Z"
   },
   {
    "duration": 6368,
    "start_time": "2023-05-14T15:43:36.769Z"
   },
   {
    "duration": 8620,
    "start_time": "2023-05-14T15:43:43.139Z"
   },
   {
    "duration": 15,
    "start_time": "2023-05-14T15:43:51.768Z"
   },
   {
    "duration": 1673,
    "start_time": "2023-05-14T15:43:51.790Z"
   },
   {
    "duration": 2150,
    "start_time": "2023-05-14T15:43:53.473Z"
   },
   {
    "duration": 3,
    "start_time": "2023-05-14T15:43:55.625Z"
   },
   {
    "duration": 185,
    "start_time": "2023-05-14T15:43:55.631Z"
   },
   {
    "duration": 1460,
    "start_time": "2023-05-14T15:44:31.584Z"
   },
   {
    "duration": 1047,
    "start_time": "2023-05-14T15:45:44.886Z"
   },
   {
    "duration": 1495,
    "start_time": "2023-05-14T15:45:55.241Z"
   },
   {
    "duration": 1124,
    "start_time": "2023-05-14T15:47:17.192Z"
   },
   {
    "duration": 1469,
    "start_time": "2023-05-14T15:47:34.454Z"
   },
   {
    "duration": 1436,
    "start_time": "2023-05-14T15:47:49.352Z"
   },
   {
    "duration": 1412,
    "start_time": "2023-05-14T15:48:27.996Z"
   },
   {
    "duration": 1524,
    "start_time": "2023-05-14T15:48:39.065Z"
   },
   {
    "duration": 1473,
    "start_time": "2023-05-14T15:48:51.156Z"
   },
   {
    "duration": 1331,
    "start_time": "2023-05-14T15:49:24.441Z"
   },
   {
    "duration": 1481,
    "start_time": "2023-05-14T15:49:34.443Z"
   },
   {
    "duration": 132,
    "start_time": "2023-05-14T15:52:42.595Z"
   },
   {
    "duration": 1323,
    "start_time": "2023-05-14T15:54:34.925Z"
   },
   {
    "duration": 63,
    "start_time": "2023-05-14T15:55:13.830Z"
   },
   {
    "duration": 1228,
    "start_time": "2023-05-14T15:55:44.544Z"
   },
   {
    "duration": 1465,
    "start_time": "2023-05-14T15:55:49.063Z"
   },
   {
    "duration": 1479,
    "start_time": "2023-05-14T15:57:21.618Z"
   },
   {
    "duration": 230,
    "start_time": "2023-05-14T16:24:04.390Z"
   },
   {
    "duration": 1428,
    "start_time": "2023-05-14T16:26:06.790Z"
   },
   {
    "duration": 875,
    "start_time": "2023-05-14T16:26:08.220Z"
   },
   {
    "duration": 24,
    "start_time": "2023-05-14T16:26:09.100Z"
   },
   {
    "duration": 35,
    "start_time": "2023-05-14T16:26:09.127Z"
   },
   {
    "duration": 27,
    "start_time": "2023-05-14T16:26:09.167Z"
   },
   {
    "duration": 13,
    "start_time": "2023-05-14T16:26:09.197Z"
   },
   {
    "duration": 5,
    "start_time": "2023-05-14T16:26:09.212Z"
   },
   {
    "duration": 23,
    "start_time": "2023-05-14T16:26:09.219Z"
   },
   {
    "duration": 12,
    "start_time": "2023-05-14T16:26:09.256Z"
   },
   {
    "duration": 8,
    "start_time": "2023-05-14T16:26:09.274Z"
   },
   {
    "duration": 5,
    "start_time": "2023-05-14T16:26:09.284Z"
   },
   {
    "duration": 3,
    "start_time": "2023-05-14T16:26:09.292Z"
   },
   {
    "duration": 5,
    "start_time": "2023-05-14T16:26:09.298Z"
   },
   {
    "duration": 3,
    "start_time": "2023-05-14T16:26:09.305Z"
   },
   {
    "duration": 12,
    "start_time": "2023-05-14T16:26:09.310Z"
   },
   {
    "duration": 50,
    "start_time": "2023-05-14T16:26:09.324Z"
   },
   {
    "duration": 59,
    "start_time": "2023-05-14T16:26:09.376Z"
   },
   {
    "duration": 31,
    "start_time": "2023-05-14T16:26:09.437Z"
   },
   {
    "duration": 206,
    "start_time": "2023-05-14T16:26:09.470Z"
   },
   {
    "duration": 1345,
    "start_time": "2023-05-14T16:26:09.678Z"
   },
   {
    "duration": 1370,
    "start_time": "2023-05-14T16:26:11.025Z"
   },
   {
    "duration": 1377,
    "start_time": "2023-05-14T16:26:12.397Z"
   },
   {
    "duration": 247,
    "start_time": "2023-05-14T16:26:13.775Z"
   },
   {
    "duration": 952,
    "start_time": "2023-05-14T16:26:14.023Z"
   },
   {
    "duration": 0,
    "start_time": "2023-05-14T16:26:14.979Z"
   },
   {
    "duration": 0,
    "start_time": "2023-05-14T16:26:14.980Z"
   },
   {
    "duration": 0,
    "start_time": "2023-05-14T16:26:14.981Z"
   },
   {
    "duration": 0,
    "start_time": "2023-05-14T16:26:14.982Z"
   },
   {
    "duration": 0,
    "start_time": "2023-05-14T16:26:14.983Z"
   },
   {
    "duration": 0,
    "start_time": "2023-05-14T16:26:14.984Z"
   },
   {
    "duration": 0,
    "start_time": "2023-05-14T16:26:14.985Z"
   },
   {
    "duration": 0,
    "start_time": "2023-05-14T16:26:14.987Z"
   },
   {
    "duration": 0,
    "start_time": "2023-05-14T16:26:14.988Z"
   },
   {
    "duration": 0,
    "start_time": "2023-05-14T16:26:14.989Z"
   },
   {
    "duration": 0,
    "start_time": "2023-05-14T16:26:14.991Z"
   },
   {
    "duration": 0,
    "start_time": "2023-05-14T16:26:14.992Z"
   },
   {
    "duration": 0,
    "start_time": "2023-05-14T16:26:14.995Z"
   },
   {
    "duration": 0,
    "start_time": "2023-05-14T16:26:14.995Z"
   },
   {
    "duration": 0,
    "start_time": "2023-05-14T16:26:14.997Z"
   },
   {
    "duration": 0,
    "start_time": "2023-05-14T16:26:14.997Z"
   },
   {
    "duration": 0,
    "start_time": "2023-05-14T16:26:14.999Z"
   },
   {
    "duration": 0,
    "start_time": "2023-05-14T16:26:15.000Z"
   },
   {
    "duration": 0,
    "start_time": "2023-05-14T16:26:15.000Z"
   },
   {
    "duration": 0,
    "start_time": "2023-05-14T16:26:15.002Z"
   },
   {
    "duration": 0,
    "start_time": "2023-05-14T16:26:15.003Z"
   },
   {
    "duration": 0,
    "start_time": "2023-05-14T16:26:15.004Z"
   },
   {
    "duration": 0,
    "start_time": "2023-05-14T16:26:15.006Z"
   },
   {
    "duration": 0,
    "start_time": "2023-05-14T16:26:15.007Z"
   },
   {
    "duration": 0,
    "start_time": "2023-05-14T16:26:15.008Z"
   },
   {
    "duration": 0,
    "start_time": "2023-05-14T16:26:15.009Z"
   },
   {
    "duration": 0,
    "start_time": "2023-05-14T16:26:15.010Z"
   },
   {
    "duration": 0,
    "start_time": "2023-05-14T16:26:15.012Z"
   },
   {
    "duration": 0,
    "start_time": "2023-05-14T16:26:15.013Z"
   },
   {
    "duration": 0,
    "start_time": "2023-05-14T16:26:15.014Z"
   },
   {
    "duration": 0,
    "start_time": "2023-05-14T16:26:15.015Z"
   },
   {
    "duration": 0,
    "start_time": "2023-05-14T16:26:15.017Z"
   },
   {
    "duration": 0,
    "start_time": "2023-05-14T16:26:15.060Z"
   },
   {
    "duration": 1164,
    "start_time": "2023-05-14T16:28:35.247Z"
   },
   {
    "duration": 1203,
    "start_time": "2023-05-14T16:28:48.844Z"
   },
   {
    "duration": 1204,
    "start_time": "2023-05-14T16:29:02.874Z"
   },
   {
    "duration": 249,
    "start_time": "2023-05-14T16:30:57.826Z"
   },
   {
    "duration": 243,
    "start_time": "2023-05-14T16:31:02.599Z"
   },
   {
    "duration": 1171,
    "start_time": "2023-05-14T16:31:06.593Z"
   },
   {
    "duration": 1152,
    "start_time": "2023-05-14T16:35:28.794Z"
   },
   {
    "duration": 1093,
    "start_time": "2023-05-14T16:35:39.518Z"
   },
   {
    "duration": 1128,
    "start_time": "2023-05-14T16:35:48.802Z"
   },
   {
    "duration": 1115,
    "start_time": "2023-05-14T16:36:09.002Z"
   },
   {
    "duration": 1251,
    "start_time": "2023-05-14T16:36:22.137Z"
   },
   {
    "duration": 1128,
    "start_time": "2023-05-14T16:38:03.919Z"
   },
   {
    "duration": 10,
    "start_time": "2023-05-14T16:40:11.844Z"
   },
   {
    "duration": 1190,
    "start_time": "2023-05-14T16:40:39.548Z"
   },
   {
    "duration": 1260,
    "start_time": "2023-05-14T16:41:27.989Z"
   },
   {
    "duration": 1445,
    "start_time": "2023-05-14T16:41:36.226Z"
   },
   {
    "duration": 813,
    "start_time": "2023-05-14T16:41:37.673Z"
   },
   {
    "duration": 25,
    "start_time": "2023-05-14T16:41:38.490Z"
   },
   {
    "duration": 15,
    "start_time": "2023-05-14T16:41:38.518Z"
   },
   {
    "duration": 44,
    "start_time": "2023-05-14T16:41:38.535Z"
   },
   {
    "duration": 13,
    "start_time": "2023-05-14T16:41:38.581Z"
   },
   {
    "duration": 5,
    "start_time": "2023-05-14T16:41:38.595Z"
   },
   {
    "duration": 13,
    "start_time": "2023-05-14T16:41:38.601Z"
   },
   {
    "duration": 53,
    "start_time": "2023-05-14T16:41:38.616Z"
   },
   {
    "duration": 11,
    "start_time": "2023-05-14T16:41:38.674Z"
   },
   {
    "duration": 4,
    "start_time": "2023-05-14T16:41:38.687Z"
   },
   {
    "duration": 9,
    "start_time": "2023-05-14T16:41:38.693Z"
   },
   {
    "duration": 39,
    "start_time": "2023-05-14T16:41:38.704Z"
   },
   {
    "duration": 25,
    "start_time": "2023-05-14T16:41:38.745Z"
   },
   {
    "duration": 16,
    "start_time": "2023-05-14T16:41:38.774Z"
   },
   {
    "duration": 16,
    "start_time": "2023-05-14T16:41:38.792Z"
   },
   {
    "duration": 77,
    "start_time": "2023-05-14T16:41:38.810Z"
   },
   {
    "duration": 9,
    "start_time": "2023-05-14T16:41:38.892Z"
   },
   {
    "duration": 295,
    "start_time": "2023-05-14T16:41:38.904Z"
   },
   {
    "duration": 1447,
    "start_time": "2023-05-14T16:41:39.202Z"
   },
   {
    "duration": 1400,
    "start_time": "2023-05-14T16:41:40.651Z"
   },
   {
    "duration": 1358,
    "start_time": "2023-05-14T16:41:42.056Z"
   },
   {
    "duration": 257,
    "start_time": "2023-05-14T16:41:43.416Z"
   },
   {
    "duration": 1147,
    "start_time": "2023-05-14T16:41:43.675Z"
   },
   {
    "duration": 11,
    "start_time": "2023-05-14T16:41:44.824Z"
   },
   {
    "duration": 1410,
    "start_time": "2023-05-14T16:41:44.837Z"
   },
   {
    "duration": 427,
    "start_time": "2023-05-14T16:41:46.256Z"
   },
   {
    "duration": 428,
    "start_time": "2023-05-14T16:41:46.686Z"
   },
   {
    "duration": 1426,
    "start_time": "2023-05-14T16:41:47.116Z"
   },
   {
    "duration": 244,
    "start_time": "2023-05-14T16:41:48.544Z"
   },
   {
    "duration": 1203,
    "start_time": "2023-05-14T16:41:48.791Z"
   },
   {
    "duration": 8,
    "start_time": "2023-05-14T16:41:49.996Z"
   },
   {
    "duration": 1404,
    "start_time": "2023-05-14T16:41:50.006Z"
   },
   {
    "duration": 3,
    "start_time": "2023-05-14T16:41:51.412Z"
   },
   {
    "duration": 13,
    "start_time": "2023-05-14T16:41:51.417Z"
   },
   {
    "duration": 28,
    "start_time": "2023-05-14T16:41:51.432Z"
   },
   {
    "duration": 8,
    "start_time": "2023-05-14T16:41:51.470Z"
   },
   {
    "duration": 16,
    "start_time": "2023-05-14T16:41:51.480Z"
   },
   {
    "duration": 4,
    "start_time": "2023-05-14T16:41:51.498Z"
   },
   {
    "duration": 27,
    "start_time": "2023-05-14T16:41:51.503Z"
   },
   {
    "duration": 41,
    "start_time": "2023-05-14T16:41:51.532Z"
   },
   {
    "duration": 17,
    "start_time": "2023-05-14T16:41:51.575Z"
   },
   {
    "duration": 40,
    "start_time": "2023-05-14T16:41:51.594Z"
   },
   {
    "duration": 48,
    "start_time": "2023-05-14T16:41:51.636Z"
   },
   {
    "duration": 51,
    "start_time": "2023-05-14T16:41:51.686Z"
   },
   {
    "duration": 2,
    "start_time": "2023-05-14T16:41:51.739Z"
   },
   {
    "duration": 1026,
    "start_time": "2023-05-14T16:41:51.743Z"
   },
   {
    "duration": 1487,
    "start_time": "2023-05-14T16:41:52.773Z"
   },
   {
    "duration": 4,
    "start_time": "2023-05-14T16:41:54.262Z"
   },
   {
    "duration": 190,
    "start_time": "2023-05-14T16:41:54.268Z"
   },
   {
    "duration": 396,
    "start_time": "2023-05-14T16:41:54.461Z"
   },
   {
    "duration": 6,
    "start_time": "2023-05-14T16:41:54.861Z"
   },
   {
    "duration": 6327,
    "start_time": "2023-05-14T16:41:54.869Z"
   },
   {
    "duration": 8219,
    "start_time": "2023-05-14T16:42:01.197Z"
   },
   {
    "duration": 3,
    "start_time": "2023-05-14T16:42:09.418Z"
   },
   {
    "duration": 1610,
    "start_time": "2023-05-14T16:42:09.423Z"
   },
   {
    "duration": 2047,
    "start_time": "2023-05-14T16:42:11.035Z"
   },
   {
    "duration": 3,
    "start_time": "2023-05-14T16:42:13.084Z"
   },
   {
    "duration": 1119,
    "start_time": "2023-05-14T16:43:13.406Z"
   },
   {
    "duration": 1535,
    "start_time": "2023-05-14T16:43:20.293Z"
   },
   {
    "duration": 774,
    "start_time": "2023-05-14T16:43:21.830Z"
   },
   {
    "duration": 21,
    "start_time": "2023-05-14T16:43:22.606Z"
   },
   {
    "duration": 38,
    "start_time": "2023-05-14T16:43:22.629Z"
   },
   {
    "duration": 20,
    "start_time": "2023-05-14T16:43:22.669Z"
   },
   {
    "duration": 11,
    "start_time": "2023-05-14T16:43:22.690Z"
   },
   {
    "duration": 4,
    "start_time": "2023-05-14T16:43:22.702Z"
   },
   {
    "duration": 13,
    "start_time": "2023-05-14T16:43:22.708Z"
   },
   {
    "duration": 45,
    "start_time": "2023-05-14T16:43:22.723Z"
   },
   {
    "duration": 9,
    "start_time": "2023-05-14T16:43:22.775Z"
   },
   {
    "duration": 3,
    "start_time": "2023-05-14T16:43:22.785Z"
   },
   {
    "duration": 4,
    "start_time": "2023-05-14T16:43:22.789Z"
   },
   {
    "duration": 4,
    "start_time": "2023-05-14T16:43:22.795Z"
   },
   {
    "duration": 5,
    "start_time": "2023-05-14T16:43:22.800Z"
   },
   {
    "duration": 12,
    "start_time": "2023-05-14T16:43:22.807Z"
   },
   {
    "duration": 44,
    "start_time": "2023-05-14T16:43:22.821Z"
   },
   {
    "duration": 59,
    "start_time": "2023-05-14T16:43:22.868Z"
   },
   {
    "duration": 6,
    "start_time": "2023-05-14T16:43:22.928Z"
   },
   {
    "duration": 238,
    "start_time": "2023-05-14T16:43:22.936Z"
   },
   {
    "duration": 1374,
    "start_time": "2023-05-14T16:43:23.176Z"
   },
   {
    "duration": 1314,
    "start_time": "2023-05-14T16:43:24.560Z"
   },
   {
    "duration": 1300,
    "start_time": "2023-05-14T16:43:25.876Z"
   },
   {
    "duration": 254,
    "start_time": "2023-05-14T16:43:27.178Z"
   },
   {
    "duration": 1162,
    "start_time": "2023-05-14T16:43:27.435Z"
   },
   {
    "duration": 11,
    "start_time": "2023-05-14T16:43:28.599Z"
   },
   {
    "duration": 1469,
    "start_time": "2023-05-14T16:43:28.612Z"
   },
   {
    "duration": 437,
    "start_time": "2023-05-14T16:43:30.082Z"
   },
   {
    "duration": 447,
    "start_time": "2023-05-14T16:43:30.525Z"
   },
   {
    "duration": 1353,
    "start_time": "2023-05-14T16:43:30.974Z"
   },
   {
    "duration": 242,
    "start_time": "2023-05-14T16:43:32.330Z"
   },
   {
    "duration": 1131,
    "start_time": "2023-05-14T16:43:32.574Z"
   },
   {
    "duration": 9,
    "start_time": "2023-05-14T16:43:33.706Z"
   },
   {
    "duration": 1303,
    "start_time": "2023-05-14T16:43:33.717Z"
   },
   {
    "duration": 3,
    "start_time": "2023-05-14T16:43:35.022Z"
   },
   {
    "duration": 15,
    "start_time": "2023-05-14T16:43:35.027Z"
   },
   {
    "duration": 32,
    "start_time": "2023-05-14T16:43:35.044Z"
   },
   {
    "duration": 21,
    "start_time": "2023-05-14T16:43:35.078Z"
   },
   {
    "duration": 11,
    "start_time": "2023-05-14T16:43:35.101Z"
   },
   {
    "duration": 4,
    "start_time": "2023-05-14T16:43:35.113Z"
   },
   {
    "duration": 28,
    "start_time": "2023-05-14T16:43:35.120Z"
   },
   {
    "duration": 21,
    "start_time": "2023-05-14T16:43:35.151Z"
   },
   {
    "duration": 9,
    "start_time": "2023-05-14T16:43:35.173Z"
   },
   {
    "duration": 46,
    "start_time": "2023-05-14T16:43:35.184Z"
   },
   {
    "duration": 50,
    "start_time": "2023-05-14T16:43:35.231Z"
   },
   {
    "duration": 47,
    "start_time": "2023-05-14T16:43:35.283Z"
   },
   {
    "duration": 3,
    "start_time": "2023-05-14T16:43:35.331Z"
   },
   {
    "duration": 926,
    "start_time": "2023-05-14T16:43:35.336Z"
   },
   {
    "duration": 1215,
    "start_time": "2023-05-14T16:43:36.267Z"
   },
   {
    "duration": 6,
    "start_time": "2023-05-14T16:43:37.557Z"
   },
   {
    "duration": 94,
    "start_time": "2023-05-14T16:43:37.564Z"
   },
   {
    "duration": 424,
    "start_time": "2023-05-14T16:43:37.662Z"
   },
   {
    "duration": 6,
    "start_time": "2023-05-14T16:43:38.157Z"
   },
   {
    "duration": 6248,
    "start_time": "2023-05-14T16:43:38.167Z"
   },
   {
    "duration": 8359,
    "start_time": "2023-05-14T16:43:44.417Z"
   },
   {
    "duration": 4,
    "start_time": "2023-05-14T16:43:52.778Z"
   },
   {
    "duration": 1602,
    "start_time": "2023-05-14T16:43:52.784Z"
   },
   {
    "duration": 2135,
    "start_time": "2023-05-14T16:43:54.388Z"
   },
   {
    "duration": 4,
    "start_time": "2023-05-14T16:43:56.525Z"
   },
   {
    "duration": 1329,
    "start_time": "2023-05-14T16:49:59.685Z"
   },
   {
    "duration": 1344,
    "start_time": "2023-05-14T16:50:14.226Z"
   },
   {
    "duration": 1233,
    "start_time": "2023-05-14T16:52:19.238Z"
   },
   {
    "duration": 202,
    "start_time": "2023-05-14T16:52:24.603Z"
   },
   {
    "duration": 237,
    "start_time": "2023-05-14T16:53:36.985Z"
   },
   {
    "duration": 881,
    "start_time": "2023-05-14T16:54:50.924Z"
   },
   {
    "duration": 913,
    "start_time": "2023-05-14T16:55:43.565Z"
   },
   {
    "duration": 897,
    "start_time": "2023-05-14T16:55:54.942Z"
   },
   {
    "duration": 944,
    "start_time": "2023-05-14T16:56:05.204Z"
   },
   {
    "duration": 926,
    "start_time": "2023-05-14T16:56:18.021Z"
   },
   {
    "duration": 947,
    "start_time": "2023-05-14T16:56:27.909Z"
   },
   {
    "duration": 944,
    "start_time": "2023-05-14T16:56:45.593Z"
   },
   {
    "duration": 977,
    "start_time": "2023-05-14T16:56:51.067Z"
   },
   {
    "duration": 922,
    "start_time": "2023-05-14T16:57:03.441Z"
   },
   {
    "duration": 951,
    "start_time": "2023-05-14T16:57:14.500Z"
   },
   {
    "duration": 913,
    "start_time": "2023-05-14T16:57:19.430Z"
   },
   {
    "duration": 903,
    "start_time": "2023-05-14T16:57:32.602Z"
   },
   {
    "duration": 1037,
    "start_time": "2023-05-14T16:57:38.376Z"
   },
   {
    "duration": 946,
    "start_time": "2023-05-14T16:57:47.404Z"
   },
   {
    "duration": 902,
    "start_time": "2023-05-14T16:57:54.376Z"
   },
   {
    "duration": 957,
    "start_time": "2023-05-14T17:08:52.586Z"
   },
   {
    "duration": 792,
    "start_time": "2023-05-14T17:09:13.527Z"
   },
   {
    "duration": 897,
    "start_time": "2023-05-14T17:09:25.166Z"
   },
   {
    "duration": 1339,
    "start_time": "2023-05-14T17:10:54.376Z"
   },
   {
    "duration": 10,
    "start_time": "2023-05-14T17:10:59.093Z"
   },
   {
    "duration": 1402,
    "start_time": "2023-05-14T17:11:01.874Z"
   },
   {
    "duration": 7,
    "start_time": "2023-05-14T17:12:02.201Z"
   },
   {
    "duration": 1084,
    "start_time": "2023-05-14T17:12:05.246Z"
   },
   {
    "duration": 230,
    "start_time": "2023-05-14T17:13:36.810Z"
   },
   {
    "duration": 5,
    "start_time": "2023-05-14T17:14:02.976Z"
   },
   {
    "duration": 1296,
    "start_time": "2023-05-14T17:14:05.567Z"
   },
   {
    "duration": 1351,
    "start_time": "2023-05-14T17:14:28.790Z"
   },
   {
    "duration": 1386,
    "start_time": "2023-05-14T17:14:33.697Z"
   },
   {
    "duration": 758,
    "start_time": "2023-05-14T17:14:35.085Z"
   },
   {
    "duration": 26,
    "start_time": "2023-05-14T17:14:35.848Z"
   },
   {
    "duration": 13,
    "start_time": "2023-05-14T17:14:35.876Z"
   },
   {
    "duration": 22,
    "start_time": "2023-05-14T17:14:35.891Z"
   },
   {
    "duration": 42,
    "start_time": "2023-05-14T17:14:35.915Z"
   },
   {
    "duration": 7,
    "start_time": "2023-05-14T17:14:35.960Z"
   },
   {
    "duration": 15,
    "start_time": "2023-05-14T17:14:35.969Z"
   },
   {
    "duration": 10,
    "start_time": "2023-05-14T17:14:35.987Z"
   },
   {
    "duration": 6,
    "start_time": "2023-05-14T17:14:35.998Z"
   },
   {
    "duration": 14,
    "start_time": "2023-05-14T17:14:36.006Z"
   },
   {
    "duration": 14,
    "start_time": "2023-05-14T17:14:36.022Z"
   },
   {
    "duration": 19,
    "start_time": "2023-05-14T17:14:36.038Z"
   },
   {
    "duration": 3,
    "start_time": "2023-05-14T17:14:36.059Z"
   },
   {
    "duration": 21,
    "start_time": "2023-05-14T17:14:36.064Z"
   },
   {
    "duration": 11,
    "start_time": "2023-05-14T17:14:36.086Z"
   },
   {
    "duration": 77,
    "start_time": "2023-05-14T17:14:36.098Z"
   },
   {
    "duration": 6,
    "start_time": "2023-05-14T17:14:36.177Z"
   },
   {
    "duration": 203,
    "start_time": "2023-05-14T17:14:36.185Z"
   },
   {
    "duration": 1304,
    "start_time": "2023-05-14T17:14:36.390Z"
   },
   {
    "duration": 1360,
    "start_time": "2023-05-14T17:14:37.696Z"
   },
   {
    "duration": 1244,
    "start_time": "2023-05-14T17:14:39.058Z"
   },
   {
    "duration": 1498,
    "start_time": "2023-05-14T17:14:40.304Z"
   },
   {
    "duration": 260,
    "start_time": "2023-05-14T17:14:41.804Z"
   },
   {
    "duration": 971,
    "start_time": "2023-05-14T17:14:42.066Z"
   },
   {
    "duration": 19,
    "start_time": "2023-05-14T17:14:43.038Z"
   },
   {
    "duration": 2117,
    "start_time": "2023-05-14T17:14:43.061Z"
   },
   {
    "duration": 1298,
    "start_time": "2023-05-14T17:14:45.180Z"
   },
   {
    "duration": 234,
    "start_time": "2023-05-14T17:14:46.480Z"
   },
   {
    "duration": 1105,
    "start_time": "2023-05-14T17:14:46.716Z"
   },
   {
    "duration": 12,
    "start_time": "2023-05-14T17:14:47.823Z"
   },
   {
    "duration": 1468,
    "start_time": "2023-05-14T17:14:47.837Z"
   },
   {
    "duration": 423,
    "start_time": "2023-05-14T17:14:49.307Z"
   },
   {
    "duration": 538,
    "start_time": "2023-05-14T17:14:49.732Z"
   },
   {
    "duration": 1267,
    "start_time": "2023-05-14T17:14:50.272Z"
   },
   {
    "duration": 239,
    "start_time": "2023-05-14T17:14:51.541Z"
   },
   {
    "duration": 1078,
    "start_time": "2023-05-14T17:14:51.782Z"
   },
   {
    "duration": 10,
    "start_time": "2023-05-14T17:14:52.862Z"
   },
   {
    "duration": 1184,
    "start_time": "2023-05-14T17:14:52.874Z"
   },
   {
    "duration": 3,
    "start_time": "2023-05-14T17:14:54.060Z"
   },
   {
    "duration": 5,
    "start_time": "2023-05-14T17:14:54.065Z"
   },
   {
    "duration": 15,
    "start_time": "2023-05-14T17:14:54.071Z"
   },
   {
    "duration": 8,
    "start_time": "2023-05-14T17:14:54.088Z"
   },
   {
    "duration": 11,
    "start_time": "2023-05-14T17:14:54.098Z"
   },
   {
    "duration": 7,
    "start_time": "2023-05-14T17:14:54.111Z"
   },
   {
    "duration": 7,
    "start_time": "2023-05-14T17:14:54.120Z"
   },
   {
    "duration": 45,
    "start_time": "2023-05-14T17:14:54.129Z"
   },
   {
    "duration": 12,
    "start_time": "2023-05-14T17:14:54.176Z"
   },
   {
    "duration": 48,
    "start_time": "2023-05-14T17:14:54.190Z"
   },
   {
    "duration": 190,
    "start_time": "2023-05-14T17:14:54.240Z"
   },
   {
    "duration": 57,
    "start_time": "2023-05-14T17:14:54.432Z"
   },
   {
    "duration": 3,
    "start_time": "2023-05-14T17:14:54.491Z"
   },
   {
    "duration": 1061,
    "start_time": "2023-05-14T17:14:54.497Z"
   },
   {
    "duration": 1208,
    "start_time": "2023-05-14T17:14:55.560Z"
   },
   {
    "duration": 3,
    "start_time": "2023-05-14T17:14:56.856Z"
   },
   {
    "duration": 201,
    "start_time": "2023-05-14T17:14:56.861Z"
   },
   {
    "duration": 201,
    "start_time": "2023-05-14T17:14:57.066Z"
   },
   {
    "duration": 90,
    "start_time": "2023-05-14T17:14:57.269Z"
   },
   {
    "duration": 5402,
    "start_time": "2023-05-14T17:14:57.361Z"
   },
   {
    "duration": 7267,
    "start_time": "2023-05-14T17:15:02.765Z"
   },
   {
    "duration": 4,
    "start_time": "2023-05-14T17:15:10.034Z"
   },
   {
    "duration": 1397,
    "start_time": "2023-05-14T17:15:10.039Z"
   },
   {
    "duration": 1852,
    "start_time": "2023-05-14T17:15:11.438Z"
   },
   {
    "duration": 4,
    "start_time": "2023-05-14T17:15:13.292Z"
   },
   {
    "duration": 1210,
    "start_time": "2023-05-14T17:17:20.857Z"
   },
   {
    "duration": 1395,
    "start_time": "2023-05-14T17:17:26.370Z"
   },
   {
    "duration": 54,
    "start_time": "2023-05-14T17:17:40.621Z"
   },
   {
    "duration": 1419,
    "start_time": "2023-05-14T17:17:49.197Z"
   },
   {
    "duration": 1440,
    "start_time": "2023-05-14T17:18:32.058Z"
   },
   {
    "duration": 1248,
    "start_time": "2023-05-14T17:20:39.811Z"
   },
   {
    "duration": 1217,
    "start_time": "2023-05-14T17:22:18.356Z"
   },
   {
    "duration": 1394,
    "start_time": "2023-05-14T17:22:19.575Z"
   },
   {
    "duration": 1351,
    "start_time": "2023-05-14T17:22:22.508Z"
   },
   {
    "duration": 223,
    "start_time": "2023-05-14T17:22:23.861Z"
   },
   {
    "duration": 873,
    "start_time": "2023-05-14T17:22:24.085Z"
   },
   {
    "duration": 7,
    "start_time": "2023-05-14T17:22:24.960Z"
   },
   {
    "duration": 1326,
    "start_time": "2023-05-14T17:22:24.968Z"
   },
   {
    "duration": 1244,
    "start_time": "2023-05-14T17:22:26.296Z"
   },
   {
    "duration": 219,
    "start_time": "2023-05-14T17:22:27.542Z"
   },
   {
    "duration": 324,
    "start_time": "2023-05-14T17:22:27.763Z"
   },
   {
    "duration": 1370,
    "start_time": "2023-05-14T17:22:28.089Z"
   },
   {
    "duration": 1217,
    "start_time": "2023-05-14T17:22:29.461Z"
   },
   {
    "duration": 383,
    "start_time": "2023-05-14T17:22:30.681Z"
   },
   {
    "duration": 1096,
    "start_time": "2023-05-14T17:22:31.065Z"
   },
   {
    "duration": 10,
    "start_time": "2023-05-14T17:22:32.163Z"
   },
   {
    "duration": 1188,
    "start_time": "2023-05-14T17:22:32.175Z"
   },
   {
    "duration": 1469,
    "start_time": "2023-05-14T17:22:46.965Z"
   },
   {
    "duration": 834,
    "start_time": "2023-05-14T17:22:48.436Z"
   },
   {
    "duration": 21,
    "start_time": "2023-05-14T17:22:49.272Z"
   },
   {
    "duration": 13,
    "start_time": "2023-05-14T17:22:49.295Z"
   },
   {
    "duration": 17,
    "start_time": "2023-05-14T17:22:49.310Z"
   },
   {
    "duration": 35,
    "start_time": "2023-05-14T17:22:49.329Z"
   },
   {
    "duration": 5,
    "start_time": "2023-05-14T17:22:49.365Z"
   },
   {
    "duration": 38,
    "start_time": "2023-05-14T17:22:49.371Z"
   },
   {
    "duration": 8,
    "start_time": "2023-05-14T17:22:49.411Z"
   },
   {
    "duration": 53,
    "start_time": "2023-05-14T17:22:49.421Z"
   },
   {
    "duration": 21,
    "start_time": "2023-05-14T17:22:49.476Z"
   },
   {
    "duration": 46,
    "start_time": "2023-05-14T17:22:49.499Z"
   },
   {
    "duration": 12,
    "start_time": "2023-05-14T17:22:49.547Z"
   },
   {
    "duration": 9,
    "start_time": "2023-05-14T17:22:49.561Z"
   },
   {
    "duration": 18,
    "start_time": "2023-05-14T17:22:49.572Z"
   },
   {
    "duration": 12,
    "start_time": "2023-05-14T17:22:49.592Z"
   },
   {
    "duration": 61,
    "start_time": "2023-05-14T17:22:49.605Z"
   },
   {
    "duration": 6,
    "start_time": "2023-05-14T17:22:49.668Z"
   },
   {
    "duration": 229,
    "start_time": "2023-05-14T17:22:49.676Z"
   },
   {
    "duration": 1317,
    "start_time": "2023-05-14T17:22:49.907Z"
   },
   {
    "duration": 1234,
    "start_time": "2023-05-14T17:22:51.226Z"
   },
   {
    "duration": 1260,
    "start_time": "2023-05-14T17:22:52.462Z"
   },
   {
    "duration": 1351,
    "start_time": "2023-05-14T17:22:53.723Z"
   },
   {
    "duration": 233,
    "start_time": "2023-05-14T17:22:55.076Z"
   },
   {
    "duration": 969,
    "start_time": "2023-05-14T17:22:55.310Z"
   },
   {
    "duration": 8,
    "start_time": "2023-05-14T17:22:56.280Z"
   },
   {
    "duration": 1183,
    "start_time": "2023-05-14T17:22:56.289Z"
   },
   {
    "duration": 1249,
    "start_time": "2023-05-14T17:22:57.476Z"
   },
   {
    "duration": 248,
    "start_time": "2023-05-14T17:22:58.727Z"
   },
   {
    "duration": 341,
    "start_time": "2023-05-14T17:22:58.977Z"
   },
   {
    "duration": 1304,
    "start_time": "2023-05-14T17:22:59.320Z"
   },
   {
    "duration": 1408,
    "start_time": "2023-05-14T17:23:00.626Z"
   },
   {
    "duration": 240,
    "start_time": "2023-05-14T17:23:02.036Z"
   },
   {
    "duration": 1116,
    "start_time": "2023-05-14T17:23:02.278Z"
   },
   {
    "duration": 10,
    "start_time": "2023-05-14T17:23:03.396Z"
   },
   {
    "duration": 1254,
    "start_time": "2023-05-14T17:23:03.408Z"
   },
   {
    "duration": 418,
    "start_time": "2023-05-14T17:23:04.664Z"
   },
   {
    "duration": 411,
    "start_time": "2023-05-14T17:23:05.084Z"
   },
   {
    "duration": 1265,
    "start_time": "2023-05-14T17:23:05.498Z"
   },
   {
    "duration": 219,
    "start_time": "2023-05-14T17:23:06.766Z"
   },
   {
    "duration": 1078,
    "start_time": "2023-05-14T17:23:06.987Z"
   },
   {
    "duration": 11,
    "start_time": "2023-05-14T17:23:08.067Z"
   },
   {
    "duration": 1367,
    "start_time": "2023-05-14T17:23:08.080Z"
   },
   {
    "duration": 4,
    "start_time": "2023-05-14T17:23:09.456Z"
   },
   {
    "duration": 5,
    "start_time": "2023-05-14T17:23:09.461Z"
   },
   {
    "duration": 21,
    "start_time": "2023-05-14T17:23:09.468Z"
   },
   {
    "duration": 7,
    "start_time": "2023-05-14T17:23:09.491Z"
   },
   {
    "duration": 11,
    "start_time": "2023-05-14T17:23:09.500Z"
   },
   {
    "duration": 3,
    "start_time": "2023-05-14T17:23:09.513Z"
   },
   {
    "duration": 11,
    "start_time": "2023-05-14T17:23:09.518Z"
   },
   {
    "duration": 29,
    "start_time": "2023-05-14T17:23:09.531Z"
   },
   {
    "duration": 6,
    "start_time": "2023-05-14T17:23:09.562Z"
   },
   {
    "duration": 37,
    "start_time": "2023-05-14T17:23:09.569Z"
   },
   {
    "duration": 53,
    "start_time": "2023-05-14T17:23:09.608Z"
   },
   {
    "duration": 45,
    "start_time": "2023-05-14T17:23:09.663Z"
   },
   {
    "duration": 3,
    "start_time": "2023-05-14T17:23:09.710Z"
   },
   {
    "duration": 1143,
    "start_time": "2023-05-14T17:23:09.714Z"
   },
   {
    "duration": 1106,
    "start_time": "2023-05-14T17:23:10.859Z"
   },
   {
    "duration": 5,
    "start_time": "2023-05-14T17:23:12.058Z"
   },
   {
    "duration": 294,
    "start_time": "2023-05-14T17:23:12.065Z"
   },
   {
    "duration": 294,
    "start_time": "2023-05-14T17:23:12.361Z"
   },
   {
    "duration": 4,
    "start_time": "2023-05-14T17:23:12.657Z"
   },
   {
    "duration": 5234,
    "start_time": "2023-05-14T17:23:12.662Z"
   },
   {
    "duration": 7378,
    "start_time": "2023-05-14T17:23:17.897Z"
   },
   {
    "duration": 5,
    "start_time": "2023-05-14T17:23:25.277Z"
   },
   {
    "duration": 1344,
    "start_time": "2023-05-14T17:23:25.284Z"
   },
   {
    "duration": 1784,
    "start_time": "2023-05-14T17:23:26.631Z"
   },
   {
    "duration": 3,
    "start_time": "2023-05-14T17:23:28.417Z"
   },
   {
    "duration": 1276,
    "start_time": "2023-05-14T17:26:47.233Z"
   },
   {
    "duration": 1232,
    "start_time": "2023-05-14T17:26:58.116Z"
   },
   {
    "duration": 1221,
    "start_time": "2023-05-14T17:27:25.277Z"
   },
   {
    "duration": 1197,
    "start_time": "2023-05-14T17:28:04.960Z"
   },
   {
    "duration": 1265,
    "start_time": "2023-05-14T17:29:24.902Z"
   },
   {
    "duration": 1161,
    "start_time": "2023-05-14T17:29:33.744Z"
   },
   {
    "duration": 1384,
    "start_time": "2023-05-14T17:30:31.627Z"
   },
   {
    "duration": 753,
    "start_time": "2023-05-14T17:30:33.013Z"
   },
   {
    "duration": 18,
    "start_time": "2023-05-14T17:30:33.768Z"
   },
   {
    "duration": 12,
    "start_time": "2023-05-14T17:30:33.788Z"
   },
   {
    "duration": 16,
    "start_time": "2023-05-14T17:30:33.802Z"
   },
   {
    "duration": 39,
    "start_time": "2023-05-14T17:30:33.821Z"
   },
   {
    "duration": 5,
    "start_time": "2023-05-14T17:30:33.861Z"
   },
   {
    "duration": 36,
    "start_time": "2023-05-14T17:30:33.867Z"
   },
   {
    "duration": 20,
    "start_time": "2023-05-14T17:30:33.905Z"
   },
   {
    "duration": 6,
    "start_time": "2023-05-14T17:30:33.927Z"
   },
   {
    "duration": 2,
    "start_time": "2023-05-14T17:30:33.935Z"
   },
   {
    "duration": 5,
    "start_time": "2023-05-14T17:30:33.939Z"
   },
   {
    "duration": 20,
    "start_time": "2023-05-14T17:30:33.946Z"
   },
   {
    "duration": 21,
    "start_time": "2023-05-14T17:30:33.968Z"
   },
   {
    "duration": 25,
    "start_time": "2023-05-14T17:30:33.991Z"
   },
   {
    "duration": 25,
    "start_time": "2023-05-14T17:30:34.018Z"
   },
   {
    "duration": 61,
    "start_time": "2023-05-14T17:30:34.045Z"
   },
   {
    "duration": 7,
    "start_time": "2023-05-14T17:30:34.108Z"
   },
   {
    "duration": 195,
    "start_time": "2023-05-14T17:30:34.117Z"
   },
   {
    "duration": 2322,
    "start_time": "2023-05-14T17:30:34.314Z"
   },
   {
    "duration": 1257,
    "start_time": "2023-05-14T17:30:36.638Z"
   },
   {
    "duration": 1417,
    "start_time": "2023-05-14T17:30:37.897Z"
   },
   {
    "duration": 1318,
    "start_time": "2023-05-14T17:30:39.315Z"
   },
   {
    "duration": 223,
    "start_time": "2023-05-14T17:30:40.635Z"
   },
   {
    "duration": 1096,
    "start_time": "2023-05-14T17:30:40.860Z"
   },
   {
    "duration": 8,
    "start_time": "2023-05-14T17:30:41.958Z"
   },
   {
    "duration": 1201,
    "start_time": "2023-05-14T17:30:41.968Z"
   },
   {
    "duration": 1300,
    "start_time": "2023-05-14T17:30:43.173Z"
   },
   {
    "duration": 1376,
    "start_time": "2023-05-14T17:30:44.475Z"
   },
   {
    "duration": 227,
    "start_time": "2023-05-14T17:30:45.855Z"
   },
   {
    "duration": 1152,
    "start_time": "2023-05-14T17:30:46.084Z"
   },
   {
    "duration": 1331,
    "start_time": "2023-05-14T17:30:47.238Z"
   },
   {
    "duration": 1421,
    "start_time": "2023-05-14T17:30:48.570Z"
   },
   {
    "duration": 241,
    "start_time": "2023-05-14T17:30:49.993Z"
   },
   {
    "duration": 1130,
    "start_time": "2023-05-14T17:30:50.235Z"
   },
   {
    "duration": 13,
    "start_time": "2023-05-14T17:30:51.367Z"
   },
   {
    "duration": 1275,
    "start_time": "2023-05-14T17:30:51.382Z"
   },
   {
    "duration": 408,
    "start_time": "2023-05-14T17:30:52.659Z"
   },
   {
    "duration": 394,
    "start_time": "2023-05-14T17:30:53.069Z"
   },
   {
    "duration": 1258,
    "start_time": "2023-05-14T17:30:53.465Z"
   },
   {
    "duration": 220,
    "start_time": "2023-05-14T17:30:54.725Z"
   },
   {
    "duration": 1087,
    "start_time": "2023-05-14T17:30:54.947Z"
   },
   {
    "duration": 9,
    "start_time": "2023-05-14T17:30:56.037Z"
   },
   {
    "duration": 1324,
    "start_time": "2023-05-14T17:30:56.057Z"
   },
   {
    "duration": 4,
    "start_time": "2023-05-14T17:30:57.383Z"
   },
   {
    "duration": 5,
    "start_time": "2023-05-14T17:30:57.389Z"
   },
   {
    "duration": 18,
    "start_time": "2023-05-14T17:30:57.396Z"
   },
   {
    "duration": 7,
    "start_time": "2023-05-14T17:30:57.416Z"
   },
   {
    "duration": 38,
    "start_time": "2023-05-14T17:30:57.425Z"
   },
   {
    "duration": 6,
    "start_time": "2023-05-14T17:30:57.466Z"
   },
   {
    "duration": 6,
    "start_time": "2023-05-14T17:30:57.473Z"
   },
   {
    "duration": 10,
    "start_time": "2023-05-14T17:30:57.480Z"
   },
   {
    "duration": 11,
    "start_time": "2023-05-14T17:30:57.491Z"
   },
   {
    "duration": 37,
    "start_time": "2023-05-14T17:30:57.503Z"
   },
   {
    "duration": 37,
    "start_time": "2023-05-14T17:30:57.556Z"
   },
   {
    "duration": 48,
    "start_time": "2023-05-14T17:30:57.595Z"
   },
   {
    "duration": 3,
    "start_time": "2023-05-14T17:30:57.657Z"
   },
   {
    "duration": 996,
    "start_time": "2023-05-14T17:30:57.662Z"
   },
   {
    "duration": 1299,
    "start_time": "2023-05-14T17:30:58.662Z"
   },
   {
    "duration": 4,
    "start_time": "2023-05-14T17:30:59.965Z"
   },
   {
    "duration": 286,
    "start_time": "2023-05-14T17:30:59.973Z"
   },
   {
    "duration": 200,
    "start_time": "2023-05-14T17:31:00.263Z"
   },
   {
    "duration": 108,
    "start_time": "2023-05-14T17:31:00.465Z"
   },
   {
    "duration": 5414,
    "start_time": "2023-05-14T17:31:00.575Z"
   },
   {
    "duration": 7032,
    "start_time": "2023-05-14T17:31:05.994Z"
   },
   {
    "duration": 4,
    "start_time": "2023-05-14T17:31:13.027Z"
   },
   {
    "duration": 1324,
    "start_time": "2023-05-14T17:31:13.032Z"
   },
   {
    "duration": 1814,
    "start_time": "2023-05-14T17:31:14.358Z"
   },
   {
    "duration": 4,
    "start_time": "2023-05-14T17:31:16.173Z"
   },
   {
    "duration": 194,
    "start_time": "2023-05-14T17:33:34.635Z"
   },
   {
    "duration": 1439,
    "start_time": "2023-05-14T17:36:14.327Z"
   },
   {
    "duration": 781,
    "start_time": "2023-05-14T17:36:15.769Z"
   },
   {
    "duration": 21,
    "start_time": "2023-05-14T17:36:16.552Z"
   },
   {
    "duration": 13,
    "start_time": "2023-05-14T17:36:16.576Z"
   },
   {
    "duration": 20,
    "start_time": "2023-05-14T17:36:16.590Z"
   },
   {
    "duration": 10,
    "start_time": "2023-05-14T17:36:16.612Z"
   },
   {
    "duration": 38,
    "start_time": "2023-05-14T17:36:16.623Z"
   },
   {
    "duration": 40,
    "start_time": "2023-05-14T17:36:16.662Z"
   },
   {
    "duration": 8,
    "start_time": "2023-05-14T17:36:16.704Z"
   },
   {
    "duration": 6,
    "start_time": "2023-05-14T17:36:16.715Z"
   },
   {
    "duration": 7,
    "start_time": "2023-05-14T17:36:16.723Z"
   },
   {
    "duration": 25,
    "start_time": "2023-05-14T17:36:16.732Z"
   },
   {
    "duration": 6,
    "start_time": "2023-05-14T17:36:16.759Z"
   },
   {
    "duration": 6,
    "start_time": "2023-05-14T17:36:16.767Z"
   },
   {
    "duration": 17,
    "start_time": "2023-05-14T17:36:16.774Z"
   },
   {
    "duration": 13,
    "start_time": "2023-05-14T17:36:16.792Z"
   },
   {
    "duration": 71,
    "start_time": "2023-05-14T17:36:16.807Z"
   },
   {
    "duration": 8,
    "start_time": "2023-05-14T17:36:16.880Z"
   },
   {
    "duration": 219,
    "start_time": "2023-05-14T17:36:16.889Z"
   },
   {
    "duration": 1329,
    "start_time": "2023-05-14T17:36:17.110Z"
   },
   {
    "duration": 1350,
    "start_time": "2023-05-14T17:36:18.441Z"
   },
   {
    "duration": 1327,
    "start_time": "2023-05-14T17:36:19.794Z"
   },
   {
    "duration": 1386,
    "start_time": "2023-05-14T17:36:21.122Z"
   },
   {
    "duration": 217,
    "start_time": "2023-05-14T17:36:22.509Z"
   },
   {
    "duration": 947,
    "start_time": "2023-05-14T17:36:22.728Z"
   },
   {
    "duration": 7,
    "start_time": "2023-05-14T17:36:23.677Z"
   },
   {
    "duration": 2104,
    "start_time": "2023-05-14T17:36:23.686Z"
   },
   {
    "duration": 1322,
    "start_time": "2023-05-14T17:36:25.795Z"
   },
   {
    "duration": 239,
    "start_time": "2023-05-14T17:36:27.119Z"
   },
   {
    "duration": 1204,
    "start_time": "2023-05-14T17:36:27.361Z"
   },
   {
    "duration": 1394,
    "start_time": "2023-05-14T17:36:28.566Z"
   },
   {
    "duration": 1350,
    "start_time": "2023-05-14T17:36:29.963Z"
   },
   {
    "duration": 205,
    "start_time": "2023-05-14T17:36:31.315Z"
   },
   {
    "duration": 892,
    "start_time": "2023-05-14T17:36:31.522Z"
   },
   {
    "duration": 9,
    "start_time": "2023-05-14T17:36:32.416Z"
   },
   {
    "duration": 1243,
    "start_time": "2023-05-14T17:36:32.427Z"
   },
   {
    "duration": 393,
    "start_time": "2023-05-14T17:36:33.672Z"
   },
   {
    "duration": 515,
    "start_time": "2023-05-14T17:36:34.067Z"
   },
   {
    "duration": 1165,
    "start_time": "2023-05-14T17:36:34.584Z"
   },
   {
    "duration": 222,
    "start_time": "2023-05-14T17:36:35.751Z"
   },
   {
    "duration": 1267,
    "start_time": "2023-05-14T17:36:35.975Z"
   },
   {
    "duration": 13,
    "start_time": "2023-05-14T17:36:37.243Z"
   },
   {
    "duration": 1139,
    "start_time": "2023-05-14T17:36:37.258Z"
   },
   {
    "duration": 4,
    "start_time": "2023-05-14T17:36:38.399Z"
   },
   {
    "duration": 20,
    "start_time": "2023-05-14T17:36:38.405Z"
   },
   {
    "duration": 18,
    "start_time": "2023-05-14T17:36:38.426Z"
   },
   {
    "duration": 11,
    "start_time": "2023-05-14T17:36:38.446Z"
   },
   {
    "duration": 10,
    "start_time": "2023-05-14T17:36:38.458Z"
   },
   {
    "duration": 4,
    "start_time": "2023-05-14T17:36:38.469Z"
   },
   {
    "duration": 7,
    "start_time": "2023-05-14T17:36:38.474Z"
   },
   {
    "duration": 6,
    "start_time": "2023-05-14T17:36:38.483Z"
   },
   {
    "duration": 11,
    "start_time": "2023-05-14T17:36:38.491Z"
   },
   {
    "duration": 33,
    "start_time": "2023-05-14T17:36:38.504Z"
   },
   {
    "duration": 33,
    "start_time": "2023-05-14T17:36:38.556Z"
   },
   {
    "duration": 47,
    "start_time": "2023-05-14T17:36:38.590Z"
   },
   {
    "duration": 3,
    "start_time": "2023-05-14T17:36:38.656Z"
   },
   {
    "duration": 1096,
    "start_time": "2023-05-14T17:36:38.661Z"
   },
   {
    "duration": 706,
    "start_time": "2023-05-14T17:36:39.759Z"
   },
   {
    "duration": 4,
    "start_time": "2023-05-14T17:36:40.557Z"
   },
   {
    "duration": 106,
    "start_time": "2023-05-14T17:36:40.563Z"
   },
   {
    "duration": 388,
    "start_time": "2023-05-14T17:36:40.671Z"
   },
   {
    "duration": 4,
    "start_time": "2023-05-14T17:36:41.061Z"
   },
   {
    "duration": 5427,
    "start_time": "2023-05-14T17:36:41.067Z"
   },
   {
    "duration": 6968,
    "start_time": "2023-05-14T17:36:46.496Z"
   },
   {
    "duration": 3,
    "start_time": "2023-05-14T17:36:53.465Z"
   },
   {
    "duration": 1336,
    "start_time": "2023-05-14T17:36:53.470Z"
   },
   {
    "duration": 1848,
    "start_time": "2023-05-14T17:36:54.808Z"
   },
   {
    "duration": 4,
    "start_time": "2023-05-14T17:36:56.658Z"
   },
   {
    "duration": 637,
    "start_time": "2023-05-14T17:38:20.369Z"
   },
   {
    "duration": 910,
    "start_time": "2023-05-14T17:38:35.355Z"
   },
   {
    "duration": 9,
    "start_time": "2023-05-14T17:43:22.011Z"
   },
   {
    "duration": 1321,
    "start_time": "2023-05-14T17:43:24.753Z"
   },
   {
    "duration": 854,
    "start_time": "2023-05-14T17:45:10.979Z"
   },
   {
    "duration": 863,
    "start_time": "2023-05-14T17:46:34.151Z"
   },
   {
    "duration": 878,
    "start_time": "2023-05-14T17:46:39.213Z"
   },
   {
    "duration": 927,
    "start_time": "2023-05-14T17:47:12.674Z"
   },
   {
    "duration": 11,
    "start_time": "2023-05-14T17:47:38.964Z"
   },
   {
    "duration": 1295,
    "start_time": "2023-05-14T17:47:41.655Z"
   },
   {
    "duration": 1492,
    "start_time": "2023-05-14T17:48:18.342Z"
   },
   {
    "duration": 1363,
    "start_time": "2023-05-14T17:48:33.200Z"
   },
   {
    "duration": 759,
    "start_time": "2023-05-14T17:48:34.565Z"
   },
   {
    "duration": 18,
    "start_time": "2023-05-14T17:48:35.326Z"
   },
   {
    "duration": 17,
    "start_time": "2023-05-14T17:48:35.346Z"
   },
   {
    "duration": 45,
    "start_time": "2023-05-14T17:48:35.364Z"
   },
   {
    "duration": 11,
    "start_time": "2023-05-14T17:48:35.410Z"
   },
   {
    "duration": 5,
    "start_time": "2023-05-14T17:48:35.423Z"
   },
   {
    "duration": 15,
    "start_time": "2023-05-14T17:48:35.429Z"
   },
   {
    "duration": 18,
    "start_time": "2023-05-14T17:48:35.445Z"
   },
   {
    "duration": 36,
    "start_time": "2023-05-14T17:48:35.465Z"
   },
   {
    "duration": 12,
    "start_time": "2023-05-14T17:48:35.503Z"
   },
   {
    "duration": 28,
    "start_time": "2023-05-14T17:48:35.517Z"
   },
   {
    "duration": 19,
    "start_time": "2023-05-14T17:48:35.546Z"
   },
   {
    "duration": 22,
    "start_time": "2023-05-14T17:48:35.567Z"
   },
   {
    "duration": 69,
    "start_time": "2023-05-14T17:48:35.591Z"
   },
   {
    "duration": 24,
    "start_time": "2023-05-14T17:48:35.662Z"
   },
   {
    "duration": 75,
    "start_time": "2023-05-14T17:48:35.688Z"
   },
   {
    "duration": 8,
    "start_time": "2023-05-14T17:48:35.765Z"
   },
   {
    "duration": 213,
    "start_time": "2023-05-14T17:48:35.775Z"
   },
   {
    "duration": 1278,
    "start_time": "2023-05-14T17:48:35.990Z"
   },
   {
    "duration": 1279,
    "start_time": "2023-05-14T17:48:37.270Z"
   },
   {
    "duration": 1391,
    "start_time": "2023-05-14T17:48:38.551Z"
   },
   {
    "duration": 1346,
    "start_time": "2023-05-14T17:48:39.944Z"
   },
   {
    "duration": 204,
    "start_time": "2023-05-14T17:48:41.292Z"
   },
   {
    "duration": 1047,
    "start_time": "2023-05-14T17:48:41.498Z"
   },
   {
    "duration": 12,
    "start_time": "2023-05-14T17:48:42.547Z"
   },
   {
    "duration": 1215,
    "start_time": "2023-05-14T17:48:42.560Z"
   },
   {
    "duration": 1329,
    "start_time": "2023-05-14T17:48:43.779Z"
   },
   {
    "duration": 228,
    "start_time": "2023-05-14T17:48:45.110Z"
   },
   {
    "duration": 930,
    "start_time": "2023-05-14T17:48:45.340Z"
   },
   {
    "duration": 9,
    "start_time": "2023-05-14T17:48:46.272Z"
   },
   {
    "duration": 1373,
    "start_time": "2023-05-14T17:48:46.283Z"
   },
   {
    "duration": 1395,
    "start_time": "2023-05-14T17:48:47.658Z"
   },
   {
    "duration": 258,
    "start_time": "2023-05-14T17:48:49.055Z"
   },
   {
    "duration": 939,
    "start_time": "2023-05-14T17:48:49.314Z"
   },
   {
    "duration": 11,
    "start_time": "2023-05-14T17:48:50.257Z"
   },
   {
    "duration": 1382,
    "start_time": "2023-05-14T17:48:50.270Z"
   },
   {
    "duration": 436,
    "start_time": "2023-05-14T17:48:51.654Z"
   },
   {
    "duration": 418,
    "start_time": "2023-05-14T17:48:52.092Z"
   },
   {
    "duration": 1411,
    "start_time": "2023-05-14T17:48:52.512Z"
   },
   {
    "duration": 232,
    "start_time": "2023-05-14T17:48:53.925Z"
   },
   {
    "duration": 1159,
    "start_time": "2023-05-14T17:48:54.158Z"
   },
   {
    "duration": 9,
    "start_time": "2023-05-14T17:48:55.319Z"
   },
   {
    "duration": 1295,
    "start_time": "2023-05-14T17:48:55.329Z"
   },
   {
    "duration": 3,
    "start_time": "2023-05-14T17:48:56.626Z"
   },
   {
    "duration": 10,
    "start_time": "2023-05-14T17:48:56.631Z"
   },
   {
    "duration": 20,
    "start_time": "2023-05-14T17:48:56.643Z"
   },
   {
    "duration": 15,
    "start_time": "2023-05-14T17:48:56.665Z"
   },
   {
    "duration": 34,
    "start_time": "2023-05-14T17:48:56.682Z"
   },
   {
    "duration": 22,
    "start_time": "2023-05-14T17:48:56.718Z"
   },
   {
    "duration": 25,
    "start_time": "2023-05-14T17:48:56.741Z"
   },
   {
    "duration": 35,
    "start_time": "2023-05-14T17:48:56.768Z"
   },
   {
    "duration": 20,
    "start_time": "2023-05-14T17:48:56.804Z"
   },
   {
    "duration": 44,
    "start_time": "2023-05-14T17:48:56.826Z"
   },
   {
    "duration": 36,
    "start_time": "2023-05-14T17:48:56.871Z"
   },
   {
    "duration": 62,
    "start_time": "2023-05-14T17:48:56.909Z"
   },
   {
    "duration": 3,
    "start_time": "2023-05-14T17:48:56.973Z"
   },
   {
    "duration": 977,
    "start_time": "2023-05-14T17:48:56.978Z"
   },
   {
    "duration": 1297,
    "start_time": "2023-05-14T17:48:57.958Z"
   },
   {
    "duration": 4,
    "start_time": "2023-05-14T17:48:59.258Z"
   },
   {
    "duration": 193,
    "start_time": "2023-05-14T17:48:59.264Z"
   },
   {
    "duration": 197,
    "start_time": "2023-05-14T17:48:59.459Z"
   },
   {
    "duration": 6,
    "start_time": "2023-05-14T17:48:59.659Z"
   },
   {
    "duration": 5208,
    "start_time": "2023-05-14T17:48:59.757Z"
   },
   {
    "duration": 7204,
    "start_time": "2023-05-14T17:49:04.966Z"
   },
   {
    "duration": 4,
    "start_time": "2023-05-14T17:49:12.172Z"
   },
   {
    "duration": 1347,
    "start_time": "2023-05-14T17:49:12.177Z"
   },
   {
    "duration": 1762,
    "start_time": "2023-05-14T17:49:13.526Z"
   },
   {
    "duration": 4,
    "start_time": "2023-05-14T17:49:15.289Z"
   },
   {
    "duration": 1453,
    "start_time": "2023-05-14T17:50:50.514Z"
   },
   {
    "duration": 780,
    "start_time": "2023-05-14T17:50:51.969Z"
   },
   {
    "duration": 22,
    "start_time": "2023-05-14T17:50:52.751Z"
   },
   {
    "duration": 14,
    "start_time": "2023-05-14T17:50:52.775Z"
   },
   {
    "duration": 25,
    "start_time": "2023-05-14T17:50:52.791Z"
   },
   {
    "duration": 39,
    "start_time": "2023-05-14T17:50:52.818Z"
   },
   {
    "duration": 12,
    "start_time": "2023-05-14T17:50:52.860Z"
   },
   {
    "duration": 42,
    "start_time": "2023-05-14T17:50:52.875Z"
   },
   {
    "duration": 38,
    "start_time": "2023-05-14T17:50:52.920Z"
   },
   {
    "duration": 18,
    "start_time": "2023-05-14T17:50:52.962Z"
   },
   {
    "duration": 13,
    "start_time": "2023-05-14T17:50:52.982Z"
   },
   {
    "duration": 23,
    "start_time": "2023-05-14T17:50:52.997Z"
   },
   {
    "duration": 23,
    "start_time": "2023-05-14T17:50:53.022Z"
   },
   {
    "duration": 6,
    "start_time": "2023-05-14T17:50:53.047Z"
   },
   {
    "duration": 22,
    "start_time": "2023-05-14T17:50:53.055Z"
   },
   {
    "duration": 13,
    "start_time": "2023-05-14T17:50:53.078Z"
   },
   {
    "duration": 73,
    "start_time": "2023-05-14T17:50:53.092Z"
   },
   {
    "duration": 8,
    "start_time": "2023-05-14T17:50:53.167Z"
   },
   {
    "duration": 214,
    "start_time": "2023-05-14T17:50:53.177Z"
   },
   {
    "duration": 1378,
    "start_time": "2023-05-14T17:50:53.393Z"
   },
   {
    "duration": 1310,
    "start_time": "2023-05-14T17:50:54.773Z"
   },
   {
    "duration": 1322,
    "start_time": "2023-05-14T17:50:56.085Z"
   },
   {
    "duration": 1321,
    "start_time": "2023-05-14T17:50:57.410Z"
   },
   {
    "duration": 1241,
    "start_time": "2023-05-14T17:50:58.733Z"
   },
   {
    "duration": 217,
    "start_time": "2023-05-14T17:50:59.976Z"
   },
   {
    "duration": 1099,
    "start_time": "2023-05-14T17:51:00.195Z"
   },
   {
    "duration": 8,
    "start_time": "2023-05-14T17:51:01.296Z"
   },
   {
    "duration": 1200,
    "start_time": "2023-05-14T17:51:01.308Z"
   },
   {
    "duration": 1287,
    "start_time": "2023-05-14T17:51:02.510Z"
   },
   {
    "duration": 1280,
    "start_time": "2023-05-14T17:51:03.799Z"
   },
   {
    "duration": 234,
    "start_time": "2023-05-14T17:51:05.081Z"
   },
   {
    "duration": 898,
    "start_time": "2023-05-14T17:51:05.317Z"
   },
   {
    "duration": 7,
    "start_time": "2023-05-14T17:51:06.217Z"
   },
   {
    "duration": 1282,
    "start_time": "2023-05-14T17:51:06.226Z"
   },
   {
    "duration": 1246,
    "start_time": "2023-05-14T17:51:07.509Z"
   },
   {
    "duration": 212,
    "start_time": "2023-05-14T17:51:08.756Z"
   },
   {
    "duration": 930,
    "start_time": "2023-05-14T17:51:08.969Z"
   },
   {
    "duration": 8,
    "start_time": "2023-05-14T17:51:09.901Z"
   },
   {
    "duration": 1287,
    "start_time": "2023-05-14T17:51:09.911Z"
   },
   {
    "duration": 397,
    "start_time": "2023-05-14T17:51:11.199Z"
   },
   {
    "duration": 413,
    "start_time": "2023-05-14T17:51:11.597Z"
   },
   {
    "duration": 1327,
    "start_time": "2023-05-14T17:51:12.011Z"
   },
   {
    "duration": 225,
    "start_time": "2023-05-14T17:51:13.340Z"
   },
   {
    "duration": 1111,
    "start_time": "2023-05-14T17:51:13.568Z"
   },
   {
    "duration": 9,
    "start_time": "2023-05-14T17:51:14.681Z"
   },
   {
    "duration": 1277,
    "start_time": "2023-05-14T17:51:14.691Z"
   },
   {
    "duration": 3,
    "start_time": "2023-05-14T17:51:15.970Z"
   },
   {
    "duration": 7,
    "start_time": "2023-05-14T17:51:15.975Z"
   },
   {
    "duration": 1407,
    "start_time": "2023-05-14T17:51:15.983Z"
   },
   {
    "duration": 12,
    "start_time": "2023-05-14T17:51:17.392Z"
   },
   {
    "duration": 10,
    "start_time": "2023-05-14T17:51:17.457Z"
   },
   {
    "duration": 10,
    "start_time": "2023-05-14T17:51:17.468Z"
   },
   {
    "duration": 3,
    "start_time": "2023-05-14T17:51:17.480Z"
   },
   {
    "duration": 11,
    "start_time": "2023-05-14T17:51:17.485Z"
   },
   {
    "duration": 61,
    "start_time": "2023-05-14T17:51:17.498Z"
   },
   {
    "duration": 21,
    "start_time": "2023-05-14T17:51:17.561Z"
   },
   {
    "duration": 84,
    "start_time": "2023-05-14T17:51:17.583Z"
   },
   {
    "duration": 34,
    "start_time": "2023-05-14T17:51:17.668Z"
   },
   {
    "duration": 153,
    "start_time": "2023-05-14T17:51:17.703Z"
   },
   {
    "duration": 3,
    "start_time": "2023-05-14T17:51:17.858Z"
   },
   {
    "duration": 1099,
    "start_time": "2023-05-14T17:51:17.863Z"
   },
   {
    "duration": 1102,
    "start_time": "2023-05-14T17:51:18.964Z"
   },
   {
    "duration": 5,
    "start_time": "2023-05-14T17:51:20.157Z"
   },
   {
    "duration": 293,
    "start_time": "2023-05-14T17:51:20.163Z"
   },
   {
    "duration": 300,
    "start_time": "2023-05-14T17:51:20.459Z"
   },
   {
    "duration": 4,
    "start_time": "2023-05-14T17:51:20.761Z"
   },
   {
    "duration": 5511,
    "start_time": "2023-05-14T17:51:20.767Z"
   },
   {
    "duration": 7091,
    "start_time": "2023-05-14T17:51:26.280Z"
   },
   {
    "duration": 4,
    "start_time": "2023-05-14T17:51:33.372Z"
   },
   {
    "duration": 1288,
    "start_time": "2023-05-14T17:51:33.378Z"
   },
   {
    "duration": 1757,
    "start_time": "2023-05-14T17:51:34.668Z"
   },
   {
    "duration": 3,
    "start_time": "2023-05-14T17:51:36.427Z"
   },
   {
    "duration": 11,
    "start_time": "2023-05-14T17:57:16.995Z"
   },
   {
    "duration": 49,
    "start_time": "2023-05-14T18:01:15.415Z"
   },
   {
    "duration": 2,
    "start_time": "2023-05-14T18:03:15.819Z"
   },
   {
    "duration": 3,
    "start_time": "2023-05-14T18:03:33.193Z"
   },
   {
    "duration": 3,
    "start_time": "2023-05-14T18:03:36.005Z"
   },
   {
    "duration": 380,
    "start_time": "2023-05-14T18:14:14.453Z"
   },
   {
    "duration": 395,
    "start_time": "2023-05-14T18:14:20.167Z"
   },
   {
    "duration": 1447,
    "start_time": "2023-05-14T18:14:49.197Z"
   },
   {
    "duration": 1037,
    "start_time": "2023-05-14T18:14:50.647Z"
   },
   {
    "duration": 73,
    "start_time": "2023-05-14T18:14:51.685Z"
   },
   {
    "duration": 13,
    "start_time": "2023-05-14T18:14:51.760Z"
   },
   {
    "duration": 87,
    "start_time": "2023-05-14T18:14:51.775Z"
   },
   {
    "duration": 9,
    "start_time": "2023-05-14T18:14:51.864Z"
   },
   {
    "duration": 9,
    "start_time": "2023-05-14T18:14:51.874Z"
   },
   {
    "duration": 15,
    "start_time": "2023-05-14T18:14:51.884Z"
   },
   {
    "duration": 60,
    "start_time": "2023-05-14T18:14:51.901Z"
   },
   {
    "duration": 14,
    "start_time": "2023-05-14T18:14:51.962Z"
   },
   {
    "duration": 42,
    "start_time": "2023-05-14T18:14:51.978Z"
   },
   {
    "duration": 35,
    "start_time": "2023-05-14T18:14:52.022Z"
   },
   {
    "duration": 20,
    "start_time": "2023-05-14T18:14:52.059Z"
   },
   {
    "duration": 13,
    "start_time": "2023-05-14T18:14:52.082Z"
   },
   {
    "duration": 11,
    "start_time": "2023-05-14T18:14:52.097Z"
   },
   {
    "duration": 52,
    "start_time": "2023-05-14T18:14:52.110Z"
   },
   {
    "duration": 117,
    "start_time": "2023-05-14T18:14:52.163Z"
   },
   {
    "duration": 6,
    "start_time": "2023-05-14T18:14:52.282Z"
   },
   {
    "duration": 390,
    "start_time": "2023-05-14T18:14:52.290Z"
   },
   {
    "duration": 1425,
    "start_time": "2023-05-14T18:14:52.682Z"
   },
   {
    "duration": 1240,
    "start_time": "2023-05-14T18:14:54.109Z"
   },
   {
    "duration": 1265,
    "start_time": "2023-05-14T18:14:55.351Z"
   },
   {
    "duration": 1352,
    "start_time": "2023-05-14T18:14:56.618Z"
   },
   {
    "duration": 211,
    "start_time": "2023-05-14T18:14:57.972Z"
   },
   {
    "duration": 999,
    "start_time": "2023-05-14T18:14:58.184Z"
   },
   {
    "duration": 12,
    "start_time": "2023-05-14T18:14:59.184Z"
   },
   {
    "duration": 1208,
    "start_time": "2023-05-14T18:14:59.198Z"
   },
   {
    "duration": 1293,
    "start_time": "2023-05-14T18:15:00.408Z"
   },
   {
    "duration": 233,
    "start_time": "2023-05-14T18:15:01.703Z"
   },
   {
    "duration": 892,
    "start_time": "2023-05-14T18:15:01.938Z"
   },
   {
    "duration": 9,
    "start_time": "2023-05-14T18:15:02.832Z"
   },
   {
    "duration": 1283,
    "start_time": "2023-05-14T18:15:02.843Z"
   },
   {
    "duration": 1261,
    "start_time": "2023-05-14T18:15:04.128Z"
   },
   {
    "duration": 234,
    "start_time": "2023-05-14T18:15:05.391Z"
   },
   {
    "duration": 898,
    "start_time": "2023-05-14T18:15:05.627Z"
   },
   {
    "duration": 9,
    "start_time": "2023-05-14T18:15:06.527Z"
   },
   {
    "duration": 1264,
    "start_time": "2023-05-14T18:15:06.537Z"
   },
   {
    "duration": 386,
    "start_time": "2023-05-14T18:15:07.802Z"
   },
   {
    "duration": 403,
    "start_time": "2023-05-14T18:15:08.189Z"
   },
   {
    "duration": 3274,
    "start_time": "2023-05-14T18:15:08.594Z"
   },
   {
    "duration": 1080,
    "start_time": "2023-05-14T18:15:11.872Z"
   },
   {
    "duration": 2,
    "start_time": "2023-05-14T18:15:12.955Z"
   },
   {
    "duration": 9,
    "start_time": "2023-05-14T18:15:12.959Z"
   },
   {
    "duration": 8,
    "start_time": "2023-05-14T18:15:12.969Z"
   },
   {
    "duration": 6,
    "start_time": "2023-05-14T18:15:12.979Z"
   },
   {
    "duration": 5,
    "start_time": "2023-05-14T18:15:12.986Z"
   },
   {
    "duration": 4,
    "start_time": "2023-05-14T18:15:12.992Z"
   },
   {
    "duration": 5,
    "start_time": "2023-05-14T18:15:12.997Z"
   },
   {
    "duration": 4,
    "start_time": "2023-05-14T18:15:13.003Z"
   },
   {
    "duration": 6,
    "start_time": "2023-05-14T18:15:13.009Z"
   },
   {
    "duration": 5,
    "start_time": "2023-05-14T18:15:13.016Z"
   },
   {
    "duration": 5,
    "start_time": "2023-05-14T18:15:13.022Z"
   },
   {
    "duration": 1238,
    "start_time": "2023-05-14T18:15:13.029Z"
   },
   {
    "duration": 8,
    "start_time": "2023-05-14T18:15:14.269Z"
   },
   {
    "duration": 7,
    "start_time": "2023-05-14T18:15:14.279Z"
   },
   {
    "duration": 9,
    "start_time": "2023-05-14T18:15:14.287Z"
   },
   {
    "duration": 3,
    "start_time": "2023-05-14T18:15:14.298Z"
   },
   {
    "duration": 7,
    "start_time": "2023-05-14T18:15:14.302Z"
   },
   {
    "duration": 12,
    "start_time": "2023-05-14T18:15:14.310Z"
   },
   {
    "duration": 32,
    "start_time": "2023-05-14T18:15:14.324Z"
   },
   {
    "duration": 33,
    "start_time": "2023-05-14T18:15:14.358Z"
   },
   {
    "duration": 34,
    "start_time": "2023-05-14T18:15:14.393Z"
   },
   {
    "duration": 62,
    "start_time": "2023-05-14T18:15:14.429Z"
   },
   {
    "duration": 3,
    "start_time": "2023-05-14T18:15:14.493Z"
   },
   {
    "duration": 668,
    "start_time": "2023-05-14T18:15:14.497Z"
   },
   {
    "duration": 1401,
    "start_time": "2023-05-14T18:15:15.258Z"
   },
   {
    "duration": 4,
    "start_time": "2023-05-14T18:15:16.661Z"
   },
   {
    "duration": 93,
    "start_time": "2023-05-14T18:15:16.666Z"
   },
   {
    "duration": 297,
    "start_time": "2023-05-14T18:15:16.762Z"
   },
   {
    "duration": 4,
    "start_time": "2023-05-14T18:15:17.061Z"
   },
   {
    "duration": 5369,
    "start_time": "2023-05-14T18:15:17.067Z"
   },
   {
    "duration": 7070,
    "start_time": "2023-05-14T18:15:22.437Z"
   },
   {
    "duration": 3,
    "start_time": "2023-05-14T18:15:29.509Z"
   },
   {
    "duration": 1349,
    "start_time": "2023-05-14T18:15:29.513Z"
   },
   {
    "duration": 1782,
    "start_time": "2023-05-14T18:15:30.864Z"
   },
   {
    "duration": 9,
    "start_time": "2023-05-14T18:15:32.648Z"
   },
   {
    "duration": 255,
    "start_time": "2023-05-14T18:22:03.002Z"
   },
   {
    "duration": 356,
    "start_time": "2023-05-14T18:23:38.017Z"
   },
   {
    "duration": 275,
    "start_time": "2023-05-14T18:23:56.753Z"
   },
   {
    "duration": 139,
    "start_time": "2023-05-14T18:25:39.680Z"
   },
   {
    "duration": 1698,
    "start_time": "2023-05-14T18:26:19.934Z"
   },
   {
    "duration": 421,
    "start_time": "2023-05-14T18:31:17.845Z"
   },
   {
    "duration": 1485,
    "start_time": "2023-05-14T18:33:21.641Z"
   },
   {
    "duration": 768,
    "start_time": "2023-05-14T18:33:23.128Z"
   },
   {
    "duration": 25,
    "start_time": "2023-05-14T18:33:23.897Z"
   },
   {
    "duration": 32,
    "start_time": "2023-05-14T18:33:23.924Z"
   },
   {
    "duration": 19,
    "start_time": "2023-05-14T18:33:23.958Z"
   },
   {
    "duration": 9,
    "start_time": "2023-05-14T18:33:23.979Z"
   },
   {
    "duration": 6,
    "start_time": "2023-05-14T18:33:23.989Z"
   },
   {
    "duration": 14,
    "start_time": "2023-05-14T18:33:23.997Z"
   },
   {
    "duration": 44,
    "start_time": "2023-05-14T18:33:24.013Z"
   },
   {
    "duration": 6,
    "start_time": "2023-05-14T18:33:24.060Z"
   },
   {
    "duration": 10,
    "start_time": "2023-05-14T18:33:24.068Z"
   },
   {
    "duration": 9,
    "start_time": "2023-05-14T18:33:24.079Z"
   },
   {
    "duration": 4,
    "start_time": "2023-05-14T18:33:24.090Z"
   },
   {
    "duration": 8,
    "start_time": "2023-05-14T18:33:24.096Z"
   },
   {
    "duration": 23,
    "start_time": "2023-05-14T18:33:24.106Z"
   },
   {
    "duration": 12,
    "start_time": "2023-05-14T18:33:24.132Z"
   },
   {
    "duration": 54,
    "start_time": "2023-05-14T18:33:24.157Z"
   },
   {
    "duration": 8,
    "start_time": "2023-05-14T18:33:24.213Z"
   },
   {
    "duration": 216,
    "start_time": "2023-05-14T18:33:24.223Z"
   },
   {
    "duration": 1386,
    "start_time": "2023-05-14T18:33:24.440Z"
   },
   {
    "duration": 1271,
    "start_time": "2023-05-14T18:33:25.827Z"
   },
   {
    "duration": 1352,
    "start_time": "2023-05-14T18:33:27.099Z"
   },
   {
    "duration": 1415,
    "start_time": "2023-05-14T18:33:28.453Z"
   },
   {
    "duration": 202,
    "start_time": "2023-05-14T18:33:29.869Z"
   },
   {
    "duration": 942,
    "start_time": "2023-05-14T18:33:30.073Z"
   },
   {
    "duration": 8,
    "start_time": "2023-05-14T18:33:31.016Z"
   },
   {
    "duration": 1285,
    "start_time": "2023-05-14T18:33:31.026Z"
   },
   {
    "duration": 1397,
    "start_time": "2023-05-14T18:33:32.317Z"
   },
   {
    "duration": 227,
    "start_time": "2023-05-14T18:33:33.716Z"
   },
   {
    "duration": 955,
    "start_time": "2023-05-14T18:33:33.944Z"
   },
   {
    "duration": 62,
    "start_time": "2023-05-14T18:33:34.901Z"
   },
   {
    "duration": 2199,
    "start_time": "2023-05-14T18:33:34.966Z"
   },
   {
    "duration": 1314,
    "start_time": "2023-05-14T18:33:37.167Z"
   },
   {
    "duration": 231,
    "start_time": "2023-05-14T18:33:38.483Z"
   },
   {
    "duration": 952,
    "start_time": "2023-05-14T18:33:38.716Z"
   },
   {
    "duration": 9,
    "start_time": "2023-05-14T18:33:39.670Z"
   },
   {
    "duration": 1291,
    "start_time": "2023-05-14T18:33:39.681Z"
   },
   {
    "duration": 405,
    "start_time": "2023-05-14T18:33:40.975Z"
   },
   {
    "duration": 603,
    "start_time": "2023-05-14T18:33:41.382Z"
   },
   {
    "duration": 3,
    "start_time": "2023-05-14T18:33:41.988Z"
   },
   {
    "duration": 1097,
    "start_time": "2023-05-14T18:33:41.993Z"
   },
   {
    "duration": 1584,
    "start_time": "2023-05-14T18:33:43.092Z"
   },
   {
    "duration": 2,
    "start_time": "2023-05-14T18:33:44.677Z"
   },
   {
    "duration": 4,
    "start_time": "2023-05-14T18:33:44.681Z"
   },
   {
    "duration": 5,
    "start_time": "2023-05-14T18:33:44.687Z"
   },
   {
    "duration": 4,
    "start_time": "2023-05-14T18:33:44.695Z"
   },
   {
    "duration": 7,
    "start_time": "2023-05-14T18:33:44.701Z"
   },
   {
    "duration": 8,
    "start_time": "2023-05-14T18:33:44.710Z"
   },
   {
    "duration": 5,
    "start_time": "2023-05-14T18:33:44.720Z"
   },
   {
    "duration": 29,
    "start_time": "2023-05-14T18:33:44.729Z"
   },
   {
    "duration": 5,
    "start_time": "2023-05-14T18:33:44.761Z"
   },
   {
    "duration": 4,
    "start_time": "2023-05-14T18:33:44.768Z"
   },
   {
    "duration": 5,
    "start_time": "2023-05-14T18:33:44.774Z"
   },
   {
    "duration": 1456,
    "start_time": "2023-05-14T18:33:44.782Z"
   },
   {
    "duration": 21,
    "start_time": "2023-05-14T18:33:46.240Z"
   },
   {
    "duration": 14,
    "start_time": "2023-05-14T18:33:46.263Z"
   },
   {
    "duration": 13,
    "start_time": "2023-05-14T18:33:46.279Z"
   },
   {
    "duration": 4,
    "start_time": "2023-05-14T18:33:46.294Z"
   },
   {
    "duration": 6,
    "start_time": "2023-05-14T18:33:46.301Z"
   },
   {
    "duration": 8,
    "start_time": "2023-05-14T18:33:46.309Z"
   },
   {
    "duration": 9,
    "start_time": "2023-05-14T18:33:46.319Z"
   },
   {
    "duration": 59,
    "start_time": "2023-05-14T18:33:46.329Z"
   },
   {
    "duration": 42,
    "start_time": "2023-05-14T18:33:46.390Z"
   },
   {
    "duration": 77,
    "start_time": "2023-05-14T18:33:46.434Z"
   },
   {
    "duration": 4,
    "start_time": "2023-05-14T18:33:46.513Z"
   },
   {
    "duration": 1037,
    "start_time": "2023-05-14T18:33:46.519Z"
   },
   {
    "duration": 1197,
    "start_time": "2023-05-14T18:33:47.558Z"
   },
   {
    "duration": 5,
    "start_time": "2023-05-14T18:33:48.757Z"
   },
   {
    "duration": 196,
    "start_time": "2023-05-14T18:33:48.764Z"
   },
   {
    "duration": 208,
    "start_time": "2023-05-14T18:33:48.962Z"
   },
   {
    "duration": 5,
    "start_time": "2023-05-14T18:33:49.258Z"
   },
   {
    "duration": 5201,
    "start_time": "2023-05-14T18:33:49.265Z"
   },
   {
    "duration": 7715,
    "start_time": "2023-05-14T18:33:54.468Z"
   },
   {
    "duration": 4,
    "start_time": "2023-05-14T18:34:02.185Z"
   },
   {
    "duration": 1553,
    "start_time": "2023-05-14T18:34:02.190Z"
   },
   {
    "duration": 1982,
    "start_time": "2023-05-14T18:34:03.745Z"
   },
   {
    "duration": 4,
    "start_time": "2023-05-14T18:34:05.729Z"
   },
   {
    "duration": 402,
    "start_time": "2023-05-14T18:37:21.793Z"
   },
   {
    "duration": 1629,
    "start_time": "2023-05-14T18:37:27.320Z"
   },
   {
    "duration": 932,
    "start_time": "2023-05-14T18:37:28.952Z"
   },
   {
    "duration": 20,
    "start_time": "2023-05-14T18:37:29.886Z"
   },
   {
    "duration": 12,
    "start_time": "2023-05-14T18:37:29.908Z"
   },
   {
    "duration": 46,
    "start_time": "2023-05-14T18:37:29.921Z"
   },
   {
    "duration": 15,
    "start_time": "2023-05-14T18:37:29.974Z"
   },
   {
    "duration": 5,
    "start_time": "2023-05-14T18:37:29.991Z"
   },
   {
    "duration": 17,
    "start_time": "2023-05-14T18:37:29.998Z"
   },
   {
    "duration": 25,
    "start_time": "2023-05-14T18:37:30.017Z"
   },
   {
    "duration": 22,
    "start_time": "2023-05-14T18:37:30.055Z"
   },
   {
    "duration": 48,
    "start_time": "2023-05-14T18:37:30.079Z"
   },
   {
    "duration": 63,
    "start_time": "2023-05-14T18:37:30.129Z"
   },
   {
    "duration": 33,
    "start_time": "2023-05-14T18:37:30.194Z"
   },
   {
    "duration": 48,
    "start_time": "2023-05-14T18:37:30.229Z"
   },
   {
    "duration": 31,
    "start_time": "2023-05-14T18:37:30.278Z"
   },
   {
    "duration": 45,
    "start_time": "2023-05-14T18:37:30.310Z"
   },
   {
    "duration": 98,
    "start_time": "2023-05-14T18:37:30.357Z"
   },
   {
    "duration": 15,
    "start_time": "2023-05-14T18:37:30.457Z"
   },
   {
    "duration": 248,
    "start_time": "2023-05-14T18:37:30.475Z"
   },
   {
    "duration": 1457,
    "start_time": "2023-05-14T18:37:30.724Z"
   },
   {
    "duration": 1432,
    "start_time": "2023-05-14T18:37:32.184Z"
   },
   {
    "duration": 1423,
    "start_time": "2023-05-14T18:37:33.617Z"
   },
   {
    "duration": 1823,
    "start_time": "2023-05-14T18:37:35.042Z"
   },
   {
    "duration": 598,
    "start_time": "2023-05-14T18:37:36.868Z"
   },
   {
    "duration": 1940,
    "start_time": "2023-05-14T18:37:37.469Z"
   },
   {
    "duration": 9,
    "start_time": "2023-05-14T18:37:39.411Z"
   },
   {
    "duration": 1367,
    "start_time": "2023-05-14T18:37:39.422Z"
   },
   {
    "duration": 1490,
    "start_time": "2023-05-14T18:37:40.794Z"
   },
   {
    "duration": 246,
    "start_time": "2023-05-14T18:37:42.286Z"
   },
   {
    "duration": 950,
    "start_time": "2023-05-14T18:37:42.534Z"
   },
   {
    "duration": 9,
    "start_time": "2023-05-14T18:37:43.486Z"
   },
   {
    "duration": 1446,
    "start_time": "2023-05-14T18:37:43.496Z"
   },
   {
    "duration": 1427,
    "start_time": "2023-05-14T18:37:44.943Z"
   },
   {
    "duration": 233,
    "start_time": "2023-05-14T18:37:46.373Z"
   },
   {
    "duration": 993,
    "start_time": "2023-05-14T18:37:46.608Z"
   },
   {
    "duration": 10,
    "start_time": "2023-05-14T18:37:47.603Z"
   },
   {
    "duration": 1653,
    "start_time": "2023-05-14T18:37:47.615Z"
   },
   {
    "duration": 455,
    "start_time": "2023-05-14T18:37:49.270Z"
   },
   {
    "duration": 451,
    "start_time": "2023-05-14T18:37:49.727Z"
   },
   {
    "duration": 601,
    "start_time": "2023-05-14T18:37:50.181Z"
   },
   {
    "duration": 1236,
    "start_time": "2023-05-14T18:37:50.784Z"
   },
   {
    "duration": 3,
    "start_time": "2023-05-14T18:37:52.021Z"
   },
   {
    "duration": 5,
    "start_time": "2023-05-14T18:37:52.025Z"
   },
   {
    "duration": 4,
    "start_time": "2023-05-14T18:37:52.031Z"
   },
   {
    "duration": 7,
    "start_time": "2023-05-14T18:37:52.037Z"
   },
   {
    "duration": 16,
    "start_time": "2023-05-14T18:37:52.046Z"
   },
   {
    "duration": 6,
    "start_time": "2023-05-14T18:37:52.064Z"
   },
   {
    "duration": 12,
    "start_time": "2023-05-14T18:37:52.073Z"
   },
   {
    "duration": 21,
    "start_time": "2023-05-14T18:37:52.087Z"
   },
   {
    "duration": 19,
    "start_time": "2023-05-14T18:37:52.110Z"
   },
   {
    "duration": 6,
    "start_time": "2023-05-14T18:37:52.130Z"
   },
   {
    "duration": 16,
    "start_time": "2023-05-14T18:37:52.138Z"
   },
   {
    "duration": 25,
    "start_time": "2023-05-14T18:37:52.156Z"
   },
   {
    "duration": 6,
    "start_time": "2023-05-14T18:37:52.182Z"
   },
   {
    "duration": 11,
    "start_time": "2023-05-14T18:37:52.190Z"
   },
   {
    "duration": 4,
    "start_time": "2023-05-14T18:37:52.202Z"
   },
   {
    "duration": 9,
    "start_time": "2023-05-14T18:37:52.208Z"
   },
   {
    "duration": 15,
    "start_time": "2023-05-14T18:37:52.219Z"
   },
   {
    "duration": 27,
    "start_time": "2023-05-14T18:37:52.236Z"
   },
   {
    "duration": 45,
    "start_time": "2023-05-14T18:37:52.267Z"
   },
   {
    "duration": 32,
    "start_time": "2023-05-14T18:37:52.315Z"
   },
   {
    "duration": 57,
    "start_time": "2023-05-14T18:37:52.357Z"
   },
   {
    "duration": 2,
    "start_time": "2023-05-14T18:37:52.416Z"
   },
   {
    "duration": 1253,
    "start_time": "2023-05-14T18:37:52.420Z"
   },
   {
    "duration": 1687,
    "start_time": "2023-05-14T18:37:53.675Z"
   },
   {
    "duration": 5,
    "start_time": "2023-05-14T18:37:55.365Z"
   },
   {
    "duration": 206,
    "start_time": "2023-05-14T18:37:55.456Z"
   },
   {
    "duration": 289,
    "start_time": "2023-05-14T18:37:55.668Z"
   },
   {
    "duration": 6,
    "start_time": "2023-05-14T18:37:55.959Z"
   },
   {
    "duration": 5603,
    "start_time": "2023-05-14T18:37:55.969Z"
   },
   {
    "duration": 7416,
    "start_time": "2023-05-14T18:38:01.574Z"
   },
   {
    "duration": 5,
    "start_time": "2023-05-14T18:38:08.992Z"
   },
   {
    "duration": 1415,
    "start_time": "2023-05-14T18:38:08.999Z"
   },
   {
    "duration": 1884,
    "start_time": "2023-05-14T18:38:10.416Z"
   },
   {
    "duration": 3,
    "start_time": "2023-05-14T18:38:12.302Z"
   },
   {
    "duration": 48,
    "start_time": "2023-05-14T18:50:18.246Z"
   },
   {
    "duration": 233,
    "start_time": "2023-05-14T18:50:40.003Z"
   },
   {
    "duration": 316,
    "start_time": "2023-05-14T18:51:32.122Z"
   },
   {
    "duration": 1498,
    "start_time": "2023-05-14T18:51:45.095Z"
   },
   {
    "duration": 818,
    "start_time": "2023-05-14T18:51:46.595Z"
   },
   {
    "duration": 32,
    "start_time": "2023-05-14T18:51:47.415Z"
   },
   {
    "duration": 20,
    "start_time": "2023-05-14T18:51:47.450Z"
   },
   {
    "duration": 27,
    "start_time": "2023-05-14T18:51:47.472Z"
   },
   {
    "duration": 14,
    "start_time": "2023-05-14T18:51:47.502Z"
   },
   {
    "duration": 40,
    "start_time": "2023-05-14T18:51:47.517Z"
   },
   {
    "duration": 16,
    "start_time": "2023-05-14T18:51:47.559Z"
   },
   {
    "duration": 11,
    "start_time": "2023-05-14T18:51:47.578Z"
   },
   {
    "duration": 21,
    "start_time": "2023-05-14T18:51:47.592Z"
   },
   {
    "duration": 6,
    "start_time": "2023-05-14T18:51:47.615Z"
   },
   {
    "duration": 6,
    "start_time": "2023-05-14T18:51:47.624Z"
   },
   {
    "duration": 35,
    "start_time": "2023-05-14T18:51:47.632Z"
   },
   {
    "duration": 5,
    "start_time": "2023-05-14T18:51:47.669Z"
   },
   {
    "duration": 15,
    "start_time": "2023-05-14T18:51:47.676Z"
   },
   {
    "duration": 13,
    "start_time": "2023-05-14T18:51:47.695Z"
   },
   {
    "duration": 93,
    "start_time": "2023-05-14T18:51:47.710Z"
   },
   {
    "duration": 10,
    "start_time": "2023-05-14T18:51:47.805Z"
   },
   {
    "duration": 313,
    "start_time": "2023-05-14T18:51:47.817Z"
   },
   {
    "duration": 1628,
    "start_time": "2023-05-14T18:51:48.132Z"
   },
   {
    "duration": 1357,
    "start_time": "2023-05-14T18:51:49.762Z"
   },
   {
    "duration": 1408,
    "start_time": "2023-05-14T18:51:51.121Z"
   },
   {
    "duration": 1491,
    "start_time": "2023-05-14T18:51:52.532Z"
   },
   {
    "duration": 234,
    "start_time": "2023-05-14T18:51:54.025Z"
   },
   {
    "duration": 992,
    "start_time": "2023-05-14T18:51:54.261Z"
   },
   {
    "duration": 8,
    "start_time": "2023-05-14T18:51:55.255Z"
   },
   {
    "duration": 1326,
    "start_time": "2023-05-14T18:51:55.265Z"
   },
   {
    "duration": 1364,
    "start_time": "2023-05-14T18:51:56.595Z"
   },
   {
    "duration": 235,
    "start_time": "2023-05-14T18:51:57.962Z"
   },
   {
    "duration": 964,
    "start_time": "2023-05-14T18:51:58.199Z"
   },
   {
    "duration": 11,
    "start_time": "2023-05-14T18:51:59.166Z"
   },
   {
    "duration": 1383,
    "start_time": "2023-05-14T18:51:59.180Z"
   },
   {
    "duration": 1442,
    "start_time": "2023-05-14T18:52:00.565Z"
   },
   {
    "duration": 259,
    "start_time": "2023-05-14T18:52:02.010Z"
   },
   {
    "duration": 915,
    "start_time": "2023-05-14T18:52:02.271Z"
   },
   {
    "duration": 10,
    "start_time": "2023-05-14T18:52:03.188Z"
   },
   {
    "duration": 1335,
    "start_time": "2023-05-14T18:52:03.201Z"
   },
   {
    "duration": 413,
    "start_time": "2023-05-14T18:52:04.538Z"
   },
   {
    "duration": 657,
    "start_time": "2023-05-14T18:52:04.956Z"
   },
   {
    "duration": 352,
    "start_time": "2023-05-14T18:52:05.615Z"
   },
   {
    "duration": 487,
    "start_time": "2023-05-14T18:52:05.969Z"
   },
   {
    "duration": 1232,
    "start_time": "2023-05-14T18:52:06.459Z"
   },
   {
    "duration": 2,
    "start_time": "2023-05-14T18:52:07.693Z"
   },
   {
    "duration": 5,
    "start_time": "2023-05-14T18:52:07.697Z"
   },
   {
    "duration": 5,
    "start_time": "2023-05-14T18:52:07.704Z"
   },
   {
    "duration": 4,
    "start_time": "2023-05-14T18:52:07.710Z"
   },
   {
    "duration": 10,
    "start_time": "2023-05-14T18:52:07.716Z"
   },
   {
    "duration": 9,
    "start_time": "2023-05-14T18:52:07.729Z"
   },
   {
    "duration": 26,
    "start_time": "2023-05-14T18:52:07.740Z"
   },
   {
    "duration": 9,
    "start_time": "2023-05-14T18:52:07.768Z"
   },
   {
    "duration": 12,
    "start_time": "2023-05-14T18:52:07.780Z"
   },
   {
    "duration": 7,
    "start_time": "2023-05-14T18:52:07.794Z"
   },
   {
    "duration": 8,
    "start_time": "2023-05-14T18:52:07.803Z"
   },
   {
    "duration": 10,
    "start_time": "2023-05-14T18:52:07.813Z"
   },
   {
    "duration": 7,
    "start_time": "2023-05-14T18:52:07.825Z"
   },
   {
    "duration": 12,
    "start_time": "2023-05-14T18:52:07.834Z"
   },
   {
    "duration": 9,
    "start_time": "2023-05-14T18:52:07.848Z"
   },
   {
    "duration": 10,
    "start_time": "2023-05-14T18:52:07.859Z"
   },
   {
    "duration": 8,
    "start_time": "2023-05-14T18:52:07.871Z"
   },
   {
    "duration": 7,
    "start_time": "2023-05-14T18:52:07.881Z"
   },
   {
    "duration": 186,
    "start_time": "2023-05-14T18:52:07.889Z"
   },
   {
    "duration": 40,
    "start_time": "2023-05-14T18:52:08.077Z"
   },
   {
    "duration": 74,
    "start_time": "2023-05-14T18:52:08.119Z"
   },
   {
    "duration": 3,
    "start_time": "2023-05-14T18:52:08.195Z"
   },
   {
    "duration": 759,
    "start_time": "2023-05-14T18:52:08.201Z"
   },
   {
    "duration": 1491,
    "start_time": "2023-05-14T18:52:08.965Z"
   },
   {
    "duration": 7,
    "start_time": "2023-05-14T18:52:10.462Z"
   },
   {
    "duration": 187,
    "start_time": "2023-05-14T18:52:10.472Z"
   },
   {
    "duration": 204,
    "start_time": "2023-05-14T18:52:10.662Z"
   },
   {
    "duration": 89,
    "start_time": "2023-05-14T18:52:10.869Z"
   },
   {
    "duration": 5230,
    "start_time": "2023-05-14T18:52:10.961Z"
   },
   {
    "duration": 7263,
    "start_time": "2023-05-14T18:52:16.193Z"
   },
   {
    "duration": 4,
    "start_time": "2023-05-14T18:52:23.458Z"
   },
   {
    "duration": 1335,
    "start_time": "2023-05-14T18:52:23.464Z"
   },
   {
    "duration": 1809,
    "start_time": "2023-05-14T18:52:24.801Z"
   },
   {
    "duration": 4,
    "start_time": "2023-05-14T18:52:26.611Z"
   },
   {
    "duration": 166,
    "start_time": "2023-05-14T18:56:10.372Z"
   },
   {
    "duration": 1448,
    "start_time": "2023-05-14T19:15:46.026Z"
   },
   {
    "duration": 806,
    "start_time": "2023-05-14T19:15:47.476Z"
   },
   {
    "duration": 23,
    "start_time": "2023-05-14T19:15:48.284Z"
   },
   {
    "duration": 16,
    "start_time": "2023-05-14T19:15:48.310Z"
   },
   {
    "duration": 42,
    "start_time": "2023-05-14T19:15:48.328Z"
   },
   {
    "duration": 15,
    "start_time": "2023-05-14T19:15:48.372Z"
   },
   {
    "duration": 6,
    "start_time": "2023-05-14T19:15:48.389Z"
   },
   {
    "duration": 25,
    "start_time": "2023-05-14T19:15:48.398Z"
   },
   {
    "duration": 41,
    "start_time": "2023-05-14T19:15:48.425Z"
   },
   {
    "duration": 9,
    "start_time": "2023-05-14T19:15:48.469Z"
   },
   {
    "duration": 9,
    "start_time": "2023-05-14T19:15:48.480Z"
   },
   {
    "duration": 3,
    "start_time": "2023-05-14T19:15:48.490Z"
   },
   {
    "duration": 8,
    "start_time": "2023-05-14T19:15:48.495Z"
   },
   {
    "duration": 6,
    "start_time": "2023-05-14T19:15:48.505Z"
   },
   {
    "duration": 10,
    "start_time": "2023-05-14T19:15:48.513Z"
   },
   {
    "duration": 38,
    "start_time": "2023-05-14T19:15:48.525Z"
   },
   {
    "duration": 16,
    "start_time": "2023-05-14T19:15:48.565Z"
   },
   {
    "duration": 80,
    "start_time": "2023-05-14T19:15:48.583Z"
   },
   {
    "duration": 7,
    "start_time": "2023-05-14T19:15:48.665Z"
   },
   {
    "duration": 262,
    "start_time": "2023-05-14T19:15:48.675Z"
   },
   {
    "duration": 1394,
    "start_time": "2023-05-14T19:15:48.939Z"
   },
   {
    "duration": 1655,
    "start_time": "2023-05-14T19:15:50.335Z"
   },
   {
    "duration": 1908,
    "start_time": "2023-05-14T19:15:51.991Z"
   },
   {
    "duration": 1374,
    "start_time": "2023-05-14T19:15:53.901Z"
   },
   {
    "duration": 212,
    "start_time": "2023-05-14T19:15:55.276Z"
   },
   {
    "duration": 1003,
    "start_time": "2023-05-14T19:15:55.489Z"
   },
   {
    "duration": 7,
    "start_time": "2023-05-14T19:15:56.494Z"
   },
   {
    "duration": 1175,
    "start_time": "2023-05-14T19:15:56.505Z"
   },
   {
    "duration": 1455,
    "start_time": "2023-05-14T19:15:57.681Z"
   },
   {
    "duration": 243,
    "start_time": "2023-05-14T19:15:59.138Z"
   },
   {
    "duration": 948,
    "start_time": "2023-05-14T19:15:59.383Z"
   },
   {
    "duration": 11,
    "start_time": "2023-05-14T19:16:00.333Z"
   },
   {
    "duration": 1387,
    "start_time": "2023-05-14T19:16:00.345Z"
   },
   {
    "duration": 1314,
    "start_time": "2023-05-14T19:16:01.734Z"
   },
   {
    "duration": 241,
    "start_time": "2023-05-14T19:16:03.050Z"
   },
   {
    "duration": 920,
    "start_time": "2023-05-14T19:16:03.292Z"
   },
   {
    "duration": 8,
    "start_time": "2023-05-14T19:16:04.214Z"
   },
   {
    "duration": 1259,
    "start_time": "2023-05-14T19:16:04.224Z"
   },
   {
    "duration": 183,
    "start_time": "2023-05-14T19:16:05.486Z"
   },
   {
    "duration": 375,
    "start_time": "2023-05-14T19:16:05.671Z"
   },
   {
    "duration": 1304,
    "start_time": "2023-05-14T19:16:06.047Z"
   },
   {
    "duration": 3,
    "start_time": "2023-05-14T19:16:07.356Z"
   },
   {
    "duration": 6,
    "start_time": "2023-05-14T19:16:07.361Z"
   },
   {
    "duration": 4,
    "start_time": "2023-05-14T19:16:07.369Z"
   },
   {
    "duration": 5,
    "start_time": "2023-05-14T19:16:07.375Z"
   },
   {
    "duration": 11,
    "start_time": "2023-05-14T19:16:07.382Z"
   },
   {
    "duration": 10,
    "start_time": "2023-05-14T19:16:07.395Z"
   },
   {
    "duration": 5,
    "start_time": "2023-05-14T19:16:07.408Z"
   },
   {
    "duration": 8,
    "start_time": "2023-05-14T19:16:07.415Z"
   },
   {
    "duration": 8,
    "start_time": "2023-05-14T19:16:07.425Z"
   },
   {
    "duration": 25,
    "start_time": "2023-05-14T19:16:07.434Z"
   },
   {
    "duration": 4,
    "start_time": "2023-05-14T19:16:07.461Z"
   },
   {
    "duration": 18,
    "start_time": "2023-05-14T19:16:07.467Z"
   },
   {
    "duration": 6,
    "start_time": "2023-05-14T19:16:07.487Z"
   },
   {
    "duration": 17,
    "start_time": "2023-05-14T19:16:07.495Z"
   },
   {
    "duration": 5,
    "start_time": "2023-05-14T19:16:07.513Z"
   },
   {
    "duration": 14,
    "start_time": "2023-05-14T19:16:07.519Z"
   },
   {
    "duration": 26,
    "start_time": "2023-05-14T19:16:07.534Z"
   },
   {
    "duration": 7,
    "start_time": "2023-05-14T19:16:07.562Z"
   },
   {
    "duration": 46,
    "start_time": "2023-05-14T19:16:07.571Z"
   },
   {
    "duration": 66,
    "start_time": "2023-05-14T19:16:07.619Z"
   },
   {
    "duration": 14,
    "start_time": "2023-05-14T19:16:07.687Z"
   },
   {
    "duration": 3,
    "start_time": "2023-05-14T19:16:07.703Z"
   },
   {
    "duration": 854,
    "start_time": "2023-05-14T19:16:07.707Z"
   },
   {
    "duration": 1500,
    "start_time": "2023-05-14T19:16:08.563Z"
   },
   {
    "duration": 92,
    "start_time": "2023-05-14T19:16:10.065Z"
   },
   {
    "duration": 110,
    "start_time": "2023-05-14T19:16:10.159Z"
   },
   {
    "duration": 199,
    "start_time": "2023-05-14T19:16:10.358Z"
   },
   {
    "duration": 4,
    "start_time": "2023-05-14T19:16:10.561Z"
   },
   {
    "duration": 5725,
    "start_time": "2023-05-14T19:16:10.568Z"
   },
   {
    "duration": 7523,
    "start_time": "2023-05-14T19:16:16.294Z"
   },
   {
    "duration": 5,
    "start_time": "2023-05-14T19:16:23.820Z"
   },
   {
    "duration": 1372,
    "start_time": "2023-05-14T19:16:23.827Z"
   },
   {
    "duration": 1861,
    "start_time": "2023-05-14T19:16:25.201Z"
   },
   {
    "duration": 4,
    "start_time": "2023-05-14T19:16:27.066Z"
   },
   {
    "duration": 52,
    "start_time": "2023-05-14T19:20:56.874Z"
   },
   {
    "duration": 55,
    "start_time": "2023-05-14T19:21:39.750Z"
   },
   {
    "duration": 3,
    "start_time": "2023-05-14T19:34:18.118Z"
   },
   {
    "duration": 839,
    "start_time": "2023-05-14T19:34:20.928Z"
   },
   {
    "duration": 1816,
    "start_time": "2023-05-14T19:34:22.445Z"
   },
   {
    "duration": 5,
    "start_time": "2023-05-14T19:34:27.657Z"
   },
   {
    "duration": 4,
    "start_time": "2023-05-14T19:34:31.353Z"
   },
   {
    "duration": 1431,
    "start_time": "2023-05-14T19:34:41.903Z"
   },
   {
    "duration": 714,
    "start_time": "2023-05-14T19:34:43.336Z"
   },
   {
    "duration": 20,
    "start_time": "2023-05-14T19:34:44.052Z"
   },
   {
    "duration": 13,
    "start_time": "2023-05-14T19:34:44.074Z"
   },
   {
    "duration": 28,
    "start_time": "2023-05-14T19:34:44.089Z"
   },
   {
    "duration": 33,
    "start_time": "2023-05-14T19:34:44.119Z"
   },
   {
    "duration": 13,
    "start_time": "2023-05-14T19:34:44.155Z"
   },
   {
    "duration": 20,
    "start_time": "2023-05-14T19:34:44.170Z"
   },
   {
    "duration": 10,
    "start_time": "2023-05-14T19:34:44.191Z"
   },
   {
    "duration": 7,
    "start_time": "2023-05-14T19:34:44.204Z"
   },
   {
    "duration": 6,
    "start_time": "2023-05-14T19:34:44.213Z"
   },
   {
    "duration": 3,
    "start_time": "2023-05-14T19:34:44.221Z"
   },
   {
    "duration": 12,
    "start_time": "2023-05-14T19:34:44.225Z"
   },
   {
    "duration": 14,
    "start_time": "2023-05-14T19:34:44.257Z"
   },
   {
    "duration": 6,
    "start_time": "2023-05-14T19:34:44.273Z"
   },
   {
    "duration": 11,
    "start_time": "2023-05-14T19:34:44.281Z"
   },
   {
    "duration": 16,
    "start_time": "2023-05-14T19:34:44.294Z"
   },
   {
    "duration": 76,
    "start_time": "2023-05-14T19:34:44.312Z"
   },
   {
    "duration": 10,
    "start_time": "2023-05-14T19:34:44.389Z"
   },
   {
    "duration": 493,
    "start_time": "2023-05-14T19:34:44.401Z"
   },
   {
    "duration": 1874,
    "start_time": "2023-05-14T19:34:44.896Z"
   },
   {
    "duration": 1279,
    "start_time": "2023-05-14T19:34:46.771Z"
   },
   {
    "duration": 1385,
    "start_time": "2023-05-14T19:34:48.052Z"
   },
   {
    "duration": 1347,
    "start_time": "2023-05-14T19:34:49.438Z"
   },
   {
    "duration": 216,
    "start_time": "2023-05-14T19:34:50.787Z"
   },
   {
    "duration": 964,
    "start_time": "2023-05-14T19:34:51.005Z"
   },
   {
    "duration": 10,
    "start_time": "2023-05-14T19:34:51.971Z"
   },
   {
    "duration": 1147,
    "start_time": "2023-05-14T19:34:51.985Z"
   },
   {
    "duration": 1273,
    "start_time": "2023-05-14T19:34:53.133Z"
   },
   {
    "duration": 206,
    "start_time": "2023-05-14T19:34:54.407Z"
   },
   {
    "duration": 908,
    "start_time": "2023-05-14T19:34:54.615Z"
   },
   {
    "duration": 9,
    "start_time": "2023-05-14T19:34:55.525Z"
   },
   {
    "duration": 1336,
    "start_time": "2023-05-14T19:34:55.537Z"
   },
   {
    "duration": 1226,
    "start_time": "2023-05-14T19:34:56.875Z"
   },
   {
    "duration": 213,
    "start_time": "2023-05-14T19:34:58.103Z"
   },
   {
    "duration": 978,
    "start_time": "2023-05-14T19:34:58.318Z"
   },
   {
    "duration": 8,
    "start_time": "2023-05-14T19:34:59.298Z"
   },
   {
    "duration": 1233,
    "start_time": "2023-05-14T19:34:59.308Z"
   },
   {
    "duration": 174,
    "start_time": "2023-05-14T19:35:00.543Z"
   },
   {
    "duration": 416,
    "start_time": "2023-05-14T19:35:00.719Z"
   },
   {
    "duration": 1245,
    "start_time": "2023-05-14T19:35:01.137Z"
   },
   {
    "duration": 4,
    "start_time": "2023-05-14T19:35:02.384Z"
   },
   {
    "duration": 19,
    "start_time": "2023-05-14T19:35:02.389Z"
   },
   {
    "duration": 44,
    "start_time": "2023-05-14T19:35:02.409Z"
   },
   {
    "duration": 26,
    "start_time": "2023-05-14T19:35:02.455Z"
   },
   {
    "duration": 31,
    "start_time": "2023-05-14T19:35:02.483Z"
   },
   {
    "duration": 24,
    "start_time": "2023-05-14T19:35:02.516Z"
   },
   {
    "duration": 33,
    "start_time": "2023-05-14T19:35:02.542Z"
   },
   {
    "duration": 15,
    "start_time": "2023-05-14T19:35:02.576Z"
   },
   {
    "duration": 17,
    "start_time": "2023-05-14T19:35:02.593Z"
   },
   {
    "duration": 25,
    "start_time": "2023-05-14T19:35:02.612Z"
   },
   {
    "duration": 23,
    "start_time": "2023-05-14T19:35:02.639Z"
   },
   {
    "duration": 47,
    "start_time": "2023-05-14T19:35:02.664Z"
   },
   {
    "duration": 28,
    "start_time": "2023-05-14T19:35:02.713Z"
   },
   {
    "duration": 12,
    "start_time": "2023-05-14T19:35:02.743Z"
   },
   {
    "duration": 15,
    "start_time": "2023-05-14T19:35:02.757Z"
   },
   {
    "duration": 18,
    "start_time": "2023-05-14T19:35:02.774Z"
   },
   {
    "duration": 30,
    "start_time": "2023-05-14T19:35:02.793Z"
   },
   {
    "duration": 29,
    "start_time": "2023-05-14T19:35:02.825Z"
   },
   {
    "duration": 29,
    "start_time": "2023-05-14T19:35:02.856Z"
   },
   {
    "duration": 55,
    "start_time": "2023-05-14T19:35:02.886Z"
   },
   {
    "duration": 37,
    "start_time": "2023-05-14T19:35:02.944Z"
   },
   {
    "duration": 14,
    "start_time": "2023-05-14T19:35:02.982Z"
   },
   {
    "duration": 10,
    "start_time": "2023-05-14T19:35:02.997Z"
   },
   {
    "duration": 1049,
    "start_time": "2023-05-14T19:35:03.008Z"
   },
   {
    "duration": 1399,
    "start_time": "2023-05-14T19:35:04.060Z"
   },
   {
    "duration": 94,
    "start_time": "2023-05-14T19:35:05.463Z"
   },
   {
    "duration": 101,
    "start_time": "2023-05-14T19:35:05.560Z"
   },
   {
    "duration": 396,
    "start_time": "2023-05-14T19:35:05.663Z"
   },
   {
    "duration": 4,
    "start_time": "2023-05-14T19:35:06.061Z"
   },
   {
    "duration": 5148,
    "start_time": "2023-05-14T19:35:06.066Z"
   },
   {
    "duration": 6602,
    "start_time": "2023-05-14T19:35:11.216Z"
   },
   {
    "duration": 4,
    "start_time": "2023-05-14T19:35:17.820Z"
   },
   {
    "duration": 1336,
    "start_time": "2023-05-14T19:35:17.825Z"
   },
   {
    "duration": 1747,
    "start_time": "2023-05-14T19:35:19.163Z"
   },
   {
    "duration": 3,
    "start_time": "2023-05-14T19:35:20.912Z"
   },
   {
    "duration": 905,
    "start_time": "2023-05-14T19:35:21.366Z"
   },
   {
    "duration": 788,
    "start_time": "2023-05-14T19:35:27.071Z"
   },
   {
    "duration": 536,
    "start_time": "2023-05-14T19:37:00.028Z"
   },
   {
    "duration": 548,
    "start_time": "2023-05-14T19:37:03.114Z"
   },
   {
    "duration": 4,
    "start_time": "2023-05-14T19:37:08.227Z"
   },
   {
    "duration": 5,
    "start_time": "2023-05-14T19:37:11.512Z"
   },
   {
    "duration": 1278,
    "start_time": "2023-05-14T19:37:42.593Z"
   },
   {
    "duration": 1753,
    "start_time": "2023-05-14T19:37:43.873Z"
   },
   {
    "duration": 2671,
    "start_time": "2023-05-14T19:38:55.180Z"
   },
   {
    "duration": 7138,
    "start_time": "2023-05-14T19:38:57.856Z"
   },
   {
    "duration": 4,
    "start_time": "2023-05-14T19:39:04.995Z"
   },
   {
    "duration": 146,
    "start_time": "2023-05-14T19:41:55.966Z"
   },
   {
    "duration": 13,
    "start_time": "2023-05-14T19:42:04.165Z"
   },
   {
    "duration": 45,
    "start_time": "2023-05-14T19:43:59.363Z"
   },
   {
    "duration": 52,
    "start_time": "2023-05-14T19:44:41.142Z"
   },
   {
    "duration": 53,
    "start_time": "2023-05-14T19:45:06.714Z"
   },
   {
    "duration": 4,
    "start_time": "2023-05-14T19:45:40.212Z"
   },
   {
    "duration": 5,
    "start_time": "2023-05-14T19:46:33.538Z"
   },
   {
    "duration": 1488,
    "start_time": "2023-05-14T19:49:33.848Z"
   },
   {
    "duration": 2002,
    "start_time": "2023-05-14T19:49:35.338Z"
   },
   {
    "duration": 5,
    "start_time": "2023-05-14T19:49:37.342Z"
   },
   {
    "duration": 7241,
    "start_time": "2023-05-14T19:51:36.118Z"
   },
   {
    "duration": 9882,
    "start_time": "2023-05-14T19:51:43.362Z"
   },
   {
    "duration": 3,
    "start_time": "2023-05-14T19:51:53.246Z"
   },
   {
    "duration": 8885,
    "start_time": "2023-05-14T19:52:10.412Z"
   },
   {
    "duration": 11918,
    "start_time": "2023-05-14T19:52:19.301Z"
   },
   {
    "duration": 5,
    "start_time": "2023-05-14T19:52:31.221Z"
   },
   {
    "duration": 10268,
    "start_time": "2023-05-14T19:54:30.881Z"
   },
   {
    "duration": 14043,
    "start_time": "2023-05-14T19:54:41.151Z"
   },
   {
    "duration": 5,
    "start_time": "2023-05-14T19:54:55.197Z"
   },
   {
    "duration": 4559,
    "start_time": "2023-05-14T19:54:55.521Z"
   },
   {
    "duration": 5911,
    "start_time": "2023-05-14T19:55:00.084Z"
   },
   {
    "duration": 6,
    "start_time": "2023-05-14T19:55:05.997Z"
   },
   {
    "duration": 8980,
    "start_time": "2023-05-14T19:55:41.720Z"
   },
   {
    "duration": 11501,
    "start_time": "2023-05-14T19:55:50.702Z"
   },
   {
    "duration": 5,
    "start_time": "2023-05-14T19:56:02.206Z"
   },
   {
    "duration": 1609,
    "start_time": "2023-05-14T19:56:53.220Z"
   },
   {
    "duration": 1243,
    "start_time": "2023-05-14T19:56:54.831Z"
   },
   {
    "duration": 25,
    "start_time": "2023-05-14T19:56:56.077Z"
   },
   {
    "duration": 20,
    "start_time": "2023-05-14T19:56:56.156Z"
   },
   {
    "duration": 78,
    "start_time": "2023-05-14T19:56:56.179Z"
   },
   {
    "duration": 15,
    "start_time": "2023-05-14T19:56:56.261Z"
   },
   {
    "duration": 7,
    "start_time": "2023-05-14T19:56:56.278Z"
   },
   {
    "duration": 76,
    "start_time": "2023-05-14T19:56:56.290Z"
   },
   {
    "duration": 15,
    "start_time": "2023-05-14T19:56:56.369Z"
   },
   {
    "duration": 9,
    "start_time": "2023-05-14T19:56:56.388Z"
   },
   {
    "duration": 61,
    "start_time": "2023-05-14T19:56:56.399Z"
   },
   {
    "duration": 5,
    "start_time": "2023-05-14T19:56:56.462Z"
   },
   {
    "duration": 13,
    "start_time": "2023-05-14T19:56:56.470Z"
   },
   {
    "duration": 3,
    "start_time": "2023-05-14T19:56:56.486Z"
   },
   {
    "duration": 66,
    "start_time": "2023-05-14T19:56:56.491Z"
   },
   {
    "duration": 26,
    "start_time": "2023-05-14T19:56:56.560Z"
   },
   {
    "duration": 15,
    "start_time": "2023-05-14T19:56:56.589Z"
   },
   {
    "duration": 170,
    "start_time": "2023-05-14T19:56:56.606Z"
   },
   {
    "duration": 9,
    "start_time": "2023-05-14T19:56:56.779Z"
   },
   {
    "duration": 568,
    "start_time": "2023-05-14T19:56:56.793Z"
   },
   {
    "duration": 2159,
    "start_time": "2023-05-14T19:56:57.363Z"
   },
   {
    "duration": 1445,
    "start_time": "2023-05-14T19:56:59.524Z"
   },
   {
    "duration": 1580,
    "start_time": "2023-05-14T19:57:00.971Z"
   },
   {
    "duration": 1774,
    "start_time": "2023-05-14T19:57:02.553Z"
   },
   {
    "duration": 246,
    "start_time": "2023-05-14T19:57:04.329Z"
   },
   {
    "duration": 1114,
    "start_time": "2023-05-14T19:57:04.578Z"
   },
   {
    "duration": 12,
    "start_time": "2023-05-14T19:57:05.695Z"
   },
   {
    "duration": 1402,
    "start_time": "2023-05-14T19:57:05.713Z"
   },
   {
    "duration": 1488,
    "start_time": "2023-05-14T19:57:07.117Z"
   },
   {
    "duration": 272,
    "start_time": "2023-05-14T19:57:08.607Z"
   },
   {
    "duration": 1148,
    "start_time": "2023-05-14T19:57:08.882Z"
   },
   {
    "duration": 9,
    "start_time": "2023-05-14T19:57:10.033Z"
   },
   {
    "duration": 1596,
    "start_time": "2023-05-14T19:57:10.044Z"
   },
   {
    "duration": 1436,
    "start_time": "2023-05-14T19:57:11.641Z"
   },
   {
    "duration": 252,
    "start_time": "2023-05-14T19:57:13.078Z"
   },
   {
    "duration": 1038,
    "start_time": "2023-05-14T19:57:13.331Z"
   },
   {
    "duration": 13,
    "start_time": "2023-05-14T19:57:14.371Z"
   },
   {
    "duration": 1417,
    "start_time": "2023-05-14T19:57:14.386Z"
   },
   {
    "duration": 210,
    "start_time": "2023-05-14T19:57:15.805Z"
   },
   {
    "duration": 458,
    "start_time": "2023-05-14T19:57:16.017Z"
   },
   {
    "duration": 1529,
    "start_time": "2023-05-14T19:57:16.477Z"
   },
   {
    "duration": 3,
    "start_time": "2023-05-14T19:57:18.007Z"
   },
   {
    "duration": 4,
    "start_time": "2023-05-14T19:57:18.012Z"
   },
   {
    "duration": 5,
    "start_time": "2023-05-14T19:57:18.018Z"
   },
   {
    "duration": 4,
    "start_time": "2023-05-14T19:57:18.025Z"
   },
   {
    "duration": 26,
    "start_time": "2023-05-14T19:57:18.031Z"
   },
   {
    "duration": 7,
    "start_time": "2023-05-14T19:57:18.061Z"
   },
   {
    "duration": 4,
    "start_time": "2023-05-14T19:57:18.071Z"
   },
   {
    "duration": 10,
    "start_time": "2023-05-14T19:57:18.078Z"
   },
   {
    "duration": 10,
    "start_time": "2023-05-14T19:57:18.090Z"
   },
   {
    "duration": 8,
    "start_time": "2023-05-14T19:57:18.101Z"
   },
   {
    "duration": 5,
    "start_time": "2023-05-14T19:57:18.111Z"
   },
   {
    "duration": 19,
    "start_time": "2023-05-14T19:57:18.118Z"
   },
   {
    "duration": 24,
    "start_time": "2023-05-14T19:57:18.140Z"
   },
   {
    "duration": 3,
    "start_time": "2023-05-14T19:57:18.166Z"
   },
   {
    "duration": 6,
    "start_time": "2023-05-14T19:57:18.171Z"
   },
   {
    "duration": 9,
    "start_time": "2023-05-14T19:57:18.180Z"
   },
   {
    "duration": 8,
    "start_time": "2023-05-14T19:57:18.192Z"
   },
   {
    "duration": 10,
    "start_time": "2023-05-14T19:57:18.202Z"
   },
   {
    "duration": 6,
    "start_time": "2023-05-14T19:57:18.214Z"
   },
   {
    "duration": 79,
    "start_time": "2023-05-14T19:57:18.222Z"
   },
   {
    "duration": 57,
    "start_time": "2023-05-14T19:57:18.303Z"
   },
   {
    "duration": 28,
    "start_time": "2023-05-14T19:57:18.362Z"
   },
   {
    "duration": 9,
    "start_time": "2023-05-14T19:57:18.392Z"
   },
   {
    "duration": 679,
    "start_time": "2023-05-14T19:57:18.403Z"
   },
   {
    "duration": 791,
    "start_time": "2023-05-14T19:57:19.087Z"
   },
   {
    "duration": 81,
    "start_time": "2023-05-14T19:57:19.880Z"
   },
   {
    "duration": 3034,
    "start_time": "2023-05-14T19:57:19.965Z"
   },
   {
    "duration": 4086,
    "start_time": "2023-05-14T19:57:23.001Z"
   },
   {
    "duration": 5,
    "start_time": "2023-05-14T19:57:27.091Z"
   },
   {
    "duration": 1498,
    "start_time": "2023-05-14T19:57:27.098Z"
   },
   {
    "duration": 2061,
    "start_time": "2023-05-14T19:57:28.598Z"
   },
   {
    "duration": 6,
    "start_time": "2023-05-14T19:57:30.662Z"
   },
   {
    "duration": 5480,
    "start_time": "2023-05-14T19:58:00.604Z"
   },
   {
    "duration": 7064,
    "start_time": "2023-05-14T19:58:06.086Z"
   },
   {
    "duration": 5,
    "start_time": "2023-05-14T19:58:13.152Z"
   },
   {
    "duration": 13274,
    "start_time": "2023-05-14T19:58:48.723Z"
   },
   {
    "duration": 17604,
    "start_time": "2023-05-14T19:59:02.000Z"
   },
   {
    "duration": 4,
    "start_time": "2023-05-14T19:59:19.607Z"
   },
   {
    "duration": 40725,
    "start_time": "2023-05-14T20:00:27.200Z"
   },
   {
    "duration": 53857,
    "start_time": "2023-05-14T20:01:07.927Z"
   },
   {
    "duration": 7,
    "start_time": "2023-05-14T20:02:01.786Z"
   },
   {
    "duration": 32730,
    "start_time": "2023-05-14T20:04:02.765Z"
   },
   {
    "duration": 44988,
    "start_time": "2023-05-14T20:04:35.498Z"
   },
   {
    "duration": 4,
    "start_time": "2023-05-14T20:05:20.489Z"
   },
   {
    "duration": 21971,
    "start_time": "2023-05-14T20:06:07.966Z"
   },
   {
    "duration": 29455,
    "start_time": "2023-05-14T20:06:29.939Z"
   },
   {
    "duration": 4,
    "start_time": "2023-05-14T20:06:59.396Z"
   },
   {
    "duration": 14617,
    "start_time": "2023-05-14T20:07:25.913Z"
   },
   {
    "duration": 19795,
    "start_time": "2023-05-14T20:07:40.532Z"
   },
   {
    "duration": 4,
    "start_time": "2023-05-14T20:08:00.330Z"
   },
   {
    "duration": 1452,
    "start_time": "2023-05-14T20:08:14.755Z"
   },
   {
    "duration": 2030,
    "start_time": "2023-05-14T20:08:16.210Z"
   },
   {
    "duration": 4,
    "start_time": "2023-05-14T20:08:18.241Z"
   },
   {
    "duration": 6163,
    "start_time": "2023-05-14T20:08:39.404Z"
   },
   {
    "duration": 7865,
    "start_time": "2023-05-14T20:08:45.571Z"
   },
   {
    "duration": 4,
    "start_time": "2023-05-14T20:08:53.438Z"
   },
   {
    "duration": 20752,
    "start_time": "2023-05-14T20:09:22.419Z"
   },
   {
    "duration": 25492,
    "start_time": "2023-05-14T20:09:43.173Z"
   },
   {
    "duration": 6,
    "start_time": "2023-05-14T20:10:08.667Z"
   },
   {
    "duration": 67,
    "start_time": "2023-05-14T20:10:57.735Z"
   },
   {
    "duration": 19500,
    "start_time": "2023-05-14T20:13:18.170Z"
   },
   {
    "duration": 1515,
    "start_time": "2023-05-14T20:14:09.596Z"
   },
   {
    "duration": 844,
    "start_time": "2023-05-14T20:14:11.114Z"
   },
   {
    "duration": 31,
    "start_time": "2023-05-14T20:14:11.960Z"
   },
   {
    "duration": 14,
    "start_time": "2023-05-14T20:14:11.993Z"
   },
   {
    "duration": 48,
    "start_time": "2023-05-14T20:14:12.009Z"
   },
   {
    "duration": 14,
    "start_time": "2023-05-14T20:14:12.060Z"
   },
   {
    "duration": 7,
    "start_time": "2023-05-14T20:14:12.077Z"
   },
   {
    "duration": 103,
    "start_time": "2023-05-14T20:14:12.086Z"
   },
   {
    "duration": 19,
    "start_time": "2023-05-14T20:14:12.191Z"
   },
   {
    "duration": 8,
    "start_time": "2023-05-14T20:14:12.212Z"
   },
   {
    "duration": 11,
    "start_time": "2023-05-14T20:14:12.222Z"
   },
   {
    "duration": 2,
    "start_time": "2023-05-14T20:14:12.236Z"
   },
   {
    "duration": 4,
    "start_time": "2023-05-14T20:14:12.240Z"
   },
   {
    "duration": 5,
    "start_time": "2023-05-14T20:14:12.256Z"
   },
   {
    "duration": 7,
    "start_time": "2023-05-14T20:14:12.262Z"
   },
   {
    "duration": 15,
    "start_time": "2023-05-14T20:14:12.272Z"
   },
   {
    "duration": 13,
    "start_time": "2023-05-14T20:14:12.290Z"
   },
   {
    "duration": 88,
    "start_time": "2023-05-14T20:14:12.304Z"
   },
   {
    "duration": 7,
    "start_time": "2023-05-14T20:14:12.394Z"
   },
   {
    "duration": 236,
    "start_time": "2023-05-14T20:14:12.402Z"
   },
   {
    "duration": 1484,
    "start_time": "2023-05-14T20:14:12.640Z"
   },
   {
    "duration": 1481,
    "start_time": "2023-05-14T20:14:14.126Z"
   },
   {
    "duration": 1496,
    "start_time": "2023-05-14T20:14:15.608Z"
   },
   {
    "duration": 1616,
    "start_time": "2023-05-14T20:14:17.106Z"
   },
   {
    "duration": 228,
    "start_time": "2023-05-14T20:14:18.724Z"
   },
   {
    "duration": 1200,
    "start_time": "2023-05-14T20:14:18.957Z"
   },
   {
    "duration": 12,
    "start_time": "2023-05-14T20:14:20.159Z"
   },
   {
    "duration": 1384,
    "start_time": "2023-05-14T20:14:20.173Z"
   },
   {
    "duration": 1456,
    "start_time": "2023-05-14T20:14:21.559Z"
   },
   {
    "duration": 286,
    "start_time": "2023-05-14T20:14:23.016Z"
   },
   {
    "duration": 1056,
    "start_time": "2023-05-14T20:14:23.304Z"
   },
   {
    "duration": 3,
    "start_time": "2023-05-14T20:14:24.363Z"
   },
   {
    "duration": 1509,
    "start_time": "2023-05-14T20:14:24.368Z"
   },
   {
    "duration": 1449,
    "start_time": "2023-05-14T20:14:25.879Z"
   },
   {
    "duration": 250,
    "start_time": "2023-05-14T20:14:27.330Z"
   },
   {
    "duration": 1020,
    "start_time": "2023-05-14T20:14:27.582Z"
   },
   {
    "duration": 3,
    "start_time": "2023-05-14T20:14:28.604Z"
   },
   {
    "duration": 1535,
    "start_time": "2023-05-14T20:14:28.609Z"
   },
   {
    "duration": 212,
    "start_time": "2023-05-14T20:14:30.147Z"
   },
   {
    "duration": 421,
    "start_time": "2023-05-14T20:14:30.361Z"
   },
   {
    "duration": 1493,
    "start_time": "2023-05-14T20:14:30.790Z"
   },
   {
    "duration": 4,
    "start_time": "2023-05-14T20:14:32.286Z"
   },
   {
    "duration": 8,
    "start_time": "2023-05-14T20:14:32.294Z"
   },
   {
    "duration": 15,
    "start_time": "2023-05-14T20:14:32.304Z"
   },
   {
    "duration": 11,
    "start_time": "2023-05-14T20:14:32.321Z"
   },
   {
    "duration": 6,
    "start_time": "2023-05-14T20:14:32.334Z"
   },
   {
    "duration": 18,
    "start_time": "2023-05-14T20:14:32.341Z"
   },
   {
    "duration": 13,
    "start_time": "2023-05-14T20:14:32.362Z"
   },
   {
    "duration": 13,
    "start_time": "2023-05-14T20:14:32.377Z"
   },
   {
    "duration": 11,
    "start_time": "2023-05-14T20:14:32.391Z"
   },
   {
    "duration": 8,
    "start_time": "2023-05-14T20:14:32.404Z"
   },
   {
    "duration": 4,
    "start_time": "2023-05-14T20:14:32.414Z"
   },
   {
    "duration": 14,
    "start_time": "2023-05-14T20:14:32.420Z"
   },
   {
    "duration": 7,
    "start_time": "2023-05-14T20:14:32.436Z"
   },
   {
    "duration": 6,
    "start_time": "2023-05-14T20:14:32.444Z"
   },
   {
    "duration": 4,
    "start_time": "2023-05-14T20:14:32.457Z"
   },
   {
    "duration": 7,
    "start_time": "2023-05-14T20:14:32.463Z"
   },
   {
    "duration": 8,
    "start_time": "2023-05-14T20:14:32.472Z"
   },
   {
    "duration": 13,
    "start_time": "2023-05-14T20:14:32.483Z"
   },
   {
    "duration": 7,
    "start_time": "2023-05-14T20:14:32.498Z"
   },
   {
    "duration": 53,
    "start_time": "2023-05-14T20:14:32.507Z"
   },
   {
    "duration": 45,
    "start_time": "2023-05-14T20:14:32.562Z"
   },
   {
    "duration": 15,
    "start_time": "2023-05-14T20:14:32.608Z"
   },
   {
    "duration": 3,
    "start_time": "2023-05-14T20:14:32.624Z"
   },
   {
    "duration": 658,
    "start_time": "2023-05-14T20:14:32.629Z"
   },
   {
    "duration": 1094,
    "start_time": "2023-05-14T20:14:33.368Z"
   },
   {
    "duration": 5,
    "start_time": "2023-05-14T20:14:34.465Z"
   },
   {
    "duration": 21233,
    "start_time": "2023-05-14T20:14:34.472Z"
   },
   {
    "duration": 28271,
    "start_time": "2023-05-14T20:14:55.707Z"
   },
   {
    "duration": 5,
    "start_time": "2023-05-14T20:15:23.981Z"
   },
   {
    "duration": 1512,
    "start_time": "2023-05-14T20:15:23.989Z"
   },
   {
    "duration": 1991,
    "start_time": "2023-05-14T20:15:25.504Z"
   },
   {
    "duration": 4,
    "start_time": "2023-05-14T20:15:27.497Z"
   },
   {
    "duration": 1079,
    "start_time": "2023-05-14T20:17:20.587Z"
   },
   {
    "duration": 2945,
    "start_time": "2023-05-14T20:17:26.682Z"
   },
   {
    "duration": 860,
    "start_time": "2023-05-14T20:17:29.630Z"
   },
   {
    "duration": 21,
    "start_time": "2023-05-14T20:17:30.492Z"
   },
   {
    "duration": 34,
    "start_time": "2023-05-14T20:17:30.516Z"
   },
   {
    "duration": 40,
    "start_time": "2023-05-14T20:17:30.552Z"
   },
   {
    "duration": 28,
    "start_time": "2023-05-14T20:17:30.593Z"
   },
   {
    "duration": 26,
    "start_time": "2023-05-14T20:17:30.623Z"
   },
   {
    "duration": 87,
    "start_time": "2023-05-14T20:17:30.651Z"
   },
   {
    "duration": 12,
    "start_time": "2023-05-14T20:17:30.740Z"
   },
   {
    "duration": 22,
    "start_time": "2023-05-14T20:17:30.756Z"
   },
   {
    "duration": 26,
    "start_time": "2023-05-14T20:17:30.781Z"
   },
   {
    "duration": 29,
    "start_time": "2023-05-14T20:17:30.809Z"
   },
   {
    "duration": 48,
    "start_time": "2023-05-14T20:17:30.840Z"
   },
   {
    "duration": 38,
    "start_time": "2023-05-14T20:17:30.890Z"
   },
   {
    "duration": 46,
    "start_time": "2023-05-14T20:17:30.930Z"
   },
   {
    "duration": 35,
    "start_time": "2023-05-14T20:17:30.979Z"
   },
   {
    "duration": 58,
    "start_time": "2023-05-14T20:17:31.016Z"
   },
   {
    "duration": 62,
    "start_time": "2023-05-14T20:17:31.077Z"
   },
   {
    "duration": 17,
    "start_time": "2023-05-14T20:17:31.141Z"
   },
   {
    "duration": 233,
    "start_time": "2023-05-14T20:17:31.160Z"
   },
   {
    "duration": 1509,
    "start_time": "2023-05-14T20:17:31.395Z"
   },
   {
    "duration": 1440,
    "start_time": "2023-05-14T20:17:32.907Z"
   },
   {
    "duration": 1536,
    "start_time": "2023-05-14T20:17:34.356Z"
   },
   {
    "duration": 1564,
    "start_time": "2023-05-14T20:17:35.894Z"
   },
   {
    "duration": 253,
    "start_time": "2023-05-14T20:17:37.460Z"
   },
   {
    "duration": 1210,
    "start_time": "2023-05-14T20:17:37.714Z"
   },
   {
    "duration": 12,
    "start_time": "2023-05-14T20:17:38.927Z"
   },
   {
    "duration": 1497,
    "start_time": "2023-05-14T20:17:38.959Z"
   },
   {
    "duration": 1481,
    "start_time": "2023-05-14T20:17:40.459Z"
   },
   {
    "duration": 263,
    "start_time": "2023-05-14T20:17:41.943Z"
   },
   {
    "duration": 1054,
    "start_time": "2023-05-14T20:17:42.208Z"
   },
   {
    "duration": 19,
    "start_time": "2023-05-14T20:17:43.266Z"
   },
   {
    "duration": 1621,
    "start_time": "2023-05-14T20:17:43.290Z"
   },
   {
    "duration": 1521,
    "start_time": "2023-05-14T20:17:44.913Z"
   },
   {
    "duration": 268,
    "start_time": "2023-05-14T20:17:46.436Z"
   },
   {
    "duration": 1108,
    "start_time": "2023-05-14T20:17:46.707Z"
   },
   {
    "duration": 10,
    "start_time": "2023-05-14T20:17:47.817Z"
   },
   {
    "duration": 1690,
    "start_time": "2023-05-14T20:17:47.830Z"
   },
   {
    "duration": 207,
    "start_time": "2023-05-14T20:17:49.522Z"
   },
   {
    "duration": 447,
    "start_time": "2023-05-14T20:17:49.731Z"
   },
   {
    "duration": 1540,
    "start_time": "2023-05-14T20:17:50.180Z"
   },
   {
    "duration": 3,
    "start_time": "2023-05-14T20:17:51.722Z"
   },
   {
    "duration": 51,
    "start_time": "2023-05-14T20:17:51.726Z"
   },
   {
    "duration": 3,
    "start_time": "2023-05-14T20:17:51.784Z"
   },
   {
    "duration": 15,
    "start_time": "2023-05-14T20:17:51.789Z"
   },
   {
    "duration": 34,
    "start_time": "2023-05-14T20:17:51.808Z"
   },
   {
    "duration": 41,
    "start_time": "2023-05-14T20:17:51.843Z"
   },
   {
    "duration": 49,
    "start_time": "2023-05-14T20:17:51.887Z"
   },
   {
    "duration": 24,
    "start_time": "2023-05-14T20:17:51.938Z"
   },
   {
    "duration": 3,
    "start_time": "2023-05-14T20:17:51.964Z"
   },
   {
    "duration": 14,
    "start_time": "2023-05-14T20:17:51.968Z"
   },
   {
    "duration": 23,
    "start_time": "2023-05-14T20:17:51.984Z"
   },
   {
    "duration": 21,
    "start_time": "2023-05-14T20:17:52.009Z"
   },
   {
    "duration": 7,
    "start_time": "2023-05-14T20:17:52.032Z"
   },
   {
    "duration": 34,
    "start_time": "2023-05-14T20:17:52.041Z"
   },
   {
    "duration": 23,
    "start_time": "2023-05-14T20:17:52.079Z"
   },
   {
    "duration": 76,
    "start_time": "2023-05-14T20:17:52.104Z"
   },
   {
    "duration": 23,
    "start_time": "2023-05-14T20:17:52.183Z"
   },
   {
    "duration": 19,
    "start_time": "2023-05-14T20:17:52.208Z"
   },
   {
    "duration": 42,
    "start_time": "2023-05-14T20:17:52.228Z"
   },
   {
    "duration": 59,
    "start_time": "2023-05-14T20:17:52.275Z"
   },
   {
    "duration": 48,
    "start_time": "2023-05-14T20:17:52.335Z"
   },
   {
    "duration": 22,
    "start_time": "2023-05-14T20:17:52.387Z"
   },
   {
    "duration": 3,
    "start_time": "2023-05-14T20:17:52.412Z"
   },
   {
    "duration": 754,
    "start_time": "2023-05-14T20:17:52.417Z"
   },
   {
    "duration": 973,
    "start_time": "2023-05-14T20:17:53.184Z"
   },
   {
    "duration": 9,
    "start_time": "2023-05-14T20:17:54.160Z"
   },
   {
    "duration": 21819,
    "start_time": "2023-05-14T20:17:54.173Z"
   },
   {
    "duration": 28208,
    "start_time": "2023-05-14T20:18:15.995Z"
   },
   {
    "duration": 4,
    "start_time": "2023-05-14T20:18:44.205Z"
   },
   {
    "duration": 1504,
    "start_time": "2023-05-14T20:18:44.210Z"
   },
   {
    "duration": 1996,
    "start_time": "2023-05-14T20:18:45.716Z"
   },
   {
    "duration": 5,
    "start_time": "2023-05-14T20:18:47.714Z"
   },
   {
    "duration": 1119,
    "start_time": "2023-05-14T20:21:50.177Z"
   },
   {
    "duration": 1959,
    "start_time": "2023-05-14T20:22:00.616Z"
   },
   {
    "duration": 869,
    "start_time": "2023-05-14T20:22:02.578Z"
   },
   {
    "duration": 26,
    "start_time": "2023-05-14T20:22:03.449Z"
   },
   {
    "duration": 19,
    "start_time": "2023-05-14T20:22:03.480Z"
   },
   {
    "duration": 26,
    "start_time": "2023-05-14T20:22:03.501Z"
   },
   {
    "duration": 14,
    "start_time": "2023-05-14T20:22:03.558Z"
   },
   {
    "duration": 10,
    "start_time": "2023-05-14T20:22:03.576Z"
   },
   {
    "duration": 37,
    "start_time": "2023-05-14T20:22:03.587Z"
   },
   {
    "duration": 16,
    "start_time": "2023-05-14T20:22:03.627Z"
   },
   {
    "duration": 13,
    "start_time": "2023-05-14T20:22:03.659Z"
   },
   {
    "duration": 15,
    "start_time": "2023-05-14T20:22:03.678Z"
   },
   {
    "duration": 4,
    "start_time": "2023-05-14T20:22:03.695Z"
   },
   {
    "duration": 11,
    "start_time": "2023-05-14T20:22:03.701Z"
   },
   {
    "duration": 6,
    "start_time": "2023-05-14T20:22:03.714Z"
   },
   {
    "duration": 25,
    "start_time": "2023-05-14T20:22:03.722Z"
   },
   {
    "duration": 33,
    "start_time": "2023-05-14T20:22:03.750Z"
   },
   {
    "duration": 15,
    "start_time": "2023-05-14T20:22:03.786Z"
   },
   {
    "duration": 65,
    "start_time": "2023-05-14T20:22:03.803Z"
   },
   {
    "duration": 10,
    "start_time": "2023-05-14T20:22:03.870Z"
   },
   {
    "duration": 243,
    "start_time": "2023-05-14T20:22:03.883Z"
   },
   {
    "duration": 1589,
    "start_time": "2023-05-14T20:22:04.128Z"
   },
   {
    "duration": 1610,
    "start_time": "2023-05-14T20:22:05.719Z"
   },
   {
    "duration": 1571,
    "start_time": "2023-05-14T20:22:07.330Z"
   },
   {
    "duration": 1698,
    "start_time": "2023-05-14T20:22:08.903Z"
   },
   {
    "duration": 246,
    "start_time": "2023-05-14T20:22:10.604Z"
   },
   {
    "duration": 1101,
    "start_time": "2023-05-14T20:22:10.852Z"
   },
   {
    "duration": 10,
    "start_time": "2023-05-14T20:22:11.955Z"
   },
   {
    "duration": 1406,
    "start_time": "2023-05-14T20:22:11.974Z"
   },
   {
    "duration": 1512,
    "start_time": "2023-05-14T20:22:13.383Z"
   },
   {
    "duration": 264,
    "start_time": "2023-05-14T20:22:14.897Z"
   },
   {
    "duration": 1088,
    "start_time": "2023-05-14T20:22:15.163Z"
   },
   {
    "duration": 13,
    "start_time": "2023-05-14T20:22:16.257Z"
   },
   {
    "duration": 1671,
    "start_time": "2023-05-14T20:22:16.273Z"
   },
   {
    "duration": 1716,
    "start_time": "2023-05-14T20:22:17.947Z"
   },
   {
    "duration": 257,
    "start_time": "2023-05-14T20:22:19.665Z"
   },
   {
    "duration": 1129,
    "start_time": "2023-05-14T20:22:19.924Z"
   },
   {
    "duration": 10,
    "start_time": "2023-05-14T20:22:21.057Z"
   },
   {
    "duration": 1546,
    "start_time": "2023-05-14T20:22:21.070Z"
   },
   {
    "duration": 217,
    "start_time": "2023-05-14T20:22:22.619Z"
   },
   {
    "duration": 571,
    "start_time": "2023-05-14T20:22:22.838Z"
   },
   {
    "duration": 1634,
    "start_time": "2023-05-14T20:22:23.411Z"
   },
   {
    "duration": 3,
    "start_time": "2023-05-14T20:22:25.047Z"
   },
   {
    "duration": 11,
    "start_time": "2023-05-14T20:22:25.052Z"
   },
   {
    "duration": 25,
    "start_time": "2023-05-14T20:22:25.067Z"
   },
   {
    "duration": 8,
    "start_time": "2023-05-14T20:22:25.095Z"
   },
   {
    "duration": 6,
    "start_time": "2023-05-14T20:22:25.105Z"
   },
   {
    "duration": 10,
    "start_time": "2023-05-14T20:22:25.113Z"
   },
   {
    "duration": 13,
    "start_time": "2023-05-14T20:22:25.124Z"
   },
   {
    "duration": 12,
    "start_time": "2023-05-14T20:22:25.139Z"
   },
   {
    "duration": 12,
    "start_time": "2023-05-14T20:22:25.153Z"
   },
   {
    "duration": 19,
    "start_time": "2023-05-14T20:22:25.167Z"
   },
   {
    "duration": 10,
    "start_time": "2023-05-14T20:22:25.189Z"
   },
   {
    "duration": 14,
    "start_time": "2023-05-14T20:22:25.201Z"
   },
   {
    "duration": 8,
    "start_time": "2023-05-14T20:22:25.217Z"
   },
   {
    "duration": 14,
    "start_time": "2023-05-14T20:22:25.227Z"
   },
   {
    "duration": 9,
    "start_time": "2023-05-14T20:22:25.243Z"
   },
   {
    "duration": 13,
    "start_time": "2023-05-14T20:22:25.254Z"
   },
   {
    "duration": 18,
    "start_time": "2023-05-14T20:22:25.269Z"
   },
   {
    "duration": 10,
    "start_time": "2023-05-14T20:22:25.291Z"
   },
   {
    "duration": 7,
    "start_time": "2023-05-14T20:22:25.303Z"
   },
   {
    "duration": 50,
    "start_time": "2023-05-14T20:22:25.312Z"
   },
   {
    "duration": 52,
    "start_time": "2023-05-14T20:22:25.366Z"
   },
   {
    "duration": 39,
    "start_time": "2023-05-14T20:22:25.421Z"
   },
   {
    "duration": 3,
    "start_time": "2023-05-14T20:22:25.462Z"
   },
   {
    "duration": 638,
    "start_time": "2023-05-14T20:22:25.467Z"
   },
   {
    "duration": 705,
    "start_time": "2023-05-14T20:22:26.169Z"
   },
   {
    "duration": 11,
    "start_time": "2023-05-14T20:22:26.883Z"
   },
   {
    "duration": 22725,
    "start_time": "2023-05-14T20:22:26.896Z"
   },
   {
    "duration": 28314,
    "start_time": "2023-05-14T20:22:49.623Z"
   },
   {
    "duration": 4,
    "start_time": "2023-05-14T20:23:17.939Z"
   },
   {
    "duration": 1667,
    "start_time": "2023-05-14T20:23:17.956Z"
   },
   {
    "duration": 2178,
    "start_time": "2023-05-14T20:23:19.625Z"
   },
   {
    "duration": 5,
    "start_time": "2023-05-14T20:23:21.806Z"
   },
   {
    "duration": 15213,
    "start_time": "2023-05-14T20:25:22.347Z"
   },
   {
    "duration": 19895,
    "start_time": "2023-05-14T20:25:37.563Z"
   },
   {
    "duration": 4,
    "start_time": "2023-05-14T20:25:57.459Z"
   },
   {
    "duration": 5722,
    "start_time": "2023-05-14T20:25:57.465Z"
   },
   {
    "duration": 7843,
    "start_time": "2023-05-14T20:26:03.191Z"
   },
   {
    "duration": 6,
    "start_time": "2023-05-14T20:26:11.037Z"
   },
   {
    "duration": 5016,
    "start_time": "2023-05-14T20:26:22.388Z"
   },
   {
    "duration": 6853,
    "start_time": "2023-05-14T20:26:27.409Z"
   },
   {
    "duration": 6,
    "start_time": "2023-05-14T20:26:34.265Z"
   },
   {
    "duration": 1497,
    "start_time": "2023-05-14T20:26:50.044Z"
   },
   {
    "duration": 1912,
    "start_time": "2023-05-14T20:26:51.544Z"
   },
   {
    "duration": 4,
    "start_time": "2023-05-14T20:26:53.468Z"
   },
   {
    "duration": 20683,
    "start_time": "2023-05-14T20:27:13.080Z"
   },
   {
    "duration": 27284,
    "start_time": "2023-05-14T20:27:33.765Z"
   },
   {
    "duration": 10,
    "start_time": "2023-05-14T20:28:01.051Z"
   },
   {
    "duration": 3818,
    "start_time": "2023-05-14T20:32:52.371Z"
   },
   {
    "duration": 801,
    "start_time": "2023-05-14T20:32:56.192Z"
   },
   {
    "duration": 23,
    "start_time": "2023-05-14T20:32:56.995Z"
   },
   {
    "duration": 14,
    "start_time": "2023-05-14T20:32:57.021Z"
   },
   {
    "duration": 19,
    "start_time": "2023-05-14T20:32:57.058Z"
   },
   {
    "duration": 12,
    "start_time": "2023-05-14T20:32:57.079Z"
   },
   {
    "duration": 5,
    "start_time": "2023-05-14T20:32:57.094Z"
   },
   {
    "duration": 31,
    "start_time": "2023-05-14T20:32:57.101Z"
   },
   {
    "duration": 35,
    "start_time": "2023-05-14T20:32:57.134Z"
   },
   {
    "duration": 10,
    "start_time": "2023-05-14T20:32:57.174Z"
   },
   {
    "duration": 11,
    "start_time": "2023-05-14T20:32:57.186Z"
   },
   {
    "duration": 4,
    "start_time": "2023-05-14T20:32:57.200Z"
   },
   {
    "duration": 11,
    "start_time": "2023-05-14T20:32:57.206Z"
   },
   {
    "duration": 15,
    "start_time": "2023-05-14T20:32:57.219Z"
   },
   {
    "duration": 22,
    "start_time": "2023-05-14T20:32:57.237Z"
   },
   {
    "duration": 15,
    "start_time": "2023-05-14T20:32:57.261Z"
   },
   {
    "duration": 19,
    "start_time": "2023-05-14T20:32:57.277Z"
   },
   {
    "duration": 78,
    "start_time": "2023-05-14T20:32:57.298Z"
   },
   {
    "duration": 10,
    "start_time": "2023-05-14T20:32:57.378Z"
   },
   {
    "duration": 268,
    "start_time": "2023-05-14T20:32:57.390Z"
   },
   {
    "duration": 1496,
    "start_time": "2023-05-14T20:32:57.661Z"
   },
   {
    "duration": 1439,
    "start_time": "2023-05-14T20:32:59.159Z"
   },
   {
    "duration": 1426,
    "start_time": "2023-05-14T20:33:00.601Z"
   },
   {
    "duration": 1392,
    "start_time": "2023-05-14T20:33:02.029Z"
   },
   {
    "duration": 254,
    "start_time": "2023-05-14T20:33:03.423Z"
   },
   {
    "duration": 1030,
    "start_time": "2023-05-14T20:33:03.679Z"
   },
   {
    "duration": 13,
    "start_time": "2023-05-14T20:33:04.711Z"
   },
   {
    "duration": 1260,
    "start_time": "2023-05-14T20:33:04.729Z"
   },
   {
    "duration": 1331,
    "start_time": "2023-05-14T20:33:05.992Z"
   },
   {
    "duration": 236,
    "start_time": "2023-05-14T20:33:07.325Z"
   },
   {
    "duration": 1014,
    "start_time": "2023-05-14T20:33:07.563Z"
   },
   {
    "duration": 11,
    "start_time": "2023-05-14T20:33:08.579Z"
   },
   {
    "duration": 1506,
    "start_time": "2023-05-14T20:33:08.592Z"
   },
   {
    "duration": 1262,
    "start_time": "2023-05-14T20:33:10.102Z"
   },
   {
    "duration": 293,
    "start_time": "2023-05-14T20:33:11.366Z"
   },
   {
    "duration": 946,
    "start_time": "2023-05-14T20:33:11.662Z"
   },
   {
    "duration": 12,
    "start_time": "2023-05-14T20:33:12.610Z"
   },
   {
    "duration": 1348,
    "start_time": "2023-05-14T20:33:12.624Z"
   },
   {
    "duration": 192,
    "start_time": "2023-05-14T20:33:13.974Z"
   },
   {
    "duration": 494,
    "start_time": "2023-05-14T20:33:14.168Z"
   },
   {
    "duration": 1314,
    "start_time": "2023-05-14T20:33:14.664Z"
   },
   {
    "duration": 6,
    "start_time": "2023-05-14T20:33:15.980Z"
   },
   {
    "duration": 21,
    "start_time": "2023-05-14T20:33:15.988Z"
   },
   {
    "duration": 15,
    "start_time": "2023-05-14T20:33:16.012Z"
   },
   {
    "duration": 10,
    "start_time": "2023-05-14T20:33:16.029Z"
   },
   {
    "duration": 8,
    "start_time": "2023-05-14T20:33:16.041Z"
   },
   {
    "duration": 14,
    "start_time": "2023-05-14T20:33:16.051Z"
   },
   {
    "duration": 13,
    "start_time": "2023-05-14T20:33:16.067Z"
   },
   {
    "duration": 10,
    "start_time": "2023-05-14T20:33:16.082Z"
   },
   {
    "duration": 10,
    "start_time": "2023-05-14T20:33:16.094Z"
   },
   {
    "duration": 11,
    "start_time": "2023-05-14T20:33:16.106Z"
   },
   {
    "duration": 15,
    "start_time": "2023-05-14T20:33:16.120Z"
   },
   {
    "duration": 23,
    "start_time": "2023-05-14T20:33:16.137Z"
   },
   {
    "duration": 8,
    "start_time": "2023-05-14T20:33:16.162Z"
   },
   {
    "duration": 8,
    "start_time": "2023-05-14T20:33:16.172Z"
   },
   {
    "duration": 8,
    "start_time": "2023-05-14T20:33:16.183Z"
   },
   {
    "duration": 7,
    "start_time": "2023-05-14T20:33:16.193Z"
   },
   {
    "duration": 13,
    "start_time": "2023-05-14T20:33:16.202Z"
   },
   {
    "duration": 18,
    "start_time": "2023-05-14T20:33:16.217Z"
   },
   {
    "duration": 9,
    "start_time": "2023-05-14T20:33:16.237Z"
   },
   {
    "duration": 55,
    "start_time": "2023-05-14T20:33:16.258Z"
   },
   {
    "duration": 70,
    "start_time": "2023-05-14T20:33:16.316Z"
   },
   {
    "duration": 19,
    "start_time": "2023-05-14T20:33:16.388Z"
   },
   {
    "duration": 4,
    "start_time": "2023-05-14T20:33:16.409Z"
   },
   {
    "duration": 1558,
    "start_time": "2023-05-14T20:33:16.415Z"
   },
   {
    "duration": 3702,
    "start_time": "2023-05-14T20:33:18.057Z"
   },
   {
    "duration": 4,
    "start_time": "2023-05-14T20:33:21.763Z"
   },
   {
    "duration": 12049,
    "start_time": "2023-05-14T20:33:21.769Z"
   },
   {
    "duration": 16268,
    "start_time": "2023-05-14T20:33:33.821Z"
   },
   {
    "duration": 5,
    "start_time": "2023-05-14T20:33:50.091Z"
   },
   {
    "duration": 1320,
    "start_time": "2023-05-14T20:33:50.098Z"
   },
   {
    "duration": 1803,
    "start_time": "2023-05-14T20:33:51.420Z"
   },
   {
    "duration": 5,
    "start_time": "2023-05-14T20:33:53.225Z"
   },
   {
    "duration": 585,
    "start_time": "2023-05-14T20:34:50.092Z"
   },
   {
    "duration": 1081,
    "start_time": "2023-05-14T20:34:50.680Z"
   },
   {
    "duration": 5,
    "start_time": "2023-05-14T20:34:53.219Z"
   },
   {
    "duration": 2657,
    "start_time": "2023-05-14T20:35:32.903Z"
   },
   {
    "duration": 3594,
    "start_time": "2023-05-14T20:35:35.563Z"
   },
   {
    "duration": 4,
    "start_time": "2023-05-14T20:35:39.160Z"
   },
   {
    "duration": 35827,
    "start_time": "2023-05-14T20:36:17.896Z"
   },
   {
    "duration": 49400,
    "start_time": "2023-05-14T20:36:53.725Z"
   },
   {
    "duration": 5,
    "start_time": "2023-05-14T20:37:43.128Z"
   },
   {
    "duration": 12019,
    "start_time": "2023-05-14T20:38:42.918Z"
   },
   {
    "duration": 16093,
    "start_time": "2023-05-14T20:38:54.939Z"
   },
   {
    "duration": 6,
    "start_time": "2023-05-14T20:39:11.034Z"
   },
   {
    "duration": 2524,
    "start_time": "2023-05-14T20:39:23.136Z"
   },
   {
    "duration": 2396,
    "start_time": "2023-05-14T20:39:25.662Z"
   },
   {
    "duration": 86,
    "start_time": "2023-05-14T20:39:28.070Z"
   },
   {
    "duration": 4,
    "start_time": "2023-05-14T20:47:59.653Z"
   },
   {
    "duration": 8,
    "start_time": "2023-05-14T20:48:00.126Z"
   },
   {
    "duration": 115,
    "start_time": "2023-05-14T20:50:07.053Z"
   },
   {
    "duration": 11,
    "start_time": "2023-05-14T20:53:06.805Z"
   },
   {
    "duration": 4,
    "start_time": "2023-05-14T20:53:12.203Z"
   },
   {
    "duration": 8,
    "start_time": "2023-05-14T20:53:23.188Z"
   },
   {
    "duration": 11,
    "start_time": "2023-05-14T20:54:43.591Z"
   },
   {
    "duration": 13,
    "start_time": "2023-05-14T20:59:30.199Z"
   },
   {
    "duration": 8,
    "start_time": "2023-05-14T20:59:53.274Z"
   },
   {
    "duration": 6,
    "start_time": "2023-05-14T21:00:29.454Z"
   },
   {
    "duration": 10,
    "start_time": "2023-05-14T21:03:02.575Z"
   },
   {
    "duration": 1407,
    "start_time": "2023-05-14T21:04:00.313Z"
   },
   {
    "duration": 761,
    "start_time": "2023-05-14T21:04:01.722Z"
   },
   {
    "duration": 19,
    "start_time": "2023-05-14T21:04:02.485Z"
   },
   {
    "duration": 13,
    "start_time": "2023-05-14T21:04:02.507Z"
   },
   {
    "duration": 46,
    "start_time": "2023-05-14T21:04:02.521Z"
   },
   {
    "duration": 12,
    "start_time": "2023-05-14T21:04:02.569Z"
   },
   {
    "duration": 5,
    "start_time": "2023-05-14T21:04:02.583Z"
   },
   {
    "duration": 30,
    "start_time": "2023-05-14T21:04:02.590Z"
   },
   {
    "duration": 37,
    "start_time": "2023-05-14T21:04:02.621Z"
   },
   {
    "duration": 12,
    "start_time": "2023-05-14T21:04:02.661Z"
   },
   {
    "duration": 12,
    "start_time": "2023-05-14T21:04:02.676Z"
   },
   {
    "duration": 9,
    "start_time": "2023-05-14T21:04:02.689Z"
   },
   {
    "duration": 21,
    "start_time": "2023-05-14T21:04:02.700Z"
   },
   {
    "duration": 9,
    "start_time": "2023-05-14T21:04:02.723Z"
   },
   {
    "duration": 12,
    "start_time": "2023-05-14T21:04:02.734Z"
   },
   {
    "duration": 31,
    "start_time": "2023-05-14T21:04:02.748Z"
   },
   {
    "duration": 12,
    "start_time": "2023-05-14T21:04:02.781Z"
   },
   {
    "duration": 67,
    "start_time": "2023-05-14T21:04:02.795Z"
   },
   {
    "duration": 9,
    "start_time": "2023-05-14T21:04:02.865Z"
   },
   {
    "duration": 216,
    "start_time": "2023-05-14T21:04:02.876Z"
   },
   {
    "duration": 1276,
    "start_time": "2023-05-14T21:04:03.094Z"
   },
   {
    "duration": 1292,
    "start_time": "2023-05-14T21:04:04.372Z"
   },
   {
    "duration": 1222,
    "start_time": "2023-05-14T21:04:05.665Z"
   },
   {
    "duration": 1405,
    "start_time": "2023-05-14T21:04:06.890Z"
   },
   {
    "duration": 241,
    "start_time": "2023-05-14T21:04:08.297Z"
   },
   {
    "duration": 1064,
    "start_time": "2023-05-14T21:04:08.539Z"
   },
   {
    "duration": 12,
    "start_time": "2023-05-14T21:04:09.605Z"
   },
   {
    "duration": 1247,
    "start_time": "2023-05-14T21:04:09.622Z"
   },
   {
    "duration": 1298,
    "start_time": "2023-05-14T21:04:10.871Z"
   },
   {
    "duration": 211,
    "start_time": "2023-05-14T21:04:12.171Z"
   },
   {
    "duration": 984,
    "start_time": "2023-05-14T21:04:12.383Z"
   },
   {
    "duration": 10,
    "start_time": "2023-05-14T21:04:13.369Z"
   },
   {
    "duration": 1378,
    "start_time": "2023-05-14T21:04:13.381Z"
   },
   {
    "duration": 1258,
    "start_time": "2023-05-14T21:04:14.761Z"
   },
   {
    "duration": 226,
    "start_time": "2023-05-14T21:04:16.021Z"
   },
   {
    "duration": 1002,
    "start_time": "2023-05-14T21:04:16.256Z"
   },
   {
    "duration": 11,
    "start_time": "2023-05-14T21:04:17.260Z"
   },
   {
    "duration": 1328,
    "start_time": "2023-05-14T21:04:17.274Z"
   },
   {
    "duration": 184,
    "start_time": "2023-05-14T21:04:18.604Z"
   },
   {
    "duration": 486,
    "start_time": "2023-05-14T21:04:18.790Z"
   },
   {
    "duration": 1305,
    "start_time": "2023-05-14T21:04:19.278Z"
   },
   {
    "duration": 2,
    "start_time": "2023-05-14T21:04:20.585Z"
   },
   {
    "duration": 4,
    "start_time": "2023-05-14T21:04:20.589Z"
   },
   {
    "duration": 9,
    "start_time": "2023-05-14T21:04:20.595Z"
   },
   {
    "duration": 5,
    "start_time": "2023-05-14T21:04:20.606Z"
   },
   {
    "duration": 4,
    "start_time": "2023-05-14T21:04:20.613Z"
   },
   {
    "duration": 5,
    "start_time": "2023-05-14T21:04:20.619Z"
   },
   {
    "duration": 32,
    "start_time": "2023-05-14T21:04:20.625Z"
   },
   {
    "duration": 9,
    "start_time": "2023-05-14T21:04:20.659Z"
   },
   {
    "duration": 10,
    "start_time": "2023-05-14T21:04:20.670Z"
   },
   {
    "duration": 5,
    "start_time": "2023-05-14T21:04:20.682Z"
   },
   {
    "duration": 11,
    "start_time": "2023-05-14T21:04:20.689Z"
   },
   {
    "duration": 17,
    "start_time": "2023-05-14T21:04:20.702Z"
   },
   {
    "duration": 15,
    "start_time": "2023-05-14T21:04:20.721Z"
   },
   {
    "duration": 2,
    "start_time": "2023-05-14T21:04:20.739Z"
   },
   {
    "duration": 15,
    "start_time": "2023-05-14T21:04:20.743Z"
   },
   {
    "duration": 4,
    "start_time": "2023-05-14T21:04:20.761Z"
   },
   {
    "duration": 9,
    "start_time": "2023-05-14T21:04:20.767Z"
   },
   {
    "duration": 11,
    "start_time": "2023-05-14T21:04:20.779Z"
   },
   {
    "duration": 14,
    "start_time": "2023-05-14T21:04:20.793Z"
   },
   {
    "duration": 61,
    "start_time": "2023-05-14T21:04:20.809Z"
   },
   {
    "duration": 38,
    "start_time": "2023-05-14T21:04:20.872Z"
   },
   {
    "duration": 16,
    "start_time": "2023-05-14T21:04:20.912Z"
   },
   {
    "duration": 27,
    "start_time": "2023-05-14T21:04:20.930Z"
   },
   {
    "duration": 599,
    "start_time": "2023-05-14T21:04:20.959Z"
   },
   {
    "duration": 903,
    "start_time": "2023-05-14T21:04:21.561Z"
   },
   {
    "duration": 5,
    "start_time": "2023-05-14T21:04:22.467Z"
   },
   {
    "duration": 2649,
    "start_time": "2023-05-14T21:04:22.558Z"
   },
   {
    "duration": 3374,
    "start_time": "2023-05-14T21:04:25.209Z"
   },
   {
    "duration": 4,
    "start_time": "2023-05-14T21:04:28.585Z"
   },
   {
    "duration": 1337,
    "start_time": "2023-05-14T21:04:28.590Z"
   },
   {
    "duration": 1783,
    "start_time": "2023-05-14T21:04:29.929Z"
   },
   {
    "duration": 5,
    "start_time": "2023-05-14T21:04:31.714Z"
   },
   {
    "duration": 20,
    "start_time": "2023-05-14T21:04:31.721Z"
   },
   {
    "duration": 1016,
    "start_time": "2023-05-14T21:05:15.743Z"
   },
   {
    "duration": 1399,
    "start_time": "2023-05-14T21:05:16.762Z"
   },
   {
    "duration": 5,
    "start_time": "2023-05-14T21:05:21.097Z"
   },
   {
    "duration": 5188,
    "start_time": "2023-05-14T21:05:24.538Z"
   },
   {
    "duration": 6899,
    "start_time": "2023-05-14T21:05:29.728Z"
   },
   {
    "duration": 3,
    "start_time": "2023-05-14T21:05:36.629Z"
   },
   {
    "duration": 1340,
    "start_time": "2023-05-14T21:05:55.243Z"
   },
   {
    "duration": 1734,
    "start_time": "2023-05-14T21:05:56.585Z"
   },
   {
    "duration": 4,
    "start_time": "2023-05-14T21:05:58.320Z"
   },
   {
    "duration": 10,
    "start_time": "2023-05-14T21:05:58.326Z"
   },
   {
    "duration": 46,
    "start_time": "2023-05-14T21:10:14.143Z"
   },
   {
    "duration": 56,
    "start_time": "2023-05-14T21:11:53.683Z"
   },
   {
    "duration": 288,
    "start_time": "2023-05-14T21:11:59.733Z"
   },
   {
    "duration": 440,
    "start_time": "2023-05-14T21:12:14.036Z"
   },
   {
    "duration": 1476,
    "start_time": "2023-05-14T21:12:22.381Z"
   },
   {
    "duration": 751,
    "start_time": "2023-05-14T21:12:23.859Z"
   },
   {
    "duration": 22,
    "start_time": "2023-05-14T21:12:24.612Z"
   },
   {
    "duration": 31,
    "start_time": "2023-05-14T21:12:24.637Z"
   },
   {
    "duration": 18,
    "start_time": "2023-05-14T21:12:24.670Z"
   },
   {
    "duration": 12,
    "start_time": "2023-05-14T21:12:24.690Z"
   },
   {
    "duration": 5,
    "start_time": "2023-05-14T21:12:24.704Z"
   },
   {
    "duration": 49,
    "start_time": "2023-05-14T21:12:24.710Z"
   },
   {
    "duration": 10,
    "start_time": "2023-05-14T21:12:24.761Z"
   },
   {
    "duration": 8,
    "start_time": "2023-05-14T21:12:24.773Z"
   },
   {
    "duration": 8,
    "start_time": "2023-05-14T21:12:24.782Z"
   },
   {
    "duration": 3,
    "start_time": "2023-05-14T21:12:24.792Z"
   },
   {
    "duration": 5,
    "start_time": "2023-05-14T21:12:24.797Z"
   },
   {
    "duration": 8,
    "start_time": "2023-05-14T21:12:24.803Z"
   },
   {
    "duration": 22,
    "start_time": "2023-05-14T21:12:24.813Z"
   },
   {
    "duration": 25,
    "start_time": "2023-05-14T21:12:24.837Z"
   },
   {
    "duration": 16,
    "start_time": "2023-05-14T21:12:24.863Z"
   },
   {
    "duration": 54,
    "start_time": "2023-05-14T21:12:24.880Z"
   },
   {
    "duration": 8,
    "start_time": "2023-05-14T21:12:24.957Z"
   },
   {
    "duration": 204,
    "start_time": "2023-05-14T21:12:24.967Z"
   },
   {
    "duration": 1335,
    "start_time": "2023-05-14T21:12:25.173Z"
   },
   {
    "duration": 1325,
    "start_time": "2023-05-14T21:12:26.509Z"
   },
   {
    "duration": 1467,
    "start_time": "2023-05-14T21:12:27.836Z"
   },
   {
    "duration": 1409,
    "start_time": "2023-05-14T21:12:29.305Z"
   },
   {
    "duration": 222,
    "start_time": "2023-05-14T21:12:30.716Z"
   },
   {
    "duration": 1051,
    "start_time": "2023-05-14T21:12:30.940Z"
   },
   {
    "duration": 13,
    "start_time": "2023-05-14T21:12:31.993Z"
   },
   {
    "duration": 1240,
    "start_time": "2023-05-14T21:12:32.011Z"
   },
   {
    "duration": 1316,
    "start_time": "2023-05-14T21:12:33.258Z"
   },
   {
    "duration": 262,
    "start_time": "2023-05-14T21:12:34.576Z"
   },
   {
    "duration": 972,
    "start_time": "2023-05-14T21:12:34.840Z"
   },
   {
    "duration": 9,
    "start_time": "2023-05-14T21:12:35.814Z"
   },
   {
    "duration": 1467,
    "start_time": "2023-05-14T21:12:35.825Z"
   },
   {
    "duration": 1445,
    "start_time": "2023-05-14T21:12:37.294Z"
   },
   {
    "duration": 316,
    "start_time": "2023-05-14T21:12:38.741Z"
   },
   {
    "duration": 1063,
    "start_time": "2023-05-14T21:12:39.060Z"
   },
   {
    "duration": 13,
    "start_time": "2023-05-14T21:12:40.128Z"
   },
   {
    "duration": 1481,
    "start_time": "2023-05-14T21:12:40.155Z"
   },
   {
    "duration": 791,
    "start_time": "2023-05-14T21:12:41.638Z"
   },
   {
    "duration": 401,
    "start_time": "2023-05-14T21:12:42.431Z"
   },
   {
    "duration": 1473,
    "start_time": "2023-05-14T21:12:42.833Z"
   },
   {
    "duration": 3,
    "start_time": "2023-05-14T21:12:44.308Z"
   },
   {
    "duration": 42,
    "start_time": "2023-05-14T21:12:44.313Z"
   },
   {
    "duration": 7,
    "start_time": "2023-05-14T21:12:44.357Z"
   },
   {
    "duration": 6,
    "start_time": "2023-05-14T21:12:44.366Z"
   },
   {
    "duration": 13,
    "start_time": "2023-05-14T21:12:44.374Z"
   },
   {
    "duration": 6,
    "start_time": "2023-05-14T21:12:44.389Z"
   },
   {
    "duration": 7,
    "start_time": "2023-05-14T21:12:44.397Z"
   },
   {
    "duration": 15,
    "start_time": "2023-05-14T21:12:44.405Z"
   },
   {
    "duration": 13,
    "start_time": "2023-05-14T21:12:44.422Z"
   },
   {
    "duration": 7,
    "start_time": "2023-05-14T21:12:44.437Z"
   },
   {
    "duration": 19,
    "start_time": "2023-05-14T21:12:44.446Z"
   },
   {
    "duration": 23,
    "start_time": "2023-05-14T21:12:44.468Z"
   },
   {
    "duration": 27,
    "start_time": "2023-05-14T21:12:44.494Z"
   },
   {
    "duration": 32,
    "start_time": "2023-05-14T21:12:44.523Z"
   },
   {
    "duration": 32,
    "start_time": "2023-05-14T21:12:44.557Z"
   },
   {
    "duration": 15,
    "start_time": "2023-05-14T21:12:44.592Z"
   },
   {
    "duration": 44,
    "start_time": "2023-05-14T21:12:44.609Z"
   },
   {
    "duration": 48,
    "start_time": "2023-05-14T21:12:44.655Z"
   },
   {
    "duration": 52,
    "start_time": "2023-05-14T21:12:44.706Z"
   },
   {
    "duration": 89,
    "start_time": "2023-05-14T21:12:44.760Z"
   },
   {
    "duration": 44,
    "start_time": "2023-05-14T21:12:44.852Z"
   },
   {
    "duration": 22,
    "start_time": "2023-05-14T21:12:44.898Z"
   },
   {
    "duration": 5,
    "start_time": "2023-05-14T21:12:44.923Z"
   },
   {
    "duration": 1139,
    "start_time": "2023-05-14T21:12:44.930Z"
   },
   {
    "duration": 2687,
    "start_time": "2023-05-14T21:12:46.074Z"
   },
   {
    "duration": 8,
    "start_time": "2023-05-14T21:12:48.763Z"
   },
   {
    "duration": 5568,
    "start_time": "2023-05-14T21:12:48.773Z"
   },
   {
    "duration": 7369,
    "start_time": "2023-05-14T21:12:54.344Z"
   },
   {
    "duration": 5,
    "start_time": "2023-05-14T21:13:01.715Z"
   },
   {
    "duration": 1334,
    "start_time": "2023-05-14T21:13:01.722Z"
   },
   {
    "duration": 1845,
    "start_time": "2023-05-14T21:13:03.059Z"
   },
   {
    "duration": 4,
    "start_time": "2023-05-14T21:13:04.906Z"
   },
   {
    "duration": 14,
    "start_time": "2023-05-14T21:13:04.911Z"
   },
   {
    "duration": 57,
    "start_time": "2023-05-14T21:13:04.927Z"
   },
   {
    "duration": 2140,
    "start_time": "2023-05-16T03:20:42.156Z"
   },
   {
    "duration": 721,
    "start_time": "2023-05-16T03:20:44.297Z"
   },
   {
    "duration": 18,
    "start_time": "2023-05-16T03:20:45.020Z"
   },
   {
    "duration": 12,
    "start_time": "2023-05-16T03:20:45.040Z"
   },
   {
    "duration": 17,
    "start_time": "2023-05-16T03:20:45.053Z"
   },
   {
    "duration": 8,
    "start_time": "2023-05-16T03:20:45.072Z"
   },
   {
    "duration": 4,
    "start_time": "2023-05-16T03:20:45.081Z"
   },
   {
    "duration": 39,
    "start_time": "2023-05-16T03:20:45.086Z"
   },
   {
    "duration": 8,
    "start_time": "2023-05-16T03:20:45.127Z"
   },
   {
    "duration": 8,
    "start_time": "2023-05-16T03:20:45.137Z"
   },
   {
    "duration": 16,
    "start_time": "2023-05-16T03:20:45.146Z"
   },
   {
    "duration": 7,
    "start_time": "2023-05-16T03:20:45.164Z"
   },
   {
    "duration": 14,
    "start_time": "2023-05-16T03:20:45.172Z"
   },
   {
    "duration": 7,
    "start_time": "2023-05-16T03:20:45.187Z"
   },
   {
    "duration": 8,
    "start_time": "2023-05-16T03:20:45.195Z"
   },
   {
    "duration": 16,
    "start_time": "2023-05-16T03:20:45.204Z"
   },
   {
    "duration": 9,
    "start_time": "2023-05-16T03:20:45.222Z"
   },
   {
    "duration": 56,
    "start_time": "2023-05-16T03:20:45.233Z"
   },
   {
    "duration": 9,
    "start_time": "2023-05-16T03:20:45.291Z"
   },
   {
    "duration": 175,
    "start_time": "2023-05-16T03:20:45.994Z"
   },
   {
    "duration": 1120,
    "start_time": "2023-05-16T03:20:46.985Z"
   },
   {
    "duration": 1128,
    "start_time": "2023-05-16T03:21:05.301Z"
   },
   {
    "duration": 1246,
    "start_time": "2023-05-16T03:21:26.541Z"
   },
   {
    "duration": 1094,
    "start_time": "2023-05-16T03:21:42.486Z"
   },
   {
    "duration": 971,
    "start_time": "2023-05-16T03:21:50.706Z"
   },
   {
    "duration": 1049,
    "start_time": "2023-05-16T03:22:08.136Z"
   },
   {
    "duration": 2159,
    "start_time": "2023-05-16T03:25:11.333Z"
   },
   {
    "duration": 733,
    "start_time": "2023-05-16T03:25:13.494Z"
   },
   {
    "duration": 17,
    "start_time": "2023-05-16T03:25:14.229Z"
   },
   {
    "duration": 11,
    "start_time": "2023-05-16T03:25:14.248Z"
   },
   {
    "duration": 17,
    "start_time": "2023-05-16T03:25:14.260Z"
   },
   {
    "duration": 9,
    "start_time": "2023-05-16T03:25:14.278Z"
   },
   {
    "duration": 32,
    "start_time": "2023-05-16T03:25:14.288Z"
   },
   {
    "duration": 55,
    "start_time": "2023-05-16T03:25:14.321Z"
   },
   {
    "duration": 10,
    "start_time": "2023-05-16T03:25:14.378Z"
   },
   {
    "duration": 11,
    "start_time": "2023-05-16T03:25:14.391Z"
   },
   {
    "duration": 16,
    "start_time": "2023-05-16T03:25:14.404Z"
   },
   {
    "duration": 10,
    "start_time": "2023-05-16T03:25:14.422Z"
   },
   {
    "duration": 29,
    "start_time": "2023-05-16T03:25:14.433Z"
   },
   {
    "duration": 4,
    "start_time": "2023-05-16T03:25:14.463Z"
   },
   {
    "duration": 21,
    "start_time": "2023-05-16T03:25:14.468Z"
   },
   {
    "duration": 12,
    "start_time": "2023-05-16T03:25:14.490Z"
   },
   {
    "duration": 16,
    "start_time": "2023-05-16T03:25:14.503Z"
   },
   {
    "duration": 38,
    "start_time": "2023-05-16T03:25:14.520Z"
   },
   {
    "duration": 7,
    "start_time": "2023-05-16T03:25:14.560Z"
   },
   {
    "duration": 170,
    "start_time": "2023-05-16T03:25:15.181Z"
   },
   {
    "duration": 1121,
    "start_time": "2023-05-16T03:25:15.601Z"
   },
   {
    "duration": 1047,
    "start_time": "2023-05-16T03:25:16.724Z"
   },
   {
    "duration": 1068,
    "start_time": "2023-05-16T03:25:17.772Z"
   },
   {
    "duration": 1137,
    "start_time": "2023-05-16T03:25:18.842Z"
   },
   {
    "duration": 227,
    "start_time": "2023-05-16T03:25:19.980Z"
   },
   {
    "duration": 1083,
    "start_time": "2023-05-16T03:25:20.208Z"
   },
   {
    "duration": 6,
    "start_time": "2023-05-16T03:25:21.293Z"
   },
   {
    "duration": 1066,
    "start_time": "2023-05-16T03:25:21.300Z"
   },
   {
    "duration": 1047,
    "start_time": "2023-05-16T03:25:22.368Z"
   },
   {
    "duration": 224,
    "start_time": "2023-05-16T03:25:23.417Z"
   },
   {
    "duration": 995,
    "start_time": "2023-05-16T03:25:23.643Z"
   },
   {
    "duration": 7,
    "start_time": "2023-05-16T03:25:24.640Z"
   },
   {
    "duration": 1045,
    "start_time": "2023-05-16T03:25:24.648Z"
   },
   {
    "duration": 1030,
    "start_time": "2023-05-16T03:25:25.695Z"
   },
   {
    "duration": 222,
    "start_time": "2023-05-16T03:25:26.727Z"
   },
   {
    "duration": 994,
    "start_time": "2023-05-16T03:25:26.951Z"
   },
   {
    "duration": 9,
    "start_time": "2023-05-16T03:25:27.946Z"
   },
   {
    "duration": 1056,
    "start_time": "2023-05-16T03:25:27.956Z"
   },
   {
    "duration": 421,
    "start_time": "2023-05-16T03:25:29.013Z"
   },
   {
    "duration": 1061,
    "start_time": "2023-05-16T03:25:50.892Z"
   },
   {
    "duration": 1056,
    "start_time": "2023-05-16T03:26:05.936Z"
   },
   {
    "duration": 206,
    "start_time": "2023-05-16T03:26:15.251Z"
   }
  ],
  "kernelspec": {
   "display_name": "Python 3 (ipykernel)",
   "language": "python",
   "name": "python3"
  },
  "language_info": {
   "codemirror_mode": {
    "name": "ipython",
    "version": 3
   },
   "file_extension": ".py",
   "mimetype": "text/x-python",
   "name": "python",
   "nbconvert_exporter": "python",
   "pygments_lexer": "ipython3",
   "version": "3.9.5"
  },
  "toc": {
   "base_numbering": 1,
   "nav_menu": {},
   "number_sections": true,
   "sideBar": true,
   "skip_h1_title": true,
   "title_cell": "Содержание",
   "title_sidebar": "Contents",
   "toc_cell": true,
   "toc_position": {
    "height": "calc(100% - 180px)",
    "left": "10px",
    "top": "150px",
    "width": "227px"
   },
   "toc_section_display": true,
   "toc_window_display": true
  }
 },
 "nbformat": 4,
 "nbformat_minor": 4
}
